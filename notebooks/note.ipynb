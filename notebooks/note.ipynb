{
 "cells": [
  {
   "cell_type": "code",
   "execution_count": 1,
   "id": "69c1ac1a",
   "metadata": {},
   "outputs": [],
   "source": [
    "import sys\n",
    "sys.path.append(\"..\")\n",
    "\n",
    "from assistant.config import SETTINGS"
   ]
  },
  {
   "cell_type": "code",
   "execution_count": 2,
   "metadata": {},
   "outputs": [
    {
     "name": "stderr",
     "output_type": "stream",
     "text": [
      "C:\\Users\\clk\\AppData\\Local\\Temp\\ipykernel_62688\\2408906140.py:1: PydanticDeprecatedSince20: The `dict` method is deprecated; use `model_dump` instead. Deprecated in Pydantic V2.0 to be removed in V3.0. See Pydantic V2 Migration Guide at https://errors.pydantic.dev/2.11/migration/\n",
      "  SETTINGS.dict()\n"
     ]
    },
    {
     "data": {
      "text/plain": [
       "{'DATA_PATH': '../Data/documents-with-ids.json',\n",
       " 'DATA_URL': 'https://huggingface.co/datasets/bitext/Bitext-media-llm-chatbot-training-dataset/resolve/main/bitext-media-llm-chatbot-training-dataset.csv',\n",
       " 'RUN_TIMEZONE_CHECK': '0',\n",
       " 'TZ_INFO': 'Europe/Istanbul',\n",
       " 'POSTGRES_DB': 'llm_rag',\n",
       " 'POSTGRES_HOST': 'localhost',\n",
       " 'POSTGRES_PORT': 5432,\n",
       " 'POSTGRES_USER': 'admin',\n",
       " 'POSTGRES_PASSWORD': 'admin',\n",
       " 'POSTGRES_TABLE': 'conversations',\n",
       " 'POSTGRES_TABLE1': 'feedback',\n",
       " 'GRAFANA_ADMIN_USER': 'admin',\n",
       " 'GRAFANA_ADMIN_PASSWORD': 'admin',\n",
       " 'GRAFANA_SECRET_KEY': 'SECRET_KEY',\n",
       " 'OLLAMA_API_KEY': 'ollama',\n",
       " 'OLLAMA_BASE_URL': 'http://localhost:11434/v1',\n",
       " 'OLLAMA_MODEL_EMBED': 'nomic-embed-text',\n",
       " 'OLLAMA_MODEL_CHAT': 'phi3',\n",
       " 'HF_TOKEN': 'hf-...',\n",
       " 'HF_API_KEY': 'hf-...',\n",
       " 'HF_BASE_URL': 'https://router.huggingface.co/v1',\n",
       " 'HF_MODEL_EMBED': 'nomic-ai/nomic-embed-text-v1.5',\n",
       " 'HF_MODEL_CHAT': 'openai/gpt-oss-120b:together',\n",
       " 'OPENAI_API_KEY': 'sk-...',\n",
       " 'OPENAI_BASE_URL': 'https://api.openai.com/v1',\n",
       " 'OPENAI_MODEL_EMBED': 'text-embedding-3-small',\n",
       " 'OPENAI_MODEL_CHAT': 'gpt-4o-mini',\n",
       " 'TIMEOUT_PDF_REQUEST': 60,\n",
       " 'SE_SLOWMO_MS': 200,\n",
       " 'DEFAULT_MAX_PAGES': 1,\n",
       " 'CHUNK_MAX_TOKENS': 512,\n",
       " 'CHUNK_OVERLAP_TOKENS': 64,\n",
       " 'ENABLE_FAISS': False,\n",
       " 'LLM_PROVIDER': 'OLLAMA',\n",
       " 'TZ_UTC': datetime.datetime(2025, 9, 9, 23, 14, 51, 545287, tzinfo=datetime.timezone.utc),\n",
       " 'TZ_LOCAL': datetime.datetime(2025, 9, 10, 2, 14, 51, 648822, tzinfo=zoneinfo.ZoneInfo(key='Europe/Istanbul')),\n",
       " 'API_KEY': 'ollama',\n",
       " 'BASE_URL': 'http://localhost:11434/v1',\n",
       " 'MODEL_EMBED': 'nomic-embed-text',\n",
       " 'MODEL_CHAT': 'phi3'}"
      ]
     },
     "execution_count": 2,
     "metadata": {},
     "output_type": "execute_result"
    }
   ],
   "source": [
    "SETTINGS.dict()"
   ]
  },
  {
   "cell_type": "code",
   "execution_count": null,
   "id": "b13752f0",
   "metadata": {},
   "outputs": [],
   "source": []
  }
 ],
 "metadata": {
  "kernelspec": {
   "display_name": "py312",
   "language": "python",
   "name": "python3"
  },
  "language_info": {
   "codemirror_mode": {
    "name": "ipython",
    "version": 3
   },
   "file_extension": ".py",
   "mimetype": "text/x-python",
   "name": "python",
   "nbconvert_exporter": "python",
   "pygments_lexer": "ipython3",
   "version": "3.12.11"
  }
 },
 "nbformat": 4,
 "nbformat_minor": 5
}
