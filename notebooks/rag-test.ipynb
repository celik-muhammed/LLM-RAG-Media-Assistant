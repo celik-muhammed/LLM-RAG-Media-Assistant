{
 "cells": [
  {
   "cell_type": "code",
   "execution_count": 1,
   "id": "db448b5e",
   "metadata": {},
   "outputs": [],
   "source": [
    "# %load_ext autoreload\n",
    "# %autoreload 2"
   ]
  },
  {
   "cell_type": "code",
   "execution_count": 1,
   "id": "b583a267",
   "metadata": {},
   "outputs": [],
   "source": [
    "from tqdm.auto import tqdm"
   ]
  },
  {
   "cell_type": "code",
   "execution_count": 2,
   "id": "f35b1666-5393-458a-b747-177c1a1525ca",
   "metadata": {},
   "outputs": [],
   "source": [
    "import pandas as pd"
   ]
  },
  {
   "cell_type": "markdown",
   "id": "28f98df4-326c-4a0f-95a3-2441e1ced3ca",
   "metadata": {},
   "source": [
    "## Ingestion"
   ]
  },
  {
   "cell_type": "code",
   "execution_count": 3,
   "id": "99950762",
   "metadata": {},
   "outputs": [
    {
     "data": {
      "text/plain": [
       "424"
      ]
     },
     "execution_count": 3,
     "metadata": {},
     "output_type": "execute_result"
    }
   ],
   "source": [
    "import json\n",
    "\n",
    "# Real IDs\n",
    "with open('../Data/documents-with-ids.json', 'rt') as f_in:\n",
    "    documents = json.load(f_in)\n",
    "\n",
    "len(documents)"
   ]
  },
  {
   "cell_type": "code",
   "execution_count": 4,
   "id": "79e98356",
   "metadata": {},
   "outputs": [
    {
     "data": {
      "text/plain": [
       "{'intent': 'report_copyright_infringement',\n",
       " 'question': 'can uhelp me submitting a notification of copyright  infringement',\n",
       " 'response': 'To address copyright infringement concerns, please adhere to the following guidelines:\\n\\n1. Access our website at {{WEBSITE_URL}}.\\n2. Go to the {{COPYRIGHT_SECTION}} area.\\n3. Find and select the {{REPORT_COPYRIGHT_INFRINGEMENT_OPTION}} choice.\\n4. Complete the necessary fields, providing comprehensive details regarding the infringement.\\n5. Submit the completed form for our assessment.\\n\\nYour submission will be reviewed, and we will take the requisite steps in line with our policies.',\n",
       " 'category': 'CONTENT',\n",
       " 'id': '1e254822'}"
      ]
     },
     "execution_count": 4,
     "metadata": {},
     "output_type": "execute_result"
    }
   ],
   "source": [
    "documents[3]"
   ]
  },
  {
   "cell_type": "code",
   "execution_count": 5,
   "id": "a88433ad-dcc1-4455-a0df-3006b43c52a0",
   "metadata": {},
   "outputs": [
    {
     "data": {
      "text/plain": [
       "(1441, 3)"
      ]
     },
     "execution_count": 5,
     "metadata": {},
     "output_type": "execute_result"
    }
   ],
   "source": [
    "# Generated questions\n",
    "df_question = pd.read_csv('../Data/ground-truth-data.csv')\n",
    "df_question.shape"
   ]
  },
  {
   "cell_type": "code",
   "execution_count": 6,
   "id": "f6525af2-4c66-4f4a-88c2-91e0b6b8dc59",
   "metadata": {},
   "outputs": [
    {
     "data": {
      "text/html": [
       "<div>\n",
       "<style scoped>\n",
       "    .dataframe tbody tr th:only-of-type {\n",
       "        vertical-align: middle;\n",
       "    }\n",
       "\n",
       "    .dataframe tbody tr th {\n",
       "        vertical-align: top;\n",
       "    }\n",
       "\n",
       "    .dataframe thead th {\n",
       "        text-align: right;\n",
       "    }\n",
       "</style>\n",
       "<table border=\"1\" class=\"dataframe\">\n",
       "  <thead>\n",
       "    <tr style=\"text-align: right;\">\n",
       "      <th></th>\n",
       "      <th>question</th>\n",
       "      <th>category</th>\n",
       "      <th>id</th>\n",
       "    </tr>\n",
       "  </thead>\n",
       "  <tbody>\n",
       "    <tr>\n",
       "      <th>0</th>\n",
       "      <td>I suspect my copyright was violated on your pl...</td>\n",
       "      <td>CONTENT</td>\n",
       "      <td>34b742ae</td>\n",
       "    </tr>\n",
       "    <tr>\n",
       "      <th>1</th>\n",
       "      <td>Could you explain the process for filing a rep...</td>\n",
       "      <td>CONTENT</td>\n",
       "      <td>34b742ae</td>\n",
       "    </tr>\n",
       "    <tr>\n",
       "      <th>2</th>\n",
       "      <td>For someone with limited tech skills watching ...</td>\n",
       "      <td>CONTENT</td>\n",
       "      <td>34b742ae</td>\n",
       "    </tr>\n",
       "    <tr>\n",
       "      <th>3</th>\n",
       "      <td>I need the procedure written out, from start t...</td>\n",
       "      <td>CONTENT</td>\n",
       "      <td>34b742ae</td>\n",
       "    </tr>\n",
       "    <tr>\n",
       "      <th>4</th>\n",
       "      <td>How can we submit our detailed content violati...</td>\n",
       "      <td>CONTENT</td>\n",
       "      <td>34b742ae</td>\n",
       "    </tr>\n",
       "  </tbody>\n",
       "</table>\n",
       "</div>"
      ],
      "text/plain": [
       "                                            question category        id\n",
       "0  I suspect my copyright was violated on your pl...  CONTENT  34b742ae\n",
       "1  Could you explain the process for filing a rep...  CONTENT  34b742ae\n",
       "2  For someone with limited tech skills watching ...  CONTENT  34b742ae\n",
       "3  I need the procedure written out, from start t...  CONTENT  34b742ae\n",
       "4  How can we submit our detailed content violati...  CONTENT  34b742ae"
      ]
     },
     "execution_count": 6,
     "metadata": {},
     "output_type": "execute_result"
    }
   ],
   "source": [
    "df_question.head()"
   ]
  },
  {
   "cell_type": "code",
   "execution_count": 7,
   "id": "58472c0e",
   "metadata": {},
   "outputs": [
    {
     "data": {
      "text/plain": [
       "question    0\n",
       "category    0\n",
       "id          0\n",
       "dtype: int64"
      ]
     },
     "execution_count": 7,
     "metadata": {},
     "output_type": "execute_result"
    }
   ],
   "source": [
    "df_question.isna().sum()"
   ]
  },
  {
   "cell_type": "code",
   "execution_count": 8,
   "id": "353c6e11",
   "metadata": {},
   "outputs": [
    {
     "data": {
      "text/html": [
       "<div>\n",
       "<style scoped>\n",
       "    .dataframe tbody tr th:only-of-type {\n",
       "        vertical-align: middle;\n",
       "    }\n",
       "\n",
       "    .dataframe tbody tr th {\n",
       "        vertical-align: top;\n",
       "    }\n",
       "\n",
       "    .dataframe thead th {\n",
       "        text-align: right;\n",
       "    }\n",
       "</style>\n",
       "<table border=\"1\" class=\"dataframe\">\n",
       "  <thead>\n",
       "    <tr style=\"text-align: right;\">\n",
       "      <th></th>\n",
       "      <th>question</th>\n",
       "      <th>category</th>\n",
       "      <th>id</th>\n",
       "    </tr>\n",
       "  </thead>\n",
       "  <tbody>\n",
       "  </tbody>\n",
       "</table>\n",
       "</div>"
      ],
      "text/plain": [
       "Empty DataFrame\n",
       "Columns: [question, category, id]\n",
       "Index: []"
      ]
     },
     "execution_count": 8,
     "metadata": {},
     "output_type": "execute_result"
    }
   ],
   "source": [
    "df_question[df_question.question.isna()]"
   ]
  },
  {
   "cell_type": "code",
   "execution_count": 9,
   "id": "3c802861",
   "metadata": {},
   "outputs": [
    {
     "data": {
      "text/plain": [
       "(1441, 3)"
      ]
     },
     "execution_count": 9,
     "metadata": {},
     "output_type": "execute_result"
    }
   ],
   "source": [
    "df_question = df_question.dropna()\n",
    "df_question.shape"
   ]
  },
  {
   "cell_type": "code",
   "execution_count": 10,
   "id": "9e41a0aa-8f78-4aeb-b334-dd963d63a758",
   "metadata": {},
   "outputs": [],
   "source": [
    "ground_truth = df_question.to_dict(orient='records')"
   ]
  },
  {
   "cell_type": "code",
   "execution_count": 11,
   "id": "c86b03ae-5a68-4ac4-9314-00b521b56272",
   "metadata": {},
   "outputs": [
    {
     "data": {
      "text/plain": [
       "{'question': 'I suspect my copyright was violated on your platform; what do I need to know about reporting it?',\n",
       " 'category': 'CONTENT',\n",
       " 'id': '34b742ae'}"
      ]
     },
     "execution_count": 11,
     "metadata": {},
     "output_type": "execute_result"
    }
   ],
   "source": [
    "ground_truth[0]"
   ]
  },
  {
   "cell_type": "markdown",
   "id": "6f70bc03-575d-4576-8b1d-f82462feb485",
   "metadata": {},
   "source": [
    "## RAG flow"
   ]
  },
  {
   "cell_type": "code",
   "execution_count": 12,
   "id": "c1656629",
   "metadata": {},
   "outputs": [
    {
     "data": {
      "text/plain": [
       "(dict_keys(['intent', 'question', 'response', 'category', 'id']),\n",
       " dict_keys(['question', 'category', 'id']))"
      ]
     },
     "execution_count": 12,
     "metadata": {},
     "output_type": "execute_result"
    }
   ],
   "source": [
    "documents[0].keys(), ground_truth[0].keys()"
   ]
  },
  {
   "cell_type": "code",
   "execution_count": 13,
   "id": "267f9429-4f31-4750-bdf4-84d0a3ec554a",
   "metadata": {},
   "outputs": [
    {
     "data": {
      "text/plain": [
       "<minsearch.minsearch.Index at 0x157faf04800>"
      ]
     },
     "execution_count": 13,
     "metadata": {},
     "output_type": "execute_result"
    }
   ],
   "source": [
    "import minsearch\n",
    "\n",
    "# Create a MinSearch index with specified text and keyword fields\n",
    "index = minsearch.Index(\n",
    "    text_fields=['intent', 'question', 'response'],  # full-text searchable fields\n",
    "    keyword_fields=['id', 'category'],  # fields for exact matching\n",
    ")\n",
    "\n",
    "# Fit the index to our document list\n",
    "index.fit(documents)"
   ]
  },
  {
   "cell_type": "code",
   "execution_count": 17,
   "id": "7d576457-2365-49bc-a573-df306e999c7f",
   "metadata": {},
   "outputs": [],
   "source": [
    "def minsearch_search(query):\n",
    "    boost = {}\n",
    "\n",
    "    results = index.search(\n",
    "        query=query['question'],  # string directly or export\n",
    "        filter_dict={'category': query[\"category\"]},\n",
    "        boost_dict=boost,\n",
    "        num_results=10\n",
    "    )\n",
    "    return results"
   ]
  },
  {
   "cell_type": "markdown",
   "id": "9100bd80-431d-4990-98f7-0ef5ed0fd174",
   "metadata": {},
   "source": [
    "## Retrieval evaluation"
   ]
  },
  {
   "cell_type": "code",
   "execution_count": null,
   "id": "3ad9e893-c880-4af5-b6df-4a9b2806d219",
   "metadata": {},
   "outputs": [],
   "source": [
    "# Compute Hit Rate: % of queries for which the correct document was retrieved\n",
    "def hit_rate(relevance_total):\n",
    "    cnt = 0\n",
    "    for line in relevance_total:\n",
    "        if True in line:  # If any retrieved doc matches the correct ID\n",
    "            cnt = cnt + 1\n",
    "    return cnt / len(relevance_total)\n",
    "\n",
    "\n",
    "# Compute Mean Reciprocal Rank (MRR)\n",
    "def mrr(relevance_total):\n",
    "    total_score = 0.0\n",
    "    for line in relevance_total:\n",
    "        for rank in range(len(line)):\n",
    "            if line[rank] == True:  # True means relevant doc found at this rank\n",
    "                total_score = total_score + 1 / (rank + 1)\n",
    "                # break  # only the first correct hit counts for MRR\n",
    "    return total_score / len(relevance_total)\n",
    "\n",
    "\n",
    "# Main evaluation loop\n",
    "def evaluate(ground_truth, search_function, disable=False):\n",
    "    relevance_total = []\n",
    "\n",
    "    for q in tqdm(ground_truth, disable=disable):  # iterate over each query\n",
    "        doc_id = q['id']  # correct document id\n",
    "        results = search_function(q)  # run search\n",
    "        relevance = [d['id'] == doc_id for d in results]  # check if results match the true id\n",
    "        relevance_total.append(relevance)  # collect all relevance flags\n",
    "\n",
    "    return {\n",
    "        'hit_rate': hit_rate(relevance_total),\n",
    "        'mrr': mrr(relevance_total),\n",
    "    }"
   ]
  },
  {
   "cell_type": "code",
   "execution_count": 19,
   "id": "d2dd4e92-ca43-4b0c-ae47-6ec89b83a622",
   "metadata": {},
   "outputs": [
    {
     "data": {
      "application/vnd.jupyter.widget-view+json": {
       "model_id": "5b94c12aad324211abf06a8f8938151a",
       "version_major": 2,
       "version_minor": 0
      },
      "text/plain": [
       "  0%|          | 0/1441 [00:00<?, ?it/s]"
      ]
     },
     "metadata": {},
     "output_type": "display_data"
    },
    {
     "data": {
      "text/plain": [
       "{'hit_rate': 0.046495489243580844, 'mrr': 0.01509368494101318}"
      ]
     },
     "execution_count": 19,
     "metadata": {},
     "output_type": "execute_result"
    }
   ],
   "source": [
    "# Evaluate using the ground truth and the defined search function\n",
    "evaluate(ground_truth, lambda q: minsearch_search(q), disable=None)"
   ]
  },
  {
   "cell_type": "markdown",
   "id": "4bfb38ee",
   "metadata": {},
   "source": [
    "## VectorSearch"
   ]
  },
  {
   "cell_type": "code",
   "execution_count": 18,
   "id": "7c192ec0",
   "metadata": {},
   "outputs": [],
   "source": [
    "# !pip install minsearch -qq\n",
    "# !pip install fastembed -qq"
   ]
  },
  {
   "cell_type": "code",
   "execution_count": null,
   "id": "39906b02",
   "metadata": {},
   "outputs": [],
   "source": [
    "import numpy as np"
   ]
  },
  {
   "cell_type": "code",
   "execution_count": null,
   "id": "c2ed7ade",
   "metadata": {},
   "outputs": [],
   "source": [
    "import logging\n",
    "# Suppress FastEmbed internal logs\n",
    "# logging.getLogger(\"fastembed\").setLevel(logging.CRITICAL)"
   ]
  },
  {
   "cell_type": "code",
   "execution_count": null,
   "id": "00a4fd4d",
   "metadata": {},
   "outputs": [
    {
     "data": {
      "text/plain": [
       "'0.7.3'"
      ]
     },
     "execution_count": 20,
     "metadata": {},
     "output_type": "execute_result"
    }
   ],
   "source": [
    "import fastembed  # required \"HF_TOKEN\" for download model\n",
    "fastembed.__version__"
   ]
  },
  {
   "cell_type": "code",
   "execution_count": null,
   "id": "075d5621",
   "metadata": {},
   "outputs": [],
   "source": [
    "# os.environ[\"HF_TOKEN\"]=\"hf_...\""
   ]
  },
  {
   "cell_type": "code",
   "execution_count": null,
   "id": "99c009f1",
   "metadata": {},
   "outputs": [
    {
     "data": {
      "text/plain": [
       "['BAAI/bge-base-en',\n",
       " 'BAAI/bge-base-en-v1.5',\n",
       " 'BAAI/bge-large-en-v1.5',\n",
       " 'BAAI/bge-small-en',\n",
       " 'BAAI/bge-small-en-v1.5',\n",
       " 'BAAI/bge-small-zh-v1.5',\n",
       " 'Qdrant/clip-ViT-B-32-text',\n",
       " 'intfloat/multilingual-e5-large',\n",
       " 'jinaai/jina-clip-v1',\n",
       " 'jinaai/jina-embeddings-v2-base-code',\n",
       " 'jinaai/jina-embeddings-v2-base-de',\n",
       " 'jinaai/jina-embeddings-v2-base-en',\n",
       " 'jinaai/jina-embeddings-v2-base-es',\n",
       " 'jinaai/jina-embeddings-v2-base-zh',\n",
       " 'jinaai/jina-embeddings-v2-small-en',\n",
       " 'jinaai/jina-embeddings-v3',\n",
       " 'mixedbread-ai/mxbai-embed-large-v1',\n",
       " 'nomic-ai/nomic-embed-text-v1',\n",
       " 'nomic-ai/nomic-embed-text-v1.5',\n",
       " 'nomic-ai/nomic-embed-text-v1.5-Q',\n",
       " 'sentence-transformers/all-MiniLM-L6-v2',\n",
       " 'sentence-transformers/paraphrase-multilingual-MiniLM-L12-v2',\n",
       " 'sentence-transformers/paraphrase-multilingual-mpnet-base-v2',\n",
       " 'snowflake/snowflake-arctic-embed-l',\n",
       " 'snowflake/snowflake-arctic-embed-m',\n",
       " 'snowflake/snowflake-arctic-embed-m-long',\n",
       " 'snowflake/snowflake-arctic-embed-s',\n",
       " 'snowflake/snowflake-arctic-embed-xs',\n",
       " 'thenlper/gte-base',\n",
       " 'thenlper/gte-large']"
      ]
     },
     "execution_count": 21,
     "metadata": {},
     "output_type": "execute_result"
    }
   ],
   "source": [
    "from fastembed.text import TextEmbedding  # required \"HF_TOKEN\" for download model\n",
    "sorted([ i['model'] for i in TextEmbedding.list_supported_models()])"
   ]
  },
  {
   "cell_type": "code",
   "execution_count": null,
   "id": "59fca7c6",
   "metadata": {},
   "outputs": [
    {
     "name": "stdout",
     "output_type": "stream",
     "text": [
      "\u001b[31mSignature:\u001b[39m\n",
      "model.embed(\n",
      "    documents: Union[str, Iterable[str]],\n",
      "    batch_size: int = \u001b[32m256\u001b[39m,\n",
      "    parallel: Optional[int] = \u001b[38;5;28;01mNone\u001b[39;00m,\n",
      "    **kwargs: Any,\n",
      ") -> Iterable[Union[numpy.ndarray[Any, numpy.dtype[numpy.float64]], numpy.ndarray[Any, numpy.dtype[numpy.float32]], numpy.ndarray[Any, numpy.dtype[numpy.float16]], numpy.ndarray[Any, numpy.dtype[numpy.int8]], numpy.ndarray[Any, numpy.dtype[numpy.int64]], numpy.ndarray[Any, numpy.dtype[numpy.int32]]]]\n",
      "\u001b[31mDocstring:\u001b[39m\n",
      "Encode a list of documents into list of embeddings.\n",
      "We use mean pooling with attention so that the model can handle variable-length inputs.\n",
      "\n",
      "Args:\n",
      "    documents: Iterator of documents or single document to embed\n",
      "    batch_size: Batch size for encoding -- higher values will use more memory, but be faster\n",
      "    parallel:\n",
      "        If > 1, data-parallel encoding will be used, recommended for offline encoding of large datasets.\n",
      "        If 0, use all available cores.\n",
      "        If None, don't use data-parallel processing, use default onnxruntime threading instead.\n",
      "\n",
      "Returns:\n",
      "    List of embeddings, one per document\n",
      "\u001b[31mFile:\u001b[39m      d:\\0apps\\miniconda3\\envs\\py312\\lib\\site-packages\\fastembed\\text\\text_embedding.py\n",
      "\u001b[31mType:\u001b[39m      method"
     ]
    }
   ],
   "source": [
    "from fastembed import TextEmbedding  # required \"HF_TOKEN\" for download model\n",
    "from fastembed.common.model_description import PoolingType, ModelSource\n",
    "\n",
    "# TextEmbedding.add_custom_model(\n",
    "#     model=\"nomic-ai/nomic-embed-text-v1.5\",\n",
    "#     pooling=PoolingType.MEAN,\n",
    "#     normalization=True,\n",
    "#     sources=ModelSource(hf=\"nomic-ai/nomic-embed-text-v1.5\"),  # can be used with an `url` to load files from a private storage\n",
    "#     dim=384,\n",
    "#     model_file=\"onnx/model.onnx\",  # can be used to load an already supported model with another optimization or quantization, e.g. onnx/model_O4.onnx\n",
    "# )\n",
    "model = TextEmbedding(model_name=\"nomic-ai/nomic-embed-text-v1.5\")\n",
    "model.embed?"
   ]
  },
  {
   "cell_type": "code",
   "execution_count": 22,
   "id": "2c855c10",
   "metadata": {},
   "outputs": [],
   "source": [
    "from minsearch import VectorSearch  # For vector-based semantic search\n",
    "from sklearn.feature_extraction.text import TfidfVectorizer  # TF-IDF text vectorization\n",
    "from sklearn.decomposition import TruncatedSVD  # Dimensionality reduction\n",
    "from sklearn.pipeline import make_pipeline  # To chain TF-IDF + SVD"
   ]
  },
  {
   "cell_type": "code",
   "execution_count": 23,
   "id": "0b53306f",
   "metadata": {},
   "outputs": [
    {
     "data": {
      "text/plain": [
       "{'intent': 'report_copyright_infringement',\n",
       " 'question': 'how can i report copyright violation',\n",
       " 'response': 'To report copyright infringement, please adhere to the following procedures:\\n\\n1. Access our website at {{WEBSITE_URL}}.\\n2. Direct yourself to the {{COPYRIGHT_SECTION}} section.\\n3. Find and click on the {{REPORT_COPYRIGHT_INFRINGEMENT_OPTION}} option.\\n4. Provide all required details regarding the infringement.\\n5. Submit the completed form for our assessment.\\n\\nUpon receiving your report, it will be carefully analyzed, and appropriate measures will be implemented in accordance with our guidelines.',\n",
       " 'category': 'CONTENT',\n",
       " 'id': '34b742ae'}"
      ]
     },
     "execution_count": 23,
     "metadata": {},
     "output_type": "execute_result"
    }
   ],
   "source": [
    "documents[0]"
   ]
  },
  {
   "cell_type": "code",
   "execution_count": 24,
   "id": "ab185ab2",
   "metadata": {},
   "outputs": [
    {
     "data": {
      "application/vnd.jupyter.widget-view+json": {
       "model_id": "6bb06c39b3514ee5a4c11317674d393f",
       "version_major": 2,
       "version_minor": 0
      },
      "text/plain": [
       "Preparing texts:   0%|          | 0/424 [00:00<?, ?it/s]"
      ]
     },
     "metadata": {},
     "output_type": "display_data"
    },
    {
     "data": {
      "text/plain": [
       "['how can i report copyright violation To report copyright infringement, please adhere to the following procedures:\\n\\n1. Access our website at {{WEBSITE_URL}}.\\n2. Direct yourself to the {{COPYRIGHT_SECTION}} section.\\n3. Find and click on the {{REPORT_COPYRIGHT_INFRINGEMENT_OPTION}} option.\\n4. Provide all required details regarding the infringement.\\n5. Submit the completed form for our assessment.\\n\\nUpon receiving your report, it will be carefully analyzed, and appropriate measures will be implemented in accordance with our guidelines.',\n",
       " 'need to report fucking copyright violation how to do it To facilitate a conversation with a customer service representative, please adhere to the following instructions:\\n\\n1. Visit {{WEBSITE_URL}}.\\n2. Locate the {{CONTACT_US_SECTION}} section on the site.\\n3. Choose the option for connecting with a customer service representative.\\n4. Provide the necessary information in the form and submit your inquiry.\\n\\nShould you have any additional concerns or require further assistance, do not hesitate to reach out.',\n",
       " 'need to report copyright infringement how do i do it To initiate a report for copyright infringement, please adhere to the following instructions:\\n\\n1. Access our official website at {{WEBSITE_URL}}.\\n2. Proceed to the {{COPYRIGHT_SECTION}} area of the site.\\n3. Find and select the {{REPORT_COPYRIGHT_INFRINGEMENT_OPTION}} link.\\n4. Provide the necessary details regarding the infringement in the available form.\\n5. Submit your report for our assessment.\\n\\nUpon submission, your complaint will be reviewed, and we will take suitable measures as per our established guidelines.',\n",
       " 'can uhelp me submitting a notification of copyright  infringement To address copyright infringement concerns, please adhere to the following guidelines:\\n\\n1. Access our website at {{WEBSITE_URL}}.\\n2. Go to the {{COPYRIGHT_SECTION}} area.\\n3. Find and select the {{REPORT_COPYRIGHT_INFRINGEMENT_OPTION}} choice.\\n4. Complete the necessary fields, providing comprehensive details regarding the infringement.\\n5. Submit the completed form for our assessment.\\n\\nYour submission will be reviewed, and we will take the requisite steps in line with our policies.',\n",
       " 'I would like to notify of fucking explicit content, I need assistance To address concerns related to inappropriate content on our platform, please adhere to the following process:\\n\\n1. Visit {{WEBSITE_URL}}.\\n2. Identify the specific content that you wish to report.\\n3. Access the {{REPORT_SECTION}} area typically located adjacent to the content (indicated by a {{FLAG_ICON}}).\\n4. Choose the {{REPORT_INAPPROPRIATE_CONTENT_OPTION}} option available in the drop-down menu.\\n5. Select the reason that best fits your report from the list provided.\\n6. If necessary, include any supplementary details required and proceed to submit your report.\\n\\nOur dedicated team will evaluate your submission and take appropriate measures as outlined in our community standards.',\n",
       " 'ifound a case of explicit content can ya help me report it To report inappropriate content on our platform, please follow these steps:\\n\\n1. Visit {{WEBSITE_URL}}.\\n2. Identify the specific content that you wish to report.\\n3. Click on the {{REPORT_SECTION}} link, typically located close to the content (indicated by a {{FLAG_ICON}}).\\n4. Choose the {{REPORT_INAPPROPRIATE_CONTENT_OPTION}} option available in the drop-down menu.\\n5. Select the reason that best fits your report from the list provided.\\n6. If necessary, add any further details required and proceed to submit your report.\\n\\nOur dedicated team will assess your report and take appropriate measures as outlined in our community standards.',\n",
       " 'I want to notify of fucking copyright infringement , where do I do it? To address copyright infringement, please adhere to the following procedures:\\n\\n1. Access our website at {{WEBSITE_URL}}.\\n2. Proceed to the {{COPYRIGHT_SECTION}} area.\\n3. Find and select the {{REPORT_COPYRIGHT_INFRINGEMENT_OPTION}} option.\\n4. Complete the necessary fields with accurate information regarding the infringement.\\n5. Submit the report for our evaluation.\\n\\nOnce we receive your submission, we will conduct a thorough review and ensure that appropriate measures are implemented in accordance with our established policies.',\n",
       " 'I have t submit a notification of fucking copyright infringement, will you help me? To address copyright infringement concerns, please adhere to the following guidelines:\\n\\n1. Navigate to our official website at {{WEBSITE_URL}}.\\n2. Proceed to the {{COPYRIGHT_SECTION}} section of the site.\\n3. Identify and select the {{REPORT_COPYRIGHT_INFRINGEMENT_OPTION}} option available.\\n4. Complete the necessary fields with relevant information about the infringement.\\n5. Once completed, submit the form for our evaluation.\\n\\nYour report will receive prompt attention, and we will take the appropriate action in accordance with our established policies.',\n",
       " \"I'd like to submit a notification of copyright violation where to do it To address a copyright infringement issue, please follow the steps outlined below:\\n\\n1. Access our official website at {{WEBSITE_URL}}.\\n2. Go to the {{COPYRIGHT_SECTION}} section for detailed guidelines.\\n3. Find and select the {{REPORT_COPYRIGHT_INFRINGEMENT_OPTION}} option available.\\n4. Complete the necessary fields with accurate information regarding the infringement.\\n5. Submit your completed form for our assessment.\\n\\nWe appreciate your cooperation in this matter. Your report will receive prompt attention, and we will take the appropriate action in accordance with our established policies.\",\n",
       " 'i foind a case of fucking explicit content i need assistance reporting it To report inappropriate content on our platform, please follow these steps:\\n\\n1. Go to {{WEBSITE_URL}}.\\n2. Identify the specific content that you consider inappropriate.\\n3. Click on the {{REPORT_SECTION}} link usually positioned nearby the content (depicted by a {{FLAG_ICON}}).\\n4. From the options displayed, select the {{REPORT_INAPPROPRIATE_CONTENT_OPTION}} choice.\\n5. Indicate the most relevant reason for your report from the provided list.\\n6. Enter any additional comments or details required and proceed to submit your report.\\n\\nOur dedicated team will analyze your submission and take the necessary actions as per our community standards.',\n",
       " 'I want to notify of inappropiate content, where could I do it? To address and report any inappropriate content you encounter on our platform, please adhere to the following procedure:\\n\\n1. Visit the website at {{WEBSITE_URL}}.\\n2. Identify the content that you deem inappropriate.\\n3. Click on the {{REPORT_SECTION}} option which is typically found adjacent to the content (marked by a {{FLAG_ICON}}).\\n4. From the dropdown menu, choose the {{REPORT_INAPPROPRIATE_CONTENT_OPTION}} option.\\n5. Select the reason that best fits the nature of your report from the presented choices.\\n6. If necessary, provide any extra details needed and submit your report.\\n\\nOur dedicated team will examine your submission and will act in accordance with our community standards.',\n",
       " 'where could i notify of fucking explicit conttent To report inappropriate content on our platform, please adhere to the following guidelines:\\n\\n1. Visit {{WEBSITE_URL}}.\\n2. Identify the specific content you intend to report.\\n3. Click on the {{REPORT_SECTION}} option, which is typically located adjacent to the content (look for the {{FLAG_ICON}} symbol).\\n4. From the menu that appears, select the {{REPORT_INAPPROPRIATE_CONTENT_OPTION}} choice.\\n5. Determine the most relevant reason for your report from the available selections.\\n6. If necessary, include any additional details that may assist in processing your report and proceed to submit it.\\n\\nOur dedicated team will evaluate your report and take appropriate measures in accordance with our community standards.',\n",
       " \"I'd like to report copyright infringemrnt, could you help me? To facilitate your communication with a human agent, please proceed with the following instructions:\\n\\n1. Visit {{WEBSITE_URL}}.\\n2. Access the {{CONTACT_US_SECTION}} section of the website.\\n3. Choose the option to engage in a conversation with a human agent.\\n4. Provide the necessary information and submit your inquiry.\\n\\nShould you require any additional assistance, do not hesitate to reach out.\",\n",
       " 'I need to report copyright infringement, where could I do it? To address any instances of copyright infringement, please adhere to the following guidelines:\\n\\n1. Access our official website at {{WEBSITE_URL}}.\\n2. Find the {{COPYRIGHT_SECTION}} section on the site.\\n3. Click on the {{REPORT_COPYRIGHT_INFRINGEMENT_OPTION}} option presented there.\\n4. Complete the necessary fields with relevant information about the infringement.\\n5. Submit the completed form for our evaluation.\\n\\nOnce we receive your submission, we will conduct a thorough review and ensure that appropriate measures are implemented in accordance with our established policies.',\n",
       " 'i got to report fucking explicit content where to do it To report inappropriate content on our platform, please adhere to the following procedure:\\n\\n1. Go to {{WEBSITE_URL}}.\\n2. Identify the specific content that you believe is inappropriate.\\n3. Click on the {{REPORT_SECTION}}, which is typically found in close proximity to the content (depicted by a {{FLAG_ICON}}).\\n4. From the options displayed, select the {{REPORT_INAPPROPRIATE_CONTENT_OPTION}} choice.\\n5. Indicate the most relevant reason for your report from the options available.\\n6. Enter any additional comments or details required, and then proceed to submit your report.\\n\\nOur dedicated team will assess your report and implement any necessary actions in accordance with our community standards.',\n",
       " 'need to report inappropiate content where can i do it To report inappropriate content on our platform, please adhere to the following procedure:\\n\\n1. Go to {{WEBSITE_URL}}.\\n2. Identify the specific content that you believe is inappropriate.\\n3. Click on the {{REPORT_SECTION}}, which is typically found in close proximity to the content (depicted by a {{FLAG_ICON}}).\\n4. From the options displayed, select the {{REPORT_INAPPROPRIATE_CONTENT_OPTION}} choice.\\n5. Indicate the most relevant reason for your report from the options available.\\n6. Enter any additional comments or details required, and then proceed to submit your report.\\n\\nOur dedicated team will assess your report and implement any necessary actions in accordance with our community standards.',\n",
       " \"I'd like to report copyright violation, howcan I do it? To address a copyright infringement issue, please follow the steps outlined below:\\n\\n1. Access our official website at {{WEBSITE_URL}}.\\n2. Go to the {{COPYRIGHT_SECTION}} section for detailed guidelines.\\n3. Find and select the {{REPORT_COPYRIGHT_INFRINGEMENT_OPTION}} option available.\\n4. Complete the necessary fields with accurate information regarding the infringement.\\n5. Submit your completed form for our investigation.\\n\\nWe appreciate your cooperation in this matter. Your report will receive prompt attention, and we will take the appropriate action in accordance with our established policies.\",\n",
       " 'i found a case of explicit content can usubmit a notification of it To report inappropriate content that you have encountered, please adhere to the following steps:\\n\\n1. Visit {{WEBSITE_URL}}.\\n2. Identify the specific content that you want to bring to our attention.\\n3. Click on the {{REPORT_SECTION}} link, which is typically found in close proximity to the content (indicated by a {{FLAG_ICON}}).\\n4. From the dropdown menu, select the {{REPORT_INAPPROPRIATE_CONTENT_OPTION}} option.\\n5. Indicate the most suitable reason for your report from the provided list.\\n6. Fill in any additional details that may enhance your report and proceed to submit it.\\n\\nOur moderation team will examine your report and will take appropriate measures in accordance with our community standards.',\n",
       " \"I'd like to submit a notification of copyright violation, where to do it? To report a copyright violation, please adhere to the following steps:\\n\\n1. Access our official website at {{WEBSITE_URL}}.\\n2. Proceed to the {{COPYRIGHT_SECTION}} area.\\n3. Find and select the {{REPORT_COPYRIGHT_INFRINGEMENT_OPTION}} option.\\n4. Complete the necessary fields with accurate information regarding the infringement.\\n5. Submit the completed form for our evaluation.\\n\\nYour submission will be thoroughly assessed, and we will implement necessary actions as per our guidelines.\",\n",
       " \"I'd like to submit an notification of copyright violation where to do it To report a copyright violation, please adhere to the following procedure:\\n\\n1. Access our official website at {{WEBSITE_URL}}.\\n2. Proceed to the {{COPYRIGHT_SECTION}} area.\\n3. Find and select the {{REPORT_COPYRIGHT_INFRINGEMENT_OPTION}} option.\\n4. Complete the necessary fields with accurate information regarding the infringement.\\n5. Submit the report for our evaluation.\\n\\nOnce we receive your submission, we will conduct a thorough review and ensure that appropriate measures are implemented in accordance with our established policies.\",\n",
       " 'I have to report explicit content, could I get some help? To report inappropriate content on our platform, please adhere to the following procedure:\\n\\n1. Go to {{WEBSITE_URL}}.\\n2. Identify the specific content that you believe is inappropriate.\\n3. Click on the {{REPORT_SECTION}}, which is typically found adjacent to the content (indicated by a {{FLAG_ICON}}).\\n4. From the menu, select the {{REPORT_INAPPROPRIATE_CONTENT_OPTION}} option.\\n5. Specify the most relevant reason for your report from the provided options.\\n6. Fill in any requested additional details and submit your report.\\n\\nOur moderation team will assess your report and take appropriate steps in accordance with our community standards.',\n",
       " 'I found a case of copyright infringement, will you help me reporting it? To address a case of copyright infringement, please adhere to the following steps:\\n\\n1. Access our official website at {{WEBSITE_URL}}.\\n2. Proceed to the {{COPYRIGHT_SECTION}} area.\\n3. Find and select the {{REPORT_COPYRIGHT_INFRINGEMENT_OPTION}} option.\\n4. Complete the necessary fields with accurate information regarding the infringement.\\n5. Submit the report for our evaluation.\\n\\nOnce we receive your submission, we will conduct a thorough review and ensure that appropriate measures are implemented in accordance with our established policies.',\n",
       " 'i got to submit a notification fo inappropiate content how can i do it To report inappropriate content on our platform, please follow these steps:\\n\\n1. Visit {{WEBSITE_URL}}.\\n2. Identify the specific content that you would like to bring to our attention.\\n3. Access the {{REPORT_SECTION}} area typically found adjacent to the content (indicated by a {{FLAG_ICON}}).\\n4. From the dropdown menu, select the {{REPORT_INAPPROPRIATE_CONTENT_OPTION}} option.\\n5. Indicate the most suitable reason for your report from the provided list.\\n6. Fill in any additional details that may enhance your report and proceed to submit it.\\n\\nOur moderation team will examine your report and take appropriate actions in accordance with our community standards.',\n",
       " 'I have to submit a notification of fucking inappropiate content, could you help me? To report inappropriate content, please adhere to the following guidelines:\\n\\n1. Navigate to our official website at {{WEBSITE_URL}}.\\n2. Proceed to the {{CONTENT_REPORTING_SECTION}} section.\\n3. Select the {{SUBMIT_INAPPROPRIATE_CONTENT_REPORT}} option from the menu.\\n4. Complete the necessary fields, providing comprehensive details about the content in question.\\n5. Send the completed form for our assessment.\\n\\nYour submission will be reviewed promptly, and necessary actions will be executed per our established protocols.',\n",
       " 'I would like to report fucking explicit content, colud I get some help? To report inappropriate content on our platform, please follow these steps:\\n\\n1. Visit {{WEBSITE_URL}} to begin the process.\\n2. Identify the specific content that you deem inappropriate.\\n3. Access the {{REPORT_SECTION}} area, which is typically found in close proximity to the content (indicated by a {{FLAG_ICON}}).\\n4. From the dropdown menu, select the {{REPORT_INAPPROPRIATE_CONTENT_OPTION}} option.\\n5. Indicate the most suitable reason for your report from the provided list.\\n6. Fill in any required details that may enhance your report and proceed to submit it.\\n\\nOur moderation team will examine your report and take appropriate actions in accordance with our community standards.',\n",
       " 'can I report copyright violation? To initiate a copyright infringement report, please adhere to the following procedure:\\n\\n1. Access our official website at {{WEBSITE_URL}}.\\n2. Proceed to the {{COPYRIGHT_SECTION}} section.\\n3. Find and select the {{REPORT_COPYRIGHT_INFRINGEMENT_OPTION}} option.\\n4. Provide the necessary details regarding the infringement in the form.\\n5. Submit your report for review.\\n\\nYour submission will undergo a thorough evaluation, and we will take the necessary actions in line with our established protocols.',\n",
       " 'help me notifying of copyright infringement To formally notify us of copyright infringement, please adhere to the following procedures:\\n\\n1. Access our website at {{WEBSITE_URL}}.\\n2. Direct yourself to the {{COPYRIGHT_SECTION}} segment.\\n3. Find and select the {{REPORT_COPYRIGHT_INFRINGEMENT_OPTION}} option available.\\n4. Provide all required details regarding the specific infringement.\\n5. Submit the completed form for our review and assessment.\\n\\nUpon receiving your report, it will be carefully evaluated, and necessary actions will be implemented in line with our established policies.',\n",
       " 'I got to notify of fucking copyright violation, could you help me? To address a case of copyright infringement, please adhere to the following procedure:\\n\\n1. Access our official website at {{WEBSITE_URL}}.\\n2. Proceed to the {{COPYRIGHT_SECTION}} area.\\n3. Find and select the {{REPORT_COPYRIGHT_INFRINGEMENT_OPTION}} option.\\n4. Complete the necessary fields with accurate information regarding the infringement.\\n5. Submit the completed form for our evaluation.\\n\\nUpon submission, your report will be thoroughly assessed, and necessary actions will be executed according to our established guidelines.',\n",
       " 'i found a case of fucking copyright infringement how do i notify it To report copyright infringement, please follow these steps:\\n\\n1. Access our official website at {{WEBSITE_URL}}.\\n2. Proceed to the {{COPYRIGHT_SECTION}} area.\\n3. Find and click on the {{REPORT_COPYRIGHT_INFRINGEMENT_OPTION}} link.\\n4. Complete the necessary fields, providing specific details about the infringement.\\n5. Submit the completed form for our evaluation.\\n\\nOnce we receive your submission, we will thoroughly review your report and ensure that appropriate measures are implemented in accordance with our established policies.',\n",
       " 'how can I notify o copyright violation? To initiate a report regarding copyright infringement, please adhere to the following process:\\n\\n1. Access our official website at {{WEBSITE_URL}}.\\n2. Proceed to the {{COPYRIGHT_SECTION}} area.\\n3. Find and select the {{REPORT_COPYRIGHT_INFRINGEMENT_OPTION}} option.\\n4. Complete the necessary details concerning the infringement claim.\\n5. Submit the report for evaluation.\\n\\nYour submission will be carefully assessed, and suitable measures will be implemented in accordance with our regulations.',\n",
       " 'how could i submit a notification of fucking copyright violation To address concerns regarding copyright infringement, please adhere to the following guidelines:\\n\\n1. Access our website at {{WEBSITE_URL}}.\\n2. Go to the {{COPYRIGHT_SECTION}} area.\\n3. Find and select the {{REPORT_COPYRIGHT_INFRINGEMENT_OPTION}} choice.\\n4. Complete the necessary fields, providing comprehensive details about the infringement.\\n5. Submit the completed form for our assessment.\\n\\nYour submission will be reviewed, and we will take the requisite steps in line with our policies.',\n",
       " 'I found a case of fucking copyrighr violation, will you help me to notify it? To proceed with reporting copyright infringement, please adhere to the following steps:\\n\\n1. Access our official site at {{WEBSITE_URL}}.\\n2. Find the section labeled {{COPYRIGHT_SECTION}}.\\n3. Click on the option for {{REPORT_COPYRIGHT_INFRINGEMENT_OPTION}}.\\n4. Complete the necessary fields with the pertinent information regarding the infringement.\\n5. Submit your completed form for our assessment.\\n\\nOnce you have submitted your report, it will be thoroughly reviewed to ensure we take suitable actions according to our regulations.',\n",
       " 'is it possible to report fucking  copyright infringement? To formally report copyright infringement, please adhere to the following procedure:\\n\\n1. Access our official website at {{WEBSITE_URL}}.\\n2. Proceed to the {{COPYRIGHT_SECTION}} section found in the main menu.\\n3. Select the {{REPORT_COPYRIGHT_INFRINGEMENT_OPTION}} option presented on the page.\\n4. Complete the requisite fields, ensuring to include specific details about the infringement.\\n5. Submit the completed report for our examination.\\n\\nOnce we receive your submission, it will be assessed in line with our established protocols, and necessary actions will be initiated as appropriate.',\n",
       " \"I'd like to report fucking inappropiate content, how to do it? To report inappropriate content, please adhere to the following guidelines:\\n\\n1. Access our official website at {{WEBSITE_URL}}.\\n2. Go to the {{CONTENT_REPORTING_SECTION}} section.\\n3. Select the {{REPORT_INAPPROPRIATE_CONTENT_OPTION}} option from the provided list.\\n4. Complete the necessary fields with accurate information regarding the content in question.\\n5. Submit the report for our team's consideration.\\n\\nYour submission will be reviewed diligently, and necessary measures will be implemented in accordance with our established protocols.\",\n",
       " 'how to report copyright nifringement To initiate a report for copyright infringement, please adhere to the following procedure:\\n\\n1. Go to our official website at {{WEBSITE_URL}}.\\n2. Find and select the {{COPYRIGHT_SECTION}} area.\\n3. Click on the {{REPORT_COPYRIGHT_INFRINGEMENT_OPTION}} link.\\n4. Provide the necessary details regarding the infringement in the form.\\n5. Submit your completed form for our examination.\\n\\nYour submission will be carefully assessed, and we will take appropriate measures in accordance with our established guidelines.',\n",
       " 'wanna submita notification of explicit content how could i do it To report inappropriate content on our platform, please adhere to the following guidelines:\\n\\n1. Visit {{WEBSITE_URL}} to begin the process.\\n2. Identify the specific content that you deem inappropriate.\\n3. Access the {{REPORT_SECTION}} area, which is typically found adjacent to the content (marked by a {{FLAG_ICON}}).\\n4. From the dropdown menu, choose the {{REPORT_INAPPROPRIATE_CONTENT_OPTION}} option.\\n5. Select the reason that best fits the nature of your report from the presented choices.\\n6. If applicable, include any extra details needed and submit your report for review.\\n\\nOur administration team will thoroughly examine your report and proceed with actions in accordance with our community standards.',\n",
       " \"I'd like to report copyright infringement , help me To initiate a report of copyright infringement, please adhere to the following procedure:\\n\\n1. Access our official website at {{WEBSITE_URL}}.\\n2. Proceed to the {{COPYRIGHT_SECTION}} section found in the main menu.\\n3. Select the {{REPORT_COPYRIGHT_INFRINGEMENT_OPTION}} option presented there.\\n4. Complete the necessary fields, ensuring to include pertinent information regarding the infringement.\\n5. Submit the completed form for our assessment.\\n\\nUpon receipt, your report will be thoroughly reviewed, and we will implement appropriate measures in accordance with our established procedures.\",\n",
       " \"I'd like to notify of copyright violation how do i do it To initiate a report for copyright infringement, please adhere to the following guidelines:\\n\\n1. Access our official website at {{WEBSITE_URL}}.\\n2. Proceed to the {{COPYRIGHT_SECTION}} section on the site.\\n3. Identify and select the {{REPORT_COPYRIGHT_INFRINGEMENT_OPTION}} option provided.\\n4. Complete the necessary fields, including specifics relevant to the infringement.\\n5. Submit your completed form for our assessment.\\n\\nYour submission will be thoroughly reviewed, and necessary actions will be executed according to our established guidelines.\",\n",
       " 'I got to notify of copyright violation, could I get some help? To address a copyright infringement issue, please follow the steps outlined below:\\n\\n1. Access our official website at {{WEBSITE_URL}}.\\n2. Go to the {{COPYRIGHT_SECTION}} section for detailed guidelines.\\n3. Find and select the {{REPORT_COPYRIGHT_INFRINGEMENT_OPTION}} option available.\\n4. Complete the necessary fields with accurate information regarding the infringement.\\n5. Submit your completed form for our investigation.\\n\\nWe appreciate your cooperation in this matter. Your report will receive prompt attention, and we will take the appropriate action in accordance with our established policies.',\n",
       " 'I would like to report fucking explicit content, where do I do it? To report inappropriate content on our platform, please follow these steps:\\n\\n1. Visit {{WEBSITE_URL}}.\\n2. Identify the specific content that you wish to report.\\n3. Click on the {{REPORT_SECTION}} link, typically located adjacent to the content (indicated by a {{FLAG_ICON}}).\\n4. Choose the {{REPORT_INAPPROPRIATE_CONTENT_OPTION}} option available in the drop-down menu.\\n5. Select the reason that best fits your report from the list provided.\\n6. If necessary, add any supplementary details required and proceed to submit your report.\\n\\nOur dedicated team will evaluate your submission and take appropriate measures as outlined in our community standards.',\n",
       " 'I found a case of copyright infringement, I need help submitting a notification it To initiate a copyright infringement report, please adhere to the following steps:\\n\\n1. Access our official website at {{WEBSITE_URL}}.\\n2. Proceed to the {{COPYRIGHT_SECTION}} area.\\n3. Find and select the {{REPORT_COPYRIGHT_INFRINGEMENT_OPTION}} option.\\n4. Complete the necessary fields with accurate information regarding the infringement.\\n5. Submit the report for our evaluation.\\n\\nOnce we receive your submission, we will conduct a thorough review and ensure that appropriate measures are implemented in accordance with our established policies.',\n",
       " 'need to notify of copyright violation can uhelp me To address a copyright infringement issue, please adhere to the following procedure:\\n\\n1. Access our official website at {{WEBSITE_URL}}.\\n2. Go to the {{COPYRIGHT_SECTION}} area.\\n3. Find and select the {{REPORT_COPYRIGHT_INFRINGEMENT_OPTION}} choice.\\n4. Complete the necessary fields, providing comprehensive details regarding the infringement.\\n5. Submit the completed form for our assessment.\\n\\nYour submission will be reviewed, and we will take the requisite steps in line with our policies.',\n",
       " 'I would like to submit a notification of fucking inappropaite content, help me To address the issue of inappropriate content on our platform, kindly adhere to the following steps:\\n\\n1. Visit {{WEBSITE_URL}}.\\n2. Identify the content you wish to report.\\n3. Click on the {{REPORT_SECTION}} section typically situated close to the content (represented by a {{FLAG_ICON}}).\\n4. From the dropdown menu, select the {{REPORT_INAPPROPRIATE_CONTENT_OPTION}} option.\\n5. Choose the most relevant reason for your report from the available choices.\\n6. Fill in any additional details that may be necessary before submitting your report.\\n\\nOur moderation team will investigate your notification thoroughly and will act in accordance with our community standards.',\n",
       " 'were could i notify of explicit content To report inappropriate content appearing on our platform, please adhere to the following procedure:\\n\\n1. Visit {{WEBSITE_URL}}.\\n2. Identify the specific content you want to bring to our attention.\\n3. Access the {{REPORT_SECTION}} section, which is typically represented by a {{FLAG_ICON}} near the content.\\n4. From the menu, select the {{REPORT_INAPPROPRIATE_CONTENT_OPTION}} option.\\n5. Indicate the most relevant reason for your report from the available choices.\\n6. Fill in any additional required information and submit the report.\\n\\nOur moderation team will assess your notification and take appropriate measures in accordance with our community guidelines.',\n",
       " 'i got to notify of fucking inappropiate content will ya help me To report inappropriate content on our platform, please follow these steps:\\n\\n1. Visit {{WEBSITE_URL}} to begin the process.\\n2. Identify the specific content that you deem inappropriate.\\n3. Access the {{REPORT_SECTION}} area, which is typically found in close proximity to the content (indicated by a {{FLAG_ICON}}).\\n4. From the dropdown menu, select the {{REPORT_INAPPROPRIATE_CONTENT_OPTION}} option.\\n5. Indicate the most suitable reason for your report from the provided list.\\n6. Fill in any additional details that may enhance your report and proceed to submit it.\\n\\nOur moderation team will examine your report and take appropriate actions in accordance with our community standards.',\n",
       " 'how to report inappropiate content? To report inappropriate content on our platform, please follow these steps:\\n\\n1. Go to {{WEBSITE_URL}}.\\n2. Find the specific content that you believe is inappropriate.\\n3. Click on the {{REPORT_SECTION}} option typically situated next to the content (indicated by a {{FLAG_ICON}}).\\n4. Choose the {{REPORT_INAPPROPRIATE_CONTENT_OPTION}} option from the dropdown list.\\n5. Specify the most fitting reason for your report from the provided selections.\\n6. Add any further details if necessary and submit your report.\\n\\nOur team is committed to reviewing reports and will take appropriate measures in line with our community standards.',\n",
       " 'I have to notify of inappropiate content, how could I do it? To report inappropriate content on our platform, please follow these steps:\\n\\n1. Visit {{WEBSITE_URL}} to access our services.\\n2. Find the specific content you would like to report for review.\\n3. Click on the {{REPORT_SECTION}} option which is typically integrated near the content (indicated by a {{FLAG_ICON}}).\\n4. From the dropdown menu, choose the {{REPORT_INAPPROPRIATE_CONTENT_OPTION}} option.\\n5. Select the reason that best fits the nature of your report from the presented choices.\\n6. If applicable, add any extra details needed to accompany your report before submitting it.\\n\\nRest assured, our dedicated team will carefully assess your report and take appropriate measures in accordance with our community standards.',\n",
       " 'i found a case of copyright infringement could uhelp me to submit a notification it To properly assist you in connecting with a human representative, please adhere to the following instructions:\\n\\n1. Visit {{WEBSITE_URL}}.\\n2. Locate the {{CONTACT_US_SECTION}} section on the website.\\n3. Choose the option to engage in a conversation with a human agent.\\n4. Complete the necessary information and submit your inquiry.\\n\\nShould you have any additional inquiries, please do not hesitate to ask.',\n",
       " 'id like to submit a notiifcation of fucking explicit content To report inappropriate content on our platform, please follow these steps:\\n\\n1. Visit {{WEBSITE_URL}}.\\n2. Identify the specific content that you wish to report.\\n3. Click on the {{REPORT_SECTION}} section, typically located adjacent to the content (indicated by a {{FLAG_ICON}}).\\n4. Choose the {{REPORT_INAPPROPRIATE_CONTENT_OPTION}} option available in the drop-down menu.\\n5. Select the reason that best fits your report from the list provided.\\n6. If necessary, add any supplementary details required and proceed to submit your report.\\n\\nOur dedicated team will assess your notification and take appropriate measures as outlined in our community standards.',\n",
       " 'I would like to notify of copyright violation, could you help me? To address a copyright infringement issue, please follow the steps outlined below:\\n\\n1. Access our official website at {{WEBSITE_URL}}.\\n2. Go to the {{COPYRIGHT_SECTION}} section for detailed guidelines.\\n3. Find and select the {{REPORT_COPYRIGHT_INFRINGEMENT_OPTION}} option available.\\n4. Complete the necessary fields with accurate information regarding the infringement.\\n5. Submit your completed form for our investigation.\\n\\nWe appreciate your cooperation in this matter. Your report will receive prompt attention, and we will take the appropriate action in accordance with our established policies.',\n",
       " 'how could I submit a notification of fucking copyright violation? To assist you in connecting with a customer service representative, please adhere to the following instructions:\\n\\n1. Visit {{WEBSITE_URL}}.\\n2. Locate the {{CONTACT_US_SECTION}} tab.\\n3. Choose the provision to engage in a conversation with a customer service representative.\\n4. Complete the necessary information and submit your inquiry.\\n\\nShould you require any additional assistance, do not hesitate to reach out.',\n",
       " 'I want to notify of inappropiate content, how to do it? To report inappropriate content on our platform, please adhere to the following process:\\n\\n1. Visit {{WEBSITE_URL}}.\\n2. Identify the specific content that you wish to report.\\n3. Access the {{REPORT_SECTION}} area typically located adjacent to the content (indicated by a {{FLAG_ICON}}).\\n4. Choose the {{REPORT_INAPPROPRIATE_CONTENT_OPTION}} option available in the drop-down menu.\\n5. Select the reason that best fits your report from the list provided.\\n6. If necessary, include any supplementary details required and proceed to submit your report.\\n\\nOur dedicated team will evaluate your submission and take appropriate measures as outlined in our community standards.',\n",
       " 'need to notify of fucking inappropiate content where do i do it To report inappropriate content that violates our community standards, please adhere to the following guidelines:\\n\\n1. Visit {{WEBSITE_URL}} to access our platform.\\n2. Identify the specific content that you wish to report.\\n3. Look for the {{REPORT_SECTION}} which can typically be found adjacent to the content (indicated by a {{FLAG_ICON}} icon).\\n4. Click on the {{REPORT_INAPPROPRIATE_CONTENT_OPTION}} from the available options in the menu.\\n5. Select the most fitting reason for your report from the list of provided choices.\\n6. If necessary, include any additional details that may assist in processing your report and finalize your submission.\\n\\nOur dedicated team will evaluate your report and take appropriate steps to ensure compliance with our community guidelines.',\n",
       " 'i found a case of fucking copyright violation help me to repott it To initiate a copyright infringement report, please adhere to the following guidelines:\\n\\n1. Navigate to our official website at {{WEBSITE_URL}}.\\n2. Proceed to the {{COPYRIGHT_SECTION}} section of the site.\\n3. Identify and select the {{REPORT_COPYRIGHT_INFRINGEMENT_OPTION}} option available.\\n4. Complete the necessary fields with relevant information about the infringement.\\n5. Once filled, submit the form for our assessment.\\n\\nYour report will receive prompt attention, and we will take the appropriate action in accordance with our established policies.',\n",
       " 'I have to notify of fucking inappropiate content, can you help me? To report inappropriate content that violates our community standards, please follow the procedure outlined below:\\n\\n1. Visit {{WEBSITE_URL}}.\\n2. Identify the specific content that you deem inappropriate.\\n3. Click on the {{REPORT_SECTION}} option which is typically found adjacent to the content (marked by a {{FLAG_ICON}}).\\n4. From the dropdown menu, choose the {{REPORT_INAPPROPRIATE_CONTENT_OPTION}} option.\\n5. Select the reason that best fits the nature of your report from the list provided.\\n6. If necessary, add any relevant details that could assist in the review and submit your report.\\n\\nOur review team will examine your report and take appropriate action as per our established guidelines.',\n",
       " 'I need to notify of inappropiate content , how to do it? To report inappropriate content on our platform, please adhere to the following guidelines:\\n\\n1. Visit {{WEBSITE_URL}} to begin the process.\\n2. Identify the specific content that you deem inappropriate.\\n3. Access the {{REPORT_SECTION}} area, which is typically found in close proximity to the content (indicated by a {{FLAG_ICON}}).\\n4. From the dropdown menu, select the {{REPORT_INAPPROPRIATE_CONTENT_OPTION}} option.\\n5. Indicate the most suitable reason for your report from the provided list.\\n6. Fill in any required details that may enhance your report and proceed to submit it.\\n\\nOur dedicated team will examine your report and take appropriate actions in accordance with our community standards.',\n",
       " \"I'd like to notify of fucking inappropiate content where could i do it To report inappropriate content on our platform, please follow these steps:\\n\\n1. Visit the website at {{WEBSITE_URL}}.\\n2. Identify the content that you deem inappropriate.\\n3. Click on the {{REPORT_SECTION}} option which is typically found next to the content (marked by a {{FLAG_ICON}}).\\n4. From the dropdown menu, choose the {{REPORT_INAPPROPRIATE_CONTENT_OPTION}} option.\\n5. Select the reason that best fits the nature of your report from the list provided.\\n6. If necessary, add any extra details that could assist in the review and submit your report.\\n\\nOur review team will examine your report and take appropriate measures in accordance with our community standards.\",\n",
       " 'id like to notify of copyright infrinement where do i do it To report copyright infringement, please follow these steps:\\n\\n1. Access our official website at {{WEBSITE_URL}}.\\n2. Proceed to the {{COPYRIGHT_SECTION}} area.\\n3. Find and click on the {{REPORT_COPYRIGHT_INFRINGEMENT_OPTION}} link.\\n4. Complete the necessary fields, providing specific details about the infringement.\\n5. Submit the completed form for our evaluation.\\n\\nOnce we receive your report, it will be assessed, and necessary actions will be implemented according to our policies.',\n",
       " 'I would like to submit a notification of explicit content, how can I do it? To address the concern of explicit content, please adhere to the following process:\\n\\n1. Access our official website at {{WEBSITE_URL}}.\\n2. Go to the {{EXPLICIT_CONTENT_SECTION}} section.\\n3. Select the {{REPORT_EXPLICIT_CONTENT_OPTION}} option provided.\\n4. Complete the form with all necessary details relevant to the explicit content.\\n5. Submit your report for our investigation.\\n\\nYour submission will be thoroughly assessed, and necessary actions will be implemented according to our established guidelines.',\n",
       " 'need to submit a notification of fucking copyright violation will uhelp me To report a copyright infringement issue, please adhere to the following procedures:\\n\\n1. Access our website at {{WEBSITE_URL}}.\\n2. Proceed to the {{COPYRIGHT_SECTION}} area.\\n3. Find and select the {{REPORT_COPYRIGHT_INFRINGEMENT_OPTION}} option.\\n4. Complete the necessary fields with accurate information regarding the infringement.\\n5. Submit the completed form for our evaluation.\\n\\nUpon submission, your report will be thoroughly assessed, and necessary actions will be executed according to our established guidelines.',\n",
       " 'i want help to notify of fucking inappropiate content To report inappropriate content on our platform, please adhere to the following procedure:\\n\\n1. Go to {{WEBSITE_URL}}.\\n2. Identify the specific content that you believe is inappropriate.\\n3. Click on the {{REPORT_SECTION}}, which is typically found in close proximity to the content (depicted by a {{FLAG_ICON}}).\\n4. From the options displayed, select the {{REPORT_INAPPROPRIATE_CONTENT_OPTION}} choice.\\n5. Indicate the most relevant reason for your report from the options available.\\n6. If necessary, add any extra details that may assist in your report and then submit it.\\n\\nUpon receiving your report, our team will conduct a thorough review and take appropriate measures in accordance with our community standards.',\n",
       " 'id like to submit a notification of fucking copyright violation i need assistance To initiate a formal copyright infringement report, please adhere to the following procedures:\\n\\n1. Access our website at {{WEBSITE_URL}}.\\n2. Proceed to the {{COPYRIGHT_SECTION}} area.\\n3. Find and select the {{REPORT_COPYRIGHT_INFRINGEMENT_OPTION}} option.\\n4. Complete the necessary fields with accurate information regarding the infringement.\\n5. Submit the report for our evaluation.\\n\\nOnce we receive your submission, it will be assessed in line with our established protocols, and you will be informed of any relevant actions taken.',\n",
       " \"I'd like to report copyright infringement, help me To report copyright infringement, please adhere to the following process:\\n\\n1. Access our official website at {{WEBSITE_URL}}.\\n2. Proceed to the {{COPYRIGHT_SECTION}} area.\\n3. Find and select the {{REPORT_COPYRIGHT_INFRINGEMENT_OPTION}} option.\\n4. Complete the necessary details regarding the infringement claim.\\n5. Submit the completed form for evaluation.\\n\\nYour submission will be assessed promptly, and appropriate measures will be implemented in accordance with our guidelines.\",\n",
       " 'id like to notify of copyright violation where to do it To address any copyright infringement you may have identified, please adhere to the following guidelines:\\n\\n1. Access our official website at {{WEBSITE_URL}}.\\n2. Proceed to the {{COPYRIGHT_SECTION}} section on the site.\\n3. Identify and select the {{REPORT_COPYRIGHT_INFRINGEMENT_OPTION}} option provided.\\n4. Complete the necessary fields, including specifics relevant to the infringement.\\n5. Submit your completed form for our assessment.\\n\\nWe appreciate your cooperation in this matter. Your report will receive prompt attention, and we will take necessary steps in accordance with our established policies.',\n",
       " 'I found a case of fucking explicit content, I want to notify it To address and report any inappropriate content you encounter on our platform, please adhere to the following procedure:\\n\\n1. Visit the website at {{WEBSITE_URL}}.\\n2. Identify the content that you deem inappropriate.\\n3. Click on the {{REPORT_SECTION}} option which is typically located near the content (indicated by a {{FLAG_ICON}}).\\n4. From the dropdown menu, choose the {{REPORT_INAPPROPRIATE_CONTENT_OPTION}} option.\\n5. Select the reason that best fits the nature of your report from the list provided.\\n6. If necessary, add any relevant details that could assist in the review and submit your report.\\n\\nOur review team will examine your report and take appropriate measures in accordance with our community standards.',\n",
       " 'I found a case of inappropiate content , will you help me report it? To report inappropriate content on our platform, please follow these steps:\\n\\n1. Visit the website at {{WEBSITE_URL}}.\\n2. Identify the content that you deem inappropriate.\\n3. Click on the {{REPORT_SECTION}} option which is typically located near the content (indicated by a {{FLAG_ICON}}).\\n4. From the dropdown menu, choose the {{REPORT_INAPPROPRIATE_CONTENT_OPTION}} option.\\n5. Select the reason that best fits the nature of your report from the list provided.\\n6. If necessary, add any extra details that could assist in the review and submit your report.\\n\\nOur review team will examine your report and take appropriate measures in accordance with our community standards.',\n",
       " 'could ya help me report explicit cotnent To effectively report content that you deem inappropriate on our platform, please adhere to the following guidelines:\\n\\n1. Visit {{WEBSITE_URL}}.\\n2. Identify the specific content you wish to report.\\n3. Click on the {{REPORT_SECTION}} option, which is typically located adjacent to the content (look for the {{FLAG_ICON}} symbol).\\n4. From the provided menu, select the {{REPORT_INAPPROPRIATE_CONTENT_OPTION}} choice.\\n5. Indicate the reason that best fits your concerns from the available options.\\n6. If necessary, include any additional comments or information and proceed with submitting your report.\\n\\nOur dedicated team will thoroughly examine your report and take appropriate measures according to our community standards.',\n",
       " 'I need to submit a notification of fucking inappropiate cotnent, where can I do it? To address the issue of inappropriate content on our platform, please adhere to the following process:\\n\\n1. Access {{WEBSITE_URL}}.\\n2. Identify the specific content you wish to report.\\n3. Click on the {{REPORT_SECTION}}, which is generally adjacent to the content (indicated by a {{FLAG_ICON}}).\\n4. From the dropdown menu, select the {{REPORT_INAPPROPRIATE_CONTENT_OPTION}} option.\\n5. Indicate the most fitting reason for your complaint from the provided selections.\\n6. If necessary, include any additional details and then submit your report.\\n\\nYour report will be reviewed by our team, and actions will be taken in accordance with our community standards.',\n",
       " 'I would like to notify of fucking copyright infringement, I need assistance To formally address a case of copyright infringement, please adhere to the following steps:\\n\\n1. Access our official website at {{WEBSITE_URL}}.\\n2. Proceed to the {{COPYRIGHT_SECTION}} area.\\n3. Find and select the {{REPORT_COPYRIGHT_INFRINGEMENT_OPTION}} option.\\n4. Complete the necessary fields with accurate information regarding the infringement.\\n5. Submit the report for our evaluation.\\n\\nOnce we receive your submission, we will conduct a thorough review and ensure that appropriate measures are implemented in accordance with our established policies.',\n",
       " 'i found a case of copyright infringemeng how can i notify it To ensure that your concerns are properly addressed by a human representative, please adhere to the following instructions:\\n\\n1. Visit {{WEBSITE_URL}}.\\n2. Locate the {{CONTACT_US_SECTION}} section on the website.\\n3. Choose the option to engage in a conversation with a human agent.\\n4. Complete the necessary information and submit your inquiry.\\n\\nShould you require any additional assistance, please do not hesitate to ask.',\n",
       " 'I would like to notify of fucking copyright infringement, can you help me? To report copyright infringement, please follow these steps:\\n\\n1. Access our official website at {{WEBSITE_URL}}.\\n2. Proceed to the {{COPYRIGHT_SECTION}} area.\\n3. Find and click on the {{REPORT_COPYRIGHT_INFRINGEMENT_OPTION}} link.\\n4. Complete the necessary fields with information regarding the infringement.\\n5. Submit the form for our consideration.\\n\\nYour submission will be assessed, and suitable measures will be taken in alignment with our policies.',\n",
       " 'I have to submit a ontification of fucking copyright violation, how can I do it? To initiate the process of reporting copyright infringement, please adhere to the following procedure:\\n\\n1. Access our official website at {{WEBSITE_URL}}.\\n2. Proceed to the {{COPYRIGHT_SECTION}} area of the website.\\n3. Identify and select the {{REPORT_COPYRIGHT_INFRINGEMENT_OPTION}} choice.\\n4. Complete the necessary fields, providing comprehensive details regarding the infringement.\\n5. Submit your report for our assessment.\\n\\nOnce you have submitted your report, it will undergo a thorough evaluation, and we will take the necessary actions in line with our established guidelines.',\n",
       " 'I have to submit a notification of copyright infringement, I need help To initiate the process of reporting copyright infringement, please adhere to the following guidelines:\\n\\n1. Access our official website at {{WEBSITE_URL}}.\\n2. Proceed to the {{COPYRIGHT_SECTION}} section on the site.\\n3. Identify and select the {{REPORT_COPYRIGHT_INFRINGEMENT_OPTION}} option provided.\\n4. Complete the necessary fields, including specifics relevant to the infringement.\\n5. Submit the completed form for our evaluation.\\n\\nYour submission will be thoroughly assessed, and necessary actions will be executed in line with our established protocols.',\n",
       " 'need to submit a notification of copyright infringement ho to do it To address a case of copyright infringement, please adhere to the following procedure:\\n\\n1. Access our official website at {{WEBSITE_URL}}.\\n2. Proceed to the {{COPYRIGHT_SECTION}} area.\\n3. Find and select the {{REPORT_COPYRIGHT_INFRINGEMENT_OPTION}} option.\\n4. Complete the necessary fields with accurate information regarding the infringement.\\n5. Submit the documentation for our assessment.\\n\\nOnce we receive your submission, it will be thoroughly reviewed, and actions will be taken consistent with our established guidelines.',\n",
       " 'I need to report inappropiate content, how can I do it? To report inappropriate content on our platform, please adhere to the following process:\\n\\n1. Visit {{WEBSITE_URL}}.\\n2. Identify the specific content that you wish to report.\\n3. Access the {{REPORT_SECTION}} section typically located adjacent to the content (indicated by a {{FLAG_ICON}}).\\n4. Choose the {{REPORT_INAPPROPRIATE_CONTENT_OPTION}} option available in the drop-down menu.\\n5. Select the reason that best fits your report from the list provided.\\n6. If necessary, include any supplementary details required and proceed to submit your report.\\n\\nOur dedicated team will evaluate your submission and take appropriate measures as outlined in our community standards.',\n",
       " 'wanna submit a notification of inappropiate content To address and report inappropriate content on our platform, please adhere to the following instructions:\\n\\n1. Go to {{WEBSITE_URL}}.\\n2. Identify the content that you find troubling.\\n3. Access the {{REPORT_SECTION}} typically situated near the content area (look for the {{FLAG_ICON}} symbol).\\n4. From the menu, select the {{REPORT_INAPPROPRIATE_CONTENT_OPTION}} option.\\n5. Indicate the most suitable reason for your report among the available choices.\\n6. If necessary, furnish any additional details required and submit your report.\\n\\nOur dedicated team will evaluate the report and take appropriate action in accordance with our community standards.',\n",
       " 'i got to reportfucking copyright violation could i get some help To address copyright infringement concerns, please proceed with the following steps:\\n\\n1. Access our official website at {{WEBSITE_URL}}.\\n2. Go to the {{COPYRIGHT_SECTION}} section for guidelines.\\n3. Select the {{REPORT_COPYRIGHT_INFRINGEMENT_OPTION}} option available.\\n4. Complete the necessary fields, detailing the infringement you wish to report.\\n5. Submit the completed form for our consideration.\\n\\nYour submission will be reviewed diligently, and necessary measures will be implemented in accordance with our established policies.',\n",
       " 'i got to submit a notification of explicit content where could i do it To report inappropriate content on our platform, please follow these steps:\\n\\n1. Visit {{WEBSITE_URL}}.\\n2. Identify the specific content that you wish to report.\\n3. Click on the {{REPORT_SECTION}} link, typically located adjacent to the content (indicated by a {{FLAG_ICON}}).\\n4. Choose the {{REPORT_INAPPROPRIATE_CONTENT_OPTION}} option available in the drop-down menu.\\n5. Select the reason that best fits your report from the list provided.\\n6. If necessary, add any supplementary details required and proceed to submit your report.\\n\\nOur dedicated team will assess your notification and take appropriate measures as outlined in our community standards.',\n",
       " 'I have to report fucking inappropiate content, can I get some help ? To report inappropriate content on our platform, please follow these steps:\\n\\n1. Visit {{WEBSITE_URL}} to begin the reporting process.\\n2. Find the specific content that you believe violates our guidelines.\\n3. Click on the {{REPORT_SECTION}}, which is typically marked by a {{FLAG_ICON}} adjacent to the content.\\n4. From the dropdown menu, select the {{REPORT_INAPPROPRIATE_CONTENT_OPTION}} option.\\n5. Identify the reason for your report from the available list of options presented.\\n6. Fill in any additional details as prompted and finalize your submission.\\n\\nOur dedicated team will assess your report and take appropriate measures in accordance with our community standards.',\n",
       " 'I need to report fucking copyright infringement, could I get some help? To address a case of copyright infringement, please adhere to the following steps:\\n\\n1. Access our official website at {{WEBSITE_URL}}.\\n2. Proceed to the {{COPYRIGHT_SECTION}} area.\\n3. Find and select the {{REPORT_COPYRIGHT_INFRINGEMENT_OPTION}} option.\\n4. Complete the necessary fields with accurate information regarding the infringement.\\n5. Submit the report for our evaluation.\\n\\nOnce we receive your submission, we will conduct a thorough review and ensure that appropriate measures are implemented in accordance with our established policies.',\n",
       " 'I found a case of inappropiate content, help me reporting it To report inappropriate content on our platform, please adhere to the following protocol:\\n\\n1. Visit {{WEBSITE_URL}}.\\n2. Identify the specific content that you wish to report.\\n3. Click on the {{REPORT_SECTION}} section, typically located adjacent to the content (indicated by a {{FLAG_ICON}}).\\n4. Choose the {{REPORT_INAPPROPRIATE_CONTENT_OPTION}} option available in the drop-down menu.\\n5. Select the reason that best fits your report from the list provided.\\n6. If necessary, include any supplementary details required and proceed to submit your report.\\n\\nOur dedicated team will evaluate your submission and take appropriate measures as outlined in our community standards.',\n",
       " 'need to submit a notification of fucking inappropiate content how do i do it To report inappropriate content on our platform, please follow these steps:\\n\\n1. Visit {{WEBSITE_URL}}.\\n2. Identify the specific content that you would like to bring to our attention.\\n3. Access the {{REPORT_SECTION}} area typically found adjacent to the content (indicated by a {{FLAG_ICON}}).\\n4. From the dropdown menu, select the {{REPORT_INAPPROPRIATE_CONTENT_OPTION}} option.\\n5. Indicate the most suitable reason for your report from the provided list.\\n6. Fill in any additional details that may enhance your report and proceed to submit it.\\n\\nOur moderation team will examine your report and take appropriate actions in accordance with our community standards.',\n",
       " 'I want tol report copyright infringement, I need help To initiate a report for copyright infringement, please adhere to the following instructions:\\n\\n1. Access our official website at {{WEBSITE_URL}}.\\n2. Proceed to the {{COPYRIGHT_SECTION}} area of the site.\\n3. Find and select the {{REPORT_COPYRIGHT_INFRINGEMENT_OPTION}} link.\\n4. Provide the necessary details regarding the infringement in the available form.\\n5. Submit your report for our assessment.\\n\\nUpon submission, your complaint will be reviewed, and we will take suitable measures as per our established guidelines.',\n",
       " \"I'd like to submit a notification of inappropiate content could i get some help To report inappropriate content on our platform, please follow these steps:\\n\\n1. Visit the website at {{WEBSITE_URL}}.\\n2. Identify the content that you deem inappropriate.\\n3. Click on the {{REPORT_SECTION}} option which is typically found adjacent to the content (marked by a {{FLAG_ICON}}).\\n4. From the dropdown menu, choose the {{REPORT_INAPPROPRIATE_CONTENT_OPTION}} option.\\n5. Select the reason that best fits the nature of your report from the list provided.\\n6. If necessary, add any extra details that could assist in the review and submit your report.\\n\\nOur review team will examine your report and take appropriate measures in accordance with our community standards.\",\n",
       " 'I have to submit a notification of copyright infringement, I need assistance To initiate the process of reporting copyright infringement, please adhere to the following guidelines:\\n\\n1. Access our official website at {{WEBSITE_URL}}.\\n2. Proceed to the {{COPYRIGHT_SECTION}} section on the site.\\n3. Identify and select the {{REPORT_COPYRIGHT_INFRINGEMENT_OPTION}} option provided.\\n4. Complete the necessary fields, including specifics relevant to the infringement.\\n5. Submit your completed form for our evaluation.\\n\\nWe appreciate your cooperation in this matter. Your report will receive prompt attention, and appropriate measures will be implemented in accordance with our established policies.',\n",
       " 'how can i submit  a notification of fucking copyright infringement To formally address a case of copyright infringement, please adhere to the following steps:\\n\\n1. Access our official website at {{WEBSITE_URL}}.\\n2. Proceed to the {{COPYRIGHT_SECTION}} area.\\n3. Find and select the {{REPORT_COPYRIGHT_INFRINGEMENT_OPTION}} option.\\n4. Complete the necessary fields with accurate information regarding the infringement.\\n5. Submit the documentation for our assessment.\\n\\nOnce we receive your submission, it will be thoroughly reviewed, and actions will be taken consistent with our established guidelines.',\n",
       " 'I found a case of explicit content, could you help me submit a notification of it? To report inappropriate content on our platform, please follow these steps:\\n\\n1. Visit the website at {{WEBSITE_URL}}.\\n2. Identify the content that you deem inappropriate.\\n3. Click on the {{REPORT_SECTION}} option which is typically found adjacent to the content (marked by a {{FLAG_ICON}}).\\n4. From the dropdown menu, choose the {{REPORT_INAPPROPRIATE_CONTENT_OPTION}} option.\\n5. Select the reason that best fits the nature of your report from the list provided.\\n6. If necessary, add any extra details that could assist in the review and submit your report.\\n\\nOur review team will examine your report and take appropriate measures in accordance with our community standards.',\n",
       " 'need to notify of fucking explicit content how do i do it To report inappropriate content on our platform, please adhere to the following protocol:\\n\\n1. Visit {{WEBSITE_URL}}.\\n2. Identify the specific content that you wish to report.\\n3. Access the {{REPORT_SECTION}}, which is typically found in close proximity to the content (depicted by a {{FLAG_ICON}}).\\n4. From the options displayed, select the {{REPORT_INAPPROPRIATE_CONTENT_OPTION}}.\\n5. Indicate the most relevant reason for your report from the available choices.\\n6. If necessary, provide any supplementary details required and proceed to submit your report.\\n\\nOur dedicated team will evaluate your submission and take appropriate measures as outlined in our community standards.',\n",
       " \"I'd like to notify of fuckong explicit content, where could I do it? To address the issue of inappropriate content, please adhere to the following guidelines:\\n\\n1. Access our official website at {{WEBSITE_URL}}.\\n2. Go to the {{INAPPROPRIATE_CONTENT_SECTION}} section.\\n3. Click the {{REPORT_INAPPROPRIATE_CONTENT_OPTION}} button.\\n4. Complete the form with all necessary details regarding the explicit content.\\n5. Submit your report for our team's assessment.\\n\\nYour submission will be thoroughly investigated, and we will take necessary actions according to our established protocols.\",\n",
       " 'I want to notify of fucking copyright violation, were do I do it? To address copyright infringement, please follow the outlined procedure:\\n\\n1. Access our official website at {{WEBSITE_URL}}.\\n2. Proceed to the {{COPYRIGHT_SECTION}} area.\\n3. Find and select the {{REPORT_COPYRIGHT_INFRINGEMENT_OPTION}} option.\\n4. Complete the necessary fields with accurate information regarding the infringement.\\n5. Submit the report for our evaluation.\\n\\nOnce we receive your submission, we will conduct a thorough review and ensure that appropriate measures are implemented in accordance with our established policies.',\n",
       " 'i found a case of inappropiate content willuhelp me to notify it To report inappropriate content on our platform, please follow these steps:\\n\\n1. Visit {{WEBSITE_URL}}.\\n2. Identify the specific content that you would like to bring to our attention.\\n3. Access the {{REPORT_SECTION}} area typically available near the content (represented by a {{FLAG_ICON}}).\\n4. From the dropdown menu, select the {{REPORT_INAPPROPRIATE_CONTENT_OPTION}} choice.\\n5. Indicate the most relevant reason for your report from the provided list.\\n6. Fill in any additional details as prompted and finalize your submission.\\n\\nOur dedicated team will assess your report and take the appropriate measures in accordance with our community standards.',\n",
       " \"I'd like to notify of fucking copyright violation will uhelp me To address a case of copyright infringement, please adhere to the following steps:\\n\\n1. Access our official website at {{WEBSITE_URL}}.\\n2. Proceed to the {{COPYRIGHT_SECTION}} area.\\n3. Find and select the {{REPORT_COPYRIGHT_INFRINGEMENT_OPTION}} option.\\n4. Complete the necessary fields with accurate information regarding the infringement.\\n5. Submit the report for our evaluation.\\n\\nOnce we receive your submission, we will conduct a thorough review and ensure that appropriate measures are implemented in accordance with our established policies.\",\n",
       " 'id like to notify of fucking inmappropiate content how do i do it To address inappropriate content observed on our platform, please adhere to the following instructions:\\n\\n1. Visit {{WEBSITE_URL}}.\\n2. Identify the relevant content that you intend to report.\\n3. Click on the {{REPORT_SECTION}}, which is typically located in proximity to the content and is denoted by a {{FLAG_ICON}}.\\n4. From the options presented, select the {{REPORT_INAPPROPRIATE_CONTENT_OPTION}}.\\n5. Indicate a suitable reason for the report from the available choices.\\n6. If necessary, enter any supplementary details required before submitting your report.\\n\\nOur dedicated team will examine your report and will take appropriate measures in accordance with our community standards.',\n",
       " \"I found a case of fucking copyright infringement, I'd like to report it To address a case of copyright infringement, please adhere to the following procedure:\\n\\n1. Access our official website at {{WEBSITE_URL}}.\\n2. Proceed to the {{COPYRIGHT_SECTION}} area.\\n3. Find and select the {{REPORT_COPYRIGHT_INFRINGEMENT_OPTION}} option.\\n4. Complete the necessary fields with accurate information regarding the infringement.\\n5. Submit the report for our evaluation.\\n\\nOnce we receive your submission, we will conduct a thorough review and ensure that appropriate measures are implemented in accordance with our established policies.\",\n",
       " 'how to report fucking copyright infringement To initiate a report regarding copyright infringement, please adhere to the following procedures:\\n\\n1. Access our official website at {{WEBSITE_URL}}.\\n2. Proceed to the {{COPYRIGHT_SECTION}} segment of the site.\\n3. Find and select the {{REPORT_COPYRIGHT_INFRINGEMENT_OPTION}} option available.\\n4. Provide the necessary information, detailing the specifics of the infringement.\\n5. Complete and submit the form for our assessment.\\n\\nYour submission will be thoroughly examined, and we will implement suitable measures in line with our established policies.',\n",
       " 'i got to submit a notificaton of copyright infringement i need assistance To initiate a copyright infringement report, please adhere to the following steps:\\n\\n1. Access our official website at {{WEBSITE_URL}}.\\n2. Proceed to the {{COPYRIGHT_SECTION}} area.\\n3. Find and select the {{REPORT_COPYRIGHT_INFRINGEMENT_OPTION}} option.\\n4. Complete the necessary fields with accurate information regarding the infringement.\\n5. Submit the completed form for our evaluation.\\n\\nUpon submission, your report will be thoroughly assessed, and necessary actions will be executed according to our established guidelines.',\n",
       " 'I need assistance to report explicit  content To facilitate the reporting of explicit content on our platform, please adhere to the following procedure:\\n\\n1. Visit {{WEBSITE_URL}}.\\n2. Identify the specific content you want to report.\\n3. Click on the {{REPORT_SECTION}} section which is typically located near the content (indicated by a {{FLAG_ICON}}).\\n4. From the menu, select the {{REPORT_INAPPROPRIATE_CONTENT_OPTION}} option.\\n5. Determine the most fitting reason for your report from the provided choices.\\n6. Fill in any additional details required and proceed to submit your report.\\n\\nOur dedicated team will assess your submission and take appropriate measures in line with our community standards.',\n",
       " 'i have to report explicit content will uhelp me To report explicit content on our platform, please adhere to the following guidelines:\\n\\n1. Access {{WEBSITE_URL}}.\\n2. Identify the specific content that you intend to report.\\n3. Click on the {{REPORT_SECTION}} option, which is typically positioned adjacent to the content (look for the {{FLAG_ICON}} symbol).\\n4. From the provided menu, select the {{REPORT_INAPPROPRIATE_CONTENT_OPTION}} choice.\\n5. Indicate the reason that best fits your report from the available selections.\\n6. If necessary, include any supplementary details as requested and proceed with submitting your report.\\n\\nOur dedicated team will thoroughly examine your report and take appropriate measures in accordance with our community standards.',\n",
       " 'i need assistance to  notify of copyright violation To formally report copyright infringement, please adhere to the following procedure:\\n\\n1. Access our official website at {{WEBSITE_URL}}.\\n2. Proceed to the {{COPYRIGHT_SECTION}} section found in the main menu.\\n3. Select the {{REPORT_COPYRIGHT_INFRINGEMENT_OPTION}} option presented there.\\n4. Complete the necessary fields, ensuring to include pertinent information regarding the infringement.\\n5. Submit your completed form for our assessment.\\n\\nUpon receipt, your report will be thoroughly reviewed, and we will implement necessary actions as per our established policies.',\n",
       " 'I found a case of explicit content, help me notify it To report explicit content on our platform, please adhere to the following guidelines:\\n\\n1. Visit {{WEBSITE_URL}}.\\n2. Identify the specific content you intend to report.\\n3. Click on the {{REPORT_SECTION}} option, which is typically located adjacent to the content (look for the {{FLAG_ICON}} symbol).\\n4. From the menu that appears, select the {{REPORT_INAPPROPRIATE_CONTENT_OPTION}} choice.\\n5. Determine the most relevant justification for your report from the available selections.\\n6. If necessary, include any supplementary details that may enhance your report and proceed to submit it.\\n\\nYour report will be evaluated by our team, who will ensure compliance with our established community standards.',\n",
       " 'where do I notify of explicit cvontent? If you have encountered explicit content that you believe should be reported, please take the following steps:\\n\\n1. Visit {{WEBSITE_URL}}.\\n2. Identify the specific content you intend to report.\\n3. Click on the {{REPORT_SECTION}} option, which is typically located adjacent to the content (look for the {{FLAG_ICON}} symbol).\\n4. From the provided options, select {{REPORT_INAPPROPRIATE_CONTENT_OPTION}}.\\n5. Indicate the reason for your report from the available choices.\\n6. Fill out any additional information that may be requested and proceed to submit your report.\\n\\nOur moderation team will assess your report and take appropriate steps in accordance with our community standards.',\n",
       " 'i got to notify of  inappropiate content where could i do it To report inappropriate content on our platform, please follow these steps:\\n\\n1. Visit the website at {{WEBSITE_URL}}.\\n2. Identify the content that you deem inappropriate.\\n3. Click on the {{REPORT_SECTION}} option which is typically found adjacent to the content (marked by a {{FLAG_ICON}}).\\n4. From the dropdown menu, choose the {{REPORT_INAPPROPRIATE_CONTENT_OPTION}} option.\\n5. Select the reason that best fits the nature of your report from the list provided.\\n6. If necessary, add any extra details that could assist in the review and submit your report.\\n\\nOur review team will examine your report and take appropriate measures in accordance with our community standards.',\n",
       " 'I woulx like to submit a notification of explicit content To report inappropriate content on our platform, please adhere to the following procedure:\\n\\n1. Go to {{WEBSITE_URL}}.\\n2. Identify the specific content that you believe is inappropriate.\\n3. Click on the {{REPORT_SECTION}}, which is typically found in close proximity to the content (depicted by a {{FLAG_ICON}}).\\n4. From the options displayed, select the {{REPORT_INAPPROPRIATE_CONTENT_OPTION}} choice.\\n5. Indicate the most relevant reason for your report from the options available.\\n6. If necessary, add any extra details that may assist in your evaluation and submit the report.\\n\\nUpon receiving your report, our team will conduct a thorough review and take appropriate measures in accordance with our community standards.',\n",
       " 'I would like to notify of fucking copyright infringement , can you help me? To address copyright infringement concerns, please proceed with the following steps:\\n\\n1. Access our official website at {{WEBSITE_URL}}.\\n2. Go to the {{COPYRIGHT_SECTION}} section for guidelines.\\n3. Select the {{REPORT_COPYRIGHT_INFRINGEMENT_OPTION}} option available.\\n4. Complete the necessary fields, detailing the infringement.\\n5. Submit your report for our assessment.\\n\\nUpon submission, your report will be thoroughly reviewed, and necessary actions will be implemented as per our policies.',\n",
       " 'I have to report copyright violation, where could I do it? To initiate a report for copyright infringement, please adhere to the following guidelines:\\n\\n1. Access our official website at {{WEBSITE_URL}}.\\n2. Proceed to the {{COPYRIGHT_SECTION}} section on the homepage.\\n3. Identify and select the {{REPORT_COPYRIGHT_INFRINGEMENT_OPTION}} option provided.\\n4. Complete the necessary fields, including specifics relevant to the infringement.\\n5. Submit your completed form for our assessment.\\n\\nYour submission will be thoroughly reviewed, and necessary actions will be executed as stipulated in our guidelines.',\n",
       " 'I got to report fucking explicit content, where can I do ir? To report inappropriate content on our platform, please follow these steps:\\n\\n1. Visit {{WEBSITE_URL}}.\\n2. Identify the specific content that you wish to report.\\n3. Click on the {{REPORT_SECTION}} section, typically located close to the content (indicated by a {{FLAG_ICON}}).\\n4. Choose the {{REPORT_INAPPROPRIATE_CONTENT_OPTION}} option available in the drop-down menu.\\n5. Select the reason that best fits your report from the list provided.\\n6. If necessary, add any supplementary details required and proceed to submit your report.\\n\\nOur dedicated team will assess your notification and take appropriate measures as outlined in our community standards.',\n",
       " \"I got to notify of fucking copyright violation , where can I do it? To address copyright infringement, please follow the outlined steps below:\\n\\n1. Access our website by visiting {{WEBSITE_URL}}.\\n2. Go to the {{COPYRIGHT_SECTION}} section for relevant information.\\n3. Find and select the {{REPORT_COPYRIGHT_INFRINGEMENT_OPTION}} option provided.\\n4. Complete the necessary fields with information regarding the infringement.\\n5. Submit your report for our team's consideration.\\n\\nRest assured that your report will be thoroughly assessed, and we will take suitable action according to our established protocols.\",\n",
       " 'I would like to notify of inappropiate content , where can I do it? To report inappropriate content on our platform, please adhere to the following procedure:\\n\\n1. Visit {{WEBSITE_URL}}.\\n2. Find the specific content that you believe violates our guidelines.\\n3. Click on the {{REPORT_SECTION}}, which is typically represented by a {{FLAG_ICON}} adjacent to the content.\\n4. From the dropdown menu, select the {{REPORT_INAPPROPRIATE_CONTENT_OPTION}} option.\\n5. Identify the most relevant reason for your report from the available choices.\\n6. Fill in any additional comments or details as necessary before submitting your report.\\n\\nOur moderation team will investigate your submission thoroughly and will act in accordance with our community standards.',\n",
       " 'wanna report explicit content how to do it To address any explicit content concerns on our platform, please adhere to the following guidelines:\\n\\n1. Access {{WEBSITE_URL}}.\\n2. Identify the specific content that you intend to report.\\n3. Click on the {{REPORT_SECTION}} option, which is typically positioned adjacent to the content (look for the {{FLAG_ICON}} symbol).\\n4. From the provided menu, select the {{REPORT_INAPPROPRIATE_CONTENT_OPTION}} choice.\\n5. Indicate the reason that best fits your report from the available selections.\\n6. If necessary, include any supplementary details as requested and proceed with submitting your report.\\n\\nOur dedicated team will thoroughly examine your report and take appropriate measures in accordance with our community standards.',\n",
       " 'I would like to notify of explicit content To report explicit content on our platform, please adhere to the following procedure:\\n\\n1. Go to {{WEBSITE_URL}}.\\n2. Find the specific piece of content that you want to report.\\n3. Click on the {{REPORT_SECTION}} section, which is typically represented by a {{FLAG_ICON}} near the content.\\n4. From the menu, select the {{REPORT_INAPPROPRIATE_CONTENT_OPTION}} option.\\n5. Identify the most fitting reason for your report from the provided choices.\\n6. Fill in any additional details required and proceed to submit your report.\\n\\nOur moderation team will assess your submission and take appropriate measures in line with our community standards.',\n",
       " 'I got to report explicit content, how could I do it? To report inappropriate content on our platform, please adhere to the following procedure:\\n\\n1. Go to {{WEBSITE_URL}}.\\n2. Identify the specific content that you believe is inappropriate.\\n3. Click on the {{REPORT_SECTION}}, which is typically found in close proximity to the content (depicted by a {{FLAG_ICON}}).\\n4. From the options displayed, select the {{REPORT_INAPPROPRIATE_CONTENT_OPTION}} choice.\\n5. Indicate the most relevant reason for your report from the options available.\\n6. If necessary, add any extra details that may assist in your report and finalize by submitting it.\\n\\nOur dedicated team will assess your report and take the appropriate measures in accordance with our community standards.',\n",
       " 'I got to submit a notification offucking inappropiate content, help me To report inappropriate content on our platform, please follow these steps:\\n\\n1. Visit {{WEBSITE_URL}} to begin the reporting process.\\n2. Find the specific content that you believe violates our guidelines.\\n3. Click on the {{REPORT_SECTION}}, which is typically marked by a {{FLAG_ICON}} adjacent to the content.\\n4. From the dropdown menu, select the {{REPORT_INAPPROPRIATE_CONTENT_OPTION}} option.\\n5. Identify the reason for your report from the available list of options presented.\\n6. Fill in any additional details as prompted and finalize your submission.\\n\\nOur dedicated team will assess your report and take appropriate measures in accordance with our community standards.',\n",
       " 'wanna submit a notification of fucking explicit content how do i do it To report inappropriate content on our platform, please adhere to the following guidelines:\\n\\n1. Visit {{WEBSITE_URL}} to access the platform.\\n2. Identify the specific content that you deem inappropriate.\\n3. Click on the {{REPORT_SECTION}} option which is typically found adjacent to the content (marked by a {{FLAG_ICON}}).\\n4. From the dropdown menu, choose the {{REPORT_INAPPROPRIATE_CONTENT_OPTION}} option.\\n5. Select the reason that best fits the nature of your report from the list provided.\\n6. If necessary, include any additional details that could assist in the review and submit your report.\\n\\nOur review team will examine your report and take appropriate measures in accordance with our community standards.',\n",
       " \"I'd like to notify of copyright violation, could you help me? To initiate a report for copyright infringement, please adhere to the following guidelines:\\n\\n1. Access our official website at {{WEBSITE_URL}}.\\n2. Proceed to the {{COPYRIGHT_SECTION}} section on the site.\\n3. Identify and select the {{REPORT_COPYRIGHT_INFRINGEMENT_OPTION}} option provided.\\n4. Complete the necessary fields, including specifics relevant to the infringement.\\n5. Submit your completed form for our assessment.\\n\\nYour submission will be thoroughly reviewed, and necessary actions will be executed as stipulated in our guidelines.\",\n",
       " 'I would like to notify of inappopiate content, help me To report inappropriate content, please adhere to the following steps:\\n\\n1. Access our platform at {{WEBSITE_URL}}.\\n2. Find the {{CONTENT_POLICY_SECTION}} section on the site.\\n3. Click on the {{REPORT_INAPPROPRIATE_CONTENT_OPTION}} link to begin the reporting process.\\n4. Complete the form with all relevant information regarding the content in question.\\n5. Submit your report for consideration and action.\\n\\nYour submission will be assessed thoroughly, and necessary measures will be enforced as per our guidelines.',\n",
       " 'i have to report fucking explicit content where can i do it To report inappropriate content on our platform, please adhere to the following protocol:\\n\\n1. Visit {{WEBSITE_URL}}.\\n2. Identify the specific content that you wish to report.\\n3. Access the {{REPORT_SECTION}}, which is typically found in close proximity to the content (depicted by a {{FLAG_ICON}}).\\n4. From the options displayed, select the {{REPORT_INAPPROPRIATE_CONTENT_OPTION}} choice.\\n5. Indicate the most relevant reason for your report from the options available.\\n6. Enter any additional comments or details required, and then proceed to submit your report.\\n\\nOur dedicated team will assess your report and implement any necessary actions in accordance with our community standards.',\n",
       " 'i found a case of copyright violation howdo i report it To address a case of copyright infringement, please adhere to the following steps:\\n\\n1. Access our official website at {{WEBSITE_URL}}.\\n2. Proceed to the {{COPYRIGHT_SECTION}} area.\\n3. Find and select the {{REPORT_COPYRIGHT_INFRINGEMENT_OPTION}} option.\\n4. Complete the necessary fields with accurate information regarding the infringement.\\n5. Submit the report for our evaluation.\\n\\nOnce we receive your submission, we will conduct a thorough review and ensure that appropriate measures are implemented in accordance with our established policies.',\n",
       " \"I'd like to notify of inappropiate content were can i do it To report inappropriate content on our platform, please follow these steps:\\n\\n1. Visit {{WEBSITE_URL}}.\\n2. Identify the specific content you wish to report.\\n3. Click on the {{REPORT_SECTION}} link, typically located adjacent to the content (indicated by a {{FLAG_ICON}}).\\n4. Choose the {{REPORT_INAPPROPRIATE_CONTENT_OPTION}} option available in the drop-down menu.\\n5. Select the reason that best fits your report from the list provided.\\n6. If necessary, add any supplementary details required and proceed to submit your report.\\n\\nOur dedicated team will assess your notification and take appropriate measures as outlined in our community standards.\",\n",
       " 'I need to report fucking copyright violation, how od I do it? To report copyright infringement, please follow these steps:\\n\\n1. Access our official website at {{WEBSITE_URL}}.\\n2. Proceed to the {{COPYRIGHT_SECTION}} area.\\n3. Find and click on the {{REPORT_COPYRIGHT_INFRINGEMENT_OPTION}} link.\\n4. Complete the necessary fields, providing specific details about the infringement.\\n5. Submit the completed form for our evaluation.\\n\\nOnce we receive your submission, we will thoroughly review your report and ensure that appropriate measures are implemented in accordance with our established policies.',\n",
       " \"could ya help me notify of fuciing copyright infringement To initiate a report regarding copyright infringement, please adhere to the following guidelines:\\n\\n1. Access our official website at {{WEBSITE_URL}}.\\n2. Proceed to the {{COPYRIGHT_SECTION}} section for detailed information.\\n3. Find and select the {{REPORT_COPYRIGHT_INFRINGEMENT_OPTION}} option available.\\n4. Complete the necessary fields, ensuring you include all pertinent details about the infringement.\\n5. Send the completed form for our team's assessment.\\n\\nYour submission will be thoroughly reviewed, and we will take appropriate measures according to our established policies.\",\n",
       " 'i found a case of fucking copyright infringement i wanna notify it To formally report a case of copyright infringement, please adhere to the following steps:\\n\\n1. Access our official website at {{WEBSITE_URL}}.\\n2. Proceed to the {{COPYRIGHT_SECTION}} area.\\n3. Find and select the {{REPORT_COPYRIGHT_INFRINGEMENT_OPTION}} option.\\n4. Complete the necessary fields with accurate information regarding the infringement.\\n5. Submit the report for our evaluation.\\n\\nOnce we receive your submission, it will be assessed in line with our established protocols, and you will be informed of any relevant actions taken.',\n",
       " 'submit a notification of copyright violation To formally notify us of copyright infringement, please adhere to the following procedures:\\n\\n1. Access our website at {{WEBSITE_URL}}.\\n2. Direct yourself to the {{COPYRIGHT_SECTION}} segment.\\n3. Find and select the {{REPORT_COPYRIGHT_INFRINGEMENT_OPTION}} option available.\\n4. Provide all necessary details regarding the infringement in the form.\\n5. Submit the completed form for our assessment.\\n\\nYour submission will be carefully reviewed, and necessary actions will be executed in accordance with our regulations.',\n",
       " 'i found a case of copyright violation id like to notify it To formally report a case of copyright infringement, please adhere to the following guidelines:\\n\\n1. Access our official website at {{WEBSITE_URL}}.\\n2. Proceed to the {{COPYRIGHT_SECTION}} section on the homepage.\\n3. Identify and select the {{REPORT_COPYRIGHT_INFRINGEMENT_OPTION}} option provided.\\n4. Complete the necessary fields, including specifics relevant to the infringement.\\n5. Submit your completed form for our investigation.\\n\\nYour submission will be thoroughly assessed, and necessary actions will be executed according to our established guidelines.',\n",
       " 'need to report explicit contnet help me To report inappropriate content on our platform, please follow these steps:\\n\\n1. Go to {{WEBSITE_URL}}.\\n2. Identify the specific content you want to report.\\n3. Click on the {{REPORT_SECTION}} section which is typically located near the content (indicated by a {{FLAG_ICON}}).\\n4. From the menu, select the {{REPORT_INAPPROPRIATE_CONTENT_OPTION}} option.\\n5. Pick the relevant reason for your report from the available choices.\\n6. If applicable, add any further details that could assist the review team and submit your report.\\n\\nOur dedicated team will evaluate the report and take appropriate action in accordance with our community standards.',\n",
       " 'i found a case of fucking explicit cotent help me notifying it To report inappropriate content on our platform, please follow these steps:\\n\\n1. Visit {{WEBSITE_URL}}.\\n2. Identify the specific content you wish to report.\\n3. Click on the {{REPORT_SECTION}} section, typically located adjacent to the content (indicated by a {{FLAG_ICON}}).\\n4. Choose the {{REPORT_INAPPROPRIATE_CONTENT_OPTION}} option available in the drop-down menu.\\n5. Select the reason that best fits your report from the list provided.\\n6. If necessary, add any supplementary details required and proceed to submit your report.\\n\\nOur dedicated team will assess your notification and take appropriate measures as outlined in our community standards.',\n",
       " 'I have to submit a notification of copyright violation, can I get some help? To report a copyright violation, please adhere to the following steps:\\n\\n1. Access our official website at {{WEBSITE_URL}}.\\n2. Proceed to the {{COPYRIGHT_SECTION}} area.\\n3. Find and select the {{REPORT_COPYRIGHT_INFRINGEMENT_OPTION}} option.\\n4. Complete the necessary fields with accurate information regarding the infringement.\\n5. Submit the completed form for our evaluation.\\n\\nUpon submission, your report will be thoroughly assessed, and necessary actions will be executed according to our established guidelines.',\n",
       " 'i found  a case of copyright violation could ya help me report it To address copyright infringement, please follow the outlined steps below:\\n\\n1. Access our website by visiting {{WEBSITE_URL}}.\\n2. Go to the {{COPYRIGHT_SECTION}} section of the site.\\n3. Find and select the {{REPORT_COPYRIGHT_INFRINGEMENT_OPTION}} option available.\\n4. Complete the necessary fields with information regarding the infringement.\\n5. Submit your report for our evaluation.\\n\\nYour submission will be thoroughly assessed, and necessary actions will be implemented according to our established guidelines.',\n",
       " 'I found a case of fucking copyright infringement, will you help me submit a notification it? To report copyright infringement, please adhere to the following steps:\\n\\n1. Access our official website at {{WEBSITE_URL}}.\\n2. Proceed to the {{COPYRIGHT_SECTION}} section of the site.\\n3. Identify and select the {{REPORT_COPYRIGHT_INFRINGEMENT_OPTION}} option available.\\n4. Complete the necessary fields with relevant details about the infringement.\\n5. Once filled, submit the form for our evaluation.\\n\\nYour report will receive prompt attention, and necessary measures will be implemented in accordance with our established policies.',\n",
       " 'I want to notify of fuckihg copyright violation, where can I do it? To report copyright infringement, please adhere to the following steps:\\n\\n1. Access our official website at {{WEBSITE_URL}}.\\n2. Proceed to the {{COPYRIGHT_SECTION}} section.\\n3. Find and select the {{REPORT_COPYRIGHT_INFRINGEMENT_OPTION}} option.\\n4. Complete the necessary fields with information regarding the infringement.\\n5. Submit your report for our evaluation.\\n\\nYour submission will be thoroughly assessed, and necessary actions will be executed according to our established guidelines.',\n",
       " 'I want to notify of inappropiae content, where to do it? To address and report any inappropriate content you encounter on our platform, please adhere to the following procedure:\\n\\n1. Visit the website at {{WEBSITE_URL}}.\\n2. Identify the content that you deem inappropriate.\\n3. Click on the {{REPORT_SECTION}} option which is typically found in close proximity to the content (indicated by a {{FLAG_ICON}}).\\n4. From the dropdown menu, select the {{REPORT_INAPPROPRIATE_CONTENT_OPTION}} choice.\\n5. Indicate the most suitable reason for your report from the provided list.\\n6. Fill in any additional details that may enhance your report and proceed to submit it.\\n\\nOur moderation team will examine your report and will take the necessary steps in accordance with our community guidelines.',\n",
       " 'I have to report fucking inappropiate content, could I get some help? To report inappropriate content on our platform, please follow these steps:\\n\\n1. Visit {{WEBSITE_URL}} to begin the process.\\n2. Identify the specific content that you deem inappropriate.\\n3. Access the {{REPORT_SECTION}} area, which is typically found in close proximity to the content (indicated by a {{FLAG_ICON}}).\\n4. From the dropdown menu, select the {{REPORT_INAPPROPRIATE_CONTENT_OPTION}} option.\\n5. Indicate the most suitable reason for your report from the provided list.\\n6. Fill in any required details that may enhance your report and proceed to submit it.\\n\\nOur moderation team will examine your report and take appropriate actions in accordance with our community standards.',\n",
       " 'I got to report fucking copyright violation, I need help To address concerns regarding copyright infringement, please adhere to the following guidelines:\\n\\n1. Access our website at {{WEBSITE_URL}}.\\n2. Go to the {{COPYRIGHT_SECTION}} area.\\n3. Find and select the {{REPORT_COPYRIGHT_INFRINGEMENT_OPTION}} choice.\\n4. Complete the necessary fields, providing comprehensive details about the infringement.\\n5. Submit the completed form for our assessment.\\n\\nYour submission will be reviewed, and we will take the requisite steps in line with our policies.',\n",
       " \"I'd  like to notify of copyright infringement, where do I do it? To address copyright infringement, please adhere to the following steps:\\n\\n1. Access our official website at {{WEBSITE_URL}}.\\n2. Proceed to the {{COPYRIGHT_SECTION}} area.\\n3. Find and select the {{REPORT_COPYRIGHT_INFRINGEMENT_OPTION}} option.\\n4. Complete the necessary fields with accurate information regarding the infringement.\\n5. Submit the report for our evaluation.\\n\\nOnce we receive your submission, we will conduct a thorough review and ensure that appropriate measures are implemented in accordance with our established policies.\",\n",
       " 'I need to notify  of explicit content, where can I do it? To address and report any explicit content you encounter on our platform, please adhere to the following procedure:\\n\\n1. Visit the website at {{WEBSITE_URL}}.\\n2. Identify the specific content that you believe requires reporting.\\n3. Access the {{REPORT_SECTION}}, which is typically integrated near the content and symbolized by a {{FLAG_ICON}}.\\n4. From the dropdown menu, choose the {{REPORT_INAPPROPRIATE_CONTENT_OPTION}} option.\\n5. Select the reason that best fits the nature of your report from the presented choices.\\n6. If applicable, provide any extra details needed and submit your report.\\n\\nOur dedicated team will examine your submission and will act in accordance with our community standards.',\n",
       " 'I found a case of inappropiate content, is it possible to notify it? To report inappropriate content on our platform, please follow these steps:\\n\\n1. Visit {{WEBSITE_URL}} to access our services.\\n2. Identify the specific content you would like to report.\\n3. Click on the {{REPORT_SECTION}} option that can be found nearby the content (indicated by a {{FLAG_ICON}}).\\n4. From the dropdown menu, select the {{REPORT_INAPPROPRIATE_CONTENT_OPTION}} option available.\\n5. Determine the reason for your report from the provided list.\\n6. If there is any extra information that is necessary, please include it before submitting your report.\\n\\nOur moderation team will investigate your submission thoroughly and will act in accordance with our community standards.',\n",
       " 'i found a case of copyright violation will uhdlp me notify it To address copyright infringement, please adhere to the following procedures:\\n\\n1. Access our website at {{WEBSITE_URL}}.\\n2. Proceed to the {{COPYRIGHT_SECTION}} area.\\n3. Find and select the {{REPORT_COPYRIGHT_INFRINGEMENT_OPTION}} option.\\n4. Complete the necessary fields with accurate information regarding the infringement.\\n5. Submit the report for our evaluation.\\n\\nOnce we receive your submission, we will conduct a thorough review and ensure that appropriate measures are implemented in accordance with our established policies.',\n",
       " 'can I report copyrihgt infringement? To initiate a report regarding copyright infringement, please adhere to the following process:\\n\\n1. Access our official website at {{WEBSITE_URL}}.\\n2. Proceed to the {{COPYRIGHT_SECTION}} area.\\n3. Find and select the {{REPORT_COPYRIGHT_INFRINGEMENT_OPTION}} option.\\n4. Complete the necessary details concerning the infringement claim.\\n5. Submit the report for evaluation at our end.\\n\\nYour submission will be assessed, and we will undertake the required measures as per our established protocols.',\n",
       " 'what is considefed as fucking copyright violation? To report copyright infringement, please adhere to the following procedure:\\n\\n1. Access our official website at {{WEBSITE_URL}}.  \\n2. Proceed to the {{COPYRIGHT_SECTION}} area.  \\n3. Find and select the {{REPORT_COPYRIGHT_INFRINGEMENT_OPTION}} option.  \\n4. Complete the necessary fields, providing pertinent information regarding the infringement.  \\n5. Submit the completed form for our evaluation.\\n\\nOnce we receive your submission, we will conduct a thorough review and ensure that appropriate measures are implemented in accordance with our established policies.',\n",
       " 'i found a case of explicit content i need help reporting it To report any explicit content on our platform, please adhere to the following procedure:\\n\\n1. Go to {{WEBSITE_URL}}.\\n2. Identify the explicit content that you intend to report.\\n3. Click on the {{REPORT_SECTION}}, which is typically found in close proximity to the content (depicted by a {{FLAG_ICON}}).\\n4. From the options displayed, select the {{REPORT_INAPPROPRIATE_CONTENT_OPTION}}.\\n5. Indicate the reason for your report from the provided choices.\\n6. If prompted, fill in any additional details necessary and submit your report.\\n\\nOur dedicated team will thoroughly examine your report and take appropriate measures according to our community standards.',\n",
       " 'id like to notify of explicit content i need help To report inappropriate content on our platform, please adhere to the following procedures:\\n\\n1. Visit {{WEBSITE_URL}}.\\n2. Identify the specific content that concerns you.\\n3. Access the {{REPORT_SECTION}} which is typically located alongside the content (indicated by a {{FLAG_ICON}}).\\n4. From the menu, select the {{REPORT_INAPPROPRIATE_CONTENT_OPTION}} option.\\n5. Indicate the most relevant reason for your report from the available choices.\\n6. Fill in any additional required information and submit the report.\\n\\nOur moderation team will assess your report and take appropriate measures in accordance with our community standards.',\n",
       " 'I need to notify of fucking copyright infringement, how could I do it? To report copyright infringement, please follow these steps:\\n\\n1. Access our official website at {{WEBSITE_URL}}.\\n2. Proceed to the {{COPYRIGHT_SECTION}} area.\\n3. Find and click on the {{REPORT_COPYRIGHT_INFRINGEMENT_OPTION}} link.\\n4. Complete the necessary fields, providing specific details about the infringement.\\n5. Submit the completed form for our evaluation.\\n\\nOnce we receive your submission, we will thoroughly review your report and ensure that appropriate measures are implemented in accordance with our established policies.',\n",
       " 'i need assistance reporting fucking explicit content To report inappropriate content on our platform, please follow these steps:\\n\\n1. Visit {{WEBSITE_URL}}.\\n2. Find the content that you believe is inappropriate.\\n3. Click on the {{REPORT_SECTION}} section typically situated next to the content (indicated by a {{FLAG_ICON}}).\\n4. Choose the {{REPORT_INAPPROPRIATE_CONTENT_OPTION}} option from the dropdown menu.\\n5. Specify the most fitting reason for your report from the provided list.\\n6. Add any further details if necessary and submit your report.\\n\\nOur team is committed to reviewing reports and will take appropriate measures in line with our community standards.',\n",
       " 'I need to report inappropiate content, could you help me? To report inappropriate content on our platform, please adhere to the following protocol:\\n\\n1. Visit {{WEBSITE_URL}}.\\n2. Identify the specific content that you wish to report.\\n3. Click on the {{REPORT_SECTION}} section, typically located adjacent to the content (indicated by a {{FLAG_ICON}}).\\n4. Choose the {{REPORT_INAPPROPRIATE_CONTENT_OPTION}} option available in the drop-down menu.\\n5. Select the reason that best fits your report from the list provided.\\n6. If necessary, include any supplementary details required and proceed to submit your report.\\n\\nOur dedicated team will evaluate your submission and take appropriate measures as outlined in our community standards.',\n",
       " 'i found a case of fucking copyright infringement will uhelp  me notify it To report copyright infringement, please adhere to the following steps:\\n\\n1. Access our official website at {{WEBSITE_URL}}.\\n2. Proceed to the {{COPYRIGHT_SECTION}} section.\\n3. Find and select the {{REPORT_COPYRIGHT_INFRINGEMENT_OPTION}} option.\\n4. Complete the necessary fields with information regarding the infringement.\\n5. Submit your report for our evaluation.\\n\\nYour submission will be thoroughly assessed, and necessary actions will be executed according to our established guidelines.',\n",
       " \"I found a case of fucking copyright violation, I'd like to submit  a notification it To address allegations of copyright infringement, please adhere to the following procedure:\\n\\n1. Access our official website at {{WEBSITE_URL}}.\\n2. Proceed to the {{COPYRIGHT_SECTION}} area.\\n3. Identify and select the {{REPORT_COPYRIGHT_INFRINGEMENT_OPTION}} link.\\n4. Complete the necessary fields with accurate information regarding the infringement.\\n5. Submit the completed form for our assessment.\\n\\nYour submission will be thoroughly investigated, and we will take appropriate measures according to our established guidelines.\",\n",
       " 'could ya help me to submit a notification of fucking copyright infrinngement To initiate a copyright infringement report, please adhere to the following guidelines:\\n\\n1. Access our official website at {{WEBSITE_URL}}.\\n2. Find the {{COPYRIGHT_SECTION}} area on the site.\\n3. Click on the {{REPORT_COPYRIGHT_INFRINGEMENT_OPTION}} option available there.\\n4. Complete the form with all necessary information, detailing the infringement in question.\\n5. Once filled, submit the form for evaluation by our team.\\n\\nYour submission will be carefully assessed, and we will take the necessary action per our established policies.',\n",
       " 'is it possible to notify of ocpyright infringement? To report copyright infringement, please adhere to the following procedure:\\n\\n1. Access our official website at {{WEBSITE_URL}}.  \\n2. Proceed to the {{COPYRIGHT_SECTION}} area.  \\n3. Find and select the {{REPORT_COPYRIGHT_INFRINGEMENT_OPTION}} option.  \\n4. Complete the necessary fields, providing pertinent information regarding the infringement.  \\n5. Submit the completed form for our evaluation.\\n\\nOnce we receive your submission, we will conduct a thorough review and ensure that appropriate measures are implemented in accordance with our established policies.',\n",
       " \"I'd like to submit a notification of copyright infringement , could you help me? To address copyright infringement concerns, please proceed with the following steps:\\n\\n1. Access our official website at {{WEBSITE_URL}}.\\n2. Go to the {{COPYRIGHT_SECTION}} section for guidelines.\\n3. Select the {{REPORT_COPYRIGHT_INFRINGEMENT_OPTION}} option available.\\n4. Complete the necessary fields, detailing the infringement.\\n5. Submit your report for our evaluation.\\n\\nUpon submission, your report will be thoroughly assessed, and necessary actions will be implemented as per our policies.\",\n",
       " 'I have to submit a notification of copyright violation , I need assistance To initiate a report regarding copyright infringement, please adhere to the following guidelines:\\n\\n1. Access our official website at {{WEBSITE_URL}}.\\n2. Go to the {{COPYRIGHT_SECTION}} section for detailed information.\\n3. Find and select the {{REPORT_COPYRIGHT_INFRINGEMENT_OPTION}} option available.\\n4. Complete the necessary fields with accurate details concerning the infringement.\\n5. Submit your completed form for our evaluation.\\n\\nYour submission will be thoroughly assessed, and necessary actions will be executed according to our established guidelines.',\n",
       " 'i have to submit a notification ob copyright infringement will uhelp me To report copyright infringement, please follow these steps:\\n\\n1. Access our official website at {{WEBSITE_URL}}.\\n2. Proceed to the {{COPYRIGHT_SECTION}} area.\\n3. Find and click on the {{REPORT_COPYRIGHT_INFRINGEMENT_OPTION}} link.\\n4. Complete the necessary fields with information regarding the infringement.\\n5. Submit the completed form for our assessment.\\n\\nYour report will be thoroughly reviewed, and suitable measures will be enacted in compliance with our guidelines.',\n",
       " 'I have to submit a notification of explicit content, how could I do it? To report inappropriate content on our platform, please adhere to the following guidelines:\\n\\n1. Visit {{WEBSITE_URL}} to begin the process.\\n2. Identify the specific content that you deem inappropriate.\\n3. Access the {{REPORT_SECTION}} area, which is typically found in close proximity to the content (indicated by a {{FLAG_ICON}}).\\n4. From the dropdown menu, select the {{REPORT_INAPPROPRIATE_CONTENT_OPTION}} option.\\n5. Indicate the most suitable reason for your report from the provided list.\\n6. Fill in any required details that may enhance your report and proceed to submit it.\\n\\nOur moderation team will examine your submission and will take appropriate measures in accordance with our community standards.',\n",
       " 'I want to notify of fucking copyright infringement, how to do it ? To ensure your concerns regarding copyright infringement are addressed by a human representative, please adhere to the following instructions:\\n\\n1. Visit {{WEBSITE_URL}}.\\n2. Locate the {{CONTACT_US_SECTION}} section on the website.\\n3. Choose the option to engage in a conversation with a human agent.\\n4. Complete the necessary information and submit your inquiry.\\n\\nShould you require any additional assistance, please do not hesitate to ask.',\n",
       " 'I have to report inappropiate content, help me To report inappropriate content, please adhere to the following procedure:\\n\\n1. Go to our official website at {{WEBSITE_URL}}.\\n2. Find and select the {{REPORTING_SECTION}} area.\\n3. Click on the {{INAPPROPRIATE_CONTENT_REPORT_OPTION}} option provided.\\n4. Complete the necessary fields, ensuring to include specific information regarding the content in question.\\n5. Submit your report for our consideration.\\n\\nYour submission will be assessed, and actions will be taken in line with our guidelines.',\n",
       " 'i have to report copyright violation could i get some help To address copyright violations, please adhere to the following procedure:\\n\\n1. Access our official website at {{WEBSITE_URL}}.\\n2. Go to the {{COPYRIGHT_SECTION}} area.\\n3. Find and select the {{REPORT_COPYRIGHT_INFRINGEMENT_OPTION}} choice.\\n4. Complete the necessary fields, providing comprehensive details regarding the infringement.\\n5. Submit the completed form for our assessment.\\n\\nYour submission will be reviewed, and we will take the requisite steps in line with our policies.',\n",
       " 'I need help notifying of fucking copyright infringement To initiate a report for copyright infringement, please adhere to the following procedure:\\n\\n1. Go to our official website at {{WEBSITE_URL}}.\\n2. Find and select the {{COPYRIGHT_SECTION}} area.\\n3. Click on the {{REPORT_COPYRIGHT_INFRINGEMENT_OPTION}} link.\\n4. Provide the necessary details regarding the infringement in the form.\\n5. Submit your completed form for our examination.\\n\\nYour submission will be carefully assessed, and we will take appropriate measures in accordance with our established guidelines.',\n",
       " 'I got to submit a notification of inappropiate content, can I get some help? To report inappropriate content on our platform, please follow these steps:\\n\\n1. Visit the website at {{WEBSITE_URL}}.\\n2. Identify the content that you deem inappropriate.\\n3. Click on the {{REPORT_SECTION}} option which is typically found adjacent to the content (marked by a {{FLAG_ICON}}).\\n4. From the dropdown menu, choose the {{REPORT_INAPPROPRIATE_CONTENT_OPTION}} option.\\n5. Select the reason that best fits the nature of your report from the list provided.\\n6. If necessary, add any extra details that could assist in the review and submit your report.\\n\\nOur review team will examine your report and take appropriate measures in accordance with our community standards.',\n",
       " 'id like to submit a notiifcation of explicit content help me To report explicit content on our platform, please adhere to the following instructions:\\n\\n1. Visit {{WEBSITE_URL}}.\\n2. Identify the content that you wish to report.\\n3. Access the {{REPORT_SECTION}} area typically located adjacent to the content (indicated by a {{FLAG_ICON}}).\\n4. Choose the {{REPORT_INAPPROPRIATE_CONTENT_OPTION}} option available in the drop-down menu.\\n5. Select the reason that best fits your report from the list provided.\\n6. If necessary, include any supplementary details required and proceed to submit your report.\\n\\nOur dedicated team will evaluate your submission and take appropriate measures as outlined in our community standards.',\n",
       " 'i found a case of fucking copyright violation can uhelp me report it To address copyright infringement, please follow the outlined steps below:\\n\\n1. Access our website by visiting {{WEBSITE_URL}}.\\n2. Go to the {{COPYRIGHT_SECTION}} section of the site.\\n3. Find and select the {{REPORT_COPYRIGHT_INFRINGEMENT_OPTION}} option available.\\n4. Complete the necessary fields with information regarding the infringement.\\n5. Submit your report for our evaluation.\\n\\nWe appreciate your cooperation in this matter. Your report will receive prompt attention, and appropriate measures will be implemented in accordance with our established policies.',\n",
       " 'I found a case of fucking explicit content, could you help me to notify it? To report inappropriate content that violates our community standards, please follow the procedure outlined below:\\n\\n1. Visit {{WEBSITE_URL}} to access our platform.\\n2. Identify the specific content that you wish to report.\\n3. Look for the {{REPORT_SECTION}} section, which is typically indicated by a {{FLAG_ICON}} near the content.\\n4. Click on the {{REPORT_INAPPROPRIATE_CONTENT_OPTION}} from the available options in the menu.\\n5. Select the reason for your report from the list provided.\\n6. If necessary, add any relevant details that could assist in the review and submit your report.\\n\\nOur moderation team will examine your report and take appropriate action as per our established guidelines.',\n",
       " 'help me submitting a notificattion of copyright infringement To initiate a notification of copyright infringement, please adhere to the following steps:\\n\\n1. Access our official website at {{WEBSITE_URL}}.\\n2. Proceed to the {{COPYRIGHT_SECTION}} area.\\n3. Find and select the {{REPORT_COPYRIGHT_INFRINGEMENT_OPTION}} link.\\n4. Complete the necessary fields, providing comprehensive details of the infringement.\\n5. Submit the form for our assessment.\\n\\nYour submission will be thoroughly examined, and we will implement suitable measures in line with our established policies.',\n",
       " 'I got to report copyright violation, I ned help To report copyright infringement, please adhere to the following procedure:\\n\\n1. Access our official website at {{WEBSITE_URL}}.  \\n2. Proceed to the {{COPYRIGHT_SECTION}} area.  \\n3. Find and select the {{REPORT_COPYRIGHT_INFRINGEMENT_OPTION}} option.  \\n4. Complete the necessary fields, providing pertinent information regarding the infringement.  \\n5. Submit the completed form for our evaluation.\\n\\nOnce we receive your submission, we will conduct a thorough review and ensure that appropriate measures are implemented in accordance with our established policies.',\n",
       " 'can you help me reportung fucking copyright infringement? To initiate a report for copyright infringement, please adhere to the following steps:\\n\\n1. Access our official website at {{WEBSITE_URL}}.\\n2. Proceed to the {{COPYRIGHT_SECTION}} area of the site.\\n3. Find and select the {{REPORT_COPYRIGHT_INFRINGEMENT_OPTION}} link.\\n4. Provide the necessary details regarding the infringement in the form.\\n5. Submit your report for our assessment.\\n\\nOnce submitted, your report will be thoroughly reviewed, and we will take the necessary measures in alignment with our established policies.',\n",
       " 'I found a case of  inappropiate content, I need assistance to notify it To report inappropriate content on our platform, please follow these steps:\\n\\n1. Visit the website at {{WEBSITE_URL}}.\\n2. Identify the content that you believe violates our guidelines.\\n3. Click on the {{REPORT_SECTION}} section typically found next to the content (marked by a {{FLAG_ICON}}).\\n4. From the dropdown menu, choose the {{REPORT_INAPPROPRIATE_CONTENT_OPTION}} option.\\n5. Select the reason that best fits the nature of your report from the list provided.\\n6. If applicable, add any extra details needed and submit your report.\\n\\nOur team will investigate your submission thoroughly and will act in accordance with our community standards.',\n",
       " 'i got to notify of ffucking inappropiate content how could i do it To address inappropriate content observed on our platform, please adhere to the following instructions:\\n\\n1. Visit {{WEBSITE_URL}}.\\n2. Identify the relevant content that you intend to report.\\n3. Click on the {{REPORT_SECTION}}, which is typically located in proximity to the content and is denoted by a {{FLAG_ICON}}.\\n4. From the options presented, select the {{REPORT_INAPPROPRIATE_CONTENT_OPTION}}.\\n5. Indicate a suitable reason for the report from the available choices.\\n6. If necessary, enter any supplementary details required before submitting your report.\\n\\nOur dedicated team will examine your report and will take appropriate measures in accordance with our community standards.',\n",
       " 'id like to report copyrught infringement help me To address your concerns regarding copyright infringement, please adhere to the following guidelines:\\n\\n1. Access our website at {{WEBSITE_URL}}.\\n2. Go to the {{COPYRIGHT_SECTION}} area.\\n3. Find and select the {{REPORT_COPYRIGHT_INFRINGEMENT_OPTION}} choice.\\n4. Complete the necessary fields, providing comprehensive details about the infringement.\\n5. Submit the completed form for our assessment.\\n\\nYour submission will be reviewed, and we will take the requisite steps in line with our policies.',\n",
       " 'i have to submit a notificatoon of inappropiate content can ya help me To report inappropriate content on our platform, please follow these steps:\\n\\n1. Visit {{WEBSITE_URL}}.\\n2. Identify the specific content that you would like to bring to our attention.\\n3. Access the {{REPORT_SECTION}} area typically found adjacent to the content (indicated by a {{FLAG_ICON}}).\\n4. From the dropdown menu, select the {{REPORT_INAPPROPRIATE_CONTENT_OPTION}} option.\\n5. Indicate the most suitable reason for your report from the provided list.\\n6. Fill in any required details that may enhance your report and proceed to submit it.\\n\\nOur dedicated team will examine your report and take appropriate actions in accordance with our community standards.',\n",
       " 'wanna notify of inappropiate contentcould uhelp me To report inappropriate content on our platform, please adhere to the following process:\\n\\n1. Visit {{WEBSITE_URL}}.\\n2. Identify the specific content that you wish to report.\\n3. Access the {{REPORT_SECTION}} area typically located adjacent to the content (indicated by a {{FLAG_ICON}}).\\n4. Choose the {{REPORT_INAPPROPRIATE_CONTENT_OPTION}} option available in the drop-down menu.\\n5. Select the reason that best fits your report from the list provided.\\n6. If necessary, include any supplementary details required and proceed to submit your report.\\n\\nOur dedicated team will evaluate your submission and take appropriate measures as outlined in our community standards.',\n",
       " 'I would like to notify of fucking inappropiate content, where could I do it? To report inappropriate content on our platform, please follow these steps:\\n\\n1. Visit {{WEBSITE_URL}}.\\n2. Identify the specific content that you deem inappropriate.\\n3. Click on the {{REPORT_SECTION}} option which is typically found adjacent to the content (marked by a {{FLAG_ICON}}).\\n4. From the dropdown menu, choose the {{REPORT_INAPPROPRIATE_CONTENT_OPTION}} option.\\n5. Select the reason that best fits the nature of your report from the presented choices.\\n6. If necessary, provide any extra details needed and submit your report.\\n\\nOur team will investigate your notification thoroughly and will act in accordance with our community standards.',\n",
       " \"I'd like to reeport inappropiate content help me To report inappropriate content on our platform, please adhere to the following procedure:\\n\\n1. Go to {{WEBSITE_URL}}.\\n2. Identify the specific content that you believe is inappropriate.\\n3. Click on the {{REPORT_SECTION}}, which is typically found adjacent to the content (indicated by a {{FLAG_ICON}}).\\n4. From the menu, select the {{REPORT_INAPPROPRIATE_CONTENT_OPTION}} option.\\n5. Specify the most relevant reason for your report from the provided options.\\n6. Fill in any additional details requested and submit your report.\\n\\nOur moderation team will assess your report and take appropriate steps in accordance with our community standards.\",\n",
       " 'I want help rporting explicit content To report explicit content on our platform, please adhere to the following guidelines:\\n\\n1. Go to {{WEBSITE_URL}}.\\n2. Find the specific piece of content that concerns you.\\n3. Click on the {{REPORT_SECTION}} section which is typically located alongside the content (indicated by a {{FLAG_ICON}}).\\n4. From the menu, select the {{REPORT_INAPPROPRIATE_CONTENT_OPTION}} option.\\n5. Identify the relevant reason for your report from the available choices.\\n6. If applicable, include any additional details that could assist us in reviewing your report and proceed to submit it.\\n\\nOur dedicated team will assess your report and take appropriate action in accordance with our community standards.',\n",
       " 'I need to submit a notification of fucking copyright infringement , where do I do it? To report copyright infringement, please adhere to the following steps:\\n\\n1. Access our official website at {{WEBSITE_URL}}.\\n2. Proceed to the {{COPYRIGHT_SECTION}} section of the site.\\n3. Find and select the {{REPORT_COPYRIGHT_INFRINGEMENT_OPTION}} option available.\\n4. Complete the necessary fields with relevant details about the infringement.\\n5. Once filled, submit the form for our evaluation.\\n\\nYour report will receive prompt attention, and we will take the appropriate action in accordance with our established policies.',\n",
       " 'I got to notify of fucking copyright violation, I need help To formally report a copyright infringement, please adhere to the following guidelines:\\n\\n1. Access our website at {{WEBSITE_URL}}.\\n2. Proceed to the {{COPYRIGHT_SECTION}} section.\\n3. Find and select the {{REPORT_COPYRIGHT_INFRINGEMENT_OPTION}} option available.\\n4. Complete the requisite details, ensuring all information regarding the infringement is accurate.\\n5. Submit the completed form for our evaluation.\\n\\nOnce we receive your submission, we will conduct a thorough review and ensure that appropriate measures are implemented in accordance with our established policies.',\n",
       " 'I found a case of copyright violation, I need assistance to report it To initiate a report for copyright infringement, please follow the steps outlined below:\\n\\n1. Access our official website at {{WEBSITE_URL}}.\\n2. Go to the {{COPYRIGHT_SECTION}} section for detailed guidelines.\\n3. Find and select the {{REPORT_COPYRIGHT_INFRINGEMENT_OPTION}} option available.\\n4. Complete the necessary fields with accurate information regarding the infringement.\\n5. Submit your completed form for our evaluation.\\n\\nWe appreciate your cooperation in this matter. Your report will receive prompt attention, and appropriate measures will be implemented in accordance with our established policies.',\n",
       " 'I have to report fucking explicit content, how can I do it? To report inappropriate content on our platform, please adhere to the following protocol:\\n\\n1. Visit {{WEBSITE_URL}}.\\n2. Identify the specific content that you wish to report.\\n3. Access the {{REPORT_SECTION}}, which is typically found in close proximity to the content (depicted by a {{FLAG_ICON}}).\\n4. From the options displayed, select the {{REPORT_INAPPROPRIATE_CONTENT_OPTION}} choice.\\n5. Indicate the most relevant reason for your report from the options available.\\n6. Enter any additional comments or details required, and then proceed to submit your report.\\n\\nOur dedicated team will assess your report and implement any necessary actions in accordance with our community standards.',\n",
       " 'I need to submit a notification of fucking inappropiate content, where could I do it? To address inappropriate content observed on our platform, please adhere to the following instructions:\\n\\n1. Visit {{WEBSITE_URL}}.\\n2. Identify the relevant content that you intend to report.\\n3. Click on the {{REPORT_SECTION}}, typically found in proximity to the content (look for the {{FLAG_ICON}}).\\n4. Choose the {{REPORT_INAPPROPRIATE_CONTENT_OPTION}} from the available options in the menu.\\n5. Select the reason that best corresponds to your report from the choices provided.\\n6. If needed, offer any supplementary information to aid in your report and then submit.\\n\\nOur dedicated team will carefully assess your report and take appropriate measures in accordance with our community standards.',\n",
       " 'i got to report fucking copyright infringement where could i do it To address a case of copyright infringement, please adhere to the following steps:\\n\\n1. Access our official website at {{WEBSITE_URL}}.\\n2. Proceed to the {{COPYRIGHT_SECTION}} area.\\n3. Find and select the {{REPORT_COPYRIGHT_INFRINGEMENT_OPTION}} option.\\n4. Complete the necessary fields with accurate information regarding the infringement.\\n5. Submit the report for our evaluation.\\n\\nOnce we receive your submission, we will conduct a thorough review and ensure that appropriate measures are implemented in accordance with our established policies.',\n",
       " 'I found a case of fucking inappropiate content, can you help me notify it? To report inappropriate content, please adhere to the following guidelines:\\n\\n1. Navigate to our official website at {{WEBSITE_URL}}.\\n2. Click on the {{REPORT_SECTION}} section found on the homepage.\\n3. Select the {{INAPPROPRIATE_CONTENT_REPORT_OPTION}} option available in that section.\\n4. Complete the necessary fields with precise details of the content in question.\\n5. Submit your report for assessment by our team.\\n\\nYour submission will undergo a thorough review, and we will take action per our established policies.',\n",
       " 'I want to submit an notification of fucking inappropiate content, could I get some help? To report inappropriate content on our platform, please adhere to the following steps:\\n\\n1. Go to {{WEBSITE_URL}}.\\n2. Identify the content that you would like to report.\\n3. Access the {{REPORT_SECTION}} which is typically found adjacent to the content (indicated by a {{FLAG_ICON}}).\\n4. Choose the {{REPORT_INAPPROPRIATE_CONTENT_OPTION}} option from the available selections.\\n5. Indicate the most suitable reason for your report from the provided choices.\\n6. Fill in any additional details that may be necessary and submit your report.\\n\\nOur review team will examine your report and take appropriate measures in accordance with our community standards.',\n",
       " 'I would like to submit a notification of fucking inappropiate content, where could I do it? To report inappropriate content on our platform, please follow these steps:\\n\\n1. Visit {{WEBSITE_URL}}.\\n2. Identify the content you wish to report.\\n3. Click on the {{REPORT_SECTION}} section typically situated close to the content (represented by a {{FLAG_ICON}}).\\n4. From the dropdown menu, select the {{REPORT_INAPPROPRIATE_CONTENT_OPTION}} option.\\n5. Choose the reason that best reflects your concern from the available choices.\\n6. Fill in any additional comments or details as necessary before submitting your report.\\n\\nOur moderation team will investigate and act according to our standards and community policies.',\n",
       " 'I got to submit a notification of fucking inappropiate content, could I get some help ? To formally report inappropriate content, please adhere to the following protocol:\\n\\n1. Access our official website at {{WEBSITE_URL}}.\\n2. Find the {{INAPPROPRIATE_CONTENT_SECTION}} section.\\n3. Click on the {{REPORT_INAPPROPRIATE_CONTENT_OPTION}} option.\\n4. Provide the necessary details regarding the content in question.\\n5. Send the completed form for our assessment.\\n\\nYour submission will be reviewed promptly, and necessary actions will be executed per our established guidelines.',\n",
       " 'I got to notify of copyfight infringement, where can I do it? To report copyright infringement, please follow these steps:\\n\\n1. Access our official website at {{WEBSITE_URL}}.\\n2. Proceed to the {{COPYRIGHT_SECTION}} area.\\n3. Find and click on the {{REPORT_COPYRIGHT_INFRINGEMENT_OPTION}} link.\\n4. Complete the necessary fields with information regarding the infringement.\\n5. Submit the form for our consideration.\\n\\nYour submission will be assessed, and suitable measures will be taken in alignment with our policies.',\n",
       " 'I need to submit a notifiation of explicit content, where to do it? To report inappropriate content that you have encountered on our platform, please adhere to the following procedure:\\n\\n1. Visit {{WEBSITE_URL}}.\\n2. Find the specific content that you believe violates our guidelines.\\n3. Click on the {{REPORT_SECTION}}, which is typically represented by a {{FLAG_ICON}} adjacent to the content.\\n4. From the dropdown menu, select the {{REPORT_INAPPROPRIATE_CONTENT_OPTION}} option.\\n5. Identify the reason for your report from the available list of options.\\n6. If applicable, fill in any additional details that may enhance your report and proceed to submit it.\\n\\nOur moderation team will examine your report and will take appropriate measures as per our standards and regulations.',\n",
       " 'i got to submit a notification of fucking inappropiate content how to do it To report inappropriate content on our platform, please follow these steps:\\n\\n1. Visit {{WEBSITE_URL}}.\\n2. Identify the specific content that you wish to report.\\n3. Click on the {{REPORT_SECTION}} section, typically found adjacent to the content (marked by a {{FLAG_ICON}}).\\n4. From the dropdown menu, choose the {{REPORT_INAPPROPRIATE_CONTENT_OPTION}} option.\\n5. Select the reason that best fits the nature of your report from the presented choices.\\n6. If necessary, provide any additional details required and submit your report.\\n\\nOur team will diligently examine the report and take appropriate action in accordance with our established community standards.',\n",
       " 'where do I notify of fucking copyright violation? To formally report a copyright infringement, please adhere to the following procedure:\\n\\n1. Go to our official website at {{WEBSITE_URL}}.\\n2. Find and select the {{COPYRIGHT_SECTION}} area.\\n3. Click on the {{REPORT_COPYRIGHT_INFRINGEMENT_OPTION}} link.\\n4. Provide the necessary details regarding the infringement in the form.\\n5. Submit your completed form for our examination.\\n\\nYour submission will be thoroughly assessed, and we will take appropriate measures in accordance with our established guidelines.',\n",
       " 'i got to reporet fucking copyright infringement how can i do it To report copyright infringement, please follow these steps:\\n\\n1. Access our official website at {{WEBSITE_URL}}.\\n2. Proceed to the {{COPYRIGHT_SECTION}} area.\\n3. Find and click on the {{REPORT_COPYRIGHT_INFRINGEMENT_OPTION}} link.\\n4. Complete the necessary fields, providing specific information about the infringement.\\n5. Submit the completed report for our evaluation.\\n\\nOnce we receive your submission, we will thoroughly review it and take appropriate action in alignment with our established policies.',\n",
       " 'i found a case of copyright violation can uhelp me submit a notification it To address copyright infringement, please adhere to the following procedures:\\n\\n1. Access our website at {{WEBSITE_URL}}.\\n2. Proceed to the {{COPYRIGHT_SECTION}} area.\\n3. Find and select the {{REPORT_COPYRIGHT_INFRINGEMENT_OPTION}} option.\\n4. Complete the necessary fields with accurate information regarding the infringement.\\n5. Submit the completed form for our evaluation.\\n\\nYour submission will be thoroughly assessed, and we will implement necessary actions as per our guidelines.',\n",
       " \"I'd like to submit a notification of fucking copyright violation, will you help me? To address copyright infringement concerns, please proceed with the following steps:\\n\\n1. Access our official website at {{WEBSITE_URL}}.\\n2. Go to the {{COPYRIGHT_SECTION}} segment.\\n3. Find and select the {{REPORT_COPYRIGHT_INFRINGEMENT_OPTION}} option available.\\n4. Complete the necessary fields, detailing the infringement.\\n5. Submit your report for our evaluation.\\n\\nUpon submission, your report will be thoroughly assessed, and necessary actions will be executed according to our established guidelines.\",\n",
       " 'i got to report inappropiate content how do i do it To report inappropriate content on our platform, please adhere to the following protocol:\\n\\n1. Visit {{WEBSITE_URL}}.\\n2. Identify the specific content that you wish to report.\\n3. Click on the {{REPORT_SECTION}} link, typically located adjacent to the content (indicated by a {{FLAG_ICON}}).\\n4. Choose the {{REPORT_INAPPROPRIATE_CONTENT_OPTION}} option available in the drop-down menu.\\n5. Select the reason that best fits your report from the list provided.\\n6. If necessary, include any supplementary details required and proceed to submit your report.\\n\\nOur dedicated team will evaluate your submission and take appropriate measures as outlined in our community standards.',\n",
       " \"I'd like to notiufy of fucking explicit content To address concerns regarding inappropriate content on our platform, please adhere to the following procedure:\\n\\n1. Go to {{WEBSITE_URL}}.\\n2. Identify the specific content that you believe is inappropriate.\\n3. Click on the {{REPORT_SECTION}}, which is typically found in close proximity to the content (depicted by a {{FLAG_ICON}}).\\n4. From the options displayed, select the {{REPORT_INAPPROPRIATE_CONTENT_OPTION}} choice.\\n5. Indicate the most relevant reason for your report from the options available.\\n6. If necessary, furnish any additional details that may aid in your report and proceed to submit it.\\n\\nOur dedicated team will assess your report and take the appropriate measures in accordance with our community standards.\",\n",
       " \"I'd like to report fucking copyright infringement, where could I do it ? To address copyright infringement concerns, please follow the outlined steps below:\\n\\n1. Access our website by visiting {{WEBSITE_URL}}.\\n2. Go to the {{COPYRIGHT_SECTION}} section for relevant information.\\n3. Find and select the {{REPORT_COPYRIGHT_INFRINGEMENT_OPTION}} option provided.\\n4. Complete the necessary fields with information regarding the infringement.\\n5. Submit your report for our team's consideration.\\n\\nRest assured that your report will be thoroughly assessed, and we will take suitable action according to our established protocols.\",\n",
       " 'I have to report copyright infringement, where to do it? To address copyright infringement concerns, please adhere to the following instructions:\\n\\n1. Access our official website at {{WEBSITE_URL}}.\\n2. Proceed to the {{COPYRIGHT_SECTION}} area of the site.\\n3. Find and select the {{REPORT_COPYRIGHT_INFRINGEMENT_OPTION}} link.\\n4. Provide the necessary details regarding the infringement in the form.\\n5. Submit your report for our assessment.\\n\\nOnce submitted, your report will be thoroughly reviewed, and we will take the necessary measures in line with our established policies.',\n",
       " 'I would like to submit anotification of explicit content, can you help me? To report inappropriate content that you have encountered on our platform, please adhere to the following procedure:\\n\\n1. Visit {{WEBSITE_URL}}.\\n2. Find the specific content that you believe violates our guidelines.\\n3. Click on the {{REPORT_SECTION}}, which is typically represented by a {{FLAG_ICON}} adjacent to the content.\\n4. From the dropdown menu, select the {{REPORT_INAPPROPRIATE_CONTENT_OPTION}} option.\\n5. Identify the reason that best reflects your concern from the available choices.\\n6. If applicable, fill in any additional details that may enhance your report and proceed to submit it.\\n\\nOur moderation team will examine your report and will take appropriate measures as per our standards for community safety.',\n",
       " 'i have to submit a notification of copyright violation help me To address concerns regarding copyright infringement, please adhere to the following guidelines:\\n\\n1. Access our website at {{WEBSITE_URL}}.\\n2. Go to the {{COPYRIGHT_SECTION}} area.\\n3. Find and select the {{REPORT_COPYRIGHT_INFRINGEMENT_OPTION}} choice.\\n4. Complete the necessary fields, providing comprehensive details about the infringement.\\n5. Submit the completed form for our assessment.\\n\\nYour submission will be reviewed, and we will take the requisite steps in line with our policies.',\n",
       " \"I'd like to report fucking inappropiate content, I need assistance To report inappropriate content on our platform, please adhere to the following protocol:\\n\\n1. Visit {{WEBSITE_URL}}.\\n2. Identify the specific content that you wish to report.\\n3. Click on the {{REPORT_SECTION}} section, typically located adjacent to the content (indicated by a {{FLAG_ICON}}).\\n4. Choose the {{REPORT_INAPPROPRIATE_CONTENT_OPTION}} option available in the drop-down menu.\\n5. Select the reason that best fits your report from the list provided.\\n6. If necessary, include any supplementary details required and proceed to submit your report.\\n\\nOur dedicated team will evaluate your submission and take appropriate measures as outlined in our community standards.\",\n",
       " \"I'd like to submit a notification of fucking explicit content, where to do it? To report inappropriate content on our platform, please adhere to the following guidelines:\\n\\n1. Visit {{WEBSITE_URL}} to access the platform.\\n2. Identify the specific content that you deem inappropriate.\\n3. Click on the {{REPORT_SECTION}} option which is typically found adjacent to the content (marked by a {{FLAG_ICON}}).\\n4. From the dropdown menu, choose the {{REPORT_INAPPROPRIATE_CONTENT_OPTION}} option.\\n5. Select the reason that best fits the nature of your report from the presented choices.\\n6. If necessary, provide any extra details needed and submit your report.\\n\\nOur team will diligently examine the report and will act in accordance with our community standards.\",\n",
       " 'can uhelp me notify of explicit contnt To report inappropriate content on our platform, please follow these steps:\\n\\n1. Visit {{WEBSITE_URL}}.  \\n2. Identify the specific content that concerns you.  \\n3. Click on the {{REPORT_SECTION}}, which is typically represented by a {{FLAG_ICON}}.  \\n4. From the dropdown menu, select the {{REPORT_INAPPROPRIATE_CONTENT_OPTION}} option.  \\n5. Indicate the most suitable reason for your report from the available choices.  \\n6. Fill in any additional details that may assist in your report and submit it.\\n\\nOur dedicated team will assess your report and take appropriate action in accordance with our community standards.',\n",
       " 'i found a case of inppropiate content id like to report it To report inappropriate content on our platform, please adhere to the following guidelines:\\n\\n1. Visit {{WEBSITE_URL}} to begin the process.\\n2. Identify the specific content that you deem inappropriate.\\n3. Access the {{REPORT_SECTION}} area, which is typically found in close proximity to the content (indicated by a {{FLAG_ICON}}).\\n4. From the dropdown menu, select the {{REPORT_INAPPROPRIATE_CONTENT_OPTION}} option.\\n5. Indicate the most suitable reason for your report from the provided list.\\n6. Fill in any required details that may enhance your report and proceed to submit it.\\n\\nOur dedicated team will examine your report and take appropriate actions in accordance with our community standards.',\n",
       " 'need to notify of fucking explicit content how could i do i To report inappropriate content on our platform, please follow these steps:\\n\\n1. Visit {{WEBSITE_URL}}.\\n2. Identify the specific content that you wish to report.\\n3. Click on the {{REPORT_SECTION}} link, typically located adjacent to the content (indicated by a {{FLAG_ICON}}).\\n4. Choose the {{REPORT_INAPPROPRIATE_CONTENT_OPTION}} option available in the drop-down menu.\\n5. Select the reason that best fits your report from the list provided.\\n6. If necessary, add any supplementary details required and proceed to submit your report.\\n\\nOur dedicated team will assess your notification and take appropriate measures as outlined in our community standards.',\n",
       " 'i found a case of fvucking copyright infringement id like to report it To address copyright infringement, please follow the outlined procedure:\\n\\n1. Access our official website at {{WEBSITE_URL}}.\\n2. Proceed to the {{COPYRIGHT_SECTION}} area.\\n3. Find and select the {{REPORT_COPYRIGHT_INFRINGEMENT_OPTION}} option.\\n4. Complete the necessary fields with accurate information regarding the infringement.\\n5. Submit the report for our evaluation.\\n\\nOnce we receive your submission, we will conduct a thorough review and ensure that appropriate measures are implemented in accordance with our established policies.',\n",
       " 'i found a case of fucking explicit content can uhelp me to submit a notification of it To report inappropriate content, please follow these steps:\\n\\n1. Navigate to our official website at {{WEBSITE_URL}}.\\n2. Click on the {{REPORT_SECTION}} section found on the homepage.\\n3. Select the {{SUBMIT_INAPPROPRIATE_CONTENT_OPTION}} available in that section.\\n4. Complete the form with all necessary details regarding the content in question.\\n5. Submit your report for assessment by our team.\\n\\nYour submission will be carefully reviewed, and suitable action will be taken per our guidelines.',\n",
       " 'can i notify of copyright infringement To formally report any instances of copyright infringement, please adhere to the following procedures:\\n\\n1. Please access our official website at {{WEBSITE_URL}}.\\n2. Proceed to the {{COPYRIGHT_SECTION}} area.\\n3. Find and select the {{REPORT_COPYRIGHT_INFRINGEMENT_OPTION}} option.\\n4. Complete all necessary details regarding the infringement claim.\\n5. Submit the report for evaluation at our discretion.\\n\\nUpon submission, your report will undergo a thorough review process, and we will take necessary actions as per our established guidelines.',\n",
       " 'i found a case of copyright violation  is it possible to report it To address copyright infringement, please follow the outlined procedure below:\\n\\n1. Access our website by visiting {{WEBSITE_URL}}.\\n2. Go to the {{COPYRIGHT_SECTION}} section of the site.\\n3. Find and select the {{REPORT_COPYRIGHT_INFRINGEMENT_OPTION}} option available.\\n4. Complete the necessary fields with information regarding the infringement.\\n5. Submit your report for our evaluation.\\n\\nWe appreciate your cooperation in this matter. Your report will receive prompt attention, and we will take the appropriate action in accordance with our established policies.',\n",
       " 'need to notify of fucking copyright infringement where do i do it To address a case of copyright infringement, please adhere to the following steps:\\n\\n1. Access our official website at {{WEBSITE_URL}}.\\n2. Proceed to the {{COPYRIGHT_SECTION}} area.\\n3. Find and select the {{REPORT_COPYRIGHT_INFRINGEMENT_OPTION}} option.\\n4. Complete the necessary fields with accurate information regarding the infringement.\\n5. Submit the report for our evaluation.\\n\\nOnce we receive your submission, we will conduct a thorough review and ensure that appropriate measures are implemented in accordance with our established policies.',\n",
       " \"I need to submit a notificatipn of copyright infringement, how to do it? To initiate the process of reporting copyright infringement, please adhere to the following procedure:\\n\\n1. Access our website at {{WEBSITE_URL}}.\\n2. Proceed to the {{COPYRIGHT_SECTION}} area.\\n3. Find and select the {{REPORT_COPYRIGHT_INFRINGEMENT_OPTION}} link.\\n4. Complete the necessary fields with accurate information regarding the infringement.\\n5. Submit the notification for our team's assessment.\\n\\nYour submission will be thoroughly investigated, and we will take appropriate measures according to our established guidelines.\",\n",
       " 'I got to report fucking copyright infringement , I need help To address concerns regarding copyright infringement, please adhere to the following protocol:\\n\\n1. Access our official website at {{WEBSITE_URL}}.\\n2. Proceed to the {{COPYRIGHT_SECTION}} area.\\n3. Find and select the {{REPORT_COPYRIGHT_INFRINGEMENT_OPTION}} link.\\n4. Provide the necessary details regarding the infringement in the available fields.\\n5. Submit your report for our assessment.\\n\\nYour submission will be investigated thoroughly, and actions will be taken in line with our established policies.',\n",
       " 'i got to report fucking inappropiate content how could i do it To report inappropriate content on our platform, please follow these steps:\\n\\n1. Visit {{WEBSITE_URL}} to begin the process.\\n2. Identify the specific content that you deem inappropriate.\\n3. Access the {{REPORT_SECTION}} area, which is typically found in close proximity to the content (indicated by a {{FLAG_ICON}}).\\n4. From the dropdown menu, select the {{REPORT_INAPPROPRIATE_CONTENT_OPTION}} option.\\n5. Indicate the most suitable reason for your report from the provided list.\\n6. Fill in any required details that may enhance your report and proceed to submit it.\\n\\nOur moderation team will examine your report and take appropriate actions in accordance with our community standards.',\n",
       " 'can uhelp me ot submit a notification of copyright infringement To initiate the process of reporting copyright infringement, please adhere to the following guidelines:\\n\\n1. Access our official website at {{WEBSITE_URL}}.\\n2. Proceed to the {{COPYRIGHT_SECTION}} section on the site.\\n3. Identify and select the {{REPORT_COPYRIGHT_INFRINGEMENT_OPTION}} option provided.\\n4. Complete the necessary fields, including specifics relevant to the infringement.\\n5. Submit the completed form for our assessment.\\n\\nYour submission will be thoroughly reviewed, and necessary actions will be executed in line with our established protocols.',\n",
       " \"I found a case of copyright violation , I want to report it To initiate a report regarding copyright infringement, please adhere to the following guidelines:\\n\\n1. Access our official website at {{WEBSITE_URL}}.\\n2. Go to the {{COPYRIGHT_SECTION}} section for detailed information.\\n3. Find and select the {{REPORT_COPYRIGHT_INFRINGEMENT_OPTION}} option available.\\n4. Complete the necessary fields, ensuring you include all pertinent information about the infringement.\\n5. Send the completed form for our team's assessment.\\n\\nYour submission will be thoroughly investigated, and we will take appropriate measures according to our established policies.\",\n",
       " \"I would like to submit a notification of copyight infringement, I need help To initiate a copyright infringement report, please adhere to the following guidelines:\\n\\n1. Access our official website at {{WEBSITE_URL}}.\\n2. Find the {{COPYRIGHT_SECTION}} area on the site.\\n3. Click on the {{REPORT_COPYRIGHT_INFRINGEMENT_OPTION}} option available there.\\n4. Complete the form with all necessary information, detailing the infringement.\\n5. Submit your notification for our team's assessment.\\n\\nYour submission will be thoroughly reviewed, and we will take appropriate measures according to our established policies.\",\n",
       " \"i have to submit a notification of inappropiate content i need assistance To report inappropriate content, please adhere to the following guidelines:\\n\\n1. Access our platform at {{WEBSITE_URL}}.\\n2. Find the {{CONTENT_POLICY_SECTION}} section on the site.\\n3. Click on the {{SUBMIT_INAPPROPRIATE_CONTENT_REPORT_OPTION}} link provided.\\n4. Complete the form with all necessary details relevant to the content in question.\\n5. Submit the report for our team's consideration.\\n\\nYour submission will be reviewed diligently, and necessary measures will be implemented in accordance with our established protocols.\",\n",
       " 'I need to submit an notification of copyright infringement, will you help me? To address copyright infringement concerns, please proceed with the following steps:\\n\\n1. Access our official website at {{WEBSITE_URL}}.\\n2. Go to the {{COPYRIGHT_SECTION}} section for guidelines.\\n3. Select the {{REPORT_COPYRIGHT_INFRINGEMENT_OPTION}} option available.\\n4. Complete the necessary fields, detailing the infringement.\\n5. Submit your report for our evaluation.\\n\\nUpon submission, your report will be thoroughly assessed, and necessary actions will be implemented according to our established guidelines.',\n",
       " 'i foun a case of inappropiate content can ya help me notifying it To report inappropriate content on our platform, please follow these steps:\\n\\n1. Visit {{WEBSITE_URL}}.\\n2. Identify the specific content that you would like to bring to our attention.\\n3. Access the {{REPORT_SECTION}} area typically found adjacent to the content (indicated by a {{FLAG_ICON}}).\\n4. From the dropdown menu, select the {{REPORT_INAPPROPRIATE_CONTENT_OPTION}} option.\\n5. Indicate the most suitable reason for your report from the provided list.\\n6. Fill in any required details that may enhance your report and proceed to submit it.\\n\\nOur moderation team will examine your report and take appropriate actions in accordance with our community standards.',\n",
       " 'i have to report fucking inhappropiate content i need help To report inappropriate content, please adhere to the following guidelines:\\n\\n1. Access our platform at {{WEBSITE_URL}}.\\n2. Proceed to the {{CONTENT_POLICY_SECTION}} section.\\n3. Find and select the {{INAPPROPRIATE_CONTENT_REPORT_OPTION}} option.\\n4. Complete the necessary fields with pertinent information regarding the content.\\n5. Submit your report for our consideration.\\n\\nYour submission will be assessed, and actions will be taken in line with our standards and procedures.',\n",
       " 'i got to  submit a notification of fucking inappropiate content can i get some help To address the issue of inappropriate content on our platform, please adhere to the following process:\\n\\n1. Access {{WEBSITE_URL}}.\\n2. Identify the specific content you wish to report.\\n3. Click on the {{REPORT_SECTION}}, which is generally adjacent to the content (indicated by a {{FLAG_ICON}}).\\n4. From the dropdown menu, select the {{REPORT_INAPPROPRIATE_CONTENT_OPTION}} option.\\n5. Indicate the most fitting reason for your report from the provided selections.\\n6. If necessary, include any additional details and then submit your report.\\n\\nYour report will be reviewed by our team, and actions will be taken in accordance with our community standards.',\n",
       " 'I want to report explicit content, could I get some help? To report inappropriate content on our platform, please adhere to the following procedure:\\n\\n1. Go to {{WEBSITE_URL}}.\\n2. Identify the specific content that you believe is inappropriate.\\n3. Click on the {{REPORT_SECTION}}, which is typically found adjacent to the content (indicated by a {{FLAG_ICON}}).\\n4. From the menu, select the {{REPORT_INAPPROPRIATE_CONTENT_OPTION}} option.\\n5. Specify the most relevant reason for your report from the provided options.\\n6. Fill in any requested additional details and submit your report.\\n\\nOur moderation team will assess your report and take appropriate steps in accordance with our community standards.',\n",
       " 'I need to submit a notification of copyright violation, could I get some help? To assist you in contacting a human representative, please adhere to the following guidelines:\\n\\n1. Visit {{WEBSITE_URL}}.\\n2. Locate the {{CONTACT_US_SECTION}} section on the site.\\n3. Choose the option available to interact with a human agent.\\n4. Provide the necessary information and submit your inquiry.\\n\\nShould you require any additional assistance, do not hesitate to reach out.',\n",
       " \"I'd like to notify of fuckinng explicit content i need help To address and report any inappropriate content you encounter on our platform, please adhere to the following procedure:\\n\\n1. Visit the website at {{WEBSITE_URL}}.\\n2. Identify the content that you deem inappropriate.\\n3. Click on the {{REPORT_SECTION}} option which is typically found adjacent to the content (marked by a {{FLAG_ICON}}).\\n4. From the dropdown menu, choose the {{REPORT_INAPPROPRIATE_CONTENT_OPTION}} option.\\n5. Select the reason that best fits the nature of your report from the presented choices.\\n6. If necessary, provide any extra details that could assist in the review and submit your report.\\n\\nOur review team will examine your report and take appropriate measures in accordance with our community standards.\",\n",
       " \"I'd like to notify of fucking copyright infringement i need help To formally report copyright infringement, please adhere to the following protocol:\\n\\n1. Access our official website at {{WEBSITE_URL}}.\\n2. Proceed to the {{COPYRIGHT_SECTION}} area.\\n3. Find and select the {{REPORT_COPYRIGHT_INFRINGEMENT_OPTION}} link.\\n4. Provide the necessary details regarding the infringement in the available fields.\\n5. Submit your report for our assessment.\\n\\nUpon submission, your complaint will be reviewed, and we will take suitable measures as per our established guidelines.\",\n",
       " 'help me to notify of fucking inappropiate content To bring attention to inappropriate content on our platform, please adhere to the following steps:\\n\\n1. Go to {{WEBSITE_URL}}.\\n2. Identify the content that you find troubling.\\n3. Access the {{REPORT_SECTION}} typically situated near the content area (look for the {{FLAG_ICON}} symbol).\\n4. From the menu, select the {{REPORT_INAPPROPRIATE_CONTENT_OPTION}} option.\\n5. Indicate the most suitable reason for your report among the available choices.\\n6. If necessary, furnish any additional details required and submit your report.\\n\\nOur dedicated team will evaluate the report and take appropriate action in accordance with our community standards.',\n",
       " 'i found a case of fucking copyright violation i wanna submit a notification it To address copyright infringement, please adhere to the following procedure:\\n\\n1. Access our official website at {{WEBSITE_URL}}.\\n2. Proceed to the {{COPYRIGHT_SECTION}} area.\\n3. Find and select the {{REPORT_COPYRIGHT_INFRINGEMENT_OPTION}} option.\\n4. Complete the necessary fields with accurate information regarding the infringement.\\n5. Submit the documentation for our assessment.\\n\\nOnce we receive your submission, we will conduct a thorough evaluation and ensure that appropriate measures are implemented in accordance with our established policies.',\n",
       " \"I'd like to report inappropiate conten i need help To report inappropriate content on our platform, please adhere to the following procedure:\\n\\n1. Go to {{WEBSITE_URL}}.\\n2. Identify the specific content that you believe is inappropriate.\\n3. Click on the {{REPORT_SECTION}}, which is typically found adjacent to the content (indicated by a {{FLAG_ICON}}).\\n4. From the menu, select the {{REPORT_INAPPROPRIATE_CONTENT_OPTION}} option.\\n5. Specify the most relevant reason for your report from the provided options.\\n6. Fill in any additional details requested and submit your report.\\n\\nOur moderation team will assess your report and take appropriate steps in accordance with our community standards.\",\n",
       " 'need to submit az notification of copyright infringement can i get some help To report a copyright infringement issue, please adhere to the following procedures:\\n\\n1. Access our website at {{WEBSITE_URL}}.\\n2. Proceed to the {{COPYRIGHT_SECTION}} area.\\n3. Find and select the {{REPORT_COPYRIGHT_INFRINGEMENT_OPTION}} option.\\n4. Complete the necessary fields with accurate information regarding the infringement.\\n5. Submit the completed form for our evaluation.\\n\\nYour submission will be assessed promptly, and we will implement necessary actions as per our guidelines.',\n",
       " 'how do i report fucking inappropiate content To address and report inappropriate content on our platform, please adhere to the following instructions:\\n\\n1. Go to {{WEBSITE_URL}}.\\n2. Identify the content that you find troubling.\\n3. Access the {{REPORT_SECTION}} typically situated near the content area (look for the {{FLAG_ICON}} symbol).\\n4. From the menu, select the {{REPORT_INAPPROPRIATE_CONTENT_OPTION}} option.\\n5. Indicate the most suitable reason for your report among the available choices.\\n6. If necessary, furnish any additional details required and proceed to submit your report.\\n\\nOur dedicated team will evaluate your notification and take appropriate measures in accordance with our community standards.',\n",
       " 'i got to submit a notification of fucking cppyright infringement could ya help me To initiate the process of reporting copyright infringement, please adhere to the following procedure:\\n\\n1. Access our official website at {{WEBSITE_URL}}.\\n2. Proceed to the {{COPYRIGHT_SECTION}} area of the website.\\n3. Identify and select the {{REPORT_COPYRIGHT_INFRINGEMENT_OPTION}} choice.\\n4. Complete the necessary fields, providing comprehensive details regarding the infringement.\\n5. Submit your report for our assessment.\\n\\nOnce you have submitted your report, it will undergo a thorough evaluation, and we will take the necessary actions in line with our established guidelines.',\n",
       " 'I found a case of fucking inappropiate content, could you help me notify it? To report inappropriate content on our platform, please adhere to the following procedure:\\n\\n1. Visit {{WEBSITE_URL}}.\\n2. Identify the specific content that you wish to report.\\n3. Click on the {{REPORT_SECTION}} section typically situated close to the content (represented by a {{FLAG_ICON}}).\\n4. From the dropdown menu, select the {{REPORT_INAPPROPRIATE_CONTENT_OPTION}} option.\\n5. Choose the reason that best reflects your concern from the available choices.\\n6. If applicable, provide any further details that may assist us and submit your report.\\n\\nOur team will examine the issue raised and take appropriate measures in compliance with our community standards.',\n",
       " 'wanna report inappropiate content were could i do it To report inappropriate content on our platform, please follow these steps:\\n\\n1. Visit {{WEBSITE_URL}} to begin.\\n2. Identify the specific content that you wish to report.\\n3. Access the {{REPORT_SECTION}} area typically located adjacent to the content (indicated by a {{FLAG_ICON}}).\\n4. Choose the {{REPORT_INAPPROPRIATE_CONTENT_OPTION}} option available in the drop-down menu.\\n5. Select the reason that best fits your report from the list provided.\\n6. If necessary, add any supplementary details required and proceed to submit your report.\\n\\nOur dedicated team will evaluate your submission and take appropriate measures as outlined in our community standards.',\n",
       " 'i found a case of fucking copyright violation could uhelp me reporting it To address copyright infringement, please follow the outlined steps below:\\n\\n1. Access our website by visiting {{WEBSITE_URL}}.\\n2. Go to the {{COPYRIGHT_SECTION}} section of the site.\\n3. Find and select the {{REPORT_COPYRIGHT_INFRINGEMENT_OPTION}} option available.\\n4. Complete the necessary fields with information regarding the infringement.\\n5. Submit your report for our evaluation.\\n\\nWe appreciate your cooperation in this matter. Your report will receive prompt attention, and we will take the appropriate action in accordance with our established policies.',\n",
       " 'wanna notify of fucking explicit content where to do it To report inappropriate content on our platform, please adhere to the following procedure:\\n\\n1. Go to {{WEBSITE_URL}}.\\n2. Identify the specific content that you believe is inappropriate.\\n3. Click on the {{REPORT_SECTION}}, which is typically found adjacent to the content (indicated by a {{FLAG_ICON}}).\\n4. From the menu, select the {{REPORT_INAPPROPRIATE_CONTENT_OPTION}} option.\\n5. Specify the most relevant reason for your report from the provided options.\\n6. Fill in any requested additional details and submit your report.\\n\\nOur moderation team will assess your report and take appropriate steps in accordance with our community standards.',\n",
       " 'I want to report fucking copyright violation, how do I do it? To ensure your concerns are addressed by a human representative, please complete the following steps:\\n\\n1. Visit {{WEBSITE_URL}}.\\n2. Locate the {{CONTACT_US_SECTION}} section on the site.\\n3. Choose the option to engage in a chat with a human agent.\\n4. Provide the necessary information as prompted and submit your inquiry.\\n\\nShould you require any additional assistance, please do not hesitate to reach out.',\n",
       " 'I found a case of fucking copyright violation, would it be possible to notify it? To address copyright infringement concerns, please adhere to the following guidelines:\\n\\n1. Navigate to our official website at {{WEBSITE_URL}}.\\n2. Proceed to the {{COPYRIGHT_SECTION}} section of the site.\\n3. Identify and select the {{REPORT_COPYRIGHT_INFRINGEMENT_OPTION}} option available.\\n4. Complete the necessary fields with relevant details about the infringement.\\n5. Once completed, submit the form for our evaluation.\\n\\nYour report will receive thorough assessment, and appropriate measures will be implemented in accordance with our established policies.',\n",
       " 'where do i report fucking inappropiate content To report inappropriate content on our platform, please adhere to the following guidelines:\\n\\n1. Access {{WEBSITE_URL}}.\\n2. Identify the specific content that you wish to report.\\n3. Click on the {{REPORT_SECTION}} option, which is typically located adjacent to the content (look for the {{FLAG_ICON}} symbol).\\n4. From the menu that appears, select the {{REPORT_INAPPROPRIATE_CONTENT_OPTION}} choice.\\n5. Determine the most relevant reason for your report from the available selections.\\n6. If necessary, include any additional details that may assist in processing your report and proceed to submit it.\\n\\nOur dedicated team will evaluate your report and take appropriate measures in accordance with our community standards.',\n",
       " 'I got to submig a notification of copyright violation, could I get some help? To initiate the process of reporting copyright infringement, please adhere to the following procedure:\\n\\n1. Access our website at {{WEBSITE_URL}}.\\n2. Proceed to the {{COPYRIGHT_SECTION}} section.\\n3. Find and select the {{REPORT_COPYRIGHT_INFRINGEMENT_OPTION}} option available.\\n4. Complete the necessary fields with relevant information about the infringement.\\n5. Once filled, submit the form for our evaluation.\\n\\nYour report will receive thorough assessment, and necessary measures will be implemented in accordance with our established guidelines.',\n",
       " 'wanna report fucking copyright infringement where could i do it To initiate a report for copyright infringement, please adhere to the following guidelines:\\n\\n1. Access our official website at {{WEBSITE_URL}}.\\n2. Proceed to the {{COPYRIGHT_SECTION}} section of the site.\\n3. Identify and select the {{REPORT_COPYRIGHT_INFRINGEMENT_OPTION}} option provided.\\n4. Complete the necessary fields, including specifics relevant to the infringement.\\n5. Submit your completed form for our assessment.\\n\\nYour submission will be thoroughly reviewed, and necessary actions will be executed in line with our established protocols.',\n",
       " 'I want to report fucking explicit content , help me To report inappropriate content on our platform, please adhere to the following guidelines:\\n\\n1. Visit {{WEBSITE_URL}}.\\n2. Identify the specific content you intend to report.\\n3. Click on the {{REPORT_SECTION}} option, which is typically located adjacent to the content (look for the {{FLAG_ICON}} symbol).\\n4. From the menu that appears, select the {{REPORT_INAPPROPRIATE_CONTENT_OPTION}} choice.\\n5. Determine the most relevant reason for your report from the available selections.\\n6. If necessary, include any additional details that may assist in processing your report and proceed to submit it.\\n\\nOur dedicated team will evaluate your report and take appropriate measures in accordance with our community standards.',\n",
       " 'I want help notifying of fucking inappropiate content To report inappropriate content, please adhere to the following procedure:\\n\\n1. Go to our official website at {{WEBSITE_URL}}.\\n2. Find and select the {{INAPPROPRIATE_CONTENT_SECTION}} section.\\n3. Click on the {{REPORT_INAPPROPRIATE_CONTENT_OPTION}} option available.\\n4. Complete the form with all necessary details regarding the content in question.\\n5. Submit your report for our assessment.\\n\\nYour submission will be thoroughly reviewed, and actions will be initiated based on our standards and guidelines.',\n",
       " 'i found a case of fucking copyright violation could ya help me report it To address copyright infringement, please adhere to the following procedures:\\n\\n1. Access our website at {{WEBSITE_URL}}.\\n2. Proceed to the {{COPYRIGHT_SECTION}} area.\\n3. Find and select the {{REPORT_COPYRIGHT_INFRINGEMENT_OPTION}} option.\\n4. Complete the necessary fields with accurate information regarding the infringement.\\n5. Submit the report for our evaluation.\\n\\nOnce we receive your submission, we will conduct a thorough review and ensure that appropriate measures are implemented in accordance with our established policies.',\n",
       " 'where do Isubmit a notification of inappropiate content? To report any content that you find inappropriate on our platform, please adhere to the following steps:\\n\\n1. Visit {{WEBSITE_URL}}.\\n2. Identify the specific content you wish to report.\\n3. Click on the {{REPORT_SECTION}} link, typically located adjacent to the content (indicated by a {{FLAG_ICON}}).\\n4. Choose the {{REPORT_INAPPROPRIATE_CONTENT_OPTION}} option available in the drop-down menu.\\n5. Select the reason that best fits your report from the list provided.\\n6. If necessary, add any supplementary details required and proceed to submit your report.\\n\\nOur dedicated team will evaluate your submission and take appropriate measures as outlined in our community standards.',\n",
       " 'need to report inaprpopiate content how can i do it To report inappropriate content on our platform, please adhere to the following protocol:\\n\\n1. Visit {{WEBSITE_URL}}.\\n2. Identify the specific content that you wish to report.\\n3. Access the {{REPORT_SECTION}}, which is typically found in close proximity to the content (depicted by a {{FLAG_ICON}}).\\n4. From the options displayed, select the {{REPORT_INAPPROPRIATE_CONTENT_OPTION}} choice.\\n5. Indicate the most relevant reason for your report as outlined in the provided options.\\n6. If there is any extra information that is necessary, please include it before submitting your report.\\n\\nOur moderation team will investigate your submission thoroughly and will act in accordance with our community standards.',\n",
       " \"I'd lik to notify of fucking copyright violation can i get some help To address copyright infringement concerns, please proceed with the following steps:\\n\\n1. Access our official website at {{WEBSITE_URL}}.\\n2. Go to the {{COPYRIGHT_SECTION}} section for guidelines.\\n3. Select the {{REPORT_COPYRIGHT_INFRINGEMENT_OPTION}} option available.\\n4. Complete the necessary fields, detailing the infringement.\\n5. Submit your report for our evaluation.\\n\\nUpon submission, your report will be thoroughly assessed, and necessary actions will be implemented as per our policies.\",\n",
       " 'i got to report fuckig explicit content how could i do it To report inappropriate content on our platform, please follow these steps:\\n\\n1. Visit {{WEBSITE_URL}}.\\n2. Identify the specific content that you wish to report.\\n3. Access the {{REPORT_SECTION}} area typically located adjacent to the content (indicated by a {{FLAG_ICON}}).\\n4. Choose the {{REPORT_INAPPROPRIATE_CONTENT_OPTION}} option available in the drop-down menu.\\n5. Select the reason that best fits your report from the list provided.\\n6. If necessary, add any supplementary details required and proceed to submit your report.\\n\\nOur dedicated team will evaluate your submission and take appropriate measures as outlined in our community standards.',\n",
       " \"I'd like to report explicit content wher can i do it To address concerns related to inappropriate content on our platform, please adhere to the following process:\\n\\n1. Visit {{WEBSITE_URL}}.\\n2. Identify the specific content that you wish to report.\\n3. Access the {{REPORT_SECTION}} area typically located adjacent to the content (indicated by a {{FLAG_ICON}}).\\n4. Choose the {{REPORT_INAPPROPRIATE_CONTENT_OPTION}} option available in the drop-down menu.\\n5. Select the reason that best fits your report from the list provided.\\n6. If necessary, include any supplementary details required and proceed to submit your report.\\n\\nOur dedicated team will evaluate your submission and take appropriate measures as outlined in our community standards.\",\n",
       " 'I want to submit anotification of inappropiate content, how do I do it? To report inappropriate content on our platform, please follow these steps:\\n\\n1. Visit {{WEBSITE_URL}} to begin the reporting process.\\n2. Find the specific content that you believe violates our guidelines.\\n3. Click on the {{REPORT_SECTION}}, which is typically marked by a {{FLAG_ICON}} adjacent to the content.\\n4. From the dropdown menu, select the {{REPORT_INAPPROPRIATE_CONTENT_OPTION}} option.\\n5. Identify the reason for your report from the available list of options presented.\\n6. If necessary, include any additional details that may assist us in addressing the issue before submitting your report.\\n\\nOur dedicated team will carefully assess your report and take appropriate measures in accordance with our community standards.',\n",
       " 'i found a case of copyright violation is it possible to submit a notification it To address copyright infringement, please follow the outlined procedure:\\n\\n1. Access our official website at {{WEBSITE_URL}}.\\n2. Proceed to the {{COPYRIGHT_SECTION}} area.\\n3. Find and select the {{REPORT_COPYRIGHT_INFRINGEMENT_OPTION}} option.\\n4. Complete the necessary fields with accurate information regarding the infringement.\\n5. Submit the completed form for our evaluation.\\n\\nUpon submission, your report will be thoroughly assessed, and necessary actions will be executed according to our established guidelines.',\n",
       " 'can i report  explicit content To report explicit content on our platform, please follow these steps:\\n\\n1. Go to {{WEBSITE_URL}}.\\n2. Find the specific content that you believe is inappropriate.\\n3. Click on the {{REPORT_SECTION}} section typically situated next to the content (indicated by a {{FLAG_ICON}}).\\n4. Choose the {{REPORT_INAPPROPRIATE_CONTENT_OPTION}} option from the dropdown menu.\\n5. Specify the most fitting reason for your report from the provided list.\\n6. Add any further details if necessary and submit your report.\\n\\nOur team is committed to reviewing reports and will take appropriate measures in line with our community standards.',\n",
       " 'I need to notify of copyriht infringement, where to do it? To address a case of copyright infringement, please adhere to the following steps:\\n\\n1. Access our official website at {{WEBSITE_URL}}.\\n2. Proceed to the {{COPYRIGHT_SECTION}} area.\\n3. Find and select the {{REPORT_COPYRIGHT_INFRINGEMENT_OPTION}} option.\\n4. Complete the necessary fields with accurate information regarding the infringement.\\n5. Submit the report for our evaluation.\\n\\nOnce we receive your submission, we will conduct a thorough review and ensure that appropriate measures are implemented in accordance with our established policies.',\n",
       " 'need to report copyright infringement how to do it To report a case of copyright infringement, please adhere to the following procedure:\\n\\n1. Access our official website at {{WEBSITE_URL}}.\\n2. Proceed to the {{COPYRIGHT_SECTION}} area.\\n3. Find and select the {{REPORT_COPYRIGHT_INFRINGEMENT_OPTION}} option listed there.\\n4. Complete the necessary fields, providing comprehensive details of the infringement.\\n5. Submit the form for our assessment.\\n\\nYour submission will be thoroughly examined, and appropriate measures will be applied in line with our established policies.',\n",
       " 'I need to notify of inappropiate content, help me To report inappropriate content on our platform, please adhere to the following guidelines:\\n\\n1. Access {{WEBSITE_URL}}.\\n2. Identify the specific content that you wish to report.\\n3. Click on the {{REPORT_SECTION}} option, which is typically located adjacent to the content (look for the {{FLAG_ICON}} symbol).\\n4. From the provided menu, select the {{REPORT_INAPPROPRIATE_CONTENT_OPTION}} choice.\\n5. Indicate the reason for your report from the available options.\\n6. If applicable, enter any supplementary details required and finalize your report submission.\\n\\nOur dedicated team will assess your report and take appropriate steps in accordance with our community standards.',\n",
       " 'need to submit a notification of copyright infringement where could i do it To address a case of copyright infringement, please adhere to the following procedure:\\n\\n1. Access our official website at {{WEBSITE_URL}}.\\n2. Proceed to the {{COPYRIGHT_SECTION}} area.\\n3. Find and select the {{REPORT_COPYRIGHT_INFRINGEMENT_OPTION}} option.\\n4. Complete the necessary fields with accurate information regarding the infringement.\\n5. Submit the completed form for our evaluation.\\n\\nUpon submission, your report will be thoroughly assessed, and necessary actions will be executed according to our established guidelines.',\n",
       " 'I found a case of copyright infringement, I would like to submit a notification it To initiate a copyright infringement report, please adhere to the following guidelines:\\n\\n1. Navigate to our official website at {{WEBSITE_URL}}.\\n2. Proceed to the {{COPYRIGHT_SECTION}} page.\\n3. Find and select the {{REPORT_COPYRIGHT_INFRINGEMENT_OPTION}} option available there.\\n4. Complete the form with all necessary information, detailing the infringement in question.\\n5. Once filled, submit the form for evaluation by our team.\\n\\nYour submission will be carefully assessed, and we will take the necessary action per our established policies.',\n",
       " \"I would like to notify of inappropiate content , I need assistance To submit a report regarding inappropriate content, please adhere to the following guidelines:\\n\\n1. Access our official website at {{WEBSITE_URL}}.\\n2. Go to the {{CONTENT_REPORTING_SECTION}} section.\\n3. Select the {{REPORT_INAPPROPRIATE_CONTENT_OPTION}} option from the provided list.\\n4. Complete the necessary fields, detailing the nature of the inappropriate content.\\n5. Submit the report for our team's consideration.\\n\\nYour submission will be reviewed diligently, and necessary measures will be implemented in accordance with our established protocols.\",\n",
       " 'i found a case of inappropiate content could ya help me notifying it To report inappropriate content on our platform, please follow these steps:\\n\\n1. Visit {{WEBSITE_URL}} to begin the process.\\n2. Identify the specific content that you deem inappropriate.\\n3. Access the {{REPORT_SECTION}} area, which is typically located near the content and symbolized by a {{FLAG_ICON}}.\\n4. From the dropdown menu, choose the {{REPORT_INAPPROPRIATE_CONTENT_OPTION}} option.\\n5. Select the reason that best fits the nature of your report from the presented choices.\\n6. If applicable, provide any extra details needed and submit your report.\\n\\nOur team will diligently examine the issue raised and act in accordance with our community standards.',\n",
       " 'how can i notify of copyright violation To initiate a report regarding copyright infringement, please adhere to the following process:\\n\\n1. Access our official website at {{WEBSITE_URL}}.\\n2. Proceed to the {{COPYRIGHT_SECTION}} area.\\n3. Find and select the {{REPORT_COPYRIGHT_INFRINGEMENT_OPTION}} option.\\n4. Complete the necessary details concerning the infringement claim.\\n5. Submit the report for evaluation at our end.\\n\\nYour submission will be assessed, and we will undertake the required measures as per our established protocols.',\n",
       " 'I want to submit a notification of copyright violation, can you help me? To report a case of copyright infringement, please adhere to the following steps:\\n\\n1. Access our official website at {{WEBSITE_URL}}.\\n2. Proceed to the {{COPYRIGHT_SECTION}} area.\\n3. Find and select the {{REPORT_COPYRIGHT_INFRINGEMENT_OPTION}} option.\\n4. Complete the necessary fields with accurate information regarding the infringement.\\n5. Submit the completed form for our evaluation.\\n\\nUpon submission, your report will be thoroughly assessed, and necessary actions will be executed according to our established guidelines.',\n",
       " \"I'd like to notify of edxplicit content, help me To report any content that you find inappropriate on our platform, please adhere to the following steps:\\n\\n1. Visit {{WEBSITE_URL}}.\\n2. Identify the specific content you wish to report.\\n3. Click on the {{REPORT_SECTION}} link, typically located adjacent to the content (indicated by a {{FLAG_ICON}}).\\n4. Choose the {{REPORT_INAPPROPRIATE_CONTENT_OPTION}} option available in the drop-down menu.\\n5. Select the reason that best fits your report from the list provided.\\n6. If necessary, add any supplementary details required and proceed to submit your report.\\n\\nOur dedicated team will evaluate your submission and take appropriate measures as outlined in our community standards.\",\n",
       " \"I got to report fucking copyright viopation, help me To initiate a report regarding copyright infringement, please adhere to the following guidelines:\\n\\n1. Access our official website at {{WEBSITE_URL}}.\\n2. Proceed to the {{COPYRIGHT_SECTION}} section for detailed information.\\n3. Find and select the {{REPORT_COPYRIGHT_INFRINGEMENT_OPTION}} option available.\\n4. Complete the necessary fields, ensuring you include all pertinent details about the infringement.\\n5. Send the completed form for our team's assessment.\\n\\nYour submission will be thoroughly reviewed, and we will take appropriate measures according to our established policies.\",\n",
       " \"I'd like to notify fo fucking copyright violation where could i do it To address copyright infringement, please follow the outlined steps below:\\n\\n1. Access our website by visiting {{WEBSITE_URL}}.\\n2. Go to the {{COPYRIGHT_SECTION}} section of the site.\\n3. Find and select the {{REPORT_COPYRIGHT_INFRINGEMENT_OPTION}} option available.\\n4. Complete the necessary fields with information regarding the infringement.\\n5. Submit your report for our investigation.\\n\\nWe appreciate your cooperation in this matter. Your report will receive prompt attention, and we will take the appropriate action in accordance with our established policies.\",\n",
       " 'I got to notify of copyright infringement, how could I do it? To address a case of copyright infringement, please adhere to the following steps:\\n\\n1. Access our official website at {{WEBSITE_URL}}.\\n2. Proceed to the {{COPYRIGHT_SECTION}} area.\\n3. Find and select the {{REPORT_COPYRIGHT_INFRINGEMENT_OPTION}} option.\\n4. Complete the necessary fields with accurate information regarding the infringement.\\n5. Submit the completed form for our evaluation.\\n\\nUpon submission, your report will be thoroughly assessed, and necessary actions will be executed according to our established guidelines.',\n",
       " 'I have to notify of fucking copyright infringement, can I get some help? To report copyright infringement, please follow these steps:\\n\\n1. Access our official website at {{WEBSITE_URL}}.\\n2. Proceed to the {{COPYRIGHT_SECTION}} area.\\n3. Find and click on the {{REPORT_COPYRIGHT_INFRINGEMENT_OPTION}} link.\\n4. Complete the necessary fields with information regarding the infringement.\\n5. Submit the form for our consideration.\\n\\nYour submission will be assessed, and suitable measures will be taken in alignment with our policies.',\n",
       " 'i have to submit a notification of fucking copyright violation i need help To initiate a copyright infringement report, please adhere to the following steps:\\n\\n1. Access our official website at {{WEBSITE_URL}}.\\n2. Proceed to the {{COPYRIGHT_SECTION}} area.\\n3. Find and select the {{REPORT_COPYRIGHT_INFRINGEMENT_OPTION}} option.\\n4. Complete the necessary fields with accurate information regarding the infringement.\\n5. Submit the report for our evaluation.\\n\\nOnce we receive your submission, we will conduct a thorough review and ensure that appropriate measures are implemented in accordance with our established policies.',\n",
       " 'need to report fucking copyright violation can ya help me To address concerns regarding copyright infringement, please adhere to the following protocol:\\n\\n1. Access our official website at {{WEBSITE_URL}}.\\n2. Proceed to the {{COPYRIGHT_SECTION}} area.\\n3. Find and select the {{REPORT_COPYRIGHT_INFRINGEMENT_OPTION}} link.\\n4. Provide the necessary details regarding the infringement in the form.\\n5. Submit your report for our assessment.\\n\\nOnce submitted, your report will be thoroughly reviewed, and actions will be initiated in line with our established guidelines.',\n",
       " 'wanna report copyright infringement help me To initiate a copyright infringement report, please adhere to the following guidelines:\\n\\n1. Access our official website at {{WEBSITE_URL}}.\\n2. Find the {{COPYRIGHT_SECTION}} section on the site.\\n3. Click on the {{REPORT_COPYRIGHT_INFRINGEMENT_OPTION}} link to proceed.\\n4. Complete the necessary fields with information regarding the infringement.\\n5. Submit your completed form for our assessment.\\n\\nYour submission will be carefully reviewed, and we will take the required actions in line with our established policies.',\n",
       " 'I have to report copyright violation To formally address copyright infringement, please take the following steps:\\n\\n1. Access our official website at {{WEBSITE_URL}}.\\n2. Proceed to the {{COPYRIGHT_SECTION}} section.\\n3. Find and select the {{REPORT_COPYRIGHT_INFRINGEMENT_OPTION}} option available.\\n4. Provide the necessary details regarding the infringement in the designated fields.\\n5. Submit the completed form for our review and consideration.\\n\\nYour submission will be carefully assessed, and necessary actions will be executed in accordance with our governing policies.',\n",
       " 'i got to submit a noptification of fucking copyright infringement how could i do it To formally report copyright infringement, please adhere to the following protocol:\\n\\n1. Access our official website at {{WEBSITE_URL}}.\\n2. Find the {{COPYRIGHT_SECTION}} section on the homepage.\\n3. Click on the {{REPORT_COPYRIGHT_INFRINGEMENT_OPTION}} link available there.\\n4. Complete the necessary fields with accurate information regarding the infringement.\\n5. Send the completed form for our assessment.\\n\\nYour submission will be reviewed thoroughly, and we will take the necessary actions in alignment with our policies.',\n",
       " 'wanna submita notification of fucking explicit content To address concerns regarding inappropriate content on our platform, please adhere to the following procedure:\\n\\n1. Go to {{WEBSITE_URL}}.\\n2. Identify the specific content that you believe is inappropriate.\\n3. Click on the {{REPORT_SECTION}}, which is typically found adjacent to the content (indicated by a {{FLAG_ICON}}).\\n4. From the menu, select the {{REPORT_INAPPROPRIATE_CONTENT_OPTION}} to initiate your report.\\n5. Select the reason that best fits your report from the available options.\\n6. If necessary, provide any supplementary details required and proceed to submit your report.\\n\\nOur dedicated team will evaluate your submission and take the appropriate actions as guided by our community standards.',\n",
       " 'I have to notify of fucking explicit content , could you help me? To report inappropriate content on our platform, please follow these steps:\\n\\n1. Visit {{WEBSITE_URL}}.\\n2. Identify the specific content that you wish to report.\\n3. Click on the {{REPORT_SECTION}} section, typically located adjacent to the content (indicated by a {{FLAG_ICON}}).\\n4. Choose the {{REPORT_INAPPROPRIATE_CONTENT_OPTION}} option available in the drop-down menu.\\n5. Select the reason that best fits your report from the list provided.\\n6. If necessary, add any supplementary details required and proceed to submit your report.\\n\\nOur dedicated team will assess your notification and take appropriate measures as outlined in our community standards.',\n",
       " 'can I report fucking copyright infringement? To facilitate your communication with a customer service representative, please adhere to the following steps:\\n\\n1. Access the website at {{WEBSITE_URL}}.\\n2. Locate the {{CONTACT_US_SECTION}} area on the page.\\n3. Choose the option to engage with a human agent.\\n4. Complete the necessary information and submit your inquiry.\\n\\nIf you require additional assistance, do not hesitate to reach out.',\n",
       " 'i have to notify of explicit content can i get some help To report inappropriate content on our platform, please adhere to the following procedure:\\n\\n1. Go to {{WEBSITE_URL}}.\\n2. Identify the specific content that you believe is inappropriate.\\n3. Click on the {{REPORT_SECTION}}, which is typically found in close proximity to the content (depicted by a {{FLAG_ICON}}).\\n4. From the options displayed, select the {{REPORT_INAPPROPRIATE_CONTENT_OPTION}} choice.\\n5. Indicate the most relevant reason for your report from the options available.\\n6. If necessary, furnish any additional details requested and finalize your report submission.\\n\\nOur dedicated team will evaluate your report and take the necessary actions as per our established community standards.',\n",
       " 'i have to report fucking copyright violation could ya help me To initiate the process of reporting copyright infringement, please adhere to the following guidelines:\\n\\n1. Access our official website at {{WEBSITE_URL}}.\\n2. Direct yourself to the {{COPYRIGHT_SECTION}} area.\\n3. Find and select the {{REPORT_COPYRIGHT_INFRINGEMENT_OPTION}} option.\\n4. Complete the necessary fields with accurate information regarding the infringement.\\n5. Submit the report for our evaluation.\\n\\nOnce we receive your submission, it will be assessed promptly, and actions will be taken as stipulated in our guidelines.',\n",
       " 'i found a case of copyright infringement could i report it To facilitate a conversation with a customer service representative, please adhere to the following instructions:\\n\\n1. Visit {{WEBSITE_URL}}.\\n2. Locate the {{CONTACT_US_SECTION}} section on the site.\\n3. Choose the option for connecting with a customer service representative.\\n4. Provide the necessary information in the form and submit your inquiry.\\n\\nShould you have any additional inquiries, do not hesitate to reach out.',\n",
       " 'wanna report copyright infringementg i need help To initiate a report for copyright infringement, please adhere to the following instructions:\\n\\n1. Access our official website at {{WEBSITE_URL}}.\\n2. Proceed to the {{COPYRIGHT_SECTION}} area of the site.\\n3. Find and select the {{REPORT_COPYRIGHT_INFRINGEMENT_OPTION}} link.\\n4. Provide the necessary details regarding the infringement in the form.\\n5. Submit your report for our assessment.\\n\\nOnce submitted, your report will be thoroughly reviewed, and we will take the necessary measures in alignment with our established policies.',\n",
       " 'how could i notify of copyright infringement To initiate a report regarding copyright infringement, please adhere to the following instructions:\\n\\n1. Access our official website at {{WEBSITE_URL}}.\\n2. Proceed to the {{COPYRIGHT_SECTION}} area.\\n3. Find and select the {{REPORT_COPYRIGHT_INFRINGEMENT_OPTION}} option.\\n4. Complete the necessary details concerning the infringement claim.\\n5. Submit the report for evaluation at our discretion.\\n\\nYour submission will be assessed, and we will undertake the required measures as per our established protocols.',\n",
       " \"I'd like to submit a ntification of inappropiate content can uhelp me To report inappropriate content on our platform, please follow these guidelines:\\n\\n1. Visit {{WEBSITE_URL}} to begin the process.\\n2. Identify the specific content that you believe violates our standards.\\n3. Access the {{REPORT_SECTION}} section, typically found in close proximity to the content (indicated by a {{FLAG_ICON}}).\\n4. From the dropdown menu, select the {{REPORT_INAPPROPRIATE_CONTENT_OPTION}} option.\\n5. Indicate the most suitable reason for your report from the provided list.\\n6. Fill in any required details that may enhance your report and proceed to submit it.\\n\\nOur dedicated team will examine your report and take appropriate actions in accordance with our community policies.\",\n",
       " 'I got toreport fucking copyright violation, where could I do it? To report copyright infringement, please follow these steps:\\n\\n1. Access our official website at {{WEBSITE_URL}}.\\n2. Proceed to the {{COPYRIGHT_SECTION}} area.\\n3. Find and click on the {{REPORT_COPYRIGHT_INFRINGEMENT_OPTION}} link.\\n4. Complete the necessary fields with information regarding the infringement.\\n5. Submit the form for our consideration.\\n\\nYour submission will be assessed, and suitable measures will be taken in alignment with our policies.',\n",
       " 'i have to report copyright infringement  can uhelp me To address copyright infringement concerns, please adhere to the following guidelines:\\n\\n1. Access our website at {{WEBSITE_URL}}.\\n2. Go to the {{COPYRIGHT_SECTION}} area.\\n3. Find and select the {{REPORT_COPYRIGHT_INFRINGEMENT_OPTION}} choice.\\n4. Complete the necessary fields, providing comprehensive details regarding the infringement.\\n5. Submit the completed form for our assessment.\\n\\nYour submission will be reviewed, and we will take the requisite steps in line with our policies.',\n",
       " 'i need help notifying of copyright violation To initiate a report regarding copyright infringement, please adhere to the following procedures:\\n\\n1. Please access our official website at {{WEBSITE_URL}}.\\n2. Proceed to the {{COPYRIGHT_SECTION}} area.\\n3. Find and select the {{REPORT_COPYRIGHT_INFRINGEMENT_OPTION}} option.\\n4. Complete the necessary details concerning the infringement claim.\\n5. Submit the report for evaluation at our discretion.\\n\\nYour submission will be assessed, and we will undertake the required measures as per our established protocols.',\n",
       " 'i got to submit a notification of copyright violation how do i do it To report a copyright violation, please adhere to the following steps:\\n\\n1. Access our official website at {{WEBSITE_URL}}.\\n2. Proceed to the {{COPYRIGHT_SECTION}} area.\\n3. Find and select the {{REPORT_COPYRIGHT_INFRINGEMENT_OPTION}} option.\\n4. Complete the necessary fields with accurate information regarding the infringement.\\n5. Submit the completed form for our evaluation.\\n\\nUpon submission, your report will be thoroughly assessed, and necessary actions will be executed according to our established guidelines.',\n",
       " 'I need to report copyright violation, where could I di it? To ensure your concerns are addressed by a human representative, please complete the following steps:\\n\\n1. Visit {{WEBSITE_URL}}.\\n2. Locate the {{CONTACT_US_SECTION}} section on the site.\\n3. Choose the option to engage in a conversation with a human agent.\\n4. Provide the necessary information and submit your inquiry.\\n\\nIf you have additional questions or need further assistance, do not hesitate to reach out.',\n",
       " 'I got to notify of fucking copyright infringement, will you help me? To address a case of copyright infringement, please adhere to the following procedure:\\n\\n1. Access our official website at {{WEBSITE_URL}}.\\n2. Proceed to the {{COPYRIGHT_SECTION}} area.\\n3. Find and select the {{REPORT_COPYRIGHT_INFRINGEMENT_OPTION}} option.\\n4. Complete the necessary fields with accurate information regarding the infringement.\\n5. Submit the report for our evaluation.\\n\\nOnce we receive your submission, we will conduct a thorough review and ensure that appropriate measures are implemented in accordance with our established policies.',\n",
       " 'I found a case of explicit content, will youy help me submit a notification of it? To report explicit content on our platform, please adhere to the following steps:\\n\\n1. Visit {{WEBSITE_URL}}.\\n2. Identify the specific content you wish to report.\\n3. Click on the {{REPORT_SECTION}} section typically situated close to the content (represented by a {{FLAG_ICON}}).\\n4. From the dropdown menu, select the {{REPORT_INAPPROPRIATE_CONTENT_OPTION}} option.\\n5. Choose the reason that best reflects your concern from the available choices.\\n6. Fill in any additional comments or details as necessary before submitting your report.\\n\\nOur moderation team will investigate your submission thoroughly and will act in accordance with our community standards.',\n",
       " 'i got to submit a notification of fucking explicit content i need help To address and report any inappropriate content you encounter on our platform, please adhere to the following procedure:\\n\\n1. Visit the website at {{WEBSITE_URL}}.\\n2. Identify the content that you deem inappropriate.\\n3. Click on the {{REPORT_SECTION}} option which is typically found adjacent to the content (marked by a {{FLAG_ICON}}).\\n4. From the dropdown menu, choose the {{REPORT_INAPPROPRIATE_CONTENT_OPTION}} option.\\n5. Select the reason that best fits the nature of your report from the list provided.\\n6. If necessary, include any extra details that could assist in the review and submit your report.\\n\\nOur review team will examine your report and take appropriate measures in accordance with our community standards.',\n",
       " 'I would like to report copyirght infringement, where to do it? To facilitate your communication with a human representative, please proceed with the following instructions:\\n\\n1. Visit {{WEBSITE_URL}}.\\n2. Access the {{CONTACT_US_SECTION}} section of the website.\\n3. Choose the option to engage in a conversation with a human agent.\\n4. Provide the necessary information and submit your inquiry.\\n\\nIf you require any additional assistance, do not hesitate to reach out.',\n",
       " 'can you help me notifying of copyeight infringement? To formally report copyright infringement, please adhere to the following procedure:\\n\\n1. Access our official website at {{WEBSITE_URL}}.\\n2. Proceed to the {{COPYRIGHT_SECTION}} section found in the main menu.\\n3. Select the {{REPORT_COPYRIGHT_INFRINGEMENT_OPTION}} option presented there.\\n4. Complete the necessary fields, ensuring to include pertinent information regarding the infringement.\\n5. Submit the completed form for our assessment.\\n\\nUpon receipt, your report will be thoroughly reviewed, and suitable measures will be taken in accordance with our established procedures.',\n",
       " 'I want to report fucking copyright violation, how could I do it? To address a case of copyright infringement, please adhere to the following steps:\\n\\n1. Access our official website at {{WEBSITE_URL}}.\\n2. Proceed to the {{COPYRIGHT_SECTION}} area.\\n3. Find and select the {{REPORT_COPYRIGHT_INFRINGEMENT_OPTION}} option.\\n4. Complete the necessary fields with accurate information regarding the infringement.\\n5. Submit the report for our evaluation.\\n\\nOnce we receive your submission, we will conduct a thorough review and ensure that appropriate measures are implemented in accordance with our established policies.',\n",
       " 'i have to notify of inappropiate content can i get soome help To report inappropriate content on our platform, please follow these steps:\\n\\n1. Visit the website at {{WEBSITE_URL}}.\\n2. Identify the content that you deem inappropriate.\\n3. Click on the {{REPORT_SECTION}} option which is typically found adjacent to the content (marked by a {{FLAG_ICON}}).\\n4. From the dropdown menu, choose the {{REPORT_INAPPROPRIATE_CONTENT_OPTION}} option.\\n5. Select the reason that best fits the nature of your report from the list provided.\\n6. If necessary, add any extra details that could assist in the review and submit your report.\\n\\nOur review team will examine your report and take appropriate measures in accordance with our community standards.',\n",
       " \"I'd like to report fucking inappropiate content, can you help me? To report inappropriate content on our platform, please adhere to the following guidelines:\\n\\n1. Visit {{WEBSITE_URL}} to begin the process.\\n2. Identify the specific content that you deem inappropriate.\\n3. Access the {{REPORT_SECTION}} area, which is typically found in close proximity to the content (indicated by a {{FLAG_ICON}}).\\n4. From the dropdown menu, select the {{REPORT_INAPPROPRIATE_CONTENT_OPTION}} option.\\n5. Indicate the most suitable reason for your report from the provided list.\\n6. Fill in any additional details that may enhance your report and proceed to submit it.\\n\\nOur dedicated team will examine your report and take appropriate actions in accordance with our community standards.\",\n",
       " 'I need to submit a notification of fucking copyright violation, could I get some help? To address copyright infringement concerns, please adhere to the following guidelines:\\n\\n1. Navigate to our official website at {{WEBSITE_URL}}.\\n2. Proceed to the {{COPYRIGHT_SECTION}} section of the site.\\n3. Identify and select the {{REPORT_COPYRIGHT_INFRINGEMENT_OPTION}} option available.\\n4. Complete the necessary fields with relevant information about the infringement.\\n5. Once filled, submit the form for our assessment.\\n\\nYour report will receive prompt attention, and we will take necessary steps in compliance with our established policies.',\n",
       " 'wanna submit a notification of explicit content To report explicit content on our platform, please adhere to the following procedure:\\n\\n1. Go to {{WEBSITE_URL}}.\\n2. Find the specific piece of content that you wish to report.\\n3. Access the {{REPORT_SECTION}} which is typically located alongside the content (indicated by a {{FLAG_ICON}}).\\n4. From the menu, select the {{REPORT_INAPPROPRIATE_CONTENT_OPTION}} option.\\n5. Identify the relevant reason for your report from the available choices.\\n6. If applicable, include any additional details that could assist in the review process, and proceed to submit your report.\\n\\nOur moderation team will assess your report and take appropriate steps in accordance with our community standards.',\n",
       " 'I would like to report inappropiate content, could I get some help? To report inappropriate content on our platform, please adhere to the following guidelines:\\n\\n1. Visit {{WEBSITE_URL}} to begin the process.\\n2. Identify the specific content that you deem inappropriate.\\n3. Access the {{REPORT_SECTION}} area, which is typically found in close proximity to the content (indicated by a {{FLAG_ICON}}).\\n4. From the dropdown menu, select the {{REPORT_INAPPROPRIATE_CONTENT_OPTION}} option.\\n5. Indicate the most suitable reason for your report from the provided list.\\n6. Fill in any required details that may enhance your report and proceed to submit it.\\n\\nOur moderation team will examine your report and take appropriate actions in accordance with our community standards.',\n",
       " 'were to report inappropiate content? To facilitate the reporting of inappropriate content on our platform, please adhere to the following procedure:\\n\\n1. Visit {{WEBSITE_URL}}.\\n2. Identify the specific content you intend to report.\\n3. Access the {{REPORT_SECTION}} section generally available beside the content (indicated by a {{FLAG_ICON}}).\\n4. From the menu, choose the {{REPORT_INAPPROPRIATE_CONTENT_OPTION}} option.\\n5. Indicate the reason that best fits your reporting situation from the available choices.\\n6. If applicable, include any additional details that could assist in the review process, and proceed to submit your report.\\n\\nOur dedicated team will assess your report and take appropriate steps in accordance with our community standards.',\n",
       " 'i have to notify of fucking copyright infringement how od i do it To address copyright infringement, please adhere to the following procedures:\\n\\n1. Access our website at {{WEBSITE_URL}}.\\n2. Proceed to the {{COPYRIGHT_SECTION}} area.\\n3. Find and select the {{REPORT_COPYRIGHT_INFRINGEMENT_OPTION}} option.\\n4. Complete the necessary fields with accurate information regarding the infringement.\\n5. Submit the report for our evaluation.\\n\\nOnce we receive your submission, we will conduct a thorough review and ensure that appropriate measures are implemented in accordance with our established policies.',\n",
       " 'I got to report coyright infringement, help me To initiate a report for copyright infringement, please adhere to the following instructions:\\n\\n1. Access our official website at {{WEBSITE_URL}}.\\n2. Proceed to the {{COPYRIGHT_SECTION}} area of the site.\\n3. Find and select the {{REPORT_COPYRIGHT_INFRINGEMENT_OPTION}} link.\\n4. Provide the necessary details regarding the infringement in the available form.\\n5. Submit your report for our assessment.\\n\\nUpon submission, your complaint will be reviewed, and we will take suitable measures as per our established guidelines.',\n",
       " 'I got to notify of copyright violation, where to do it? To facilitate a conversation with a customer service representative, please adhere to the following instructions:\\n\\n1. Visit {{WEBSITE_URL}}.\\n2. Locate the {{CONTACT_US_SECTION}} section on the webpage.\\n3. Choose the option for connecting with a customer service representative.\\n4. Provide the necessary information in the form and submit your inquiry.\\n\\nShould you have any additional inquiries, do not hesitate to reach out.',\n",
       " 'could uhelp me toreport fucking copyright infringement To address concerns regarding copyright infringement, please adhere to the following guidelines:\\n\\n1. Access our website at {{WEBSITE_URL}}.\\n2. Go to the {{COPYRIGHT_SECTION}} area.\\n3. Find and select the {{REPORT_COPYRIGHT_INFRINGEMENT_OPTION}} choice.\\n4. Complete the necessary fields, providing comprehensive details about the infringement.\\n5. Submit the completed form for our assessment.\\n\\nYour submission will be reviewed, and we will take the requisite steps in line with our policies.',\n",
       " 'i have to submit a notification of fucking copyright violation could i get some help To properly assist you in connecting with a human representative, please adhere to the following instructions:\\n\\n1. Visit {{WEBSITE_URL}}.\\n2. Locate the {{CONTACT_US_SECTION}} section on the website.\\n3. Choose the option to engage in a conversation with a human agent.\\n4. Complete the necessary information and submit your inquiry.\\n\\nShould you require any additional assistance, please do not hesitate to ask.',\n",
       " \"I'd lke to notify of fucking copyright violation To formally report an incident of copyright infringement, please adhere to the following procedure:\\n\\n1. Access our official website at {{WEBSITE_URL}}.\\n2. Go to the {{COPYRIGHT_SECTION}} area.\\n3. Find and select the {{REPORT_COPYRIGHT_INFRINGEMENT_OPTION}} choice.\\n4. Complete the necessary fields, providing comprehensive details regarding the infringement.\\n5. Submit the completed form for our assessment.\\n\\nYour submission will be reviewed, and we will take the requisite steps in line with our policies.\",\n",
       " 'help me subhmit a notification of copyright violation To initiate a notification regarding copyright violation, please adhere to the following instructions:\\n\\n1. Access our official website at {{WEBSITE_URL}}.\\n2. Proceed to the {{COPYRIGHT_SECTION}} area of the site.\\n3. Find and select the {{REPORT_COPYRIGHT_INFRINGEMENT_OPTION}} link.\\n4. Provide the necessary details regarding the infringement in the available form.\\n5. Submit your completed form for our consideration.\\n\\nYour submission will undergo careful review, and we will take suitable measures in line with our established protocols.',\n",
       " 'I want help to report fucking copyright violation To initiate a report for copyright infringement, please adhere to the following procedure:\\n\\n1. Go to our official website at {{WEBSITE_URL}}.\\n2. Find and select the {{COPYRIGHT_SECTION}} area.\\n3. Click on the {{REPORT_COPYRIGHT_INFRINGEMENT_OPTION}} link.\\n4. Provide the necessary details regarding the infringement in the form.\\n5. Submit your completed form for our examination.\\n\\nYour submission will be carefully assessed, and we will take appropriate measures in accordance with our established guidelines.',\n",
       " 'i have to submit a notification of inappropiate content how do i do it To report inappropriate content on our platform, please follow these steps:\\n\\n1. Visit the website at {{WEBSITE_URL}}.\\n2. Identify the content that you deem inappropriate.\\n3. Click on the {{REPORT_SECTION}} option which is typically found adjacent to the content (marked by a {{FLAG_ICON}}).\\n4. From the dropdown menu, choose the {{REPORT_INAPPROPRIATE_CONTENT_OPTION}} option.\\n5. Select the reason that best fits the nature of your report from the list provided.\\n6. If necessary, add any extra details that could assist in the review and submit your report.\\n\\nOur review team will examine your report and take appropriate measures in accordance with our community standards.',\n",
       " 'how could i notify of inappropiate content To report inappropriate content on our platform, please adhere to the following procedures:\\n\\n1. Visit {{WEBSITE_URL}}.\\n2. Identify the specific content that you wish to report.\\n3. Click on the {{REPORT_SECTION}}, which is typically represented by a {{FLAG_ICON}} near the content.\\n4. From the menu, select the {{REPORT_INAPPROPRIATE_CONTENT_OPTION}} option.\\n5. Indicate the most relevant reason for your report from the available choices.\\n6. Fill in any additional required information and submit the report.\\n\\nOur moderation team will assess your report and take appropriate measures in accordance with our community guidelines.',\n",
       " 'I found a case of explicit content, will you help me to report it? To report inappropriate content on our platform, please adhere to the following guidelines:\\n\\n1. Visit {{WEBSITE_URL}} to begin the process.\\n2. Identify the specific content that you deem inappropriate.\\n3. Access the {{REPORT_SECTION}} area, which is typically found in close proximity to the content (indicated by a {{FLAG_ICON}}).\\n4. From the dropdown menu, select the {{REPORT_INAPPROPRIATE_CONTENT_OPTION}} option.\\n5. Indicate the most suitable reason for your report from the provided list.\\n6. Fill in any required details that may enhance your report and proceed to submit it.\\n\\nOur moderation team will examine your report and take appropriate actions in accordance with our community standards.',\n",
       " 'how can i report fucking copyrihgt infringement To facilitate a conversation with a customer support representative, please adhere to the following instructions:\\n\\n1. Visit {{WEBSITE_URL}}.\\n2. Locate the {{CONTACT_US_SECTION}} section on the site.\\n3. Choose the option for connecting with a customer support representative.\\n4. Provide the necessary information in the form and submit your inquiry.\\n\\nShould you have any additional inquiries, do not hesitate to reach out.',\n",
       " 'I need to report fuckinginappropiate content, where could I do it? To report inappropriate content on our platform, please follow these steps:\\n\\n1. Visit the website at {{WEBSITE_URL}}.\\n2. Identify the content that you believe violates our standards.\\n3. Click on the {{REPORT_SECTION}} section typically found next to the content (marked by a {{FLAG_ICON}}).\\n4. From the dropdown menu, choose the {{REPORT_INAPPROPRIATE_CONTENT_OPTION}} option.\\n5. Select the reason that best fits the nature of your report from the list provided.\\n6. If necessary, add any extra details that could assist in the review and submit your report.\\n\\nOur review team will examine your report and take appropriate measures as per our community guidelines.',\n",
       " 'need to report fuckinginappropiate content can i get some help To report inappropriate content on our platform, please adhere to the following guidelines:\\n\\n1. Visit {{WEBSITE_URL}} to begin the process.\\n2. Identify the specific content that you deem inappropriate.\\n3. Access the {{REPORT_SECTION}} area, which is typically found in close proximity to the content (indicated by a {{FLAG_ICON}}).\\n4. From the dropdown menu, select the {{REPORT_INAPPROPRIATE_CONTENT_OPTION}} option.\\n5. Indicate the most suitable reason for your report from the provided list.\\n6. Fill in any required details that may enhance your report and proceed to submit it.\\n\\nOur moderation team will examine your report and take appropriate actions in accordance with our community standards.',\n",
       " 'i have to submit a notification  of inappropiate content could ya help me To report inappropriate content on our platform, please follow these steps:\\n\\n1. Visit {{WEBSITE_URL}}.\\n2. Identify the specific content that you wish to report.\\n3. Click on the {{REPORT_SECTION}} section, typically found adjacent to the content (marked by a {{FLAG_ICON}}).\\n4. From the dropdown menu, choose the {{REPORT_INAPPROPRIATE_CONTENT_OPTION}} option.\\n5. Select the reason that best fits the nature of your report from the presented choices.\\n6. If necessary, provide any additional details required and submit your report.\\n\\nOur team will diligently examine the report and will act in accordance with our community standards.',\n",
       " 'i found a case of inappropiate content could uhelp me to notify it To report inappropriate content, please adhere to the following procedure:\\n\\n1. Access our platform at {{WEBSITE_URL}}.\\n2. Go to the {{CONTENT_POLICY_SECTION}} section.\\n3. Click on the {{SUBMIT_REPORT_OPTION}} link.\\n4. Provide the necessary details regarding the inappropriate content.\\n5. Submit your report for our assessment.\\n\\nYour submission will be investigated thoroughly, and necessary measures will be taken in alignment with our standards.',\n",
       " 'I found a case of fucking copyright violation, would it be possible to submit a notification it ? To report copyright infringement, please adhere to the following protocol:\\n\\n1. Access our official website at {{WEBSITE_URL}}.\\n2. Go to the {{COPYRIGHT_SECTION}} area of the site.\\n3. Find and select the {{REPORT_COPYRIGHT_INFRINGEMENT_OPTION}} link.\\n4. Complete the necessary fields with the pertinent information regarding the infringement.\\n5. Submit your completed form for our assessment.\\n\\nYour submission will be carefully reviewed, and we will take the necessary action per our established policies.',\n",
       " 'I would like to notifyof copyright violation, could you help me? To report a copyright violation, please adhere to the following steps:\\n\\n1. Access our official website at {{WEBSITE_URL}}.\\n2. Proceed to the {{COPYRIGHT_SECTION}} area.\\n3. Find and select the {{REPORT_COPYRIGHT_INFRINGEMENT_OPTION}} option.\\n4. Complete the necessary fields with accurate information regarding the infringement.\\n5. Submit the report for our evaluation.\\n\\nOnce we receive your submission, we will conduct a thorough review and ensure that appropriate measures are implemented in accordance with our established policies.',\n",
       " 'I got to submit a notification of fucking explicit content, could I get some help? To report inappropriate content on our platform, please follow these steps:\\n\\n1. Visit {{WEBSITE_URL}} to begin the process.\\n2. Identify the specific content that you deem inappropriate.\\n3. Access the {{REPORT_SECTION}} area, which is typically found in close proximity to the content (indicated by a {{FLAG_ICON}}).\\n4. From the dropdown menu, select the {{REPORT_INAPPROPRIATE_CONTENT_OPTION}} option.\\n5. Indicate the most suitable reason for your report from the provided list.\\n6. Fill in any additional details that may enhance your report and proceed to submit it.\\n\\nOur moderation team will examine your report and take appropriate actions in accordance with our community standards.',\n",
       " \"I got to submit a notification of fucking copyroght violation, help me To initiate a copyright infringement report, please adhere to the following guidelines:\\n\\n1. Access our official website at {{WEBSITE_URL}}.\\n2. Find the {{COPYRIGHT_SECTION}} area on the site.\\n3. Click on the {{REPORT_COPYRIGHT_INFRINGEMENT_OPTION}} option available there.\\n4. Complete the form with all necessary information, detailing the infringement.\\n5. Submit your notification for our team's assessment.\\n\\nYour submission will be thoroughly reviewed, and we will take appropriate measures according to our established policies.\",\n",
       " 'i have to report fucking explicit content could i get some help To report inappropriate content on our platform, please adhere to the following protocol:\\n\\n1. Visit {{WEBSITE_URL}}.\\n2. Identify the specific content that you wish to report.\\n3. Click on the {{REPORT_SECTION}} section, typically located adjacent to the content (indicated by a {{FLAG_ICON}}).\\n4. Choose the {{REPORT_INAPPROPRIATE_CONTENT_OPTION}} option available in the drop-down menu.\\n5. Select the reason that best fits your report from the list provided.\\n6. If necessary, include any supplementary details required and proceed to submit your report.\\n\\nOur dedicated team will evaluate your submission and take appropriate measures as outlined in our community standards.',\n",
       " 'id like to submit a notification of copyright violation will ya help me To address a copyright infringement issue, please follow the steps outlined below:\\n\\n1. Access our official website at {{WEBSITE_URL}}.\\n2. Go to the {{COPYRIGHT_SECTION}} section for detailed guidelines.\\n3. Find and select the {{REPORT_COPYRIGHT_INFRINGEMENT_OPTION}} option available.\\n4. Complete the necessary fields with accurate information regarding the infringement.\\n5. Submit your completed form for our investigation.\\n\\nWe appreciate your cooperation in this matter. Your report will receive prompt attention, and we will take necessary actions in compliance with our established policies.',\n",
       " 'I have to notidy of copyright violation To initiate a report for copyright infringement, please adhere to the following procedure:\\n\\n1. Go to our official website at {{WEBSITE_URL}}.\\n2. Find and select the {{COPYRIGHT_SECTION}} area.\\n3. Click on the {{REPORT_COPYRIGHT_INFRINGEMENT_OPTION}} link.\\n4. Provide the necessary details regarding the infringement in the form.\\n5. Submit your completed form for our examination.\\n\\nYour submission will be carefully assessed, and we will take appropriate measures in accordance with our established guidelines.',\n",
       " 'i got to report fucking copyright violation ho can i do it To report copyright infringement, please follow these steps:\\n\\n1. Access our official website at {{WEBSITE_URL}}.\\n2. Proceed to the {{COPYRIGHT_SECTION}} area.\\n3. Find and click on the {{REPORT_COPYRIGHT_INFRINGEMENT_OPTION}} link.\\n4. Complete the necessary fields with information regarding the infringement.\\n5. Submit the completed form for our assessment.\\n\\nYour report will be thoroughly reviewed, and suitable measures will be enacted in compliance with our guidelines.',\n",
       " \"i found an case of inappropiate content I'd like to notify it To notify us about inappropriate content on our platform, please adhere to the following steps:\\n\\n1. Access our website by visiting {{WEBSITE_URL}}.\\n2. Identify the specific content you wish to report.\\n3. Click on the {{REPORT_SECTION}} section, which can typically be found adjacent to the content (indicated by a {{FLAG_ICON}} icon).\\n4. From the menu, select the {{REPORT_INAPPROPRIATE_CONTENT_OPTION}} option.\\n5. Indicate the most suitable reason for your report from the available choices.\\n6. If necessary, provide any supplementary details required and proceed to submit your report.\\n\\nOur dedicated team will carefully assess your report and take appropriate measures in accordance with our community standards.\",\n",
       " 'i got to report inappropiate content were do i do it To report inappropriate content on our platform, please adhere to the following process:\\n\\n1. Visit {{WEBSITE_URL}}.\\n2. Identify the specific content that you wish to report.\\n3. Access the {{REPORT_SECTION}} area typically located adjacent to the content (indicated by a {{FLAG_ICON}}).\\n4. Choose the {{REPORT_INAPPROPRIATE_CONTENT_OPTION}} option available in the drop-down menu.\\n5. Select the reason that best fits your report from the list provided.\\n6. If necessary, include any supplementary details required and proceed to submit your report.\\n\\nOur dedicated team will evaluate your submission and take appropriate measures as outlined in our community standards.',\n",
       " 'i have to report fucking inappropiatecontent how to do it To report inappropriate content, please adhere to the following guidelines:\\n\\n1. Access our platform via {{WEBSITE_URL}}.\\n2. Proceed to the {{INAPPROPRIATE_CONTENT_SECTION}} section.\\n3. Identify and select the {{REPORT_INAPPROPRIATE_CONTENT_OPTION}} option.\\n4. Complete the necessary fields, detailing the nature of the inappropriate content.\\n5. Submit the report for our consideration.\\n\\nRest assured that your report will be thoroughly assessed, and we will take suitable action in line with our established protocols.',\n",
       " 'i found a case of fucking copyright infringement can ya submit a notification it To address copyright infringement, please adhere to the following procedures:\\n\\n1. Access our website at {{WEBSITE_URL}}.\\n2. Proceed to the {{COPYRIGHT_SECTION}} area.\\n3. Find and select the {{REPORT_COPYRIGHT_INFRINGEMENT_OPTION}} option.\\n4. Complete the necessary fields with accurate information regarding the infringement.\\n5. Submit the documentation for our assessment.\\n\\nOnce we receive your submission, we will conduct a thorough evaluation and ensure that appropriate measures are implemented in accordance with our established policies.',\n",
       " 'how can I report fucking  explicit content? To report inappropriate content on our platform, please follow these steps:\\n\\n1. Go to {{WEBSITE_URL}}.\\n2. Find the specific piece of content that you want to report.\\n3. Click on the {{REPORT_SECTION}} section, which is typically represented by a {{FLAG_ICON}} near the content.\\n4. From the menu, select the {{REPORT_INAPPROPRIATE_CONTENT_OPTION}} option.\\n5. Identify the most fitting reason for your report from the provided choices.\\n6. Fill in any additional details required and proceed to submit your report.\\n\\nOur moderation team will assess your submission and take appropriate measures in line with our community standards.',\n",
       " 'I would like to report explicit content, how can I do it ? To report explicit content on our platform, please adhere to the following steps:\\n\\n1. Go to {{WEBSITE_URL}}.\\n2. Find the specific content that you consider explicit.\\n3. Click on the {{REPORT_SECTION}} area usually positioned nearby the content (depicted by a {{FLAG_ICON}}).\\n4. From the options displayed, select the {{REPORT_INAPPROPRIATE_CONTENT_OPTION}} choice.\\n5. Indicate the most relevant reason for your report from the options available.\\n6. Enter any additional comments or details required and proceed to submit your report.\\n\\nOur dedicated team will evaluate your report and take appropriate measures as outlined in our community standards.',\n",
       " 'I want to report inappropiate content, how could I do it? To report inappropriate content on our platform, please adhere to the following process:\\n\\n1. Visit {{WEBSITE_URL}}.\\n2. Identify the specific content that you wish to report.\\n3. Access the {{REPORT_SECTION}} area typically located adjacent to the content (indicated by a {{FLAG_ICON}}).\\n4. Choose the {{REPORT_INAPPROPRIATE_CONTENT_OPTION}} option available in the drop-down menu.\\n5. Select the reason that best fits your report from the list provided.\\n6. If necessary, include any supplementary details required and proceed to submit your report.\\n\\nOur dedicated team will evaluate your submission and take appropriate measures as outlined in our community standards.',\n",
       " 'could ya help me notify of explicit contnet To report inappropriate content on our platform, please follow these steps:\\n\\n1. Visit {{WEBSITE_URL}}.\\n2. Find the specific content that you want to report.\\n3. Click on the {{REPORT_SECTION}} section, which is typically represented by a {{FLAG_ICON}} near the content.\\n4. From the menu, select the {{REPORT_INAPPROPRIATE_CONTENT_OPTION}} option.\\n5. Identify the most fitting reason for your report from the provided choices.\\n6. Enter any additional details that may be needed and submit your report.\\n\\nOur moderation team will assess your submission and take appropriate measures in line with our community standards.',\n",
       " 'I found a case of fucking inappropiate content, will you help me to report it? To address inappropriate content observed on our platform, please adhere to the following instructions:\\n\\n1. Visit {{WEBSITE_URL}}.\\n2. Identify the relevant content that you intend to report.\\n3. Click on the {{REPORT_SECTION}}, typically found in proximity to the content (look for the {{FLAG_ICON}}).\\n4. Choose the {{REPORT_INAPPROPRIATE_CONTENT_OPTION}} from the available options in the menu.\\n5. Select the reason that best corresponds to your report from the choices provided.\\n6. If needed, offer any supplementary information to aid in your report and then submit.\\n\\nOur dedicated team will carefully assess your report and take appropriate measures in accordance with our community standards.',\n",
       " 'help me report copyright infringemetn To initiate the process of reporting copyright infringement, please adhere to the following guidelines:\\n\\n1. Access our official website at {{WEBSITE_URL}}.\\n2. Find the {{COPYRIGHT_SECTION}} section on the homepage.\\n3. Click on the {{REPORT_COPYRIGHT_INFRINGEMENT_OPTION}} link to proceed.\\n4. Complete the necessary fields with information regarding the infringement in question.\\n5. Submit your completed form for our examination.\\n\\nYour submission will be carefully assessed, and we will take appropriate measures in accordance with our established policies.',\n",
       " 'i have to report explicit content i need assistance To effectively report any explicit content found on our platform, please adhere to the following guidelines:\\n\\n1. Access our website at {{WEBSITE_URL}}.\\n2. Identify the specific content that you believe is inappropriate.\\n3. Click on the {{REPORT_SECTION}} link typically positioned alongside the content (look for the {{FLAG_ICON}} symbol).\\n4. From the dropdown menu, select the {{REPORT_INAPPROPRIATE_CONTENT_OPTION}} option.\\n5. Indicate the reason for your report by choosing from the available options presented.\\n6. If necessary, include any additional comments or information and proceed with submitting your report.\\n\\nOur dedicated team will thoroughly examine your report and take the required actions in accordance with our established community standards.',\n",
       " 'I want to report explicit content, where can I do it? To address the issue of inappropriate content on our platform, please adhere to the following steps:\\n\\n1. Visit {{WEBSITE_URL}}.\\n2. Identify the specific content that you believe is inappropriate.\\n3. Access the {{REPORT_SECTION}} typically positioned alongside the content (look for the {{FLAG_ICON}} symbol).\\n4. From the dropdown menu, choose the {{REPORT_INAPPROPRIATE_CONTENT_OPTION}} option.\\n5. Indicate the reason for your report from the available categories.\\n6. Fill in any additional necessary details and submit your report.\\n\\nOur dedicated team will investigate the matter and take suitable action in accordance with our community standards.',\n",
       " 'I found an case of inappropiate content, can you help me submit a notification of it? To report inappropriate content on our platform, please adhere to the following steps:\\n\\n1. Go to {{WEBSITE_URL}}.\\n2. Identify the content that you would like to report.\\n3. Access the {{REPORT_SECTION}} which is typically positioned close to the content (indicated by a {{FLAG_ICON}}).\\n4. From the menu, choose the {{REPORT_INAPPROPRIATE_CONTENT_OPTION}} option.\\n5. Select the reason that best describes your report from the available choices.\\n6. If needed, include any additional information in the provided space before submitting your report.\\n\\nAfter your report has been submitted, our team will assess the situation and take appropriate actions in alignment with our community standards.',\n",
       " 'I need help to submit a notification of fucking inappropiate content To report inappropriate content on our platform, please adhere to the following protocol:\\n\\n1. Visit {{WEBSITE_URL}}.\\n2. Identify the specific content that you wish to report.\\n3. Access the {{REPORT_SECTION}}, which is typically found in close proximity to the content (depicted by a {{FLAG_ICON}}).\\n4. From the options displayed, select the {{REPORT_INAPPROPRIATE_CONTENT_OPTION}}.\\n5. Indicate the most relevant reason for your report from the available choices.\\n6. If necessary, provide any supplementary details required and proceed to submit your report.\\n\\nOur dedicated team will evaluate your submission and take appropriate measures as outlined in our community standards.',\n",
       " 'i found a case of explicit content can uhelp me submit a notification of it To report inappropriate content that you have encountered on our platform, please adhere to the following procedure:\\n\\n1. Visit {{WEBSITE_URL}}.\\n2. Find the specific content that you wish to report.\\n3. Click on the {{REPORT_SECTION}} section which is typically located in proximity to the content (look for the {{FLAG_ICON}} symbol).\\n4. From the dropdown menu, choose the {{REPORT_INAPPROPRIATE_CONTENT_OPTION}} option.\\n5. Identify the most relevant reason for your report from the available choices.\\n6. If necessary, provide any extra details that may aid in processing your report and submit it.\\n\\nYour report will be carefully reviewed by our team, and actions will be taken in accordance with our community standards.',\n",
       " 'I got to submit a notification of fucking explicit content , can you help me? To report inappropriate content on our platform, please follow these steps:\\n\\n1. Visit {{WEBSITE_URL}}.\\n2. Identify the specific content that you need to report.\\n3. Click on the {{REPORT_SECTION}} area, typically found in close proximity to the content (marked by a {{FLAG_ICON}}).\\n4. From the dropdown menu, select the {{REPORT_INAPPROPRIATE_CONTENT_OPTION}} option.\\n5. Choose the most relevant reason that applies to your report from the list provided.\\n6. Enter any additional details that may assist in your report and proceed to submit.\\n\\nOur moderation team will investigate and act according to our community standards.',\n",
       " 'i need assistance submitting a notification of fucking copyright violation To address a copyright infringement issue, please adhere to the following procedure:\\n\\n1. Access our official website at {{WEBSITE_URL}}.\\n2. Go to the {{COPYRIGHT_SECTION}} area.\\n3. Find and select the {{REPORT_COPYRIGHT_INFRINGEMENT_OPTION}} choice.\\n4. Complete the necessary fields, providing comprehensive details regarding the infringement.\\n5. Submit the completed form for our assessment.\\n\\nYour submission will be reviewed, and we will take the requisite steps in line with our policies.',\n",
       " \"i have to notify of fucking copyright infringemdnt where to do it To address copyright infringement, please adhere to the following procedure:\\n\\n1. Access our official website at {{WEBSITE_URL}}.\\n2. Go to the {{COPYRIGHT_SECTION}} area of the site.\\n3. Find and select the {{REPORT_COPYRIGHT_INFRINGEMENT_OPTION}} link.\\n4. Complete the required form with all pertinent information regarding the infringement.\\n5. Send in your submission for our team's assessment.\\n\\nYour submission will be thoroughly investigated, and necessary steps will be taken according to our established guidelines.\",\n",
       " 'how can i submit a notification ofexplicit content To submit a notification regarding explicit content on our platform, please adhere to the following steps:\\n\\n1. Go to {{WEBSITE_URL}}.\\n2. Identify the content that you find explicit and wish to report.\\n3. Click on the {{REPORT_SECTION}}, which is typically located near the content (indicated by a {{FLAG_ICON}}).\\n4. From the options presented, select the {{REPORT_INAPPROPRIATE_CONTENT_OPTION}} to initiate your report.\\n5. Select the reason that best fits your report from the available choices.\\n6. If necessary, provide any supplementary details required and proceed to submit your report.\\n\\nOur dedicated team will evaluate your submission and take appropriate measures as outlined in our community standards.',\n",
       " 'how can i submit an notification of fucking copyright violation To formally submit a notification of copyright infringement, please adhere to the following guidelines:\\n\\n1. Access our official website at {{WEBSITE_URL}}.\\n2. Proceed to the {{COPYRIGHT_SECTION}} section of the site.\\n3. Identify and select the {{REPORT_COPYRIGHT_INFRINGEMENT_OPTION}} option provided.\\n4. Complete the necessary fields, including specifics relevant to the infringement.\\n5. Submit the completed form for our evaluation.\\n\\nYour submission will be thoroughly assessed, and necessary actions will be executed in line with our established protocols.',\n",
       " 'id like to notify of fucking copyright violation can i get some hepl To properly address your copyright infringement notification, please follow these detailed steps:\\n\\n1. Visit the official website at {{WEBSITE_URL}}.\\n2. Locate the {{CONTACT_US_SECTION}} section on the homepage.\\n3. Choose the option that allows you to interact with a human agent.\\n4. Complete the necessary information in the form provided and submit your inquiry.\\n\\nShould you require any additional assistance, do not hesitate to reach out.',\n",
       " \"I'd like to submit a notification of copyright violation, how to do it? To report a copyright violation, please adhere to the following procedure:\\n\\n1. Access our official website at {{WEBSITE_URL}}.\\n2. Proceed to the {{COPYRIGHT_SECTION}} area.\\n3. Find and select the {{REPORT_COPYRIGHT_INFRINGEMENT_OPTION}} option.\\n4. Complete the necessary fields with accurate information regarding the infringement.\\n5. Submit the completed form for our assessment.\\n\\nYour submission will be thoroughly reviewed, and we will implement necessary actions as per our guidelines.\",\n",
       " 'I need to notify of coypright infringement To initiate the process of addressing your copyright infringement notification, please proceed with the following steps:\\n\\n1. Visit {{WEBSITE_URL}}.\\n2. Locate the {{CONTACT_US_SECTION}} area on the website.\\n3. Choose the provision to engage with a human representative.\\n4. Complete the necessary information and submit your inquiry.\\n\\nShould you have any additional inquiries, do not hesitate to ask.',\n",
       " 'I have to report fucking inappropiate content, how do I do it? To report inappropriate content on our platform, please adhere to the following guidelines:\\n\\n1. Visit {{WEBSITE_URL}} to begin the process.\\n2. Identify the specific content that you deem inappropriate.\\n3. Access the {{REPORT_SECTION}} area, which is typically found in close proximity to the content (indicated by a {{FLAG_ICON}}).\\n4. From the dropdown menu, select the {{REPORT_INAPPROPRIATE_CONTENT_OPTION}} option.\\n5. Indicate the most suitable reason for your report from the provided list.\\n6. Fill in any required details that may enhance your report and proceed to submit it.\\n\\nOur dedicated team will examine your report and take appropriate actions in accordance with our community standards.',\n",
       " 'need to submit an notification of fucking copyright infringement how do i do it To address copyright infringement concerns, please adhere to the following guidelines:\\n\\n1. Navigate to our official website at {{WEBSITE_URL}}.\\n2. Proceed to the {{COPYRIGHT_SECTION}} section of the site.\\n3. Find and select the {{REPORT_COPYRIGHT_INFRINGEMENT_OPTION}} option available.\\n4. Complete the necessary fields with relevant information about the infringement.\\n5. Once filled, submit the form for our assessment.\\n\\nYour report will receive prompt attention, and we will take necessary steps in compliance with our established policies.',\n",
       " 'id like to report copyright infringement will ya help me To address your concerns regarding copyright infringement, please adhere to the following guidelines:\\n\\n1. Access our website at {{WEBSITE_URL}}.\\n2. Go to the {{COPYRIGHT_SECTION}} area.\\n3. Find and select the {{REPORT_COPYRIGHT_INFRINGEMENT_OPTION}} choice.\\n4. Complete the necessary fields, providing comprehensive details about the infringement.\\n5. Submit the completed form for our assessment.\\n\\nOnce submitted, your report will be thoroughly reviewed, and we will take the necessary measures in line with our established policies.',\n",
       " 'I want to submit a notification of copyright infringement, where do I do it? To report a copyright infringement issue, please adhere to the following procedures:\\n\\n1. Access our website by visiting {{WEBSITE_URL}}.\\n2. Go to the {{COPYRIGHT_SECTION}} section found in the main menu.\\n3. Click on the {{REPORT_COPYRIGHT_INFRINGEMENT_OPTION}} option available there.\\n4. Complete the form with all necessary information, detailing the infringement in question.\\n5. Once filled, submit the form for evaluation by our team.\\n\\nYour report will be carefully assessed, and we will take the necessary action per our established policies.',\n",
       " \"id ilke to submit a notification of copyright violation how could i do it To submit a notification regarding copyright infringement, please proceed with the following steps:\\n\\n1. Access our official website at {{WEBSITE_URL}}.\\n2. Locate the {{COPYRIGHT_SECTION}} section on the homepage.\\n3. Click on the {{REPORT_COPYRIGHT_INFRINGEMENT_OPTION}} link provided.\\n4. Complete the necessary fields with accurate information regarding the infringement.\\n5. Submit your notification for our team's assessment.\\n\\nYour submission will be thoroughly reviewed, and we will take appropriate measures according to our established guidelines.\",\n",
       " 'help me reporting copyright infringement To initiate a report of copyright infringement, please adhere to the following instructions:\\n\\n1. Access our official website at {{WEBSITE_URL}}.\\n2. Proceed to the {{COPYRIGHT_SECTION}} section.\\n3. Find and select the {{REPORT_COPYRIGHT_INFRINGEMENT_OPTION}} option available.\\n4. Provide the necessary details regarding the infringement in the designated fields.\\n5. Submit the completed form for our review and assessment.\\n\\nYour submission will be carefully examined, and suitable actions will be taken in accordance with our established guidelines.',\n",
       " 'I found a cazse of copyright violation, help me notify it To initiate a report for copyright infringement, please follow the steps outlined below:\\n\\n1. Access our official website at {{WEBSITE_URL}}.\\n2. Go to the {{COPYRIGHT_SECTION}} section for detailed guidelines.\\n3. Find and select the {{REPORT_COPYRIGHT_INFRINGEMENT_OPTION}} option available.\\n4. Complete the necessary fields with accurate information regarding the infringement.\\n5. Submit your completed form for our investigation.\\n\\nWe appreciate your cooperation in this matter. Your report will receive prompt attention, and we will take the appropriate action in accordance with our established policies.',\n",
       " 'help me to submit a notificatin of inappropiate content To report inappropriate content on our platform, please adhere to the following procedure:\\n\\n1. Go to {{WEBSITE_URL}}.\\n2. Identify the specific content that you believe is inappropriate.\\n3. Click on the {{REPORT_SECTION}}, which is typically found adjacent to the content (indicated by a {{FLAG_ICON}}).\\n4. From the menu, select the {{REPORT_INAPPROPRIATE_CONTENT_OPTION}} option.\\n5. Specify the most relevant reason for your report from the provided options.\\n6. Fill in any additional details requested and submit your report.\\n\\nOur moderation team will assess your report and take appropriate steps in accordance with our community standards.',\n",
       " 'I found a case of copyright infringement , help me to notify it To initiate a report for copyright infringement, please follow the steps outlined below:\\n\\n1. Access our official website at {{WEBSITE_URL}}.\\n2. Go to the {{COPYRIGHT_SECTION}} section for detailed guidelines.\\n3. Find and select the {{REPORT_COPYRIGHT_INFRINGEMENT_OPTION}} option available.\\n4. Complete the necessary fields with accurate information regarding the infringement.\\n5. Submit your completed form for our investigation.\\n\\nWe appreciate your cooperation in this matter. Your report will receive prompt attention, and we will take the appropriate action in accordance with our established policies.',\n",
       " 'I need to report inappropiate content, will you help me? To report inappropriate content on our platform, please adhere to the following protocol:\\n\\n1. Visit {{WEBSITE_URL}}.\\n2. Identify the specific content that you wish to report.\\n3. Access the {{REPORT_SECTION}} which is typically found in proximity to the content (indicated by a {{FLAG_ICON}}).\\n4. Choose the {{REPORT_INAPPROPRIATE_CONTENT_OPTION}} option available in the drop-down menu.\\n5. Select the reason that best fits your report from the list provided.\\n6. If necessary, include any supplementary details required and proceed to submit your report.\\n\\nOur dedicated team will evaluate your submission and take appropriate measures as outlined in our community standards.',\n",
       " 'I want to report explicit contnet, could I get some help? To report explicit content, please adhere to the following protocol:\\n\\n1. Access our website at {{WEBSITE_URL}}.\\n2. Find the {{CONTENT_REPORTING_SECTION}} section in the main menu.\\n3. Select the {{REPORT_EXPLICIT_CONTENT_OPTION}} option available.\\n4. Complete the necessary fields, providing specific information regarding the content in question.\\n5. Submit your report for our consideration.\\n\\nYour submission will be thoroughly assessed, and we will take suitable measures in line with our established guidelines.',\n",
       " \"I'd like to report exlicit content, could you help me? To report inappropriate content on our platform, please adhere to the following protocol:\\n\\n1. Visit {{WEBSITE_URL}}.\\n2. Identify the content that you believe is inappropriate.\\n3. Access the {{REPORT_SECTION}} typically positioned adjacent to the content (look for the {{FLAG_ICON}} symbol).\\n4. Pick the {{REPORT_INAPPROPRIATE_CONTENT_OPTION}} from the dropdown list.\\n5. Indicate the most relevant cause for your report from the available selections.\\n6. Input any additional context that may assist us and finalize your report submission.\\n\\nOur dedicated team will assess your report and take appropriate steps in accordance with our community standards.\",\n",
       " 'need to suvmit a notification of fucking explicit content how do i do it To report inappropriate content on our platform, please follow these steps:\\n\\n1. Visit the website at {{WEBSITE_URL}}.\\n2. Identify the content that you deem inappropriate.\\n3. Click on the {{REPORT_SECTION}} option which is typically found adjacent to the content (marked by a {{FLAG_ICON}}).\\n4. From the dropdown menu, choose the {{REPORT_INAPPROPRIATE_CONTENT_OPTION}} option.\\n5. Select the reason that best fits the nature of your report from the list provided.\\n6. If necessary, add any extra details that could assist in the review and submit your report.\\n\\nOur review team will examine your report and take appropriate measures in accordance with our community standards.',\n",
       " 'id like to report fucking copyright violation where to do it To initiate a report for copyright infringement, please adhere to the following guidelines:\\n\\n1. Access our official website at {{WEBSITE_URL}}.\\n2. Proceed to the {{COPYRIGHT_SECTION}} section on the homepage.\\n3. Identify and select the {{REPORT_COPYRIGHT_INFRINGEMENT_OPTION}} option provided.\\n4. Complete the necessary fields, including specifics relevant to the infringement.\\n5. Submit your completed form for our assessment.\\n\\nYour submission will be thoroughly reviewed, and necessary actions will be executed according to our established guidelines.',\n",
       " 'i found a case of fucking inappropiate content can i submit a notification of it To address inappropriate content observed on our platform, please adhere to the following instructions:\\n\\n1. Visit {{WEBSITE_URL}}.\\n2. Identify the relevant content that you intend to report.\\n3. Click on the {{REPORT_SECTION}}, typically found in proximity to the content (look for the {{FLAG_ICON}}).\\n4. Choose the {{REPORT_INAPPROPRIATE_CONTENT_OPTION}} from the available options in the menu.\\n5. Select the reason that best corresponds to your report from the choices provided.\\n6. If needed, offer any supplementary information to aid in your report and then submit.\\n\\nOur dedicated team will carefully assess your report and take appropriate measures in accordance with our community standards.',\n",
       " 'i found a case of explicit contentcan uhelp me submit a notification of it To report inappropriate content on our platform, please follow these steps:\\n\\n1. Visit the website at {{WEBSITE_URL}}.\\n2. Identify the content that you deem inappropriate.\\n3. Click on the {{REPORT_SECTION}} option which is typically found adjacent to the content (marked by a {{FLAG_ICON}}).\\n4. From the dropdown menu, choose the {{REPORT_INAPPROPRIATE_CONTENT_OPTION}} option.\\n5. Select the reason that best fits the nature of your report from the list provided.\\n6. If necessary, add any extra details that could assist in the review and submit your report.\\n\\nOur review team will examine your report and take appropriate measures in accordance with our community standards.',\n",
       " 'i found a case of inappropiate content how could i report it To report inappropriate content on our platform, please adhere to the following guidelines:\\n\\n1. Visit {{WEBSITE_URL}} to begin the process.\\n2. Identify the specific content that you deem inappropriate.\\n3. Access the {{REPORT_SECTION}} area, which is typically found in close proximity to the content (indicated by a {{FLAG_ICON}}).\\n4. From the dropdown menu, select the {{REPORT_INAPPROPRIATE_CONTENT_OPTION}} option.\\n5. Indicate the most suitable reason for your report from the provided list.\\n6. Fill in any required details that may enhance your report and proceed to submit it.\\n\\nOur moderation team will examine your report and will take appropriate measures in accordance with our community standards.',\n",
       " 'how could I notify of cipyright violation? To report copyright infringement, please adhere to the following procedure:\\n\\n1. Access our official website at {{WEBSITE_URL}}.  \\n2. Proceed to the {{COPYRIGHT_SECTION}} area.  \\n3. Find and select the {{REPORT_COPYRIGHT_INFRINGEMENT_OPTION}} option.  \\n4. Complete the necessary fields, providing pertinent information regarding the infringement.  \\n5. Submit the completed form for our evaluation.\\n\\nOnce we receive your submission, we will conduct a thorough review and ensure that appropriate measures are implemented in accordance with our established policies.',\n",
       " 'I have to report copyright violation, can I get some help? To address copyright violations, please adhere to the following procedure:\\n\\n1. Access our official website at {{WEBSITE_URL}}.\\n2. Go to the {{COPYRIGHT_SECTION}} area.\\n3. Find and select the {{REPORT_COPYRIGHT_INFRINGEMENT_OPTION}} choice.\\n4. Complete the necessary fields, providing comprehensive details regarding the infringement.\\n5. Submit the completed form for our assessment.\\n\\nYour submission will be reviewed, and we will take the requisite steps in line with our policies.',\n",
       " 'could I notify of copyright violation? To formally report any instances of copyright infringement, please adhere to the following procedure:\\n\\n1. Access our official website at {{WEBSITE_URL}}.\\n2. Proceed to the {{COPYRIGHT_SECTION}} segment of the site.\\n3. Find and select the {{REPORT_COPYRIGHT_INFRINGEMENT_OPTION}} option available.\\n4. Provide the necessary information, detailing the specifics of the infringement.\\n5. Complete and submit the form for our assessment.\\n\\nYour submission will be thoroughly examined, and we will implement suitable measures in line with our established policies.',\n",
       " 'i got to report fucking inappropiate cotnent where do i do it To report inappropriate content on our platform, please follow these steps:\\n\\n1. Visit the website at {{WEBSITE_URL}}.\\n2. Identify the content that you deem inappropriate.\\n3. Click on the {{REPORT_SECTION}} option which is typically found next to the content (marked by a {{FLAG_ICON}}).\\n4. From the dropdown menu, choose the {{REPORT_INAPPROPRIATE_CONTENT_OPTION}} option.\\n5. Select the reason that best fits the nature of your report from the list provided.\\n6. If necessary, add any extra details that could assist in the review and submit your report.\\n\\nOur review team will examine your report and take appropriate measures in accordance with our community standards.',\n",
       " 'i found a case of fucking copyright violation could unotify it To address a case of copyright infringement, please adhere to the following steps:\\n\\n1. Access our official website at {{WEBSITE_URL}}.\\n2. Proceed to the {{COPYRIGHT_SECTION}} area.\\n3. Find and select the {{REPORT_COPYRIGHT_INFRINGEMENT_OPTION}} option.\\n4. Complete the necessary fields with accurate information regarding the infringement.\\n5. Submit the report for our evaluation.\\n\\nOnce we receive your submission, we will conduct a thorough review and ensure that appropriate measures are implemented in accordance with our established policies.',\n",
       " 'i found a case of copyright infringement can uhelp me report it To initiate the process of reporting copyright infringement, please adhere to the following guidelines:\\n\\n1. Access our official website at {{WEBSITE_URL}}.\\n2. Go to the {{COPYRIGHT_SECTION}} section for detailed information.\\n3. Find and select the {{REPORT_COPYRIGHT_INFRINGEMENT_OPTION}} option available.\\n4. Complete the necessary fields with accurate details regarding the infringement.\\n5. Submit your completed form for our evaluation.\\n\\nYour submission will be thoroughly assessed, and necessary actions will be executed according to our established guidelines.',\n",
       " 'I need to report fucking copyright vioilation, could I get some help? To address copyright infringement, please adhere to the following procedures:\\n\\n1. Access our website at {{WEBSITE_URL}}.\\n2. Proceed to the {{COPYRIGHT_SECTION}} area.\\n3. Find and select the {{REPORT_COPYRIGHT_INFRINGEMENT_OPTION}} option.\\n4. Complete the necessary fields with accurate information regarding the infringement.\\n5. Submit the report for our evaluation.\\n\\nOnce we receive your submission, we will conduct a thorough review and ensure that appropriate measures are implemented in accordance with our established policies.',\n",
       " 'i got to notify of fucking copyright infringement how do i do it To report copyright infringement, please follow these steps:\\n\\n1. Access our official website at {{WEBSITE_URL}}.\\n2. Proceed to the {{COPYRIGHT_SECTION}} area.\\n3. Find and click on the {{REPORT_COPYRIGHT_INFRINGEMENT_OPTION}} link.\\n4. Complete the necessary fields, providing specific details about the infringement.\\n5. Submit the completed form for our evaluation.\\n\\nOnce we receive your submission, we will thoroughly review your report and ensure that appropriate measures are implemented in accordance with our established policies.',\n",
       " \"I'd like to report fucking explicit content, where can I do it ? To report inappropriate content on our platform, please follow these steps:\\n\\n1. Visit {{WEBSITE_URL}} to access our services.\\n2. Find the specific content you believe is inappropriate.\\n3. Click on the {{REPORT_SECTION}} link, typically found in close proximity to the content (marked by a {{FLAG_ICON}}).\\n4. From the dropdown menu, select the {{REPORT_INAPPROPRIATE_CONTENT_OPTION}} option available.\\n5. Indicate the reason that best fits the nature of your report from the presented choices.\\n6. If necessary, add any extra details that could assist in the review and submit your report.\\n\\nOur review team will examine your report and take appropriate measures as per our community standards.\",\n",
       " 'i need assistance to notify of fucking explicit content To report content that you find to be inappropriate on our platform, please adhere to the following instructions:\\n\\n1. Visit {{WEBSITE_URL}}.\\n2. Identify the specific content that you believe requires attention.\\n3. Click on the {{REPORT_SECTION}} link typically positioned alongside the content (look for the {{FLAG_ICON}} symbol).\\n4. From the dropdown menu, select the {{REPORT_INAPPROPRIATE_CONTENT_OPTION}} option.\\n5. Indicate the reason for your report by choosing from the available options.\\n6. Fill out any additional details requested and proceed to submit your report.\\n\\nOur moderation team will assess your report and take appropriate steps in accordance with our community standards.',\n",
       " 'I would like to notify of fuckingg copyright infringement To address a case of copyright infringement, please adhere to the following guidelines:\\n\\n1. Go to our official website at {{WEBSITE_URL}}.\\n2. Find the section labeled {{COPYRIGHT_SECTION}}.\\n3. Click on the option for {{REPORT_COPYRIGHT_INFRINGEMENT_OPTION}}.\\n4. Provide the necessary details regarding the infringement in the form.\\n5. Submit your report so that we can assess the issue.\\n\\nYour submission will be reviewed carefully, and we will implement the necessary actions based on our established policies.',\n",
       " \"I found a case of copyright infringement, could you help me to submit a notification it? To initiate the reporting process for copyright infringement, please adhere to the following procedure:\\n\\n1. Access our website at {{WEBSITE_URL}}.\\n2. Proceed to the {{COPYRIGHT_SECTION}} area.\\n3. Find and select the {{REPORT_COPYRIGHT_INFRINGEMENT_OPTION}} link.\\n4. Complete the necessary fields with accurate information regarding the infringement.\\n5. Submit the notification for our team's assessment.\\n\\nYour submission will be thoroughly investigated, and we will take appropriate measures according to our established guidelines.\",\n",
       " 'I found a case of copyright infringement, could I notify it? To initiate a report for copyright infringement, please adhere to the following guidelines:\\n\\n1. Access our official website at {{WEBSITE_URL}}.\\n2. Proceed to the {{COPYRIGHT_SECTION}} section on the homepage.\\n3. Identify and select the {{REPORT_COPYRIGHT_INFRINGEMENT_OPTION}} option provided.\\n4. Complete the necessary fields, including specifics relevant to the infringement.\\n5. Submit your completed form for our assessment.\\n\\nYour submission will be thoroughly reviewed, and necessary actions will be executed as stipulated in our guidelines.',\n",
       " 'id like to submit a notificatoon of explicit content will ya help me To report inappropriate content on our platform, please adhere to the following guidelines:\\n\\n1. Visit {{WEBSITE_URL}} to begin the process.\\n2. Identify the specific content that you deem inappropriate.\\n3. Access the {{REPORT_SECTION}} area, which is typically found in close proximity to the content (indicated by a {{FLAG_ICON}}).\\n4. From the dropdown menu, select the {{REPORT_INAPPROPRIATE_CONTENT_OPTION}} option.\\n5. Indicate the most suitable reason for your report from the provided list.\\n6. Fill in any required details that may enhance your report and proceed to submit it.\\n\\nOur dedicated team will examine your report and take appropriate actions in accordance with our community standards.',\n",
       " 'I found a case of fucking inappropiate content, will you help me submit a notification of it? To address the issue of inappropriate content on our platform, please adhere to the following process:\\n\\n1. Access {{WEBSITE_URL}}.\\n2. Identify the specific content you wish to report.\\n3. Click on the {{REPORT_SECTION}}, which is generally adjacent to the content (indicated by a {{FLAG_ICON}}).\\n4. From the dropdown menu, select the {{REPORT_INAPPROPRIATE_CONTENT_OPTION}} option.\\n5. Indicate the most fitting reason for your complaint from the provided selections.\\n6. If necessary, include any additional details and then submit your report.\\n\\nYour report will be reviewed by our team, and actions will be taken in accordance with our community standards.',\n",
       " 'id like to submit an notification of copyright violation how to do it To report a copyright violation, please adhere to the following steps:\\n\\n1. Access our official website at {{WEBSITE_URL}}.\\n2. Proceed to the {{COPYRIGHT_SECTION}} area.\\n3. Find and select the {{REPORT_COPYRIGHT_INFRINGEMENT_OPTION}} option.\\n4. Complete the necessary fields with accurate information regarding the infringement.\\n5. Submit the report for our evaluation.\\n\\nOnce we receive your submission, we will conduct a thorough review and ensure that appropriate measures are implemented in accordance with our established policies.',\n",
       " 'i fund a case of fucking inappropiate content can ya help me notifying it To address inappropriate content observed on our platform, please adhere to the following instructions:\\n\\n1. Visit {{WEBSITE_URL}}.\\n2. Identify the relevant content that you intend to report.\\n3. Click on the {{REPORT_SECTION}}, typically found in proximity to the content (look for the {{FLAG_ICON}}).\\n4. Choose the {{REPORT_INAPPROPRIATE_CONTENT_OPTION}} from the available options in the menu.\\n5. Select the reason that best corresponds to your report from the choices provided.\\n6. If needed, offer any supplementary information to aid in your report and then submit.\\n\\nOur dedicated team will carefully assess your report and take appropriate measures in accordance with our community standards.',\n",
       " \"I'd like to report explicit contnet, help me To report explicit content on our platform, please adhere to the following guidelines:\\n\\n1. Access {{WEBSITE_URL}}.\\n2. Identify the specific content that you intend to report.\\n3. Click on the {{REPORT_SECTION}} option, which is typically positioned adjacent to the content (look for the {{FLAG_ICON}} symbol).\\n4. From the provided menu, select the {{REPORT_INAPPROPRIATE_CONTENT_OPTION}} choice.\\n5. Indicate the reason that best fits your report from the available selections.\\n6. If necessary, include any supplementary details as requested and proceed with submitting your report.\\n\\nOur team is committed to reviewing each report thoroughly and will take appropriate measures as outlined in our community standards.\",\n",
       " 'help me reporting explicit content To report any explicit content that you may encounter on our platform, please adhere to the following steps:\\n\\n1. Visit {{WEBSITE_URL}}.\\n2. Find the specific content that you believe is inappropriate.\\n3. Click on the {{REPORT_SECTION}} section, typically located close to the content (depicted by a {{FLAG_ICON}}).\\n4. Choose the {{REPORT_INAPPROPRIATE_CONTENT_OPTION}} from the dropdown options.\\n5. Specify the most fitting reason for your report from the provided list.\\n6. Add any further details if necessary and submit your report.\\n\\nOur dedicated team will assess your submission and take appropriate measures in accordance with our community standards.',\n",
       " 'i want assistance notifying of fucking inappropiate content To address the concern of inappropriate content found on our platform, you may proceed with the following steps:\\n\\n1. Visit {{WEBSITE_URL}}.\\n2. Identify the specific content item that you wish to report.\\n3. Access the {{REPORT_SECTION}} area typically located adjacent to the content (indicated by a {{FLAG_ICON}}).\\n4. Choose the {{REPORT_INAPPROPRIATE_CONTENT_OPTION}} option available in the drop-down list.\\n5. Select the reason that best fits your report from the options provided.\\n6. If necessary, include any supplementary details required and finalize your report submission.\\n\\nYour report will be evaluated by our team, who will ensure compliance with our established community standards.',\n",
       " 'i got to submit anotification of fucking explicit content how do i do it To report inappropriate content on our platform, please follow these steps:\\n\\n1. Visit the website at {{WEBSITE_URL}}.\\n2. Identify the content that you deem inappropriate.\\n3. Click on the {{REPORT_SECTION}} option which is typically found adjacent to the content (marked by a {{FLAG_ICON}}).\\n4. From the dropdown menu, choose the {{REPORT_INAPPROPRIATE_CONTENT_OPTION}} option.\\n5. Select the reason that best fits the nature of your report from the list provided.\\n6. If necessary, add any extra details that could assist in the review and submit your report.\\n\\nOur review team will examine your report and take appropriate measures in accordance with our community standards.',\n",
       " 'is it posible to notify of fucking copyright violation To address concerns regarding copyright infringement, please adhere to the following guidelines:\\n\\n1. Access our website at {{WEBSITE_URL}}.\\n2. Go to the {{COPYRIGHT_SECTION}} area.\\n3. Find and select the {{REPORT_COPYRIGHT_INFRINGEMENT_OPTION}} choice.\\n4. Complete the necessary fields, providing comprehensive details about the infringement.\\n5. Submit the completed form for our assessment.\\n\\nYour submission will be reviewed, and we will take the requisite steps in line with our policies.',\n",
       " 'submit a notification of explicit content To initiate the reporting of inappropriate content on our platform, please adhere to the following steps:\\n\\n1. Visit {{WEBSITE_URL}}.\\n2. Find the specific content that you believe is inappropriate.\\n3. Click on the {{REPORT_SECTION}} option typically situated next to the content (indicated by a {{FLAG_ICON}}).\\n4. Choose the {{REPORT_INAPPROPRIATE_CONTENT_OPTION}} option from the dropdown list.\\n5. Specify the most fitting reason for your report from the provided selections.\\n6. Add any further details if necessary and submit your report.\\n\\nOur review team will assess your submission and take appropriate measures in accordance with our community standards.',\n",
       " 'id like to report fucking explicit content how could i do it To report inappropriate content on our platform, please adhere to the following protocol:\\n\\n1. Visit {{WEBSITE_URL}}.\\n2. Identify the specific content that you wish to report.\\n3. Click on the {{REPORT_SECTION}} section, typically located adjacent to the content (indicated by a {{FLAG_ICON}}).\\n4. Choose the {{REPORT_INAPPROPRIATE_CONTENT_OPTION}} option available in the drop-down menu.\\n5. Select the reason that best fits your report from the list provided.\\n6. If necessary, include any supplementary details required and proceed to submit your report.\\n\\nOur dedicated team will evaluate your submission and take appropriate measures as outlined in our community standards.',\n",
       " 'I want to submit a notification of fucking copyright violation, could I get soke help? To initiate the process of reporting copyright infringement, please adhere to the following procedure:\\n\\n1. Access our official website at {{WEBSITE_URL}}.\\n2. Proceed to the {{COPYRIGHT_SECTION}} area of the website.\\n3. Identify and select the {{REPORT_COPYRIGHT_INFRINGEMENT_OPTION}} choice.\\n4. Complete the necessary fields, providing comprehensive details regarding the infringement.\\n5. Submit your report for our assessment.\\n\\nOnce you have submitted your report, it will undergo a thorough evaluation, and we will take the necessary actions in line with our established guidelines.',\n",
       " 'could i notify of inappropiate content If you have encountered inappropriate content on our platform, please adhere to the following procedures:\\n\\n1. Go to {{WEBSITE_URL}}.\\n2. Identify the specific content that you wish to report.\\n3. Click on the {{REPORT_SECTION}} option, which is typically located adjacent to the content (look for the {{FLAG_ICON}} symbol).\\n4. From the provided menu, select the {{REPORT_INAPPROPRIATE_CONTENT_OPTION}} choice.\\n5. Indicate the reason for your report from the available options.\\n6. If applicable, enter any further details needed and finalize your report submission.\\n\\nOur moderation team will assess your report and take appropriate steps in accordance with our community standards.',\n",
       " 'I need to report fucking copyright infringement,could I get some help? To report copyright infringement, please follow these steps:\\n\\n1. Access our official website at {{WEBSITE_URL}}.\\n2. Proceed to the {{COPYRIGHT_SECTION}} area.\\n3. Find and click on the {{REPORT_COPYRIGHT_INFRINGEMENT_OPTION}} link.\\n4. Complete the necessary fields with information regarding the infringement.\\n5. Submit the form for our consideration.\\n\\nYour submission will be assessed, and suitable measures will be taken in alignment with our policies.',\n",
       " 'need to notify of inappropiate cotent how to do it To report inappropriate content on our platform, please adhere to the following guidelines:\\n\\n1. Visit {{WEBSITE_URL}} to begin the process.\\n2. Identify the specific content that you deem inappropriate.\\n3. Access the {{REPORT_SECTION}} area, which is typically found in close proximity to the content (indicated by a {{FLAG_ICON}}).\\n4. From the dropdown menu, select the {{REPORT_INAPPROPRIATE_CONTENT_OPTION}} option.\\n5. Indicate the most suitable reason for your report from the provided list.\\n6. Fill in any required details that may enhance your report and proceed to submit it.\\n\\nOur dedicated team will examine your report and take appropriate actions in accordance with our community standards.',\n",
       " 'I would like to submit a notification of fucking inappropiate content , could you help me? To report inappropriate content on our platform, please follow these steps:\\n\\n1. Visit {{WEBSITE_URL}}.\\n2. Identify the content you wish to report.\\n3. Click on the {{REPORT_SECTION}} section typically situated close to the content (represented by a {{FLAG_ICON}}).\\n4. From the dropdown menu, select the {{REPORT_INAPPROPRIATE_CONTENT_OPTION}} option.\\n5. Choose the reason that best reflects your concern from the available choices.\\n6. Fill in any additional comments or details as necessary before submitting your report.\\n\\nOur moderation team will investigate and act according to our standards and community policies.',\n",
       " \"could ya help me submitting a notification of copyrkght infringement To initiate a notification regarding copyright infringement, please adhere to the following steps:\\n\\n1. Access our official website at {{WEBSITE_URL}}.\\n2. Proceed to the {{COPYRIGHT_SECTION}} section for detailed guidelines.\\n3. Find and select the {{REPORT_COPYRIGHT_INFRINGEMENT_OPTION}} option available.\\n4. Complete the necessary fields, ensuring you include all pertinent information about the infringement.\\n5. Send the completed form for our team's assessment.\\n\\nYour submission will be thoroughly reviewed, and we will take appropriate measures according to our established policies.\",\n",
       " 'I found a case of fucking inappropiate content , how do I submit a notification of it? To address the issue of inappropriate content on our platform, please adhere to the following process:\\n\\n1. Access {{WEBSITE_URL}}.\\n2. Identify the specific content you wish to report.\\n3. Click on the {{REPORT_SECTION}}, which is generally adjacent to the content (indicated by a {{FLAG_ICON}}).\\n4. From the dropdown menu, select the {{REPORT_INAPPROPRIATE_CONTENT_OPTION}} option.\\n5. Indicate the most fitting reason for your complaint from the provided selections.\\n6. If necessary, include any additional details and then submit your report.\\n\\nYour report will be reviewed by our team, and actions will be taken in accordance with our community standards.',\n",
       " \"I'd like to submit a notification  of copyright infringement i need help To address a case of copyright infringement, please adhere to the following steps:\\n\\n1. Access our official website at {{WEBSITE_URL}}.\\n2. Proceed to the {{COPYRIGHT_SECTION}} area.\\n3. Find and select the {{REPORT_COPYRIGHT_INFRINGEMENT_OPTION}} option.\\n4. Complete the necessary fields with accurate information regarding the infringement.\\n5. Submit the completed form for our evaluation.\\n\\nUpon submission, your report will be thoroughly assessed, and necessary actions will be executed according to our established guidelines.\",\n",
       " 'I got to report fucking copyright infringement, how could I do it? To address a case of copyright infringement, please adhere to the following steps:\\n\\n1. Access our official website at {{WEBSITE_URL}}.\\n2. Proceed to the {{COPYRIGHT_SECTION}} area.\\n3. Find and select the {{REPORT_COPYRIGHT_INFRINGEMENT_OPTION}} option.\\n4. Complete the necessary fields with accurate information regarding the infringement.\\n5. Submit the report for our evaluation.\\n\\nOnce we receive your submission, we will conduct a thorough review and ensure that appropriate measures are implemented in accordance with our established policies.',\n",
       " 'where could I submit a notification of explicit content? To report inappropriate content on our platform, please follow these steps:\\n\\n1. Go to {{WEBSITE_URL}}.\\n2. Identify the specific content you want to report.\\n3. Click on the {{REPORT_SECTION}} section which is typically located near the content (indicated by a {{FLAG_ICON}}).\\n4. From the menu, select the {{REPORT_INAPPROPRIATE_CONTENT_OPTION}} option.\\n5. Pick the relevant reason for your report from the available choices.\\n6. If applicable, add any further details that could assist us in reviewing your report and proceed to submit it.\\n\\nOur dedicated team will assess your submission and take appropriate action in accordance with our community standards.',\n",
       " 'i founda case of copyright violation help me submit a notification it To initiate a report for copyright infringement, please adhere to the following procedures:\\n\\n1. Access our website at {{WEBSITE_URL}}.\\n2. Proceed to the {{COPYRIGHT_SECTION}} area.\\n3. Find and select the {{REPORT_COPYRIGHT_INFRINGEMENT_OPTION}} option.\\n4. Complete the necessary fields with accurate information regarding the infringement.\\n5. Submit the report for our evaluation.\\n\\nOnce we receive your submission, it will be assessed, and necessary actions will be undertaken as stipulated in our guidelines.',\n",
       " 'wanna report fucking copyright infringement i need help To initiate a report regarding copyright infringement, please adhere to the following instructions:\\n\\n1. Access our official website at {{WEBSITE_URL}}.\\n2. Proceed to the {{COPYRIGHT_SECTION}} area of the site.\\n3. Find and select the {{REPORT_COPYRIGHT_INFRINGEMENT_OPTION}} link available.\\n4. Complete the necessary fields, providing pertinent information about the infringement.\\n5. Submit your report for our consideration.\\n\\nYour submission will undergo careful review, and we will take suitable measures in line with our established guidelines.',\n",
       " 'i have to notify of coypright violation help me To formally report a copyright infringement, please adhere to the following guidelines:\\n\\n1. Access our website at {{WEBSITE_URL}}.\\n2. Proceed to the {{COPYRIGHT_SECTION}} section.\\n3. Find and select the {{REPORT_COPYRIGHT_INFRINGEMENT_OPTION}} option available.\\n4. Complete the necessary fields, providing all relevant details regarding the infringement.\\n5. Submit your report for our assessment.\\n\\nUpon submission, your report will be thoroughly reviewed, and we will implement necessary actions as per our policies.',\n",
       " 'help me reporting inappropiate  content To report inappropriate content on our platform, please adhere to the following procedure:\\n\\n1. Visit {{WEBSITE_URL}}.\\n2. Identify the specific content that you wish to report.\\n3. Click on the {{REPORT_SECTION}} section generally available beside the content (it is marked by a {{FLAG_ICON}}).\\n4. From the dropdown menu, select the {{REPORT_INAPPROPRIATE_CONTENT_OPTION}} option.\\n5. Indicate the relevant reason for your report by choosing from the available options.\\n6. Fill in any additional required information and submit the report.\\n\\nOur moderation team will assess your report and take appropriate measures in accordance with our community guidelines.',\n",
       " 'id like to submit a notification of fucking inappropiate content where could i do it To report inappropriate content on our platform, please adhere to the following procedure:\\n\\n1. Visit {{WEBSITE_URL}}.\\n2. Find the specific content that you wish to report.\\n3. Click on the {{REPORT_SECTION}} section typically situated close to the content (represented by a {{FLAG_ICON}}).\\n4. From the dropdown menu, select the {{REPORT_INAPPROPRIATE_CONTENT_OPTION}} option.\\n5. Identify the most relevant reason for your report from the available choices.\\n6. Fill in any supplementary details that might be necessary before submitting your report.\\n\\nOur moderation team will investigate your notification thoroughly and will act in accordance with our community standards.',\n",
       " 'i found a case of inappropiate content i it possible to report it To report inappropriate content that you have encountered on our platform, please adhere to the following procedure:\\n\\n1. Visit {{WEBSITE_URL}}.\\n2. Identify the specific content that you wish to report.\\n3. Click on the {{REPORT_SECTION}} section, which can typically be found adjacent to the content (indicated by a {{FLAG_ICON}} icon).\\n4. From the menu, select the {{REPORT_INAPPROPRIATE_CONTENT_OPTION}} option.\\n5. Indicate the most suitable reason for your report from the available choices.\\n6. If necessary, provide any supplementary details required and proceed to submit your report.\\n\\nOur dedicated team will carefully assess your report and take appropriate measures in accordance with our community standards.',\n",
       " 'I have to report fucking inappropiate content To report inappropriate content on our platform, please follow these steps:\\n\\n1. Go to {{WEBSITE_URL}}.\\n2. Find the specific piece of content that you want to report.\\n3. Click on the {{REPORT_SECTION}} section, which is typically represented by a {{FLAG_ICON}} near the content.\\n4. From the menu, select the {{REPORT_INAPPROPRIATE_CONTENT_OPTION}} option.\\n5. Identify the relevant reason for your report by choosing from the available options.\\n6. Fill in any additional required information and submit the report.\\n\\nOur moderation team will assess your report and take appropriate measures in accordance with our community guidelines.',\n",
       " 'I need to notify of copyright infringement, where can I do it? To initiate a report for copyright infringement, please adhere to the following guidelines:\\n\\n1. Access our official website at {{WEBSITE_URL}}.\\n2. Proceed to the {{COPYRIGHT_SECTION}} section of the site.\\n3. Identify and select the {{REPORT_COPYRIGHT_INFRINGEMENT_OPTION}} option provided.\\n4. Complete the necessary fields, including specifics relevant to the infringement.\\n5. Submit your completed form for our assessment.\\n\\nYour submission will be thoroughly reviewed, and necessary actions will be executed as stipulated in our guidelines.',\n",
       " 'I found a case of fucking copyright infringement, can you help me to submit a notification it? To initiate the process of reporting copyright infringement, please adhere to the following procedure:\\n\\n1. Access our official website at {{WEBSITE_URL}}.\\n2. Proceed to the {{COPYRIGHT_SECTION}} area of the website.\\n3. Identify and select the {{REPORT_COPYRIGHT_INFRINGEMENT_OPTION}} choice.\\n4. Complete the necessary fields, providing comprehensive details regarding the infringement.\\n5. Submit your report for our assessment.\\n\\nOnce you have submitted your report, it will undergo a thorough evaluation, and we will take the necessary actions in line with our established guidelines.',\n",
       " 'i found a case of fucking inappropiate content i wanna notify it To report inappropriate content on our platform, please follow these steps:\\n\\n1. Visit {{WEBSITE_URL}}.\\n2. Identify the content that you wish to report.\\n3. Access the {{REPORT_SECTION}} section typically located adjacent to the content (indicated by a {{FLAG_ICON}}).\\n4. Choose the {{REPORT_INAPPROPRIATE_CONTENT_OPTION}} option available in the drop-down menu.\\n5. Select the reason that best fits your report from the list provided.\\n6. If necessary, add any supplementary details required and proceed to submit your report.\\n\\nOur dedicated team will evaluate your submission and take the appropriate actions as per our community standards.',\n",
       " 'were do I notify of fucking explicit content? To formally report content that you deem inappropriate on our platform, please adhere to the following guidelines:\\n\\n1. Visit {{WEBSITE_URL}}.\\n2. Identify the specific content you intend to report.\\n3. Click on the {{REPORT_SECTION}} option, which is typically located adjacent to the content (look for the {{FLAG_ICON}} symbol).\\n4. From the provided options, select {{REPORT_INAPPROPRIATE_CONTENT_OPTION}}.\\n5. Indicate the most relevant reason for your report from the available selections.\\n6. If applicable, enter any supplementary details required and proceed to submit your report.\\n\\nOur team will meticulously evaluate the submissions and act in accordance with our community standards.',\n",
       " 'I got to report explicit content, where do I do it? To address the issue of inappropriate content on our platform, please adhere to the following steps:\\n\\n1. Visit {{WEBSITE_URL}}.\\n2. Identify the specific content that you believe is inappropriate.\\n3. Access the {{REPORT_SECTION}} typically positioned adjacent to the content (look for the {{FLAG_ICON}} symbol).\\n4. Pick the {{REPORT_INAPPROPRIATE_CONTENT_OPTION}} from the dropdown list.\\n5. Indicate the most relevant cause for your report from the available options.\\n6. Input any additional context or details requested and proceed to submit your report.\\n\\nOur dedicated team will assess your report and take appropriate steps in accordance with our community standards.',\n",
       " 'I found a case of fucking copyright infringement, help me reporting it To facilitate your communication with a customer service representative, please take the following steps:\\n\\n1. Visit {{WEBSITE_URL}}.\\n2. Locate the {{CONTACT_US_SECTION}} area on the website.\\n3. Choose the option to engage with a customer service representative.\\n4. Complete the necessary information and submit your inquiry.\\n\\nIf you require any additional assistance, do not hesitate to ask.',\n",
       " 'i got to report fucking copyright infringement help me To report copyright infringement, please adhere to the following procedure:\\n\\n1. Access our official website at {{WEBSITE_URL}}.\\n2. Proceed to the {{COPYRIGHT_SECTION}} section found in the main menu.\\n3. Select the {{REPORT_COPYRIGHT_INFRINGEMENT_OPTION}} option presented on the page.\\n4. Complete the necessary fields, ensuring all details of the infringement are accurately described.\\n5. Submit the completed form for our evaluation.\\n\\nUpon submission, your report will be thoroughly assessed, and necessary actions will be executed according to our established guidelines.',\n",
       " \"I'd like to report copyright infringement, where can I do it? To address copyright infringement concerns, please adhere to the following guidelines:\\n\\n1. Access our website at {{WEBSITE_URL}}.\\n2. Go to the {{COPYRIGHT_SECTION}} area.\\n3. Find and select the {{REPORT_COPYRIGHT_INFRINGEMENT_OPTION}} choice.\\n4. Complete the necessary fields, providing comprehensive details regarding the infringement.\\n5. Submit the completed form for our assessment.\\n\\nYour submission will be reviewed, and we will take the requisite steps in line with our policies.\",\n",
       " 'id like to notify of inappropiate content where do i do it To report inappropriate content on our platform, please adhere to the following guidelines:\\n\\n1. Visit {{WEBSITE_URL}} to access the platform.\\n2. Identify the specific content that you deem inappropriate.\\n3. Click on the {{REPORT_SECTION}} option which is typically found adjacent to the content (marked by a {{FLAG_ICON}}).\\n4. From the dropdown menu, choose the {{REPORT_INAPPROPRIATE_CONTENT_OPTION}} option.\\n5. Select the reason that best fits the nature of your report from the presented choices.\\n6. If necessary, provide any extra details needed and submit your report.\\n\\nOur team will diligently examine the report and will act in accordance with our community standards.',\n",
       " 'I want assistance submitting a notification of fucking explicit content To report content that you find to be inappropriate on our platform, please adhere to the following instructions:\\n\\n1. Visit {{WEBSITE_URL}}.\\n2. Identify the specific content that you believe requires attention.\\n3. Access the {{REPORT_SECTION}} which is typically positioned adjacent to the content (look for the {{FLAG_ICON}} symbol).\\n4. Pick the {{REPORT_INAPPROPRIATE_CONTENT_OPTION}} from the dropdown list.\\n5. Indicate the most relevant cause for your report from the available selections.\\n6. Input any additional context or details requested and proceed to submit your report.\\n\\nOur dedicated team will assess your report and take appropriate steps in accordance with our community standards.',\n",
       " 'wanna submit a notification of fucking inappropiate content where could i do it To report inappropriate content on our platform, please follow these steps:\\n\\n1. Visit {{WEBSITE_URL}}.\\n2. Identify the specific content that you would like to bring to our attention.\\n3. Access the {{REPORT_SECTION}}, which is typically found in proximity to the content (look for the {{FLAG_ICON}}).\\n4. Choose the {{REPORT_INAPPROPRIATE_CONTENT_OPTION}} from the available options in the menu.\\n5. Indicate the reason that best describes your report from the choices provided.\\n6. If needed, include any additional information to aid in your report and then submit.\\n\\nOur dedicated team will carefully assess your report and take appropriate measures in accordance with our community standards.',\n",
       " 'id like to report inappropiate content could i get some help To report inappropriate content on our platform, please adhere to the following process:\\n\\n1. Visit {{WEBSITE_URL}}.\\n2. Identify the specific content that you wish to report.\\n3. Access the {{REPORT_SECTION}} area typically located adjacent to the content (indicated by a {{FLAG_ICON}}).\\n4. Choose the {{REPORT_INAPPROPRIATE_CONTENT_OPTION}} option available in the drop-down menu.\\n5. Select the reason that best fits your report from the list provided.\\n6. If necessary, include any supplementary details required and proceed to submit your report.\\n\\nOur dedicated team will evaluate your submission and take appropriate measures as outlined in our community standards.',\n",
       " 'where to notify of copyright ifringement To formally report copyright infringement, please adhere to the following procedure:\\n\\n1. Access our official website at {{WEBSITE_URL}}.\\n2. Proceed to the {{COPYRIGHT_SECTION}} section found in the main menu.\\n3. Select the {{REPORT_COPYRIGHT_INFRINGEMENT_OPTION}} option presented on the page.\\n4. Complete the requisite fields, ensuring to include specific details about the infringement.\\n5. Submit the completed report for our examination.\\n\\nOnce we receive your submission, it will be assessed promptly, and necessary actions will be taken in line with our established guidelines.',\n",
       " \"I'd like to report fucking copyright infringemwnt, could you help me? To address copyright infringement concerns, please adhere to the following guidelines:\\n\\n1. Navigate to our official website at {{WEBSITE_URL}}.\\n2. Proceed to the {{COPYRIGHT_SECTION}} section of the site.\\n3. Identify and select the {{REPORT_COPYRIGHT_INFRINGEMENT_OPTION}} option available.\\n4. Complete the necessary fields with relevant information about the infringement.\\n5. Once filled, submit the form for our assessment.\\n\\nYour report will receive prompt attention, and we will take necessary steps in compliance with our established policies.\",\n",
       " 'I want to report explicit content, where to do it? To report explicit content on our platform, please adhere to the following guidelines:\\n\\n1. Access {{WEBSITE_URL}}.\\n2. Identify the specific content that you intend to report.\\n3. Click on the {{REPORT_SECTION}} option, which is typically positioned adjacent to the content (look for the {{FLAG_ICON}} symbol).\\n4. From the provided menu, select the {{REPORT_INAPPROPRIATE_CONTENT_OPTION}} choice.\\n5. Indicate the reason that best fits your report from the available selections.\\n6. If necessary, include any supplementary details as requested and proceed with submitting your report.\\n\\nOur dedicated team will thoroughly examine your report and take appropriate measures in accordance with our community standards.',\n",
       " 'i want assistance reporting fucking copyright violation To initiate a report for copyright infringement, please adhere to the following procedure:\\n\\n1. Go to our official website at {{WEBSITE_URL}}.\\n2. Find and select the {{COPYRIGHT_SECTION}} area.\\n3. Click on the {{REPORT_COPYRIGHT_INFRINGEMENT_OPTION}} link.\\n4. Provide the necessary details regarding the infringement in the form.\\n5. Submit your completed form for our examination.\\n\\nYour submission will be carefully assessed, and we will take appropriate measures in accordance with our established guidelines.',\n",
       " 'ned to report fucking copyright infringement where could i do it To address a case of copyright infringement, please adhere to the following steps:\\n\\n1. Access our official website at {{WEBSITE_URL}}.\\n2. Proceed to the {{COPYRIGHT_SECTION}} area.\\n3. Find and select the {{REPORT_COPYRIGHT_INFRINGEMENT_OPTION}} option.\\n4. Complete the necessary fields with accurate information regarding the infringement.\\n5. Submit the report for our evaluation.\\n\\nOnce we receive your submission, it will be assessed in line with our established protocols, and you will be informed of any relevant actions taken.',\n",
       " 'i have to notify of fucking explicity content how to do it To report inappropriate content, please adhere to the following guidelines:\\n\\n1. Access our platform via {{WEBSITE_URL}}.\\n2. Proceed to the {{INAPPROPRIATE_CONTENT_SECTION}} section.\\n3. Identify and select the {{REPORT_INAPPROPRIATE_CONTENT_OPTION}} option.\\n4. Complete the necessary fields, detailing the explicit content in question.\\n5. Submit your report for assessment.\\n\\nYour submission will be reviewed thoroughly, and we will ensure that appropriate measures are implemented in accordance with our regulations.',\n",
       " 'i want assistance reporting copyright violation To initiate the process of reporting a copyright violation, please adhere to the following steps:\\n\\n1. Please access our official website at {{WEBSITE_URL}}.\\n2. Proceed to the {{COPYRIGHT_SECTION}} area.\\n3. Find and select the {{REPORT_COPYRIGHT_INFRINGEMENT_OPTION}} option.\\n4. Complete the necessary details regarding the infringement as requested.\\n5. Submit your report for evaluation.\\n\\nUpon submission, your report will be carefully reviewed, and we will take the required actions in line with our established policies.',\n",
       " 'wanna notify of fucking copyright violation were do i do it To report copyright infringement, please follow these steps:\\n\\n1. Access our official website at {{WEBSITE_URL}}.\\n2. Proceed to the {{COPYRIGHT_SECTION}} area.\\n3. Find and click on the {{REPORT_COPYRIGHT_INFRINGEMENT_OPTION}} link.\\n4. Complete the necessary fields, providing specific details about the infringement.\\n5. Submit the completed form for our evaluation.\\n\\nOnce we receive your submission, we will thoroughly review your report and ensure that appropriate measures are implemented in accordance with our established policies.',\n",
       " 'I have to report fucking copyright violation, can yo help me? To address a copyright infringement issue, please follow the steps outlined below:\\n\\n1. Access our official website at {{WEBSITE_URL}}.\\n2. Go to the {{COPYRIGHT_SECTION}} section for detailed guidelines.\\n3. Find and select the {{REPORT_COPYRIGHT_INFRINGEMENT_OPTION}} option available.\\n4. Complete the necessary fields with accurate information regarding the infringement.\\n5. Submit your completed form for our investigation.\\n\\nWe appreciate your cooperation in this matter. Your report will receive prompt attention, and we will take the appropriate action in accordance with our established policies.',\n",
       " 'i found a case of inappropiate content can ya help me submitting a notification of it To address inappropriate content observed on our platform, please adhere to the following instructions:\\n\\n1. Visit {{WEBSITE_URL}}.\\n2. Identify the relevant content that you intend to report.\\n3. Click on the {{REPORT_SECTION}}, typically found in proximity to the content (look for the {{FLAG_ICON}}).\\n4. Choose the {{REPORT_INAPPROPRIATE_CONTENT_OPTION}} from the available options in the menu.\\n5. Select the reason that best corresponds to your report from the choices provided.\\n6. If needed, offer any supplementary information to aid in your report and then submit.\\n\\nAfter your report has been submitted, our team will assess the situation and take appropriate measures in alignment with our community standards.',\n",
       " 'where can I report cxopyright infringement? To report copyright infringement, please adhere to the following procedures:\\n\\n1. Access our website at {{WEBSITE_URL}}.\\n2. Direct yourself to the {{COPYRIGHT_SECTION}} section.\\n3. Find and click on the {{REPORT_COPYRIGHT_INFRINGEMENT_OPTION}} option.\\n4. Provide all required details regarding the infringement.\\n5. Submit the completed form for our assessment.\\n\\nUpon receiving your report, it will be carefully analyzed, and appropriate measures will be implemented in accordance with our guidelines.',\n",
       " 'can uhelp me submitting a notification of explicit content To report inappropriate content on our platform, please adhere to the following procedures:\\n\\n1. Visit {{WEBSITE_URL}}.\\n2. Identify the specific content that you wish to report.\\n3. Click on the {{REPORT_SECTION}}, which is typically represented by a {{FLAG_ICON}} near the content.\\n4. From the menu, select the {{REPORT_INAPPROPRIATE_CONTENT_OPTION}} option.\\n5. Indicate the most relevant reason for your report from the available choices.\\n6. Fill in any additional required information and submit the report.\\n\\nOur moderation team will assess your notification and take appropriate measures in accordance with our community guidelines.',\n",
       " 'could Ireport explicit content? To report inappropriate content that you may encounter on our platform, kindly adhere to the following steps:\\n\\n1. Go to {{WEBSITE_URL}}.\\n2. Identify the specific content you want to report.\\n3. Click on the {{REPORT_SECTION}} section which is typically located near the content (indicated by a {{FLAG_ICON}}).\\n4. From the menu, select the {{REPORT_INAPPROPRIATE_CONTENT_OPTION}} option.\\n5. Determine the most fitting reason for your report from the provided choices.\\n6. Fill in any additional details required and proceed to submit your report.\\n\\nOur dedicated team will assess your submission and take appropriate measures in line with our community standards.',\n",
       " 'need to notify of copyright violation how do i do it To address any copyright infringement you may have identified, please adhere to the following guidelines:\\n\\n1. Access our official website at {{WEBSITE_URL}}.\\n2. Proceed to the {{COPYRIGHT_SECTION}} section on the site.\\n3. Identify and select the {{REPORT_COPYRIGHT_INFRINGEMENT_OPTION}} option provided.\\n4. Complete the necessary fields, including specifics relevant to the infringement.\\n5. Submit your completed form for our assessment.\\n\\nWe appreciate your cooperation in this matter. Your report will receive prompt attention, and we will take the appropriate action in accordance with our established policies.',\n",
       " 'how to notify of copyright infringement? To notify us of copyright infringement, please adhere to the following procedures:\\n\\n1. Go to our official website at {{WEBSITE_URL}}.\\n2. Access the {{COPYRIGHT_SECTION}} page.\\n3. Find and click on the {{REPORT_COPYRIGHT_INFRINGEMENT_OPTION}} link.\\n4. Provide all necessary details regarding the infringement in the form.\\n5. Submit the completed form for our assessment.\\n\\nYour submission will be carefully reviewed, and necessary actions will be taken in accordance with our regulations.',\n",
       " 'I have to submit a notification of copyright infringement, can I get some help? To report copyright infringement, please follow these steps:\\n\\n1. Access our official website at {{WEBSITE_URL}}.\\n2. Proceed to the {{COPYRIGHT_SECTION}} area.\\n3. Find and click on the {{REPORT_COPYRIGHT_INFRINGEMENT_OPTION}} link.\\n4. Complete the necessary fields, providing detailed information about the infringement.\\n5. Submit the completed form for our evaluation.\\n\\nOnce we receive your report, it will be assessed, and necessary actions will be undertaken according to our policies.',\n",
       " 'i have to submit a notification of fucking copyright violation where could i do it To address copyright infringement concerns, please adhere to the following guidelines:\\n\\n1. Navigate to our official website at {{WEBSITE_URL}}.\\n2. Proceed to the {{COPYRIGHT_SECTION}} section of the site.\\n3. Identify and select the {{REPORT_COPYRIGHT_INFRINGEMENT_OPTION}} option available.\\n4. Complete the necessary fields with relevant details about the infringement.\\n5. Once filled, submit the form for our evaluation.\\n\\nYour report will receive prompt attention, and we will take the appropriate action in accordance with our established policies.',\n",
       " 'can you help mr to report copyright violation? To initiate a report for copyright infringement, please adhere to the following procedure:\\n\\n1. Access our official website at {{WEBSITE_URL}}.\\n2. Proceed to the {{COPYRIGHT_SECTION}} section found in the main menu.\\n3. Select the {{REPORT_COPYRIGHT_INFRINGEMENT_OPTION}} option presented on the page.\\n4. Complete the requisite fields, ensuring to include specific details about the infringement.\\n5. Submit the completed report for our examination.\\n\\nOnce we receive your submission, it will be assessed promptly, and necessary actions will be taken in line with our established guidelines.']"
      ]
     },
     "execution_count": 24,
     "metadata": {},
     "output_type": "execute_result"
    }
   ],
   "source": [
    "def prepare_texts(documents, show_progress: bool = True):\n",
    "    \"\"\"Concatenate question and response into a single text string.\"\"\"\n",
    "    iterator = documents\n",
    "    if show_progress:\n",
    "        iterator = tqdm(documents, desc=\"Preparing texts\", disable=False)\n",
    "\n",
    "    texts = []\n",
    "    for doc in iterator:\n",
    "        # Concatenate question and answer text\n",
    "        q = doc.get(\"question\", \"\")\n",
    "        r = doc.get(\"response\", \"\")\n",
    "        t = (q + \" \" + r).strip()\n",
    "        texts.append(t)\n",
    "    return texts\n",
    "\n",
    "texts = prepare_texts(documents)\n",
    "texts"
   ]
  },
  {
   "cell_type": "code",
   "execution_count": null,
   "id": "58d851bf",
   "metadata": {},
   "outputs": [],
   "source": [
    "def get_embeddings(\n",
    "    texts: \"str | list[str]\",\n",
    "    model_name=\"nomic-ai/nomic-embed-text-v1.5\",\n",
    "    batch_size=384,  # 256\n",
    "    show_progress: bool = True,\n",
    "):\n",
    "    \"\"\"\n",
    "    Generate embeddings with FastEmbed.\n",
    "    \"\"\"\n",
    "    # Ensure list input\n",
    "    if isinstance(texts, str):\n",
    "        texts = [texts]\n",
    "    # Automatically uses BAAI/bge-small-en-v1.5 without credentials + invalid token (authentication fails)\n",
    "    embedder = TextEmbedding(model_name=model_name)\n",
    "    # embeddings = embedder.embed(texts, batch_size=batch_size)  # handle all 424\n",
    "    if show_progress:\n",
    "        texts = tqdm(texts, desc=\"Embedding texts\", disable=False)\n",
    "    embeddings = []\n",
    "    for text in texts:\n",
    "        embeddings.extend(embedder.embed(text, batch_size=batch_size))\n",
    "    return embeddings\n",
    "\n",
    "\n",
    "def embed_documents(\n",
    "    documents, \n",
    "    model_name=\"nomic-ai/nomic-embed-text-v1.5\", \n",
    "    show_progress: bool = True\n",
    "):\n",
    "    \"\"\"\n",
    "    Main function: Convert documents (list of dicts) -> embeddings (numpy array).\n",
    "\n",
    "    Args:\n",
    "        documents (list[dict]): Documents with text field(s).\n",
    "        model_name (str): Embedding model name.\n",
    "        show_progress (bool): Whether to show progress bar.\n",
    "\n",
    "    Returns:\n",
    "        np.ndarray: Matrix of embeddings (num_docs x dim).\n",
    "    \"\"\"\n",
    "    # Prepare texts (assuming prepare_texts is your own function)\n",
    "    texts = prepare_texts(documents, show_progress=show_progress)\n",
    "\n",
    "    # Get embeddings as a list of vectors\n",
    "    embeddings = get_embeddings(texts, model_name)\n",
    "\n",
    "    # Convert to numpy array for easier downstream use\n",
    "    return embeddings  # np.array(embeddings)"
   ]
  },
  {
   "cell_type": "code",
   "execution_count": null,
   "id": "d5e910ec",
   "metadata": {},
   "outputs": [
    {
     "data": {
      "application/vnd.jupyter.widget-view+json": {
       "model_id": "38469f0dca394748b91b5192ec2129db",
       "version_major": 2,
       "version_minor": 0
      },
      "text/plain": [
       "Preparing texts:   0%|          | 0/424 [00:00<?, ?it/s]"
      ]
     },
     "metadata": {},
     "output_type": "display_data"
    },
    {
     "name": "stdout",
     "output_type": "stream",
     "text": [
      "Embeddings shape: 424 768\n"
     ]
    }
   ],
   "source": [
    "X = embed_documents(documents)\n",
    "print(\"Embeddings shape:\", len(X), len(X[0]))  # if array (n_docs, embedding_dim)"
   ]
  },
  {
   "cell_type": "code",
   "execution_count": 25,
   "id": "ab2a0786",
   "metadata": {},
   "outputs": [],
   "source": [
    "# # Create a pipeline: TF-IDF vectorization + Truncated SVD (128 dimensions)\n",
    "# pipeline = make_pipeline(\n",
    "#     TfidfVectorizer(min_df=1, ngram_range=(1,1), norm='l1'),  # ignore rare words\n",
    "#     TruncatedSVD(n_components=128, random_state=0)  # reduce to 128D\n",
    "# )#.set_output(transform='pandas')\n",
    "\n",
    "# # Fit and transform the texts into embeddings (2D numpy array)\n",
    "# X = pipeline.fit_transform(texts)  # pipeline.transform([query[\"question\"]])  # shape: (1, 128) query is still only the question\n",
    "# X"
   ]
  },
  {
   "cell_type": "code",
   "execution_count": 84,
   "id": "468a4405",
   "metadata": {},
   "outputs": [
    {
     "data": {
      "text/plain": [
       "<minsearch.vector.VectorSearch at 0x23a38c4e9f0>"
      ]
     },
     "execution_count": 84,
     "metadata": {},
     "output_type": "execute_result"
    }
   ],
   "source": [
    "# Initialize the vector index with 'id' as a keyword filter\n",
    "vindex = VectorSearch(keyword_fields=['category'])\n",
    "\n",
    "# Fit the vector index with our embeddings and original documents\n",
    "vindex.fit(X, documents)"
   ]
  },
  {
   "cell_type": "code",
   "execution_count": 96,
   "id": "a83ea3fa",
   "metadata": {},
   "outputs": [],
   "source": [
    "def vector_search_function(query, model_name=\"nomic-ai/nomic-embed-text-v1.5\", show_progress: bool = True):\n",
    "    # Convert the input question to a single embedding vector\n",
    "    # query_vec = pipeline.transform([query[\"question\"]])  # shape: (1, 128) query is still only the question\n",
    "    query_vec = get_embeddings([query[\"question\"]], model_name, show_progress=show_progress)\n",
    "\n",
    "    # Run the vector search, filter by 'id'\n",
    "    return vindex.search(\n",
    "        query_vector=query_vec[0],  # use 1D vector\n",
    "        filter_dict={\"category\": query[\"category\"]},  # filter documents by id\n",
    "        num_results=5  # return top 5 matches\n",
    "    )"
   ]
  },
  {
   "cell_type": "code",
   "execution_count": 97,
   "id": "95b09dcb",
   "metadata": {},
   "outputs": [
    {
     "data": {
      "text/plain": [
       "{'hit_rate': 0.031922276197085354, 'mrr': 0.014688873467499416}"
      ]
     },
     "execution_count": 97,
     "metadata": {},
     "output_type": "execute_result"
    }
   ],
   "source": [
    "# Use the same evaluation function from earlier\n",
    "results = evaluate(ground_truth, lambda x: vector_search_function(x, model_name=\"nomic-ai/nomic-embed-text-v1.5\", show_progress=False))\n",
    "\n",
    "from IPython.display import clear_output\n",
    "clear_output(wait=True)\n",
    "\n",
    "results"
   ]
  },
  {
   "cell_type": "markdown",
   "id": "95137144-7060-4e4c-aba5-359de3085144",
   "metadata": {},
   "source": [
    "## Finding the best parameters"
   ]
  },
  {
   "cell_type": "code",
   "execution_count": 98,
   "id": "387e641c-6592-4e4f-b191-1e5ca7598f2e",
   "metadata": {},
   "outputs": [],
   "source": [
    "df_validation = df_question[:len(df_question)//2]\n",
    "df_test = df_question[len(df_question)//2:]"
   ]
  },
  {
   "cell_type": "code",
   "execution_count": 31,
   "id": "1a95c044-df61-4cb6-84a9-19ff9e1ef107",
   "metadata": {},
   "outputs": [],
   "source": [
    "import random\n",
    "\n",
    "random.seed(0)\n",
    "\n",
    "def simple_optimize(param_ranges, objective_function, n_iterations=10):\n",
    "    best_params = None\n",
    "    best_score = float('-inf')  # Assuming we're minimizing. Use float('-inf') if maximizing.\n",
    "\n",
    "    for _ in range(n_iterations):\n",
    "        # Generate random parameters\n",
    "        current_params = {}\n",
    "        for param, (min_val, max_val) in param_ranges.items():\n",
    "            if isinstance(min_val, int) and isinstance(max_val, int):\n",
    "                current_params[param] = random.randint(min_val, max_val)\n",
    "            else:\n",
    "                current_params[param] = random.uniform(min_val, max_val)\n",
    "\n",
    "        # Evaluate the objective function\n",
    "        current_score = objective_function(current_params)\n",
    "\n",
    "        # Update best if current is better\n",
    "        if current_score > best_score:  # Change to > if maximizing\n",
    "            best_score = current_score\n",
    "            best_params = current_params\n",
    "\n",
    "    return best_params, best_score"
   ]
  },
  {
   "cell_type": "code",
   "execution_count": 32,
   "id": "6535225c-aa11-4875-895e-f84f2020083a",
   "metadata": {},
   "outputs": [],
   "source": [
    "gt_val = df_validation.to_dict(orient='records')"
   ]
  },
  {
   "cell_type": "code",
   "execution_count": 33,
   "id": "33d2c962-b56a-4f1d-892a-1b84e89f4f0d",
   "metadata": {},
   "outputs": [],
   "source": [
    "def minsearch_search(query, boost=None):\n",
    "    if boost is None:\n",
    "        boost = {}\n",
    "\n",
    "    results = index.search(\n",
    "        query=query['question'],  # string directly or export\n",
    "        filter_dict={'category': query[\"category\"]},\n",
    "        boost_dict=boost,\n",
    "        num_results=10\n",
    "    )\n",
    "\n",
    "    return results"
   ]
  },
  {
   "cell_type": "code",
   "execution_count": 34,
   "id": "9d61d688-45a0-40c9-bf5a-e87ad778ac0b",
   "metadata": {},
   "outputs": [],
   "source": [
    "param_ranges = {\n",
    "    'intent': (0.0, 10.0),\n",
    "    'question': (0.0, 10.0),\n",
    "    'response': (0.0, 10.0),\n",
    "    'category': (0.0, 10.0),\n",
    "}\n",
    "\n",
    "def objective(boost_params):\n",
    "    def search_function(q):\n",
    "        return minsearch_search(q, boost_params)\n",
    "\n",
    "    results = evaluate(gt_val, search_function)\n",
    "    return results['mrr']"
   ]
  },
  {
   "cell_type": "code",
   "execution_count": 35,
   "id": "85f903c6-9c07-4399-9cca-e12bda23e7b7",
   "metadata": {},
   "outputs": [
    {
     "data": {
      "application/vnd.jupyter.widget-view+json": {
       "model_id": "585ed26ca12d4682a28718baeb949b4a",
       "version_major": 2,
       "version_minor": 0
      },
      "text/plain": [
       "  0%|          | 0/720 [00:00<?, ?it/s]"
      ]
     },
     "metadata": {},
     "output_type": "display_data"
    },
    {
     "data": {
      "application/vnd.jupyter.widget-view+json": {
       "model_id": "4834c6a03e1a4ed7a454dd65047140e7",
       "version_major": 2,
       "version_minor": 0
      },
      "text/plain": [
       "  0%|          | 0/720 [00:00<?, ?it/s]"
      ]
     },
     "metadata": {},
     "output_type": "display_data"
    },
    {
     "data": {
      "application/vnd.jupyter.widget-view+json": {
       "model_id": "d3320041f22641b281ea95e6ef4434a4",
       "version_major": 2,
       "version_minor": 0
      },
      "text/plain": [
       "  0%|          | 0/720 [00:00<?, ?it/s]"
      ]
     },
     "metadata": {},
     "output_type": "display_data"
    },
    {
     "data": {
      "application/vnd.jupyter.widget-view+json": {
       "model_id": "58a09797a1384d5a80fd041b5297647b",
       "version_major": 2,
       "version_minor": 0
      },
      "text/plain": [
       "  0%|          | 0/720 [00:00<?, ?it/s]"
      ]
     },
     "metadata": {},
     "output_type": "display_data"
    },
    {
     "data": {
      "application/vnd.jupyter.widget-view+json": {
       "model_id": "00a2ea98ee9c4d10af43f43dfc2b3fa9",
       "version_major": 2,
       "version_minor": 0
      },
      "text/plain": [
       "  0%|          | 0/720 [00:00<?, ?it/s]"
      ]
     },
     "metadata": {},
     "output_type": "display_data"
    },
    {
     "data": {
      "application/vnd.jupyter.widget-view+json": {
       "model_id": "e3ac08e79bc443fa8ccb3546a02cbd3a",
       "version_major": 2,
       "version_minor": 0
      },
      "text/plain": [
       "  0%|          | 0/720 [00:00<?, ?it/s]"
      ]
     },
     "metadata": {},
     "output_type": "display_data"
    },
    {
     "data": {
      "application/vnd.jupyter.widget-view+json": {
       "model_id": "6c4862975fc64725a16fb68dc08b1e21",
       "version_major": 2,
       "version_minor": 0
      },
      "text/plain": [
       "  0%|          | 0/720 [00:00<?, ?it/s]"
      ]
     },
     "metadata": {},
     "output_type": "display_data"
    },
    {
     "data": {
      "application/vnd.jupyter.widget-view+json": {
       "model_id": "1e6b6c46bced42098a66b234ca700657",
       "version_major": 2,
       "version_minor": 0
      },
      "text/plain": [
       "  0%|          | 0/720 [00:00<?, ?it/s]"
      ]
     },
     "metadata": {},
     "output_type": "display_data"
    },
    {
     "data": {
      "application/vnd.jupyter.widget-view+json": {
       "model_id": "14458d3429a54edb9ee98efbecdc4d69",
       "version_major": 2,
       "version_minor": 0
      },
      "text/plain": [
       "  0%|          | 0/720 [00:00<?, ?it/s]"
      ]
     },
     "metadata": {},
     "output_type": "display_data"
    },
    {
     "data": {
      "application/vnd.jupyter.widget-view+json": {
       "model_id": "e852c9a6a39441ce973cf0475d62ecfa",
       "version_major": 2,
       "version_minor": 0
      },
      "text/plain": [
       "  0%|          | 0/720 [00:00<?, ?it/s]"
      ]
     },
     "metadata": {},
     "output_type": "display_data"
    },
    {
     "data": {
      "application/vnd.jupyter.widget-view+json": {
       "model_id": "3190c20a2abf43ac9a7a8e2f2342999b",
       "version_major": 2,
       "version_minor": 0
      },
      "text/plain": [
       "  0%|          | 0/720 [00:00<?, ?it/s]"
      ]
     },
     "metadata": {},
     "output_type": "display_data"
    },
    {
     "data": {
      "application/vnd.jupyter.widget-view+json": {
       "model_id": "ba3f9bf916e4489c8e90c1851b666ce2",
       "version_major": 2,
       "version_minor": 0
      },
      "text/plain": [
       "  0%|          | 0/720 [00:00<?, ?it/s]"
      ]
     },
     "metadata": {},
     "output_type": "display_data"
    },
    {
     "data": {
      "application/vnd.jupyter.widget-view+json": {
       "model_id": "d725438aaa794cc3b2d3060e49bf3010",
       "version_major": 2,
       "version_minor": 0
      },
      "text/plain": [
       "  0%|          | 0/720 [00:00<?, ?it/s]"
      ]
     },
     "metadata": {},
     "output_type": "display_data"
    },
    {
     "data": {
      "application/vnd.jupyter.widget-view+json": {
       "model_id": "413685bc6e974842b77685e1d6eb46b3",
       "version_major": 2,
       "version_minor": 0
      },
      "text/plain": [
       "  0%|          | 0/720 [00:00<?, ?it/s]"
      ]
     },
     "metadata": {},
     "output_type": "display_data"
    },
    {
     "data": {
      "application/vnd.jupyter.widget-view+json": {
       "model_id": "be119541bf5043e78d9087e5dc2ecdcc",
       "version_major": 2,
       "version_minor": 0
      },
      "text/plain": [
       "  0%|          | 0/720 [00:00<?, ?it/s]"
      ]
     },
     "metadata": {},
     "output_type": "display_data"
    },
    {
     "data": {
      "application/vnd.jupyter.widget-view+json": {
       "model_id": "60bb5bff7f334e5fb940bf300c4a4f7c",
       "version_major": 2,
       "version_minor": 0
      },
      "text/plain": [
       "  0%|          | 0/720 [00:00<?, ?it/s]"
      ]
     },
     "metadata": {},
     "output_type": "display_data"
    },
    {
     "data": {
      "application/vnd.jupyter.widget-view+json": {
       "model_id": "65cf5412f78e4e4ea1254add6af6f4cb",
       "version_major": 2,
       "version_minor": 0
      },
      "text/plain": [
       "  0%|          | 0/720 [00:00<?, ?it/s]"
      ]
     },
     "metadata": {},
     "output_type": "display_data"
    },
    {
     "data": {
      "application/vnd.jupyter.widget-view+json": {
       "model_id": "24d0101fb5d34052b5e65e91f1933e4a",
       "version_major": 2,
       "version_minor": 0
      },
      "text/plain": [
       "  0%|          | 0/720 [00:00<?, ?it/s]"
      ]
     },
     "metadata": {},
     "output_type": "display_data"
    },
    {
     "data": {
      "application/vnd.jupyter.widget-view+json": {
       "model_id": "b5aab7700afb4a0aa1f86f18e9661902",
       "version_major": 2,
       "version_minor": 0
      },
      "text/plain": [
       "  0%|          | 0/720 [00:00<?, ?it/s]"
      ]
     },
     "metadata": {},
     "output_type": "display_data"
    },
    {
     "data": {
      "application/vnd.jupyter.widget-view+json": {
       "model_id": "f2d74a8f60b94fd1b03aa9c1dce9da7b",
       "version_major": 2,
       "version_minor": 0
      },
      "text/plain": [
       "  0%|          | 0/720 [00:00<?, ?it/s]"
      ]
     },
     "metadata": {},
     "output_type": "display_data"
    },
    {
     "data": {
      "text/plain": [
       "({'intent': 5.756510141648885,\n",
       "  'question': 2.90329502402758,\n",
       "  'response': 1.8939132855435614,\n",
       "  'category': 1.867295282555551},\n",
       " 0.016361331569664902)"
      ]
     },
     "execution_count": 35,
     "metadata": {},
     "output_type": "execute_result"
    }
   ],
   "source": [
    "# return best_params, best_score\n",
    "best_params, best_score = simple_optimize(param_ranges, objective, n_iterations=20)\n",
    "best_params, best_score"
   ]
  },
  {
   "cell_type": "code",
   "execution_count": 42,
   "id": "50319af8",
   "metadata": {},
   "outputs": [
    {
     "name": "stderr",
     "output_type": "stream",
     "text": [
      "[I 2025-09-08 06:22:01,024] A new study created in memory with name: no-name-a39b601e-cfec-42cc-a450-e723177135b8\n"
     ]
    },
    {
     "data": {
      "application/vnd.jupyter.widget-view+json": {
       "model_id": "04e65891310146508c934b6ab3aeea28",
       "version_major": 2,
       "version_minor": 0
      },
      "text/plain": [
       "  0%|          | 0/100 [00:00<?, ?it/s]"
      ]
     },
     "metadata": {},
     "output_type": "display_data"
    },
    {
     "name": "stdout",
     "output_type": "stream",
     "text": [
      "[I 2025-09-08 06:22:45,820] Trial 1 finished with value: 0.01093915343915344 and parameters: {'intent': 1.5403377451088096, 'question': 2.5476811960809806, 'response': 9.02394355393403, 'category': 8.850083695483962}. Best is trial 1 with value: 0.01093915343915344.\n",
      "[I 2025-09-08 06:22:46,149] Trial 6 finished with value: 0.01358851410934744 and parameters: {'intent': 8.903157315448468, 'question': 3.593114631113875, 'response': 7.034764818790285, 'category': 9.753407017451167}. Best is trial 6 with value: 0.01358851410934744.\n",
      "[I 2025-09-08 06:22:46,555] Trial 2 finished with value: 0.01482142857142857 and parameters: {'intent': 1.8465988153968715, 'question': 6.68811792610421, 'response': 0.06792788057002008, 'category': 1.0474587725479945}. Best is trial 2 with value: 0.01482142857142857.\n",
      "[I 2025-09-08 06:22:46,829] Trial 5 finished with value: 0.015577050264550262 and parameters: {'intent': 2.6185354376755976, 'question': 4.501145161177468, 'response': 7.3610847684101195, 'category': 4.097004862141458}. Best is trial 5 with value: 0.015577050264550262.\n",
      "[I 2025-09-08 06:22:48,060] Trial 0 finished with value: 0.01599151234567901 and parameters: {'intent': 5.748504601118344, 'question': 7.5446814382433525, 'response': 3.307842147800243, 'category': 9.725837375152732}. Best is trial 0 with value: 0.01599151234567901.\n",
      "[I 2025-09-08 06:22:48,978] Trial 7 finished with value: 0.016221340388007047 and parameters: {'intent': 9.162386866368315, 'question': 5.844412605882624, 'response': 5.873683697712967, 'category': 2.8239090657416965}. Best is trial 7 with value: 0.016221340388007047.\n",
      "[I 2025-09-08 06:22:49,622] Trial 3 finished with value: 0.011098985890652557 and parameters: {'intent': 4.865679066900251, 'question': 1.833157698043676, 'response': 6.052146666962381, 'category': 9.023744235611687}. Best is trial 7 with value: 0.016221340388007047.\n",
      "[I 2025-09-08 06:22:49,850] Trial 4 finished with value: 0.015929232804232803 and parameters: {'intent': 0.47242967943664227, 'question': 7.7652856893802795, 'response': 2.468528670900497, 'category': 0.2530304756166257}. Best is trial 7 with value: 0.016221340388007047.\n",
      "[I 2025-09-08 06:23:32,419] Trial 8 finished with value: 0.015311397707231037 and parameters: {'intent': 0.340867920973037, 'question': 5.290942159790907, 'response': 4.790034822963597, 'category': 2.0042038086875467}. Best is trial 7 with value: 0.016221340388007047.\n",
      "[I 2025-09-08 06:23:32,859] Trial 10 finished with value: 0.016429673721340382 and parameters: {'intent': 4.347479192178838, 'question': 3.2701265157406576, 'response': 3.587589563617918, 'category': 7.585629876397206}. Best is trial 10 with value: 0.016429673721340382.\n",
      "[I 2025-09-08 06:23:33,278] Trial 9 finished with value: 0.016008597883597882 and parameters: {'intent': 4.483798085530436, 'question': 3.073844062329859, 'response': 1.5695471524609983, 'category': 9.564655488746288}. Best is trial 10 with value: 0.016429673721340382.\n",
      "[I 2025-09-08 06:23:33,659] Trial 11 finished with value: 0.015497685185185182 and parameters: {'intent': 7.087678860198538, 'question': 5.711153548312877, 'response': 8.596079333341564, 'category': 7.1202089595579485}. Best is trial 10 with value: 0.016429673721340382.\n",
      "[I 2025-09-08 06:23:35,304] Trial 13 finished with value: 0.015382495590828922 and parameters: {'intent': 8.696609611184552, 'question': 4.356981503188089, 'response': 3.8753869369747687, 'category': 3.6380154067469506}. Best is trial 10 with value: 0.016429673721340382.\n",
      "[I 2025-09-08 06:23:35,310] Trial 12 finished with value: 0.014908509700176365 and parameters: {'intent': 4.738214736515014, 'question': 2.0734557308207133, 'response': 0.18324792174828963, 'category': 3.8257117587104004}. Best is trial 10 with value: 0.016429673721340382.\n",
      "[I 2025-09-08 06:23:36,197] Trial 14 finished with value: 0.013147045855379187 and parameters: {'intent': 6.6633882971206795, 'question': 2.344900871364856, 'response': 6.342851907596517, 'category': 8.564107987990896}. Best is trial 10 with value: 0.016429673721340382.\n",
      "[I 2025-09-08 06:23:37,295] Trial 15 finished with value: 0.016008597883597882 and parameters: {'intent': 7.955228996376893, 'question': 6.749737024337232, 'response': 3.3686318911525106, 'category': 5.563972717424628}. Best is trial 10 with value: 0.016429673721340382.\n",
      "[I 2025-09-08 06:24:17,109] Trial 16 finished with value: 0.014444444444444442 and parameters: {'intent': 9.558687494152379, 'question': 2.4429099373286336, 'response': 4.418228880650339, 'category': 0.12903080472605355}. Best is trial 10 with value: 0.016429673721340382.\n",
      "[I 2025-09-08 06:24:18,690] Trial 19 finished with value: 0.009332561728395061 and parameters: {'intent': 9.83101761163827, 'question': 0.13446518409961694, 'response': 4.510521206660025, 'category': 5.082111204293978}. Best is trial 10 with value: 0.016429673721340382.\n",
      "[I 2025-09-08 06:24:20,185] Trial 18 finished with value: 0.00939429012345679 and parameters: {'intent': 9.487000083795953, 'question': 0.25469577511507824, 'response': 4.478099186402486, 'category': 6.925133541453046}. Best is trial 10 with value: 0.016429673721340382.\n",
      "[I 2025-09-08 06:24:20,425] Trial 17 finished with value: 0.016132605820105814 and parameters: {'intent': 5.105560788312119, 'question': 0.462596952811106, 'response': 0.4881547014369856, 'category': 6.6374098662725585}. Best is trial 10 with value: 0.016429673721340382.\n",
      "[I 2025-09-08 06:24:22,191] Trial 20 finished with value: 0.01593915343915344 and parameters: {'intent': 9.821833622462275, 'question': 9.47272831757395, 'response': 5.327980963550736, 'category': 5.8173843047872165}. Best is trial 10 with value: 0.016429673721340382.\n",
      "[I 2025-09-08 06:24:23,404] Trial 21 finished with value: 0.011201499118165785 and parameters: {'intent': 7.210510373053865, 'question': 0.7052903891479154, 'response': 5.450533195253051, 'category': 6.118605179991598}. Best is trial 10 with value: 0.016429673721340382.\n",
      "[I 2025-09-08 06:24:23,674] Trial 22 finished with value: 0.016008597883597882 and parameters: {'intent': 3.51806235035927, 'question': 9.787254273575288, 'response': 4.9253602428403696, 'category': 6.151275492426607}. Best is trial 10 with value: 0.016429673721340382.\n",
      "[I 2025-09-08 06:24:25,960] Trial 23 finished with value: 0.01636574074074074 and parameters: {'intent': 9.66797183583209, 'question': 8.82616679266122, 'response': 5.353837150255578, 'category': 7.199787716446744}. Best is trial 10 with value: 0.016429673721340382.\n",
      "[I 2025-09-08 06:25:01,910] Trial 24 finished with value: 0.016151895943562606 and parameters: {'intent': 2.9922784013265202, 'question': 9.391068425572467, 'response': 9.998192782364175, 'category': 6.181787337436}. Best is trial 10 with value: 0.016429673721340382.\n",
      "[I 2025-09-08 06:25:03,112] Trial 25 finished with value: 0.01636574074074074 and parameters: {'intent': 3.431665865660043, 'question': 9.948743472388104, 'response': 5.9899469950873225, 'category': 7.256558110735578}. Best is trial 10 with value: 0.016429673721340382.\n",
      "[I 2025-09-08 06:25:07,401] Trial 26 finished with value: 0.016245590828924163 and parameters: {'intent': 3.3918930998354435, 'question': 9.16801106711938, 'response': 5.731523739782685, 'category': 6.88530707299609}. Best is trial 10 with value: 0.016429673721340382.\n",
      "[I 2025-09-08 06:25:07,408] Trial 27 finished with value: 0.016216931216931216 and parameters: {'intent': 3.2372727290884846, 'question': 9.760345086694361, 'response': 6.04329624463312, 'category': 2.4643622636061018}. Best is trial 10 with value: 0.016429673721340382.\n",
      "[I 2025-09-08 06:25:08,632] Trial 28 finished with value: 0.014483024691358024 and parameters: {'intent': 2.993705065453166, 'question': 0.9070363478582291, 'response': 1.6128337074804742, 'category': 6.89290538649091}. Best is trial 10 with value: 0.016429673721340382.\n",
      "[I 2025-09-08 06:25:10,722] Trial 30 finished with value: 0.01602292768959435 and parameters: {'intent': 5.731031187547722, 'question': 1.160553101028686, 'response': 1.4993858186449778, 'category': 7.82429080819207}. Best is trial 10 with value: 0.016429673721340382.\n",
      "[I 2025-09-08 06:25:11,098] Trial 29 finished with value: 0.016008597883597882 and parameters: {'intent': 3.5184601558285076, 'question': 3.7982432401222495, 'response': 1.8615904228028335, 'category': 7.708356481703746}. Best is trial 10 with value: 0.016429673721340382.\n",
      "[I 2025-09-08 06:25:14,806] Trial 31 finished with value: 0.015453593474426805 and parameters: {'intent': 8.271541693456228, 'question': 8.925117759940182, 'response': 7.455967546244205, 'category': 8.17335592337899}. Best is trial 10 with value: 0.016429673721340382.\n",
      "[I 2025-09-08 06:25:47,208] Trial 32 finished with value: 0.015902226631393297 and parameters: {'intent': 8.179919036175939, 'question': 8.700386069917943, 'response': 2.466037941187737, 'category': 7.7615878097881055}. Best is trial 10 with value: 0.016429673721340382.\n",
      "[I 2025-09-08 06:25:49,811] Trial 33 finished with value: 0.015927028218694884 and parameters: {'intent': 3.817231353079832, 'question': 8.704585791235223, 'response': 2.409856094672758, 'category': 7.816777788405701}. Best is trial 10 with value: 0.016429673721340382.\n",
      "[I 2025-09-08 06:25:54,026] Trial 35 finished with value: 0.01535108024691358 and parameters: {'intent': 4.091651226726403, 'question': 8.413695954819989, 'response': 7.217927951514557, 'category': 7.6837392205400885}. Best is trial 10 with value: 0.016429673721340382.\n",
      "[I 2025-09-08 06:25:54,358] Trial 34 finished with value: 0.015384149029982362 and parameters: {'intent': 5.911706903609112, 'question': 8.536317152151444, 'response': 7.243431806779315, 'category': 7.82942995480837}. Best is trial 10 with value: 0.016429673721340382.\n",
      "[I 2025-09-08 06:25:55,301] Trial 36 finished with value: 0.016017967372134036 and parameters: {'intent': 5.7104017255227255, 'question': 8.53268784658498, 'response': 2.591301169794846, 'category': 7.849728128894926}. Best is trial 10 with value: 0.016429673721340382.\n",
      "[I 2025-09-08 06:25:56,393] Trial 37 finished with value: 0.015724757495590828 and parameters: {'intent': 4.125575167143635, 'question': 8.422127236060913, 'response': 2.8649745643729023, 'category': 8.027723777699727}. Best is trial 10 with value: 0.016429673721340382.\n",
      "[I 2025-09-08 06:25:59,663] Trial 38 finished with value: 0.015472883597883597 and parameters: {'intent': 2.1557687125674643, 'question': 8.597138593276526, 'response': 6.994512644902965, 'category': 7.877478423708041}. Best is trial 10 with value: 0.016429673721340382.\n",
      "[I 2025-09-08 06:26:02,112] Trial 39 finished with value: 0.01599151234567901 and parameters: {'intent': 4.211610301254972, 'question': 8.307400728995827, 'response': 3.698256703644263, 'category': 7.596287822371874}. Best is trial 10 with value: 0.016429673721340382.\n",
      "[I 2025-09-08 06:26:33,147] Trial 40 finished with value: 0.015453593474426805 and parameters: {'intent': 4.248429752233478, 'question': 8.141292797581404, 'response': 6.675192162044791, 'category': 7.401002151272658}. Best is trial 10 with value: 0.016429673721340382.\n",
      "[I 2025-09-08 06:26:37,284] Trial 41 finished with value: 0.015304783950617283 and parameters: {'intent': 2.0294996205904567, 'question': 7.886476260368342, 'response': 6.833914173132729, 'category': 7.27077590433165}. Best is trial 10 with value: 0.016429673721340382.\n",
      "[I 2025-09-08 06:26:40,757] Trial 43 finished with value: 0.016030092592592592 and parameters: {'intent': 1.948827486677719, 'question': 7.8042722500514285, 'response': 3.758271910456264, 'category': 4.8362934001218685}. Best is trial 10 with value: 0.016429673721340382.\n",
      "[I 2025-09-08 06:26:40,782] Trial 42 finished with value: 0.016030092592592592 and parameters: {'intent': 2.1540722260682137, 'question': 7.4124536286916785, 'response': 3.5471779053358814, 'category': 4.733878037595362}. Best is trial 10 with value: 0.016429673721340382.\n",
      "[I 2025-09-08 06:26:42,028] Trial 44 finished with value: 0.01605489417989418 and parameters: {'intent': 2.1967075679027523, 'question': 7.562137844571868, 'response': 3.6699680149773224, 'category': 9.128052333383543}. Best is trial 10 with value: 0.016429673721340382.\n",
      "[I 2025-09-08 06:26:43,962] Trial 45 finished with value: 0.016008597883597882 and parameters: {'intent': 2.0152273616168133, 'question': 7.546241911186186, 'response': 3.888472378830045, 'category': 9.148368330745145}. Best is trial 10 with value: 0.016429673721340382.\n",
      "[I 2025-09-08 06:26:48,073] Trial 46 finished with value: 0.015453593474426805 and parameters: {'intent': 1.4028769141884807, 'question': 8.01985033167296, 'response': 6.537076650797671, 'category': 9.262335007340885}. Best is trial 10 with value: 0.016429673721340382.\n",
      "[I 2025-09-08 06:26:50,739] Trial 47 finished with value: 0.015384149029982362 and parameters: {'intent': 2.302056775762772, 'question': 7.517936582529653, 'response': 6.362439706482494, 'category': 8.779788153842173}. Best is trial 10 with value: 0.016429673721340382.\n",
      "[I 2025-09-08 06:27:18,747] Trial 48 finished with value: 0.016254409171075835 and parameters: {'intent': 1.0238218006792237, 'question': 5.496132649635532, 'response': 5.476375838833821, 'category': 8.951002303134729}. Best is trial 10 with value: 0.016429673721340382.\n",
      "[I 2025-09-08 06:27:22,578] Trial 49 finished with value: 0.015735780423280422 and parameters: {'intent': 1.4805511453423046, 'question': 7.165318854546005, 'response': 5.392673363874837, 'category': 4.6470655767308795}. Best is trial 10 with value: 0.016429673721340382.\n",
      "[I 2025-09-08 06:27:27,787] Trial 50 finished with value: 0.015382495590828922 and parameters: {'intent': 1.1356717383869617, 'question': 6.2974661207771785, 'response': 5.6660885139865895, 'category': 8.940653357831957}. Best is trial 10 with value: 0.016429673721340382.\n",
      "[I 2025-09-08 06:27:28,302] Trial 51 finished with value: 0.01537092151675485 and parameters: {'intent': 5.116547486475855, 'question': 6.0796192497662025, 'response': 5.847874608768077, 'category': 8.971776501956688}. Best is trial 10 with value: 0.016429673721340382.\n",
      "[I 2025-09-08 06:27:28,851] Trial 52 finished with value: 0.01526510141093474 and parameters: {'intent': 1.2878298225344178, 'question': 6.291112025082088, 'response': 5.716785194931208, 'category': 3.243103966441968}. Best is trial 10 with value: 0.016429673721340382.\n",
      "[I 2025-09-08 06:27:30,047] Trial 53 finished with value: 0.016279210758377422 and parameters: {'intent': 1.0465914440143655, 'question': 5.997302902655292, 'response': 5.932959413015704, 'category': 2.782513518550558}. Best is trial 10 with value: 0.016429673721340382.\n",
      "[I 2025-09-08 06:27:35,967] Trial 54 finished with value: 0.016227402998236325 and parameters: {'intent': 1.4081392049137558, 'question': 5.745573204778572, 'response': 7.969511571278295, 'category': 8.515982000230313}. Best is trial 10 with value: 0.016429673721340382.\n",
      "[I 2025-09-08 06:27:37,796] Trial 55 finished with value: 0.01526510141093474 and parameters: {'intent': 1.3077090233653448, 'question': 6.005362928683091, 'response': 5.647975041525209, 'category': 3.1451330839778295}. Best is trial 10 with value: 0.016429673721340382.\n",
      "[I 2025-09-08 06:28:08,877] Trial 56 finished with value: 0.015384149029982362 and parameters: {'intent': 0.9140123281440603, 'question': 6.6876972441370475, 'response': 5.632385239686372, 'category': 8.613581929963852}. Best is trial 10 with value: 0.016429673721340382.\n",
      "[I 2025-09-08 06:28:13,157] Trial 57 finished with value: 0.013920304232804232 and parameters: {'intent': 0.6912655509249039, 'question': 3.0364858025120687, 'response': 7.840460790785549, 'category': 8.45285531492973}. Best is trial 10 with value: 0.016429673721340382.\n",
      "[I 2025-09-08 06:28:19,056] Trial 58 finished with value: 0.015688381834215167 and parameters: {'intent': 0.07050756539481728, 'question': 5.382947471856382, 'response': 7.909628194806074, 'category': 8.424950343235547}. Best is trial 10 with value: 0.016429673721340382.\n",
      "[I 2025-09-08 06:28:19,846] Trial 59 finished with value: 0.013505291005291005 and parameters: {'intent': 0.8127087905370505, 'question': 4.192804180167479, 'response': 7.934020926398624, 'category': 2.7165034410523177}. Best is trial 10 with value: 0.016429673721340382.\n",
      "[I 2025-09-08 06:28:20,594] Trial 60 finished with value: 0.016188271604938267 and parameters: {'intent': 9.045823284884404, 'question': 5.015103875331057, 'response': 5.085042225830078, 'category': 1.0649634521247986}. Best is trial 10 with value: 0.016429673721340382.\n",
      "[I 2025-09-08 06:28:21,599] Trial 61 finished with value: 0.015438161375661372 and parameters: {'intent': 0.962458148311077, 'question': 5.396393022595892, 'response': 8.297315731635594, 'category': 9.984098802288933}. Best is trial 10 with value: 0.016429673721340382.\n",
      "[I 2025-09-08 06:28:27,941] Trial 62 finished with value: 0.016464395943562606 and parameters: {'intent': 0.022894885883346205, 'question': 5.120311766582832, 'response': 5.035355456071596, 'category': 9.847893877170346}. Best is trial 62 with value: 0.016464395943562606.\n",
      "[I 2025-09-08 06:28:28,663] Trial 63 finished with value: 0.016188271604938267 and parameters: {'intent': 0.8966064238382749, 'question': 5.104783839163966, 'response': 5.151236223462151, 'category': 1.496717369212726}. Best is trial 62 with value: 0.016464395943562606.\n",
      "[I 2025-09-08 06:29:01,463] Trial 64 finished with value: 0.016117173721340382 and parameters: {'intent': 0.331967847484535, 'question': 4.722775943097566, 'response': 4.9529578297795425, 'category': 0.9119617904829702}. Best is trial 62 with value: 0.016464395943562606.\n",
      "[I 2025-09-08 06:29:06,219] Trial 65 finished with value: 0.016269841269841264 and parameters: {'intent': 0.08990588319117454, 'question': 5.1493842357237405, 'response': 5.134471538582377, 'category': 9.958197334434999}. Best is trial 62 with value: 0.016464395943562606.\n",
      "[I 2025-09-08 06:29:11,393] Trial 66 finished with value: 0.01610394620811287 and parameters: {'intent': 2.538090028743074, 'question': 4.526517312296219, 'response': 5.0678220845446145, 'category': 0.7079802974951113}. Best is trial 62 with value: 0.016464395943562606.\n",
      "[I 2025-09-08 06:29:12,395] Trial 67 finished with value: 0.01605489417989418 and parameters: {'intent': 4.730903571684988, 'question': 9.189169812618847, 'response': 4.83366856078074, 'category': 6.539439815483441}. Best is trial 62 with value: 0.016464395943562606.\n",
      "[I 2025-09-08 06:29:13,661] Trial 68 finished with value: 0.01622134038800705 and parameters: {'intent': 2.894785912458815, 'question': 9.208951630401582, 'response': 9.373922342565988, 'category': 6.509482317467569}. Best is trial 62 with value: 0.016464395943562606.\n",
      "[I 2025-09-08 06:29:14,782] Trial 69 finished with value: 0.0160108024691358 and parameters: {'intent': 2.663781768260595, 'question': 9.173818818915189, 'response': 4.347080169882711, 'category': 6.913363939957387}. Best is trial 62 with value: 0.016464395943562606.\n",
      "[I 2025-09-08 06:29:20,690] Trial 70 finished with value: 0.01599151234567901 and parameters: {'intent': 0.3940893278888854, 'question': 9.436965450848543, 'response': 4.222266895522807, 'category': 6.635587503300629}. Best is trial 62 with value: 0.016464395943562606.\n",
      "[I 2025-09-08 06:29:21,851] Trial 71 finished with value: 0.01537092151675485 and parameters: {'intent': 0.40212156902453233, 'question': 4.608831199932625, 'response': 4.427456401737509, 'category': 6.5299795545156005}. Best is trial 62 with value: 0.016464395943562606.\n",
      "[I 2025-09-08 06:29:53,428] Trial 72 finished with value: 0.016132605820105814 and parameters: {'intent': 2.551934105548635, 'question': 4.029525478187715, 'response': 4.260364522608173, 'category': 6.722888965984758}. Best is trial 62 with value: 0.016464395943562606.\n",
      "[I 2025-09-08 06:29:59,465] Trial 73 finished with value: 0.016117173721340382 and parameters: {'intent': 0.13984488141683277, 'question': 3.9483741917786186, 'response': 4.110364938169121, 'category': 9.642642361145022}. Best is trial 62 with value: 0.016464395943562606.\n",
      "[I 2025-09-08 06:30:03,748] Trial 74 finished with value: 0.01616512345679012 and parameters: {'intent': 0.4624277509337959, 'question': 3.6609578906282563, 'response': 4.35349041224051, 'category': 9.529168299271298}. Best is trial 62 with value: 0.016464395943562606.\n",
      "[I 2025-09-08 06:30:04,769] Trial 75 finished with value: 0.01605324074074074 and parameters: {'intent': 0.046833932633287764, 'question': 9.972019892411899, 'response': 4.168187448186912, 'category': 9.73468054736867}. Best is trial 62 with value: 0.016464395943562606.\n",
      "[I 2025-09-08 06:30:06,401] Trial 77 finished with value: 0.01599151234567901 and parameters: {'intent': 0.01764982525223946, 'question': 9.932544833114386, 'response': 4.239698819844222, 'category': 9.697787281607178}. Best is trial 62 with value: 0.016464395943562606.\n",
      "[I 2025-09-08 06:30:06,984] Trial 76 finished with value: 0.016151895943562606 and parameters: {'intent': 0.4344470176218705, 'question': 4.061988563375749, 'response': 4.3291797102364, 'category': 9.45244148218016}. Best is trial 62 with value: 0.016464395943562606.\n",
      "[I 2025-09-08 06:30:12,508] Trial 78 finished with value: 0.016245590828924163 and parameters: {'intent': 0.05205254649389868, 'question': 9.964941644257328, 'response': 6.279245622222793, 'category': 9.560343919793844}. Best is trial 62 with value: 0.016464395943562606.\n",
      "[I 2025-09-08 06:30:14,559] Trial 79 finished with value: 0.016291887125220457 and parameters: {'intent': 1.7470809599844088, 'question': 9.773984279649339, 'response': 6.334885725577911, 'category': 9.555763476023671}. Best is trial 62 with value: 0.016464395943562606.\n",
      "[I 2025-09-08 06:30:45,318] Trial 80 finished with value: 0.014421296296296295 and parameters: {'intent': 0.10556332335338355, 'question': 3.3663809068089936, 'response': 6.238202163066429, 'category': 9.483066293851543}. Best is trial 62 with value: 0.016464395943562606.\n",
      "[I 2025-09-08 06:30:51,976] Trial 81 finished with value: 0.016216931216931216 and parameters: {'intent': 3.6890364228511503, 'question': 9.958137896173303, 'response': 6.112588642249721, 'category': 9.983025725029707}. Best is trial 62 with value: 0.016464395943562606.\n",
      "[I 2025-09-08 06:30:55,757] Trial 82 finished with value: 0.013787477954144619 and parameters: {'intent': 3.6475961390019687, 'question': 3.0762570126162254, 'response': 6.142082687282419, 'category': 5.394389261129835}. Best is trial 62 with value: 0.016464395943562606.\n",
      "[I 2025-09-08 06:30:56,704] Trial 83 finished with value: 0.013634810405643738 and parameters: {'intent': 3.5038552590079757, 'question': 3.1177947874128225, 'response': 6.112088201744234, 'category': 5.591779381386893}. Best is trial 62 with value: 0.016464395943562606.\n",
      "[I 2025-09-08 06:30:59,327] Trial 84 finished with value: 0.011164572310405645 and parameters: {'intent': 1.7066465232964187, 'question': 1.6313145277261882, 'response': 6.145657033876008, 'category': 5.27674922641485}. Best is trial 62 with value: 0.016464395943562606.\n",
      "[I 2025-09-08 06:30:59,479] Trial 85 finished with value: 0.011263227513227515 and parameters: {'intent': 1.72686169382595, 'question': 1.6999393502541833, 'response': 6.147289778307155, 'category': 5.580027216280967}. Best is trial 62 with value: 0.016464395943562606.\n",
      "[I 2025-09-08 06:31:03,936] Trial 86 finished with value: 0.01610394620811287 and parameters: {'intent': 3.5846350526677404, 'question': 5.53692236231825, 'response': 6.231019146800215, 'category': 5.521978682074796}. Best is trial 62 with value: 0.016464395943562606.\n",
      "[I 2025-09-08 06:31:05,886] Trial 87 finished with value: 0.011242283950617285 and parameters: {'intent': 1.718558177195115, 'question': 1.4243574376853574, 'response': 6.2444665924098235, 'category': 9.939157719521793}. Best is trial 62 with value: 0.016464395943562606.\n",
      "[I 2025-09-08 06:31:33,022] Trial 88 finished with value: 0.016429673721340382 and parameters: {'intent': 3.497403469385225, 'question': 5.565996368160187, 'response': 6.1076018048761185, 'category': 9.984207250620464}. Best is trial 62 with value: 0.016464395943562606.\n",
      "[I 2025-09-08 06:31:39,651] Trial 89 finished with value: 0.016078042328042327 and parameters: {'intent': 3.28165921513129, 'question': 9.63979766272244, 'response': 5.331490741490649, 'category': 8.124003245389174}. Best is trial 62 with value: 0.016464395943562606.\n",
      "[I 2025-09-08 06:31:43,518] Trial 91 finished with value: 0.01593915343915344 and parameters: {'intent': 1.7286120023558555, 'question': 9.600296523818004, 'response': 5.395657003085448, 'category': 8.23976455809124}. Best is trial 62 with value: 0.016464395943562606.\n",
      "[I 2025-09-08 06:31:43,826] Trial 90 finished with value: 0.01605489417989418 and parameters: {'intent': 1.7666476649800305, 'question': 8.984785957531933, 'response': 4.68464195426917, 'category': 8.225208989389401}. Best is trial 62 with value: 0.016464395943562606.\n",
      "[I 2025-09-08 06:31:44,126] Trial 93 finished with value: 0.016008597883597882 and parameters: {'intent': 4.502276487886945, 'question': 9.691293345780789, 'response': 4.750481145234746, 'category': 8.212772541216093}. Best is trial 62 with value: 0.016464395943562606.\n",
      "[I 2025-09-08 06:31:44,742] Trial 92 finished with value: 0.016008597883597882 and parameters: {'intent': 3.306472640492326, 'question': 9.614147980696611, 'response': 4.751793020068424, 'category': 4.3353086741429685}. Best is trial 62 with value: 0.016464395943562606.\n",
      "[I 2025-09-08 06:31:51,014] Trial 94 finished with value: 0.01636574074074074 and parameters: {'intent': 0.6913215635915169, 'question': 8.930385802121412, 'response': 5.283699594196747, 'category': 8.105013429881483}. Best is trial 62 with value: 0.016464395943562606.\n",
      "[I 2025-09-08 06:31:52,247] Trial 95 finished with value: 0.01605489417989418 and parameters: {'intent': 7.507270040535799, 'question': 8.833739613625234, 'response': 4.710302137690745, 'category': 8.176033953552164}. Best is trial 62 with value: 0.016464395943562606.\n",
      "[I 2025-09-08 06:32:04,346] Trial 96 finished with value: 0.015218805114638445 and parameters: {'intent': 5.39957748990693, 'question': 4.927845904772593, 'response': 4.64087771223861, 'category': 8.19119404695674}. Best is trial 62 with value: 0.016464395943562606.\n",
      "[I 2025-09-08 06:32:07,726] Trial 97 finished with value: 0.016245039682539677 and parameters: {'intent': 6.28929493782652, 'question': 4.8934005984725095, 'response': 6.6442817887961105, 'category': 9.345074888995917}. Best is trial 62 with value: 0.016464395943562606.\n",
      "[I 2025-09-08 06:32:08,256] Trial 98 finished with value: 0.01605489417989418 and parameters: {'intent': 4.516275293390068, 'question': 8.873501238115438, 'response': 4.660200205028631, 'category': 9.2292916769645}. Best is trial 62 with value: 0.016464395943562606.\n",
      "[I 2025-09-08 06:32:08,495] Trial 99 finished with value: 0.016150242504409166 and parameters: {'intent': 6.388229580521999, 'question': 4.850291734670565, 'response': 5.902486353882014, 'category': 9.296648670118287}. Best is trial 62 with value: 0.016464395943562606.\n",
      "Best params: {'intent': 0.022894885883346205, 'question': 5.120311766582832, 'response': 5.035355456071596, 'category': 9.847893877170346}\n",
      "Best MRR: 0.016464395943562606\n"
     ]
    }
   ],
   "source": [
    "import optuna\n",
    "\n",
    "def objective(trial):\n",
    "    # Suggest float values in the given ranges\n",
    "    boost_params = {\n",
    "        k: trial.suggest_float(k, low, high)\n",
    "        for k, (low, high) in param_ranges.items()\n",
    "    }\n",
    "\n",
    "    def search_function(q):\n",
    "        return minsearch_search(q, boost_params)\n",
    "\n",
    "    # Evaluate on validation set\n",
    "    results = evaluate(gt_val, search_function, disable=True)\n",
    "    return results['mrr']\n",
    "\n",
    "# Run optimization\n",
    "study = optuna.create_study(direction=\"maximize\")  # maximize MRR\n",
    "study.optimize(objective, n_trials=100, gc_after_trial=True, show_progress_bar=True, n_jobs=-1)\n",
    "\n",
    "# Best params\n",
    "print(\"Best params:\", study.best_params)\n",
    "print(\"Best MRR:\", study.best_value)"
   ]
  },
  {
   "cell_type": "code",
   "execution_count": 37,
   "id": "9319b465",
   "metadata": {},
   "outputs": [
    {
     "data": {
      "text/plain": [
       "{'intent': 5.756510141648885,\n",
       " 'question': 2.90329502402758,\n",
       " 'response': 1.8939132855435614,\n",
       " 'category': 1.867295282555551}"
      ]
     },
     "execution_count": 37,
     "metadata": {},
     "output_type": "execute_result"
    }
   ],
   "source": [
    "best_params"
   ]
  },
  {
   "cell_type": "code",
   "execution_count": 43,
   "id": "54864e41",
   "metadata": {},
   "outputs": [
    {
     "data": {
      "text/plain": [
       "{'intent': 0.022894885883346205,\n",
       " 'question': 5.120311766582832,\n",
       " 'response': 5.035355456071596,\n",
       " 'category': 9.847893877170346}"
      ]
     },
     "execution_count": 43,
     "metadata": {},
     "output_type": "execute_result"
    }
   ],
   "source": [
    "study.best_params"
   ]
  },
  {
   "cell_type": "code",
   "execution_count": 44,
   "id": "d3759701",
   "metadata": {},
   "outputs": [],
   "source": [
    "def minsearch_improved(query, best_params):\n",
    "    boost = {\n",
    "       'intent': best_params[\"intent\"],\n",
    "        'question': best_params[\"question\"],\n",
    "        'response': best_params[\"response\"],\n",
    "        'category': best_params[\"category\"],\n",
    "    }\n",
    "\n",
    "    results = index.search(\n",
    "        query=query['question'],  # string directly or export\n",
    "        filter_dict={'category': query[\"category\"]},\n",
    "        boost_dict=boost,\n",
    "        num_results=10\n",
    "    )\n",
    "\n",
    "    return results"
   ]
  },
  {
   "cell_type": "code",
   "execution_count": null,
   "id": "929633e4",
   "metadata": {},
   "outputs": [],
   "source": [
    "# {'hit_rate': 0.046495489243580844, 'mrr': 0.01509368494101318}"
   ]
  },
  {
   "cell_type": "code",
   "execution_count": 47,
   "id": "1ea5f794",
   "metadata": {},
   "outputs": [
    {
     "data": {
      "application/vnd.jupyter.widget-view+json": {
       "model_id": "bc05dad4753d49f1b21f0974cbd46521",
       "version_major": 2,
       "version_minor": 0
      },
      "text/plain": [
       "  0%|          | 0/1441 [00:00<?, ?it/s]"
      ]
     },
     "metadata": {},
     "output_type": "display_data"
    },
    {
     "data": {
      "text/plain": [
       "{'hit_rate': 0.04371963913948647, 'mrr': 0.014952413998215525}"
      ]
     },
     "execution_count": 47,
     "metadata": {},
     "output_type": "execute_result"
    }
   ],
   "source": [
    "evaluate(ground_truth, lambda q: minsearch_improved(q, best_params))"
   ]
  },
  {
   "cell_type": "code",
   "execution_count": 46,
   "id": "13221a24",
   "metadata": {},
   "outputs": [
    {
     "data": {
      "application/vnd.jupyter.widget-view+json": {
       "model_id": "54ef9e8bae394239a611bd808e6ea2df",
       "version_major": 2,
       "version_minor": 0
      },
      "text/plain": [
       "  0%|          | 0/1441 [00:00<?, ?it/s]"
      ]
     },
     "metadata": {},
     "output_type": "display_data"
    },
    {
     "data": {
      "text/plain": [
       "{'hit_rate': 0.04718945176960444, 'mrr': 0.015215128383067307}"
      ]
     },
     "execution_count": 46,
     "metadata": {},
     "output_type": "execute_result"
    }
   ],
   "source": [
    "evaluate(ground_truth, lambda q: minsearch_improved(q, study.best_params))"
   ]
  },
  {
   "cell_type": "code",
   "execution_count": 14,
   "id": "b4fef26a",
   "metadata": {},
   "outputs": [],
   "source": [
    "best_params = {'intent': 0.022894885883346205,\n",
    " 'question': 5.120311766582832,\n",
    " 'response': 5.035355456071596,\n",
    " 'category': 9.847893877170346}"
   ]
  },
  {
   "cell_type": "markdown",
   "id": "4de669d5-f9a4-4da0-b533-2781204ece3b",
   "metadata": {},
   "source": [
    "# RAG evaluation/monitoring"
   ]
  },
  {
   "cell_type": "code",
   "execution_count": null,
   "id": "bddcc936",
   "metadata": {},
   "outputs": [],
   "source": [
    "import sys\n",
    "sys.path.append(\"../assistant\")\n",
    "\n",
    "import os\n",
    "os.environ[\"LLM_PROVIDER\"]=\"HF\"\n",
    "from config import SETTINGS"
   ]
  },
  {
   "cell_type": "code",
   "execution_count": null,
   "id": "c4255c95",
   "metadata": {},
   "outputs": [],
   "source": [
    "SETTINGS.HF_API_KEY = \"hf_...\""
   ]
  },
  {
   "cell_type": "code",
   "execution_count": 25,
   "id": "deb63a80",
   "metadata": {},
   "outputs": [
    {
     "name": "stdout",
     "output_type": "stream",
     "text": [
      "HF\n",
      "https://router.huggingface.co/v1\n",
      "nomic-ai/nomic-embed-text-v1.5\n",
      "openai/gpt-oss-120b\n"
     ]
    }
   ],
   "source": [
    "print(SETTINGS.LLM_PROVIDER)\n",
    "# print(SETTINGS.API_KEY)\n",
    "print(SETTINGS.BASE_URL)\n",
    "print(SETTINGS.MODEL_EMBED)\n",
    "print(SETTINGS.MODEL_CHAT)"
   ]
  },
  {
   "cell_type": "code",
   "execution_count": 26,
   "id": "c0eef0c9-3e59-4b02-9f49-57f7ae78e84d",
   "metadata": {},
   "outputs": [],
   "source": [
    "from openai import OpenAI\n",
    "\n",
    "# client = OpenAI(api_key=os.getenv(\"OPENAI_API_KEY\"))  # Initialize the OpenAI client\n",
    "\n",
    "# Connect to local Ollama instead of OpenAI cloud\n",
    "# client = OpenAI(\n",
    "#     # https://huggingface.co/openai/gpt-oss-120b\n",
    "#     # https://ollama.com/library/gpt-oss\n",
    "#     # ollama pull gpt-oss:20b\n",
    "#     # ollama run gpt-oss:120b\n",
    "#     # curl https://<your-forwarded-url>.app.github.dev/v1/models\n",
    "#     base_url=\"http://localhost:11434/v1\",  # Ollama API endpoint\n",
    "#     # base_url=\"https://glowing-carnival-qgwprp5pjjj255q-11434.app.github.dev/v1\",  # Ollama API endpoint\n",
    "#     api_key=\"ollama\"  # dummy key (ignored by Ollama)\n",
    "# )\n",
    "\n",
    "client = OpenAI(\n",
    "    base_url=SETTINGS.BASE_URL,\n",
    "    api_key=SETTINGS.API_KEY,\n",
    ")"
   ]
  },
  {
   "cell_type": "code",
   "execution_count": 27,
   "id": "96687ff0-3348-4743-a56a-786127c84fb7",
   "metadata": {},
   "outputs": [],
   "source": [
    "def search(query, best_params):\n",
    "    boost = {\n",
    "       'intent': best_params[\"intent\"],\n",
    "        'question': best_params[\"question\"],\n",
    "        'response': best_params[\"response\"],\n",
    "        'category': best_params[\"category\"],\n",
    "    }\n",
    "    results = index.search(\n",
    "        query=query,\n",
    "        filter_dict={'category': 'CONTENT'},  # Example filter on category field\n",
    "        boost_dict=boost,\n",
    "        num_results=5\n",
    "    )\n",
    "    return results"
   ]
  },
  {
   "cell_type": "code",
   "execution_count": null,
   "id": "2450e48b-b4e3-4555-9e01-5674c3ff0404",
   "metadata": {},
   "outputs": [],
   "source": [
    "PROMPT_TEMPLATE = \"\"\"\n",
    "You are a customer support assistant specialized in the Media domain.\n",
    "Your task is to answer the QUESTION strictly using the information provided in the CONTEXT.\n",
    "\n",
    "Rules of conduct:\n",
    "1. Only use facts explicitly present in the CONTEXT. Do not rely on external knowledge.\n",
    "2. If the CONTEXT contains partial information, base your answer only on what is given.\n",
    "3. If the CONTEXT does not contain the required information, respond exactly with:\n",
    "   \"I don’t have that information.\"\n",
    "4. Keep answers clear, concise, and factual. Avoid speculation, assumptions, or subjective language.\n",
    "5. Do not rephrase or fabricate details not present in the CONTEXT.\n",
    "6. Do not merge or infer facts across unrelated sections of the CONTEXT unless explicitly stated.\n",
    "7. Preserve numerical values, names, and terminology exactly as they appear in the CONTEXT.\n",
    "8. Do not output meta-comments about your limitations or process (e.g., “As an AI…”).\n",
    "\n",
    "QUESTION: {instruction}\n",
    "\n",
    "CONTEXT: '''\n",
    "{context}\n",
    "'''\n",
    "\"\"\".strip()\n",
    "\n",
    "\n",
    "def build_prompt(query, search_results):\n",
    "    context = \"\"\n",
    "    for doc in search_results:\n",
    "        context += (\n",
    "            f\"intent: {doc['intent']}\\n\"\n",
    "            f\"question: {doc['question']}\\n\"\n",
    "            f\"answer: {doc['response']}\\n\\n\"\n",
    "        )\n",
    "\n",
    "    # Add to template instruction and context\n",
    "    prompt = PROMPT_TEMPLATE.format(\n",
    "        instruction=query,\n",
    "        context=context,\n",
    "    ).strip()\n",
    "    return prompt\n",
    "\n",
    "\n",
    "def llm(prompt):\n",
    "    response = client.chat.completions.create(\n",
    "        # model='gpt-4o-mini',  # OpenAI\n",
    "        # model=\"gpt-oss:20b\",   # Ollama \"llama3\" or any model available in your Ollama\n",
    "        model=SETTINGS.MODEL_CHAT,  # \"openai/gpt-oss-120b:together\",  # huggingface\n",
    "        messages=[{\"role\": \"user\", \"content\": prompt}],\n",
    "        # temperature=0.0\n",
    "    )\n",
    "    return response\n",
    "\n",
    "\n",
    "def rag(query):\n",
    "    search_results = search(query, best_params)\n",
    "    prompt = build_prompt(query, search_results)\n",
    "    answer = llm(prompt)\n",
    "    return answer.choices[0].message.content"
   ]
  },
  {
   "cell_type": "code",
   "execution_count": 33,
   "id": "c77a0a9e-3955-405f-8bff-66214f79e6c3",
   "metadata": {},
   "outputs": [
    {
     "name": "stderr",
     "output_type": "stream",
     "text": [
      "2025-09-08 18:43:44,157 [INFO] httpx - HTTP Request: POST https://router.huggingface.co/v1/chat/completions \"HTTP/1.1 200 OK\"\n"
     ]
    },
    {
     "name": "stdout",
     "output_type": "stream",
     "text": [
      "To report a copyright infringement, please follow these steps:\n",
      "\n",
      "1. Access our official website at {{WEBSITE_URL}}.  \n",
      "2. Go to the {{COPYRIGHT_SECTION}} section.  \n",
      "3. Find and select the {{REPORT_COPYRIGHT_INFRINGEMENT_OPTION}} option.  \n",
      "4. Complete the necessary fields with accurate information regarding the infringement.  \n",
      "5. Submit your completed form for our evaluation.  \n",
      "\n",
      "Your report will be reviewed and appropriate actions will be taken in accordance with our policies.\n"
     ]
    }
   ],
   "source": [
    "question = 'I need assistance to the Media domain for copyright.'\n",
    "answer = rag(question)\n",
    "print(answer)"
   ]
  },
  {
   "cell_type": "code",
   "execution_count": 36,
   "id": "56da0226",
   "metadata": {},
   "outputs": [],
   "source": [
    "# from rag import rag as rag_test\n",
    "# rag_test(question)"
   ]
  },
  {
   "cell_type": "code",
   "execution_count": null,
   "id": "b02ccea3",
   "metadata": {},
   "outputs": [],
   "source": [
    "EVAL_PROMPT_TEMPLATE = \"\"\"\n",
    "You are an expert evaluator for a Retrieval-Augmented Generation (RAG) system.\n",
    "Your task is to assess the **relevance** of the generated answer to the given question.\n",
    "\n",
    "Evaluation Guidelines:\n",
    "1. Judge only on relevance between the QUESTION and the GENERATED ANSWER.\n",
    "2. Ignore style, grammar, tone, and fluency. They are not part of this evaluation.\n",
    "3. Choose exactly one of the following labels:\n",
    "   - \"NON_RELEVANT\": The answer does not address the question at all.\n",
    "   - \"PARTLY_RELEVANT\": The answer addresses the question partially OR mixes relevant and irrelevant content.\n",
    "   - \"RELEVANT\": The answer fully and directly answers the question with no irrelevant content.\n",
    "4. Provide a short, factual explanation (maximum 2 sentences).\n",
    "5. The output must be strictly valid JSON, without code fences, without extra text, and without additional commentary.\n",
    "\n",
    "Evaluation Data:\n",
    "- Question: {question}\n",
    "- Generated Answer: '''\n",
    "{answer}\n",
    "'''\n",
    "\n",
    "Output format:\n",
    "{{\n",
    "  \"Relevance\": \"NON_RELEVANT\" | \"PARTLY_RELEVANT\" | \"RELEVANT\",\n",
    "  \"Explanation\": \"[Your brief explanation here]\"\n",
    "}}\n",
    "\"\"\".strip()"
   ]
  },
  {
   "cell_type": "code",
   "execution_count": 24,
   "id": "bb3a0f2a-a232-4864-bf43-c93578667914",
   "metadata": {},
   "outputs": [
    {
     "data": {
      "text/plain": [
       "1441"
      ]
     },
     "execution_count": 24,
     "metadata": {},
     "output_type": "execute_result"
    }
   ],
   "source": [
    "len(ground_truth)"
   ]
  },
  {
   "cell_type": "code",
   "execution_count": 25,
   "id": "b2be59fd-2d38-4aeb-a335-025dc1cab029",
   "metadata": {},
   "outputs": [],
   "source": [
    "record = ground_truth[0]\n"
   ]
  },
  {
   "cell_type": "code",
   "execution_count": 26,
   "id": "c49d42c0",
   "metadata": {},
   "outputs": [
    {
     "data": {
      "text/plain": [
       "'I need assistance to the Media domain for copyright.'"
      ]
     },
     "execution_count": 26,
     "metadata": {},
     "output_type": "execute_result"
    }
   ],
   "source": [
    "question"
   ]
  },
  {
   "cell_type": "code",
   "execution_count": null,
   "id": "311e3d42-30a4-4fe7-906c-c3806442bc8d",
   "metadata": {},
   "outputs": [
    {
     "name": "stdout",
     "output_type": "stream",
     "text": [
      "You are an expert evaluator for a Retrieval-Augmented Generation (RAG) system.\n",
      "Your task is to assess the **relevance** of the generated answer to the given question.\n",
      "\n",
      "Evaluation Guidelines:\n",
      "1. Judge only on relevance between the QUESTION and the GENERATED ANSWER.\n",
      "2. Ignore style, grammar, tone, and fluency. They are not part of this evaluation.\n",
      "3. Choose exactly one of the following labels:\n",
      "   - \"NON_RELEVANT\": The answer does not address the question at all.\n",
      "   - \"PARTLY_RELEVANT\": The answer addresses the question partially OR mixes relevant and irrelevant content.\n",
      "   - \"RELEVANT\": The answer fully and directly answers the question with no irrelevant content.\n",
      "4. Provide a short, factual explanation (maximum 2 sentences).\n",
      "5. The output must be strictly valid JSON, without code fences, without extra text, and without additional commentary.\n",
      "\n",
      "Evaluation Data:\n",
      "- Question: I need assistance to the Media domain for copyright.\n",
      "- Generated Answer: '''\n",
      "To report a copyright infringement, please follow these steps:\n",
      "\n",
      "1. Access our official website at {{WEBSITE_URL}}.  \n",
      "2. Go to the {{COPYRIGHT_SECTION}} section.  \n",
      "3. Select the {{REPORT_COPYRIGHT_INFRINGEMENT_OPTION}} option.  \n",
      "4. Complete the required fields with details about the infringement.  \n",
      "5. Submit the completed form for our evaluation.\n",
      "'''\n",
      "\n",
      "Output format:\n",
      "{\n",
      "  \"Relevance\": \"NON_RELEVANT\" | \"PARTLY_RELEVANT\" | \"RELEVANT\",\n",
      "  \"Explanation\": \"[Your brief explanation here]\"\n",
      "}\n"
     ]
    }
   ],
   "source": [
    "prompt = EVAL_PROMPT_TEMPLATE.format(\n",
    "    question=question,\n",
    "    answer=answer,\n",
    ")\n",
    "print(prompt)"
   ]
  },
  {
   "cell_type": "code",
   "execution_count": 29,
   "id": "c081e711-4e5c-4cd4-bc8d-79a29c1f1d77",
   "metadata": {},
   "outputs": [],
   "source": [
    "import json"
   ]
  },
  {
   "cell_type": "code",
   "execution_count": 30,
   "id": "6da1bf76-7670-4723-847d-15aad4a5d4ac",
   "metadata": {},
   "outputs": [],
   "source": [
    "df_sample = df_question.sample(n=200, random_state=0)"
   ]
  },
  {
   "cell_type": "code",
   "execution_count": 31,
   "id": "98a38031-1e2b-4134-bc88-6d9e857771f0",
   "metadata": {},
   "outputs": [],
   "source": [
    "sample = df_sample.to_dict(orient='records')"
   ]
  },
  {
   "cell_type": "code",
   "execution_count": 32,
   "id": "634f85f9",
   "metadata": {},
   "outputs": [],
   "source": [
    "import time"
   ]
  },
  {
   "cell_type": "code",
   "execution_count": 33,
   "id": "13b87bd8",
   "metadata": {},
   "outputs": [
    {
     "data": {
      "text/plain": [
       "20.49616112886401"
      ]
     },
     "execution_count": 33,
     "metadata": {},
     "output_type": "execute_result"
    }
   ],
   "source": [
    "import numpy as np\n",
    "np.random.uniform(10, 25)"
   ]
  },
  {
   "cell_type": "code",
   "execution_count": null,
   "id": "1ed215ab",
   "metadata": {},
   "outputs": [],
   "source": [
    "evaluations = []"
   ]
  },
  {
   "cell_type": "code",
   "execution_count": null,
   "id": "a66cdc62-803c-4c79-a687-581788fe1d71",
   "metadata": {},
   "outputs": [
    {
     "data": {
      "application/vnd.jupyter.widget-view+json": {
       "model_id": "f4da94870ebb4bbb9a1a142ffd6d535d",
       "version_major": 2,
       "version_minor": 0
      },
      "text/plain": [
       "  0%|          | 0/74 [00:00<?, ?it/s]"
      ]
     },
     "metadata": {},
     "output_type": "display_data"
    },
    {
     "name": "stderr",
     "output_type": "stream",
     "text": [
      "2025-09-08 15:38:11,522 [INFO] httpx - HTTP Request: POST https://router.huggingface.co/v1/chat/completions \"HTTP/1.1 200 OK\"\n",
      "2025-09-08 15:38:13,298 [INFO] httpx - HTTP Request: POST https://router.huggingface.co/v1/chat/completions \"HTTP/1.1 200 OK\"\n",
      "2025-09-08 15:38:44,032 [INFO] httpx - HTTP Request: POST https://router.huggingface.co/v1/chat/completions \"HTTP/1.1 200 OK\"\n",
      "2025-09-08 15:38:45,132 [INFO] httpx - HTTP Request: POST https://router.huggingface.co/v1/chat/completions \"HTTP/1.1 200 OK\"\n",
      "2025-09-08 15:39:14,123 [INFO] httpx - HTTP Request: POST https://router.huggingface.co/v1/chat/completions \"HTTP/1.1 200 OK\"\n",
      "2025-09-08 15:39:15,960 [INFO] httpx - HTTP Request: POST https://router.huggingface.co/v1/chat/completions \"HTTP/1.1 200 OK\"\n",
      "2025-09-08 15:39:46,891 [INFO] httpx - HTTP Request: POST https://router.huggingface.co/v1/chat/completions \"HTTP/1.1 200 OK\"\n",
      "2025-09-08 15:39:48,504 [INFO] httpx - HTTP Request: POST https://router.huggingface.co/v1/chat/completions \"HTTP/1.1 200 OK\"\n",
      "2025-09-08 15:40:16,004 [INFO] httpx - HTTP Request: POST https://router.huggingface.co/v1/chat/completions \"HTTP/1.1 200 OK\"\n",
      "2025-09-08 15:40:17,429 [INFO] httpx - HTTP Request: POST https://router.huggingface.co/v1/chat/completions \"HTTP/1.1 200 OK\"\n",
      "2025-09-08 15:40:44,836 [INFO] httpx - HTTP Request: POST https://router.huggingface.co/v1/chat/completions \"HTTP/1.1 200 OK\"\n",
      "2025-09-08 15:40:46,047 [INFO] httpx - HTTP Request: POST https://router.huggingface.co/v1/chat/completions \"HTTP/1.1 200 OK\"\n",
      "2025-09-08 15:41:09,096 [INFO] httpx - HTTP Request: POST https://router.huggingface.co/v1/chat/completions \"HTTP/1.1 200 OK\"\n",
      "2025-09-08 15:41:10,414 [INFO] httpx - HTTP Request: POST https://router.huggingface.co/v1/chat/completions \"HTTP/1.1 200 OK\"\n",
      "2025-09-08 15:41:37,668 [INFO] httpx - HTTP Request: POST https://router.huggingface.co/v1/chat/completions \"HTTP/1.1 200 OK\"\n",
      "2025-09-08 15:41:39,490 [INFO] httpx - HTTP Request: POST https://router.huggingface.co/v1/chat/completions \"HTTP/1.1 200 OK\"\n",
      "2025-09-08 15:42:04,412 [INFO] httpx - HTTP Request: POST https://router.huggingface.co/v1/chat/completions \"HTTP/1.1 200 OK\"\n",
      "2025-09-08 15:42:05,632 [INFO] httpx - HTTP Request: POST https://router.huggingface.co/v1/chat/completions \"HTTP/1.1 200 OK\"\n",
      "2025-09-08 15:42:30,305 [INFO] httpx - HTTP Request: POST https://router.huggingface.co/v1/chat/completions \"HTTP/1.1 200 OK\"\n",
      "2025-09-08 15:42:31,988 [INFO] httpx - HTTP Request: POST https://router.huggingface.co/v1/chat/completions \"HTTP/1.1 200 OK\"\n",
      "2025-09-08 15:43:06,034 [INFO] httpx - HTTP Request: POST https://router.huggingface.co/v1/chat/completions \"HTTP/1.1 200 OK\"\n",
      "2025-09-08 15:43:07,112 [INFO] httpx - HTTP Request: POST https://router.huggingface.co/v1/chat/completions \"HTTP/1.1 200 OK\"\n",
      "2025-09-08 15:43:37,742 [INFO] httpx - HTTP Request: POST https://router.huggingface.co/v1/chat/completions \"HTTP/1.1 200 OK\"\n",
      "2025-09-08 15:43:38,768 [INFO] httpx - HTTP Request: POST https://router.huggingface.co/v1/chat/completions \"HTTP/1.1 200 OK\"\n",
      "2025-09-08 15:44:07,142 [INFO] httpx - HTTP Request: POST https://router.huggingface.co/v1/chat/completions \"HTTP/1.1 200 OK\"\n",
      "2025-09-08 15:44:08,282 [INFO] httpx - HTTP Request: POST https://router.huggingface.co/v1/chat/completions \"HTTP/1.1 200 OK\"\n",
      "2025-09-08 15:44:36,778 [INFO] httpx - HTTP Request: POST https://router.huggingface.co/v1/chat/completions \"HTTP/1.1 200 OK\"\n",
      "2025-09-08 15:44:38,387 [INFO] httpx - HTTP Request: POST https://router.huggingface.co/v1/chat/completions \"HTTP/1.1 200 OK\"\n",
      "2025-09-08 15:45:05,706 [INFO] httpx - HTTP Request: POST https://router.huggingface.co/v1/chat/completions \"HTTP/1.1 200 OK\"\n",
      "2025-09-08 15:45:07,427 [INFO] httpx - HTTP Request: POST https://router.huggingface.co/v1/chat/completions \"HTTP/1.1 200 OK\"\n",
      "2025-09-08 15:45:38,899 [INFO] httpx - HTTP Request: POST https://router.huggingface.co/v1/chat/completions \"HTTP/1.1 200 OK\"\n",
      "2025-09-08 15:45:40,648 [INFO] httpx - HTTP Request: POST https://router.huggingface.co/v1/chat/completions \"HTTP/1.1 200 OK\"\n",
      "2025-09-08 15:46:04,432 [INFO] httpx - HTTP Request: POST https://router.huggingface.co/v1/chat/completions \"HTTP/1.1 200 OK\"\n",
      "2025-09-08 15:46:05,861 [INFO] httpx - HTTP Request: POST https://router.huggingface.co/v1/chat/completions \"HTTP/1.1 200 OK\"\n",
      "2025-09-08 15:46:36,536 [INFO] httpx - HTTP Request: POST https://router.huggingface.co/v1/chat/completions \"HTTP/1.1 200 OK\"\n",
      "2025-09-08 15:46:37,769 [INFO] httpx - HTTP Request: POST https://router.huggingface.co/v1/chat/completions \"HTTP/1.1 200 OK\"\n",
      "2025-09-08 15:47:08,551 [INFO] httpx - HTTP Request: POST https://router.huggingface.co/v1/chat/completions \"HTTP/1.1 200 OK\"\n",
      "2025-09-08 15:47:10,066 [INFO] httpx - HTTP Request: POST https://router.huggingface.co/v1/chat/completions \"HTTP/1.1 200 OK\"\n",
      "2025-09-08 15:47:34,331 [INFO] httpx - HTTP Request: POST https://router.huggingface.co/v1/chat/completions \"HTTP/1.1 200 OK\"\n",
      "2025-09-08 15:47:35,701 [INFO] httpx - HTTP Request: POST https://router.huggingface.co/v1/chat/completions \"HTTP/1.1 200 OK\"\n",
      "2025-09-08 15:48:03,056 [INFO] httpx - HTTP Request: POST https://router.huggingface.co/v1/chat/completions \"HTTP/1.1 200 OK\"\n",
      "2025-09-08 15:48:04,277 [INFO] httpx - HTTP Request: POST https://router.huggingface.co/v1/chat/completions \"HTTP/1.1 200 OK\"\n",
      "2025-09-08 15:48:32,588 [INFO] httpx - HTTP Request: POST https://router.huggingface.co/v1/chat/completions \"HTTP/1.1 200 OK\"\n",
      "2025-09-08 15:48:34,228 [INFO] httpx - HTTP Request: POST https://router.huggingface.co/v1/chat/completions \"HTTP/1.1 200 OK\"\n",
      "2025-09-08 15:49:05,135 [INFO] httpx - HTTP Request: POST https://router.huggingface.co/v1/chat/completions \"HTTP/1.1 200 OK\"\n",
      "2025-09-08 15:49:06,288 [INFO] httpx - HTTP Request: POST https://router.huggingface.co/v1/chat/completions \"HTTP/1.1 200 OK\"\n",
      "2025-09-08 15:49:35,460 [INFO] httpx - HTTP Request: POST https://router.huggingface.co/v1/chat/completions \"HTTP/1.1 200 OK\"\n",
      "2025-09-08 15:49:36,611 [INFO] httpx - HTTP Request: POST https://router.huggingface.co/v1/chat/completions \"HTTP/1.1 200 OK\"\n",
      "2025-09-08 15:50:07,843 [INFO] httpx - HTTP Request: POST https://router.huggingface.co/v1/chat/completions \"HTTP/1.1 200 OK\"\n",
      "2025-09-08 15:50:09,040 [INFO] httpx - HTTP Request: POST https://router.huggingface.co/v1/chat/completions \"HTTP/1.1 200 OK\"\n",
      "2025-09-08 15:50:38,411 [INFO] httpx - HTTP Request: POST https://router.huggingface.co/v1/chat/completions \"HTTP/1.1 200 OK\"\n",
      "2025-09-08 15:50:39,781 [INFO] httpx - HTTP Request: POST https://router.huggingface.co/v1/chat/completions \"HTTP/1.1 200 OK\"\n",
      "2025-09-08 15:51:11,505 [INFO] httpx - HTTP Request: POST https://router.huggingface.co/v1/chat/completions \"HTTP/1.1 200 OK\"\n",
      "2025-09-08 15:51:12,950 [INFO] httpx - HTTP Request: POST https://router.huggingface.co/v1/chat/completions \"HTTP/1.1 200 OK\"\n",
      "2025-09-08 15:51:42,480 [INFO] httpx - HTTP Request: POST https://router.huggingface.co/v1/chat/completions \"HTTP/1.1 200 OK\"\n",
      "2025-09-08 15:51:44,310 [INFO] httpx - HTTP Request: POST https://router.huggingface.co/v1/chat/completions \"HTTP/1.1 200 OK\"\n",
      "2025-09-08 15:52:13,622 [INFO] httpx - HTTP Request: POST https://router.huggingface.co/v1/chat/completions \"HTTP/1.1 200 OK\"\n",
      "2025-09-08 15:52:15,316 [INFO] httpx - HTTP Request: POST https://router.huggingface.co/v1/chat/completions \"HTTP/1.1 200 OK\"\n",
      "2025-09-08 15:52:38,020 [INFO] httpx - HTTP Request: POST https://router.huggingface.co/v1/chat/completions \"HTTP/1.1 200 OK\"\n",
      "2025-09-08 15:52:39,094 [INFO] httpx - HTTP Request: POST https://router.huggingface.co/v1/chat/completions \"HTTP/1.1 200 OK\"\n",
      "2025-09-08 15:53:08,295 [INFO] httpx - HTTP Request: POST https://router.huggingface.co/v1/chat/completions \"HTTP/1.1 200 OK\"\n",
      "2025-09-08 15:53:09,713 [INFO] httpx - HTTP Request: POST https://router.huggingface.co/v1/chat/completions \"HTTP/1.1 200 OK\"\n",
      "2025-09-08 15:53:39,652 [INFO] httpx - HTTP Request: POST https://router.huggingface.co/v1/chat/completions \"HTTP/1.1 200 OK\"\n",
      "2025-09-08 15:53:41,536 [INFO] httpx - HTTP Request: POST https://router.huggingface.co/v1/chat/completions \"HTTP/1.1 200 OK\"\n",
      "2025-09-08 15:54:07,326 [INFO] httpx - HTTP Request: POST https://router.huggingface.co/v1/chat/completions \"HTTP/1.1 200 OK\"\n",
      "2025-09-08 15:54:08,627 [INFO] httpx - HTTP Request: POST https://router.huggingface.co/v1/chat/completions \"HTTP/1.1 200 OK\"\n",
      "2025-09-08 15:54:38,035 [INFO] httpx - HTTP Request: POST https://router.huggingface.co/v1/chat/completions \"HTTP/1.1 200 OK\"\n",
      "2025-09-08 15:54:39,369 [INFO] httpx - HTTP Request: POST https://router.huggingface.co/v1/chat/completions \"HTTP/1.1 200 OK\"\n",
      "2025-09-08 15:55:07,075 [INFO] httpx - HTTP Request: POST https://router.huggingface.co/v1/chat/completions \"HTTP/1.1 200 OK\"\n",
      "2025-09-08 15:55:09,175 [INFO] httpx - HTTP Request: POST https://router.huggingface.co/v1/chat/completions \"HTTP/1.1 200 OK\"\n",
      "2025-09-08 15:55:38,459 [INFO] httpx - HTTP Request: POST https://router.huggingface.co/v1/chat/completions \"HTTP/1.1 200 OK\"\n",
      "2025-09-08 15:55:39,533 [INFO] httpx - HTTP Request: POST https://router.huggingface.co/v1/chat/completions \"HTTP/1.1 200 OK\"\n",
      "2025-09-08 15:56:05,462 [INFO] httpx - HTTP Request: POST https://router.huggingface.co/v1/chat/completions \"HTTP/1.1 200 OK\"\n",
      "2025-09-08 15:56:06,669 [INFO] httpx - HTTP Request: POST https://router.huggingface.co/v1/chat/completions \"HTTP/1.1 200 OK\"\n",
      "2025-09-08 15:56:29,343 [INFO] httpx - HTTP Request: POST https://router.huggingface.co/v1/chat/completions \"HTTP/1.1 200 OK\"\n",
      "2025-09-08 15:56:30,571 [INFO] httpx - HTTP Request: POST https://router.huggingface.co/v1/chat/completions \"HTTP/1.1 200 OK\"\n",
      "2025-09-08 15:56:56,695 [INFO] httpx - HTTP Request: POST https://router.huggingface.co/v1/chat/completions \"HTTP/1.1 200 OK\"\n",
      "2025-09-08 15:56:58,238 [INFO] httpx - HTTP Request: POST https://router.huggingface.co/v1/chat/completions \"HTTP/1.1 200 OK\"\n",
      "2025-09-08 15:57:20,825 [INFO] httpx - HTTP Request: POST https://router.huggingface.co/v1/chat/completions \"HTTP/1.1 200 OK\"\n",
      "2025-09-08 15:57:21,948 [INFO] httpx - HTTP Request: POST https://router.huggingface.co/v1/chat/completions \"HTTP/1.1 200 OK\"\n",
      "2025-09-08 15:57:43,979 [INFO] httpx - HTTP Request: POST https://router.huggingface.co/v1/chat/completions \"HTTP/1.1 200 OK\"\n",
      "2025-09-08 15:57:45,206 [INFO] httpx - HTTP Request: POST https://router.huggingface.co/v1/chat/completions \"HTTP/1.1 200 OK\"\n",
      "2025-09-08 15:58:08,488 [INFO] httpx - HTTP Request: POST https://router.huggingface.co/v1/chat/completions \"HTTP/1.1 200 OK\"\n",
      "2025-09-08 15:58:09,589 [INFO] httpx - HTTP Request: POST https://router.huggingface.co/v1/chat/completions \"HTTP/1.1 200 OK\"\n",
      "2025-09-08 15:58:37,603 [INFO] httpx - HTTP Request: POST https://router.huggingface.co/v1/chat/completions \"HTTP/1.1 200 OK\"\n",
      "2025-09-08 15:58:40,102 [INFO] httpx - HTTP Request: POST https://router.huggingface.co/v1/chat/completions \"HTTP/1.1 200 OK\"\n",
      "2025-09-08 15:59:07,396 [INFO] httpx - HTTP Request: POST https://router.huggingface.co/v1/chat/completions \"HTTP/1.1 200 OK\"\n",
      "2025-09-08 15:59:09,993 [INFO] httpx - HTTP Request: POST https://router.huggingface.co/v1/chat/completions \"HTTP/1.1 200 OK\"\n",
      "2025-09-08 15:59:37,003 [INFO] httpx - HTTP Request: POST https://router.huggingface.co/v1/chat/completions \"HTTP/1.1 200 OK\"\n",
      "2025-09-08 15:59:38,368 [INFO] httpx - HTTP Request: POST https://router.huggingface.co/v1/chat/completions \"HTTP/1.1 200 OK\"\n",
      "2025-09-08 16:00:00,962 [INFO] httpx - HTTP Request: POST https://router.huggingface.co/v1/chat/completions \"HTTP/1.1 200 OK\"\n",
      "2025-09-08 16:00:02,263 [INFO] httpx - HTTP Request: POST https://router.huggingface.co/v1/chat/completions \"HTTP/1.1 200 OK\"\n",
      "2025-09-08 16:00:29,626 [INFO] httpx - HTTP Request: POST https://router.huggingface.co/v1/chat/completions \"HTTP/1.1 200 OK\"\n",
      "2025-09-08 16:00:33,550 [INFO] httpx - HTTP Request: POST https://router.huggingface.co/v1/chat/completions \"HTTP/1.1 200 OK\"\n",
      "2025-09-08 16:01:03,965 [INFO] httpx - HTTP Request: POST https://router.huggingface.co/v1/chat/completions \"HTTP/1.1 200 OK\"\n",
      "2025-09-08 16:01:05,111 [INFO] httpx - HTTP Request: POST https://router.huggingface.co/v1/chat/completions \"HTTP/1.1 200 OK\"\n",
      "2025-09-08 16:01:36,356 [INFO] httpx - HTTP Request: POST https://router.huggingface.co/v1/chat/completions \"HTTP/1.1 200 OK\"\n",
      "2025-09-08 16:01:38,308 [INFO] httpx - HTTP Request: POST https://router.huggingface.co/v1/chat/completions \"HTTP/1.1 200 OK\"\n",
      "2025-09-08 16:02:03,511 [INFO] httpx - HTTP Request: POST https://router.huggingface.co/v1/chat/completions \"HTTP/1.1 200 OK\"\n",
      "2025-09-08 16:02:05,058 [INFO] httpx - HTTP Request: POST https://router.huggingface.co/v1/chat/completions \"HTTP/1.1 200 OK\"\n",
      "2025-09-08 16:02:27,678 [INFO] httpx - HTTP Request: POST https://router.huggingface.co/v1/chat/completions \"HTTP/1.1 200 OK\"\n",
      "2025-09-08 16:02:29,746 [INFO] httpx - HTTP Request: POST https://router.huggingface.co/v1/chat/completions \"HTTP/1.1 200 OK\"\n",
      "2025-09-08 16:02:56,980 [INFO] httpx - HTTP Request: POST https://router.huggingface.co/v1/chat/completions \"HTTP/1.1 200 OK\"\n",
      "2025-09-08 16:02:58,796 [INFO] httpx - HTTP Request: POST https://router.huggingface.co/v1/chat/completions \"HTTP/1.1 200 OK\"\n",
      "2025-09-08 16:03:26,164 [INFO] httpx - HTTP Request: POST https://router.huggingface.co/v1/chat/completions \"HTTP/1.1 200 OK\"\n",
      "2025-09-08 16:03:27,785 [INFO] httpx - HTTP Request: POST https://router.huggingface.co/v1/chat/completions \"HTTP/1.1 200 OK\"\n",
      "2025-09-08 16:03:49,551 [INFO] httpx - HTTP Request: POST https://router.huggingface.co/v1/chat/completions \"HTTP/1.1 200 OK\"\n",
      "2025-09-08 16:03:51,634 [INFO] httpx - HTTP Request: POST https://router.huggingface.co/v1/chat/completions \"HTTP/1.1 200 OK\"\n",
      "2025-09-08 16:04:19,450 [INFO] httpx - HTTP Request: POST https://router.huggingface.co/v1/chat/completions \"HTTP/1.1 200 OK\"\n",
      "2025-09-08 16:04:20,861 [INFO] httpx - HTTP Request: POST https://router.huggingface.co/v1/chat/completions \"HTTP/1.1 200 OK\"\n",
      "2025-09-08 16:04:48,883 [INFO] httpx - HTTP Request: POST https://router.huggingface.co/v1/chat/completions \"HTTP/1.1 200 OK\"\n",
      "2025-09-08 16:04:50,977 [INFO] httpx - HTTP Request: POST https://router.huggingface.co/v1/chat/completions \"HTTP/1.1 200 OK\"\n",
      "2025-09-08 16:05:15,511 [INFO] httpx - HTTP Request: POST https://router.huggingface.co/v1/chat/completions \"HTTP/1.1 200 OK\"\n",
      "2025-09-08 16:05:17,182 [INFO] httpx - HTTP Request: POST https://router.huggingface.co/v1/chat/completions \"HTTP/1.1 200 OK\"\n",
      "2025-09-08 16:05:41,165 [INFO] httpx - HTTP Request: POST https://router.huggingface.co/v1/chat/completions \"HTTP/1.1 200 OK\"\n",
      "2025-09-08 16:05:42,391 [INFO] httpx - HTTP Request: POST https://router.huggingface.co/v1/chat/completions \"HTTP/1.1 200 OK\"\n",
      "2025-09-08 16:06:05,116 [INFO] httpx - HTTP Request: POST https://router.huggingface.co/v1/chat/completions \"HTTP/1.1 200 OK\"\n",
      "2025-09-08 16:06:06,242 [INFO] httpx - HTTP Request: POST https://router.huggingface.co/v1/chat/completions \"HTTP/1.1 200 OK\"\n",
      "2025-09-08 16:06:30,287 [INFO] httpx - HTTP Request: POST https://router.huggingface.co/v1/chat/completions \"HTTP/1.1 200 OK\"\n",
      "2025-09-08 16:06:31,737 [INFO] httpx - HTTP Request: POST https://router.huggingface.co/v1/chat/completions \"HTTP/1.1 200 OK\"\n",
      "2025-09-08 16:06:58,275 [INFO] httpx - HTTP Request: POST https://router.huggingface.co/v1/chat/completions \"HTTP/1.1 200 OK\"\n",
      "2025-09-08 16:06:59,846 [INFO] httpx - HTTP Request: POST https://router.huggingface.co/v1/chat/completions \"HTTP/1.1 200 OK\"\n",
      "2025-09-08 16:07:23,381 [INFO] httpx - HTTP Request: POST https://router.huggingface.co/v1/chat/completions \"HTTP/1.1 200 OK\"\n",
      "2025-09-08 16:07:24,700 [INFO] httpx - HTTP Request: POST https://router.huggingface.co/v1/chat/completions \"HTTP/1.1 200 OK\"\n",
      "2025-09-08 16:07:46,872 [INFO] httpx - HTTP Request: POST https://router.huggingface.co/v1/chat/completions \"HTTP/1.1 200 OK\"\n",
      "2025-09-08 16:07:48,332 [INFO] httpx - HTTP Request: POST https://router.huggingface.co/v1/chat/completions \"HTTP/1.1 200 OK\"\n",
      "2025-09-08 16:08:16,097 [INFO] httpx - HTTP Request: POST https://router.huggingface.co/v1/chat/completions \"HTTP/1.1 200 OK\"\n",
      "2025-09-08 16:08:18,544 [INFO] httpx - HTTP Request: POST https://router.huggingface.co/v1/chat/completions \"HTTP/1.1 200 OK\"\n",
      "2025-09-08 16:08:48,943 [INFO] httpx - HTTP Request: POST https://router.huggingface.co/v1/chat/completions \"HTTP/1.1 200 OK\"\n",
      "2025-09-08 16:08:51,366 [INFO] httpx - HTTP Request: POST https://router.huggingface.co/v1/chat/completions \"HTTP/1.1 200 OK\"\n",
      "2025-09-08 16:09:15,925 [INFO] httpx - HTTP Request: POST https://router.huggingface.co/v1/chat/completions \"HTTP/1.1 200 OK\"\n",
      "2025-09-08 16:09:17,293 [INFO] httpx - HTTP Request: POST https://router.huggingface.co/v1/chat/completions \"HTTP/1.1 200 OK\"\n",
      "2025-09-08 16:09:48,332 [INFO] httpx - HTTP Request: POST https://router.huggingface.co/v1/chat/completions \"HTTP/1.1 200 OK\"\n",
      "2025-09-08 16:09:49,978 [INFO] httpx - HTTP Request: POST https://router.huggingface.co/v1/chat/completions \"HTTP/1.1 200 OK\"\n",
      "2025-09-08 16:10:14,120 [INFO] httpx - HTTP Request: POST https://router.huggingface.co/v1/chat/completions \"HTTP/1.1 200 OK\"\n",
      "2025-09-08 16:10:15,503 [INFO] httpx - HTTP Request: POST https://router.huggingface.co/v1/chat/completions \"HTTP/1.1 200 OK\"\n",
      "2025-09-08 16:10:40,584 [INFO] httpx - HTTP Request: POST https://router.huggingface.co/v1/chat/completions \"HTTP/1.1 200 OK\"\n",
      "2025-09-08 16:10:41,818 [INFO] httpx - HTTP Request: POST https://router.huggingface.co/v1/chat/completions \"HTTP/1.1 200 OK\"\n",
      "2025-09-08 16:11:11,250 [INFO] httpx - HTTP Request: POST https://router.huggingface.co/v1/chat/completions \"HTTP/1.1 200 OK\"\n",
      "2025-09-08 16:11:12,589 [INFO] httpx - HTTP Request: POST https://router.huggingface.co/v1/chat/completions \"HTTP/1.1 200 OK\"\n",
      "2025-09-08 16:11:44,869 [INFO] httpx - HTTP Request: POST https://router.huggingface.co/v1/chat/completions \"HTTP/1.1 200 OK\"\n",
      "2025-09-08 16:11:46,200 [INFO] httpx - HTTP Request: POST https://router.huggingface.co/v1/chat/completions \"HTTP/1.1 200 OK\"\n",
      "2025-09-08 16:12:13,970 [INFO] httpx - HTTP Request: POST https://router.huggingface.co/v1/chat/completions \"HTTP/1.1 200 OK\"\n",
      "2025-09-08 16:12:15,724 [INFO] httpx - HTTP Request: POST https://router.huggingface.co/v1/chat/completions \"HTTP/1.1 200 OK\"\n",
      "2025-09-08 16:12:44,688 [INFO] httpx - HTTP Request: POST https://router.huggingface.co/v1/chat/completions \"HTTP/1.1 200 OK\"\n",
      "2025-09-08 16:12:47,544 [INFO] httpx - HTTP Request: POST https://router.huggingface.co/v1/chat/completions \"HTTP/1.1 200 OK\"\n",
      "2025-09-08 16:13:10,063 [INFO] httpx - HTTP Request: POST https://router.huggingface.co/v1/chat/completions \"HTTP/1.1 200 OK\"\n",
      "2025-09-08 16:13:11,184 [INFO] httpx - HTTP Request: POST https://router.huggingface.co/v1/chat/completions \"HTTP/1.1 200 OK\"\n"
     ]
    }
   ],
   "source": [
    "for record in tqdm(sample[126:]):\n",
    "    time.sleep(np.random.uniform(20, 30))\n",
    "    question = record['question']\n",
    "    answer = rag(question) \n",
    "    prompt = EVAL_PROMPT_TEMPLATE.format(\n",
    "        question=question,\n",
    "        answer=answer\n",
    "    )\n",
    "\n",
    "    evaluation_response = llm(prompt).choices[0].message.content\n",
    "    evaluation = json.loads(evaluation_response)\n",
    "\n",
    "    evaluations.append((record, answer, evaluation))\n",
    "    with open('evaluation.json', 'w') as json_file:\n",
    "        json.dump(evaluations, json_file)"
   ]
  },
  {
   "cell_type": "code",
   "execution_count": 37,
   "id": "79453551",
   "metadata": {},
   "outputs": [
    {
     "data": {
      "text/plain": [
       "200"
      ]
     },
     "execution_count": 37,
     "metadata": {},
     "output_type": "execute_result"
    }
   ],
   "source": [
    "len(evaluations)"
   ]
  },
  {
   "cell_type": "code",
   "execution_count": 38,
   "id": "ef718d15",
   "metadata": {},
   "outputs": [],
   "source": [
    "# # Load\n",
    "# with open(\"evaluation.json\", \"rt\", encoding=\"utf-8\") as f_in:\n",
    "#     evaluations = json.load(f_in)\n",
    "# len(evaluations)"
   ]
  },
  {
   "cell_type": "code",
   "execution_count": 41,
   "id": "cf61170e-bfde-4889-8cd3-98fbfcc89918",
   "metadata": {},
   "outputs": [],
   "source": [
    "df_eval = pd.DataFrame(evaluations, columns=['record', 'answer', 'evaluation'])\n",
    "\n",
    "df_eval['id'] = df_eval.record.apply(lambda d: d['id'])\n",
    "df_eval['question'] = df_eval.record.apply(lambda d: d['question'])\n",
    "\n",
    "df_eval['relevance'] = df_eval.evaluation.apply(lambda d: d['Relevance'])\n",
    "df_eval['explanation'] = df_eval.evaluation.apply(lambda d: d['Explanation'])\n",
    "\n",
    "del df_eval['record']\n",
    "del df_eval['evaluation']"
   ]
  },
  {
   "cell_type": "code",
   "execution_count": 42,
   "id": "a54e7c90",
   "metadata": {},
   "outputs": [
    {
     "data": {
      "text/plain": [
       "relevance\n",
       "RELEVANT           0.54\n",
       "NON_RELEVANT       0.33\n",
       "PARTLY_RELEVANT    0.13\n",
       "Name: proportion, dtype: float64"
      ]
     },
     "execution_count": 42,
     "metadata": {},
     "output_type": "execute_result"
    }
   ],
   "source": [
    "df_eval.relevance.value_counts(normalize=True)"
   ]
  },
  {
   "cell_type": "code",
   "execution_count": 43,
   "id": "9492ff9c-d633-4d02-a573-217e3978ccbb",
   "metadata": {},
   "outputs": [
    {
     "data": {
      "text/html": [
       "<div>\n",
       "<style scoped>\n",
       "    .dataframe tbody tr th:only-of-type {\n",
       "        vertical-align: middle;\n",
       "    }\n",
       "\n",
       "    .dataframe tbody tr th {\n",
       "        vertical-align: top;\n",
       "    }\n",
       "\n",
       "    .dataframe thead th {\n",
       "        text-align: right;\n",
       "    }\n",
       "</style>\n",
       "<table border=\"1\" class=\"dataframe\">\n",
       "  <thead>\n",
       "    <tr style=\"text-align: right;\">\n",
       "      <th></th>\n",
       "      <th>answer</th>\n",
       "      <th>id</th>\n",
       "      <th>question</th>\n",
       "      <th>relevance</th>\n",
       "      <th>explanation</th>\n",
       "    </tr>\n",
       "  </thead>\n",
       "  <tbody>\n",
       "    <tr>\n",
       "      <th>1</th>\n",
       "      <td>I don’t have that information.</td>\n",
       "      <td>46728d3b</td>\n",
       "      <td>If someone comes across material online I thin...</td>\n",
       "      <td>NON_RELEVANT</td>\n",
       "      <td>The answer states a lack of information and do...</td>\n",
       "    </tr>\n",
       "    <tr>\n",
       "      <th>2</th>\n",
       "      <td>I don’t have that information.</td>\n",
       "      <td>4333143e</td>\n",
       "      <td>Hypothetically speaking, if the TV shows don't...</td>\n",
       "      <td>NON_RELEVANT</td>\n",
       "      <td>The answer does not provide any information ab...</td>\n",
       "    </tr>\n",
       "    <tr>\n",
       "      <th>3</th>\n",
       "      <td>I don’t have that information.</td>\n",
       "      <td>c7116609</td>\n",
       "      <td>Gotcha! So, when reporting this bad content on...</td>\n",
       "      <td>NON_RELEVANT</td>\n",
       "      <td>The answer states lack of information and does...</td>\n",
       "    </tr>\n",
       "    <tr>\n",
       "      <th>8</th>\n",
       "      <td>I don’t have that information.</td>\n",
       "      <td>bc29a102</td>\n",
       "      <td>I need help with submitting an inappropriate c...</td>\n",
       "      <td>NON_RELEVANT</td>\n",
       "      <td>The answer does not provide any details about ...</td>\n",
       "    </tr>\n",
       "    <tr>\n",
       "      <th>9</th>\n",
       "      <td>I don’t have that information.</td>\n",
       "      <td>53bb44bc</td>\n",
       "      <td>Direct and easy access is much appreciated; ca...</td>\n",
       "      <td>NON_RELEVANT</td>\n",
       "      <td>The answer does not provide any instructions o...</td>\n",
       "    </tr>\n",
       "    <tr>\n",
       "      <th>...</th>\n",
       "      <td>...</td>\n",
       "      <td>...</td>\n",
       "      <td>...</td>\n",
       "      <td>...</td>\n",
       "      <td>...</td>\n",
       "    </tr>\n",
       "    <tr>\n",
       "      <th>187</th>\n",
       "      <td>I don’t have that information.</td>\n",
       "      <td>8b344933</td>\n",
       "      <td>I've encountered offensive content during my d...</td>\n",
       "      <td>NON_RELEVANT</td>\n",
       "      <td>The answer does not provide any information ab...</td>\n",
       "    </tr>\n",
       "    <tr>\n",
       "      <th>192</th>\n",
       "      <td>I don’t have that information.</td>\n",
       "      <td>5fdf52b9</td>\n",
       "      <td>Could you guide me through the steps to report...</td>\n",
       "      <td>NON_RELEVANT</td>\n",
       "      <td>The response does not provide any steps, instr...</td>\n",
       "    </tr>\n",
       "    <tr>\n",
       "      <th>194</th>\n",
       "      <td>I don’t have that information.</td>\n",
       "      <td>6f7fa215</td>\n",
       "      <td>After stumbling upon explicit scenes on the Fr...</td>\n",
       "      <td>NON_RELEVANT</td>\n",
       "      <td>The answer states it lacks the information and...</td>\n",
       "    </tr>\n",
       "    <tr>\n",
       "      <th>195</th>\n",
       "      <td>I don’t have that information.</td>\n",
       "      <td>f11d5700</td>\n",
       "      <td>What steps are needed to inform someone about ...</td>\n",
       "      <td>NON_RELEVANT</td>\n",
       "      <td>The answer does not provide any steps or infor...</td>\n",
       "    </tr>\n",
       "    <tr>\n",
       "      <th>199</th>\n",
       "      <td>I don’t have that information.</td>\n",
       "      <td>41a6c7b9</td>\n",
       "      <td>I want to let us know about inappropriate adul...</td>\n",
       "      <td>NON_RELEVANT</td>\n",
       "      <td>The answer gives no guidance or steps related ...</td>\n",
       "    </tr>\n",
       "  </tbody>\n",
       "</table>\n",
       "<p>66 rows × 5 columns</p>\n",
       "</div>"
      ],
      "text/plain": [
       "                             answer        id  \\\n",
       "1    I don’t have that information.  46728d3b   \n",
       "2    I don’t have that information.  4333143e   \n",
       "3    I don’t have that information.  c7116609   \n",
       "8    I don’t have that information.  bc29a102   \n",
       "9    I don’t have that information.  53bb44bc   \n",
       "..                              ...       ...   \n",
       "187  I don’t have that information.  8b344933   \n",
       "192  I don’t have that information.  5fdf52b9   \n",
       "194  I don’t have that information.  6f7fa215   \n",
       "195  I don’t have that information.  f11d5700   \n",
       "199  I don’t have that information.  41a6c7b9   \n",
       "\n",
       "                                              question     relevance  \\\n",
       "1    If someone comes across material online I thin...  NON_RELEVANT   \n",
       "2    Hypothetically speaking, if the TV shows don't...  NON_RELEVANT   \n",
       "3    Gotcha! So, when reporting this bad content on...  NON_RELEVANT   \n",
       "8    I need help with submitting an inappropriate c...  NON_RELEVANT   \n",
       "9    Direct and easy access is much appreciated; ca...  NON_RELEVANT   \n",
       "..                                                 ...           ...   \n",
       "187  I've encountered offensive content during my d...  NON_RELEVANT   \n",
       "192  Could you guide me through the steps to report...  NON_RELEVANT   \n",
       "194  After stumbling upon explicit scenes on the Fr...  NON_RELEVANT   \n",
       "195  What steps are needed to inform someone about ...  NON_RELEVANT   \n",
       "199  I want to let us know about inappropriate adul...  NON_RELEVANT   \n",
       "\n",
       "                                           explanation  \n",
       "1    The answer states a lack of information and do...  \n",
       "2    The answer does not provide any information ab...  \n",
       "3    The answer states lack of information and does...  \n",
       "8    The answer does not provide any details about ...  \n",
       "9    The answer does not provide any instructions o...  \n",
       "..                                                 ...  \n",
       "187  The answer does not provide any information ab...  \n",
       "192  The response does not provide any steps, instr...  \n",
       "194  The answer states it lacks the information and...  \n",
       "195  The answer does not provide any steps or infor...  \n",
       "199  The answer gives no guidance or steps related ...  \n",
       "\n",
       "[66 rows x 5 columns]"
      ]
     },
     "execution_count": 43,
     "metadata": {},
     "output_type": "execute_result"
    }
   ],
   "source": [
    "df_eval[df_eval.relevance == 'NON_RELEVANT']"
   ]
  },
  {
   "cell_type": "code",
   "execution_count": 49,
   "id": "96382f68",
   "metadata": {},
   "outputs": [
    {
     "data": {
      "text/plain": [
       "{'answer': {1: 'I don’t have that information.',\n",
       "  2: 'I don’t have that information.',\n",
       "  3: 'I don’t have that information.'},\n",
       " 'id': {1: '46728d3b', 2: '4333143e', 3: 'c7116609'},\n",
       " 'question': {1: \"If someone comes across material online I think breaches copyright policy when watching educational programs like documentaries on a Smart TV, how do they start this formal complaint process quickly and accurately while ensuring their report is taken seriously promptly through 'Contact Us' at example.com support email?\",\n",
       "  2: \"Hypothetically speaking, if the TV shows don't adhere to acceptable public presentation themes on Smart TV platforms like mine owned by your service provider using English as preferred language option (but I also understand Spanish), how do we formally submit a report right from this page? Plus could you clarify once again about reporting such misconduct and any additional steps post submission with credible payment method for fee?\",\n",
       "  3: \"Gotcha! So, when reporting this bad content on my Smart TV linked with documentary series in Spanish at example.com using Copyright Policy info from the FAQ section for someone aiming at 'Contact Us', selecting support@email.example and finalizing by pressing 'Submit,' is it all?\"},\n",
       " 'relevance': {1: 'NON_RELEVANT', 2: 'NON_RELEVANT', 3: 'NON_RELEVANT'},\n",
       " 'explanation': {1: 'The answer states a lack of information and does not address how to file a formal complaint.',\n",
       "  2: 'The answer does not provide any information about how to submit a report or related steps, thus it fails to address the question.',\n",
       "  3: 'The answer states lack of information and does not address the steps or verification asked in the question.'}}"
      ]
     },
     "execution_count": 49,
     "metadata": {},
     "output_type": "execute_result"
    }
   ],
   "source": [
    "df_eval[df_eval.relevance == 'NON_RELEVANT'].iloc[:3].head().to_dict()"
   ]
  },
  {
   "cell_type": "code",
   "execution_count": 44,
   "id": "e19c8fb9",
   "metadata": {},
   "outputs": [
    {
     "data": {
      "text/html": [
       "<div>\n",
       "<style scoped>\n",
       "    .dataframe tbody tr th:only-of-type {\n",
       "        vertical-align: middle;\n",
       "    }\n",
       "\n",
       "    .dataframe tbody tr th {\n",
       "        vertical-align: top;\n",
       "    }\n",
       "\n",
       "    .dataframe thead th {\n",
       "        text-align: right;\n",
       "    }\n",
       "</style>\n",
       "<table border=\"1\" class=\"dataframe\">\n",
       "  <thead>\n",
       "    <tr style=\"text-align: right;\">\n",
       "      <th></th>\n",
       "      <th>answer</th>\n",
       "      <th>id</th>\n",
       "      <th>question</th>\n",
       "      <th>relevance</th>\n",
       "      <th>explanation</th>\n",
       "    </tr>\n",
       "  </thead>\n",
       "  <tbody>\n",
       "    <tr>\n",
       "      <th>23</th>\n",
       "      <td>To submit a copyright‑infringement report:\\n\\n...</td>\n",
       "      <td>6bd60204</td>\n",
       "      <td>What exactly do I have to fill out and where c...</td>\n",
       "      <td>PARTLY_RELEVANT</td>\n",
       "      <td>The answer outlines the general steps and requ...</td>\n",
       "    </tr>\n",
       "    <tr>\n",
       "      <th>34</th>\n",
       "      <td>To report the inappropriate content, follow th...</td>\n",
       "      <td>46728d3b</td>\n",
       "      <td>What steps do I need to follow if there's cont...</td>\n",
       "      <td>PARTLY_RELEVANT</td>\n",
       "      <td>The answer provides generic steps for reportin...</td>\n",
       "    </tr>\n",
       "    <tr>\n",
       "      <th>46</th>\n",
       "      <td>To lodge a formal copyright‑infringement compl...</td>\n",
       "      <td>1bf6d2f3</td>\n",
       "      <td>I am really frustrated because my favorite sho...</td>\n",
       "      <td>PARTLY_RELEVANT</td>\n",
       "      <td>The answer provides the general steps to lodge...</td>\n",
       "    </tr>\n",
       "    <tr>\n",
       "      <th>47</th>\n",
       "      <td>To report the offensive content, follow these ...</td>\n",
       "      <td>a9727580</td>\n",
       "      <td>Where can I go to report offensive stuff I jus...</td>\n",
       "      <td>PARTLY_RELEVANT</td>\n",
       "      <td>The answer attempts to explain how to report t...</td>\n",
       "    </tr>\n",
       "    <tr>\n",
       "      <th>56</th>\n",
       "      <td>To report the offensive content, please follow...</td>\n",
       "      <td>821a0af5</td>\n",
       "      <td>Could you assist me on submitting a notice of ...</td>\n",
       "      <td>PARTLY_RELEVANT</td>\n",
       "      <td>The answer provides generic steps for reportin...</td>\n",
       "    </tr>\n",
       "    <tr>\n",
       "      <th>78</th>\n",
       "      <td>Visit {{WEBSITE_URL}} and go to the {{COPYRIGH...</td>\n",
       "      <td>ab58d4a4</td>\n",
       "      <td>Where on your website should I go to report so...</td>\n",
       "      <td>PARTLY_RELEVANT</td>\n",
       "      <td>The answer refers to visiting the website and ...</td>\n",
       "    </tr>\n",
       "    <tr>\n",
       "      <th>80</th>\n",
       "      <td>To formally report the copyright infringement,...</td>\n",
       "      <td>caa8e588</td>\n",
       "      <td>My friend uploaded an entire season of that do...</td>\n",
       "      <td>PARTLY_RELEVANT</td>\n",
       "      <td>The answer provides generic steps for reportin...</td>\n",
       "    </tr>\n",
       "    <tr>\n",
       "      <th>82</th>\n",
       "      <td>To report the unlicensed documentary series, f...</td>\n",
       "      <td>4da36375</td>\n",
       "      <td>Can you guide me through reporting that my unl...</td>\n",
       "      <td>PARTLY_RELEVANT</td>\n",
       "      <td>The answer outlines generic reporting steps bu...</td>\n",
       "    </tr>\n",
       "    <tr>\n",
       "      <th>105</th>\n",
       "      <td>To report the content you believe is unsuitabl...</td>\n",
       "      <td>74d54826</td>\n",
       "      <td>Could I kindly ask for assistance while report...</td>\n",
       "      <td>PARTLY_RELEVANT</td>\n",
       "      <td>The answer gives generic steps to report copyr...</td>\n",
       "    </tr>\n",
       "    <tr>\n",
       "      <th>110</th>\n",
       "      <td>To report disturbing scenes, follow these step...</td>\n",
       "      <td>e6f08a22</td>\n",
       "      <td>What is the procedure I should follow when enc...</td>\n",
       "      <td>PARTLY_RELEVANT</td>\n",
       "      <td>The answer outlines how to report disturbing s...</td>\n",
       "    </tr>\n",
       "    <tr>\n",
       "      <th>116</th>\n",
       "      <td>To report the copyright infringement, follow t...</td>\n",
       "      <td>804f1a37</td>\n",
       "      <td>Can someone help me report a copyright infring...</td>\n",
       "      <td>PARTLY_RELEVANT</td>\n",
       "      <td>The answer gives a generic outline for reporti...</td>\n",
       "    </tr>\n",
       "    <tr>\n",
       "      <th>117</th>\n",
       "      <td>To report the offensive text you encountered, ...</td>\n",
       "      <td>faddcc74</td>\n",
       "      <td>Sorry if this sounds strange. I accidentally s...</td>\n",
       "      <td>PARTLY_RELEVANT</td>\n",
       "      <td>The answer outlines how to report the offensiv...</td>\n",
       "    </tr>\n",
       "    <tr>\n",
       "      <th>119</th>\n",
       "      <td>To report the material, follow these steps:\\n\\...</td>\n",
       "      <td>07f2980a</td>\n",
       "      <td>I came across some disturbing scenes in a sci-...</td>\n",
       "      <td>PARTLY_RELEVANT</td>\n",
       "      <td>The answer outlines general steps to report co...</td>\n",
       "    </tr>\n",
       "    <tr>\n",
       "      <th>124</th>\n",
       "      <td>Yes, you can report copyright infringement onl...</td>\n",
       "      <td>fc3d0418</td>\n",
       "      <td>Is it possible for me to report a copyright in...</td>\n",
       "      <td>PARTLY_RELEVANT</td>\n",
       "      <td>The answer provides step-by-step instructions ...</td>\n",
       "    </tr>\n",
       "    <tr>\n",
       "      <th>125</th>\n",
       "      <td>To report the explicit content:\\n\\n1. Visit {{...</td>\n",
       "      <td>64414782</td>\n",
       "      <td>Can I report explicit content on a Smart TV fr...</td>\n",
       "      <td>PARTLY_RELEVANT</td>\n",
       "      <td>The answer provides generic steps to report ex...</td>\n",
       "    </tr>\n",
       "    <tr>\n",
       "      <th>141</th>\n",
       "      <td>To submit a copyright‑infringement complaint, ...</td>\n",
       "      <td>5fdf52b9</td>\n",
       "      <td>Gentlemen, would you elucidate the process of ...</td>\n",
       "      <td>PARTLY_RELEVANT</td>\n",
       "      <td>The answer gives a generic process for filing ...</td>\n",
       "    </tr>\n",
       "    <tr>\n",
       "      <th>142</th>\n",
       "      <td>To report inappropriate content, follow these ...</td>\n",
       "      <td>a70eb079</td>\n",
       "      <td>How do I report bad content on my Smart TV scr...</td>\n",
       "      <td>PARTLY_RELEVANT</td>\n",
       "      <td>The answer provides general steps for reportin...</td>\n",
       "    </tr>\n",
       "    <tr>\n",
       "      <th>157</th>\n",
       "      <td>To submit a notification of a copyright violat...</td>\n",
       "      <td>335478c4</td>\n",
       "      <td>What's the formal process through which someon...</td>\n",
       "      <td>PARTLY_RELEVANT</td>\n",
       "      <td>The answer provides a step-by-step process for...</td>\n",
       "    </tr>\n",
       "    <tr>\n",
       "      <th>164</th>\n",
       "      <td>To report offensive material:\\n\\n1. Go to {{WE...</td>\n",
       "      <td>3d707d8b</td>\n",
       "      <td>What's the procedure to report offensive mater...</td>\n",
       "      <td>PARTLY_RELEVANT</td>\n",
       "      <td>The answer provides a general reporting proced...</td>\n",
       "    </tr>\n",
       "    <tr>\n",
       "      <th>168</th>\n",
       "      <td>To report the potentially inappropriate conten...</td>\n",
       "      <td>063e9741</td>\n",
       "      <td>Can you guide me on how to submit a concern ab...</td>\n",
       "      <td>PARTLY_RELEVANT</td>\n",
       "      <td>The answer outlines general steps to report in...</td>\n",
       "    </tr>\n",
       "    <tr>\n",
       "      <th>174</th>\n",
       "      <td>To formally report the copyright infringement,...</td>\n",
       "      <td>51026597</td>\n",
       "      <td>Hello, I noticed that some parts of a foreign ...</td>\n",
       "      <td>PARTLY_RELEVANT</td>\n",
       "      <td>The answer provides generic steps to report co...</td>\n",
       "    </tr>\n",
       "    <tr>\n",
       "      <th>178</th>\n",
       "      <td>To report the inappropriate documentary series...</td>\n",
       "      <td>7e3f396f</td>\n",
       "      <td>Could you guide me on how to report inappropri...</td>\n",
       "      <td>PARTLY_RELEVANT</td>\n",
       "      <td>The answer provides general steps to report co...</td>\n",
       "    </tr>\n",
       "    <tr>\n",
       "      <th>179</th>\n",
       "      <td>Click the **{{REPORT_COPYRIGHT_INFRINGEMENT_OP...</td>\n",
       "      <td>ef3aab6e</td>\n",
       "      <td>I'm noticing illegal use of documentaries seri...</td>\n",
       "      <td>PARTLY_RELEVANT</td>\n",
       "      <td>The answer mentions clicking a button to submi...</td>\n",
       "    </tr>\n",
       "    <tr>\n",
       "      <th>189</th>\n",
       "      <td>To report content you consider improper:\\n\\n1....</td>\n",
       "      <td>1b326049</td>\n",
       "      <td>What is the proper way for someone living abro...</td>\n",
       "      <td>PARTLY_RELEVANT</td>\n",
       "      <td>The answer outlines the general process for re...</td>\n",
       "    </tr>\n",
       "    <tr>\n",
       "      <th>190</th>\n",
       "      <td>To report copyright infringement, follow these...</td>\n",
       "      <td>1d34371a</td>\n",
       "      <td>How do I go about notifying you of someone inf...</td>\n",
       "      <td>PARTLY_RELEVANT</td>\n",
       "      <td>The answer gives generic steps to report infri...</td>\n",
       "    </tr>\n",
       "    <tr>\n",
       "      <th>198</th>\n",
       "      <td>To report copyright infringement, please follo...</td>\n",
       "      <td>1c707d91</td>\n",
       "      <td>For my recordings from home movies that accide...</td>\n",
       "      <td>PARTLY_RELEVANT</td>\n",
       "      <td>The answer provides generic steps to report co...</td>\n",
       "    </tr>\n",
       "  </tbody>\n",
       "</table>\n",
       "</div>"
      ],
      "text/plain": [
       "                                                answer        id  \\\n",
       "23   To submit a copyright‑infringement report:\\n\\n...  6bd60204   \n",
       "34   To report the inappropriate content, follow th...  46728d3b   \n",
       "46   To lodge a formal copyright‑infringement compl...  1bf6d2f3   \n",
       "47   To report the offensive content, follow these ...  a9727580   \n",
       "56   To report the offensive content, please follow...  821a0af5   \n",
       "78   Visit {{WEBSITE_URL}} and go to the {{COPYRIGH...  ab58d4a4   \n",
       "80   To formally report the copyright infringement,...  caa8e588   \n",
       "82   To report the unlicensed documentary series, f...  4da36375   \n",
       "105  To report the content you believe is unsuitabl...  74d54826   \n",
       "110  To report disturbing scenes, follow these step...  e6f08a22   \n",
       "116  To report the copyright infringement, follow t...  804f1a37   \n",
       "117  To report the offensive text you encountered, ...  faddcc74   \n",
       "119  To report the material, follow these steps:\\n\\...  07f2980a   \n",
       "124  Yes, you can report copyright infringement onl...  fc3d0418   \n",
       "125  To report the explicit content:\\n\\n1. Visit {{...  64414782   \n",
       "141  To submit a copyright‑infringement complaint, ...  5fdf52b9   \n",
       "142  To report inappropriate content, follow these ...  a70eb079   \n",
       "157  To submit a notification of a copyright violat...  335478c4   \n",
       "164  To report offensive material:\\n\\n1. Go to {{WE...  3d707d8b   \n",
       "168  To report the potentially inappropriate conten...  063e9741   \n",
       "174  To formally report the copyright infringement,...  51026597   \n",
       "178  To report the inappropriate documentary series...  7e3f396f   \n",
       "179  Click the **{{REPORT_COPYRIGHT_INFRINGEMENT_OP...  ef3aab6e   \n",
       "189  To report content you consider improper:\\n\\n1....  1b326049   \n",
       "190  To report copyright infringement, follow these...  1d34371a   \n",
       "198  To report copyright infringement, please follo...  1c707d91   \n",
       "\n",
       "                                              question        relevance  \\\n",
       "23   What exactly do I have to fill out and where c...  PARTLY_RELEVANT   \n",
       "34   What steps do I need to follow if there's cont...  PARTLY_RELEVANT   \n",
       "46   I am really frustrated because my favorite sho...  PARTLY_RELEVANT   \n",
       "47   Where can I go to report offensive stuff I jus...  PARTLY_RELEVANT   \n",
       "56   Could you assist me on submitting a notice of ...  PARTLY_RELEVANT   \n",
       "78   Where on your website should I go to report so...  PARTLY_RELEVANT   \n",
       "80   My friend uploaded an entire season of that do...  PARTLY_RELEVANT   \n",
       "82   Can you guide me through reporting that my unl...  PARTLY_RELEVANT   \n",
       "105  Could I kindly ask for assistance while report...  PARTLY_RELEVANT   \n",
       "110  What is the procedure I should follow when enc...  PARTLY_RELEVANT   \n",
       "116  Can someone help me report a copyright infring...  PARTLY_RELEVANT   \n",
       "117  Sorry if this sounds strange. I accidentally s...  PARTLY_RELEVANT   \n",
       "119  I came across some disturbing scenes in a sci-...  PARTLY_RELEVANT   \n",
       "124  Is it possible for me to report a copyright in...  PARTLY_RELEVANT   \n",
       "125  Can I report explicit content on a Smart TV fr...  PARTLY_RELEVANT   \n",
       "141  Gentlemen, would you elucidate the process of ...  PARTLY_RELEVANT   \n",
       "142  How do I report bad content on my Smart TV scr...  PARTLY_RELEVANT   \n",
       "157  What's the formal process through which someon...  PARTLY_RELEVANT   \n",
       "164  What's the procedure to report offensive mater...  PARTLY_RELEVANT   \n",
       "168  Can you guide me on how to submit a concern ab...  PARTLY_RELEVANT   \n",
       "174  Hello, I noticed that some parts of a foreign ...  PARTLY_RELEVANT   \n",
       "178  Could you guide me on how to report inappropri...  PARTLY_RELEVANT   \n",
       "179  I'm noticing illegal use of documentaries seri...  PARTLY_RELEVANT   \n",
       "189  What is the proper way for someone living abro...  PARTLY_RELEVANT   \n",
       "190  How do I go about notifying you of someone inf...  PARTLY_RELEVANT   \n",
       "198  For my recordings from home movies that accide...  PARTLY_RELEVANT   \n",
       "\n",
       "                                           explanation  \n",
       "23   The answer outlines the general steps and requ...  \n",
       "34   The answer provides generic steps for reportin...  \n",
       "46   The answer provides the general steps to lodge...  \n",
       "47   The answer attempts to explain how to report t...  \n",
       "56   The answer provides generic steps for reportin...  \n",
       "78   The answer refers to visiting the website and ...  \n",
       "80   The answer provides generic steps for reportin...  \n",
       "82   The answer outlines generic reporting steps bu...  \n",
       "105  The answer gives generic steps to report copyr...  \n",
       "110  The answer outlines how to report disturbing s...  \n",
       "116  The answer gives a generic outline for reporti...  \n",
       "117  The answer outlines how to report the offensiv...  \n",
       "119  The answer outlines general steps to report co...  \n",
       "124  The answer provides step-by-step instructions ...  \n",
       "125  The answer provides generic steps to report ex...  \n",
       "141  The answer gives a generic process for filing ...  \n",
       "142  The answer provides general steps for reportin...  \n",
       "157  The answer provides a step-by-step process for...  \n",
       "164  The answer provides a general reporting proced...  \n",
       "168  The answer outlines general steps to report in...  \n",
       "174  The answer provides generic steps to report co...  \n",
       "178  The answer provides general steps to report co...  \n",
       "179  The answer mentions clicking a button to submi...  \n",
       "189  The answer outlines the general process for re...  \n",
       "190  The answer gives generic steps to report infri...  \n",
       "198  The answer provides generic steps to report co...  "
      ]
     },
     "execution_count": 44,
     "metadata": {},
     "output_type": "execute_result"
    }
   ],
   "source": [
    "df_eval[df_eval.relevance == 'PARTLY_RELEVANT']"
   ]
  },
  {
   "cell_type": "code",
   "execution_count": 50,
   "id": "62cc7834",
   "metadata": {},
   "outputs": [
    {
     "data": {
      "text/plain": [
       "{'answer': {23: 'To submit a copyright‑infringement report:\\n\\n1. Go to the website at **{{WEBSITE_URL}}**.  \\n2. Open the **{{COPYRIGHT_SECTION}}** area.  \\n3. Click the **{{REPORT_COPYRIGHT_INFRINGEMENT_OPTION}}** link.  \\n4. Fill in the required fields – include all details about the unauthorized streaming (who, what was streamed, the device used, timestamps, etc.).  \\n5. Submit the completed form online.  \\n\\nYour report will then be reviewed according to the platform’s policies.',\n",
       "  34: 'To report the inappropriate content, follow these steps:\\n\\n1. Visit **{{WEBSITE_URL}}**.  \\n2. Identify the specific segment of the documentary that you consider inappropriate.  \\n3. Click on the **{{REPORT_SECTION}}** link that appears next to the content (marked by a **{{FLAG_ICON}}**).  \\n4. Choose the **{{REPORT_INAPPROPRIATE_CONTENT_OPTION}}** option from the menu.  \\n5. Select the reason that best matches the issue from the provided list.  \\n6. If needed, add any additional details and then submit your report.  \\n\\nThe moderation team will review your notification and take appropriate action according to the community standards.',\n",
       "  46: 'To lodge a formal copyright‑infringement complaint, follow these steps on our website:\\n\\n1. Open the official site at **{{WEBSITE_URL}}**.  \\n2. Navigate to the **{{COPYRIGHT_SECTION}}** area.  \\n3. Locate and select the **{{REPORT_COPYRIGHT_INFRINGEMENT_OPTION}}** option.  \\n4. Fill in the required fields with the details of the infringement.  \\n5. Submit the completed form for our evaluation.  \\n\\nYour report will be reviewed promptly and appropriate action will be taken in accordance with our policies.'},\n",
       " 'id': {23: '6bd60204', 34: '46728d3b', 46: '1bf6d2f3'},\n",
       " 'question': {23: \"What exactly do I have to fill out and where can submit this form online, considering I caught someone streaming my work without permission via their device - let's say it was through the 'Report Copyright Issue' function?\",\n",
       "  34: \"What steps do I need to follow if there's content on my Smart TV that seems inappropriate during a documentary series?\",\n",
       "  46: 'I am really frustrated because my favorite show seems copyrighted somewhere other than its home platform. What steps should I take on your website for Smart TV users to lodge a formal complaint in English about this issue and get it resolved quickly?'},\n",
       " 'relevance': {23: 'PARTLY_RELEVANT',\n",
       "  34: 'PARTLY_RELEVANT',\n",
       "  46: 'PARTLY_RELEVANT'},\n",
       " 'explanation': {23: 'The answer outlines the general steps and required fields for submitting a copyright report, but uses placeholders instead of concrete URLs or specific form details, making it only partially addressing the question.',\n",
       "  34: 'The answer provides generic steps for reporting inappropriate content, which is somewhat relevant, but it uses placeholder text and lacks smart‑TV‑specific instructions.',\n",
       "  46: 'The answer provides the general steps to lodge a copyright complaint on the website, but it does not specifically address the Smart TV user context requested in the question.'}}"
      ]
     },
     "execution_count": 50,
     "metadata": {},
     "output_type": "execute_result"
    }
   ],
   "source": [
    "df_eval[df_eval.relevance == 'PARTLY_RELEVANT'].iloc[:3].head().to_dict()"
   ]
  },
  {
   "cell_type": "code",
   "execution_count": 45,
   "id": "3b1acbc2-9690-4d51-98a6-b81ee659ceb9",
   "metadata": {},
   "outputs": [],
   "source": [
    "df_eval.to_csv('../Data/rag-eval-gpt-oss-120b.csv', index=False)"
   ]
  },
  {
   "cell_type": "code",
   "execution_count": null,
   "id": "ade00f45-1aaf-4236-9452-cdd4bb47fd3d",
   "metadata": {},
   "outputs": [],
   "source": [
    "# df_eval.to_csv('../data/rag-eval-gpt-4o.csv', index=False)"
   ]
  },
  {
   "cell_type": "code",
   "execution_count": null,
   "id": "4859cf7a-e4da-4b70-85f9-222a335571c1",
   "metadata": {},
   "outputs": [],
   "source": []
  },
  {
   "cell_type": "code",
   "execution_count": null,
   "id": "5525902f",
   "metadata": {},
   "outputs": [],
   "source": []
  },
  {
   "cell_type": "code",
   "execution_count": 34,
   "id": "816cb429",
   "metadata": {},
   "outputs": [],
   "source": [
    "# Install vLLM with GPT-OSS support:\n",
    "# uv venv --python 3.12 --seed\n",
    "# source .venv/bin/activate\n",
    "# uv pip install --pre vllm==0.10.1+gptoss \\\n",
    "#     --extra-index-url https://wheels.vllm.ai/gpt-oss/ \\\n",
    "#     --extra-index-url https://download.pytorch.org/whl/nightly/cu128 \\\n",
    "#     --index-strategy unsafe-best-match\n",
    "\n",
    "# Launch the API server:\n",
    "# vllm serve openai/gpt-oss-20b\n",
    "# or\n",
    "# vllm serve openai/gpt-oss-120b\n",
    "\n",
    "# from openai import OpenAI\n",
    "# client = OpenAI(\n",
    "#     base_url=\"http://localhost:8000/v1\",\n",
    "#     api_key=\"EMPTY\"\n",
    "# )"
   ]
  }
 ],
 "metadata": {
  "kernelspec": {
   "display_name": "py312",
   "language": "python",
   "name": "python3"
  },
  "language_info": {
   "codemirror_mode": {
    "name": "ipython",
    "version": 3
   },
   "file_extension": ".py",
   "mimetype": "text/x-python",
   "name": "python",
   "nbconvert_exporter": "python",
   "pygments_lexer": "ipython3",
   "version": "3.12.11"
  }
 },
 "nbformat": 4,
 "nbformat_minor": 5
}
