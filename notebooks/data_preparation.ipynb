{
 "cells": [
  {
   "cell_type": "markdown",
   "metadata": {},
   "source": [
    "## Data Preparation"
   ]
  },
  {
   "cell_type": "code",
   "execution_count": 37,
   "metadata": {},
   "outputs": [
    {
     "data": {
      "text/html": [
       "<div>\n",
       "<style scoped>\n",
       "    .dataframe tbody tr th:only-of-type {\n",
       "        vertical-align: middle;\n",
       "    }\n",
       "\n",
       "    .dataframe tbody tr th {\n",
       "        vertical-align: top;\n",
       "    }\n",
       "\n",
       "    .dataframe thead th {\n",
       "        text-align: right;\n",
       "    }\n",
       "</style>\n",
       "<table border=\"1\" class=\"dataframe\">\n",
       "  <thead>\n",
       "    <tr style=\"text-align: right;\">\n",
       "      <th></th>\n",
       "      <th>instruction</th>\n",
       "      <th>intent</th>\n",
       "      <th>category</th>\n",
       "      <th>tags</th>\n",
       "      <th>response</th>\n",
       "    </tr>\n",
       "  </thead>\n",
       "  <tbody>\n",
       "    <tr>\n",
       "      <th>0</th>\n",
       "      <td>wanna pseak with fucking customer support wher...</td>\n",
       "      <td>customer_service</td>\n",
       "      <td>CONTACT</td>\n",
       "      <td>BCILQWZ</td>\n",
       "      <td>To reach out to our customer service departmen...</td>\n",
       "    </tr>\n",
       "    <tr>\n",
       "      <th>1</th>\n",
       "      <td>I want to send an email to fucking client serv...</td>\n",
       "      <td>customer_service</td>\n",
       "      <td>CONTACT</td>\n",
       "      <td>BCILPWZ</td>\n",
       "      <td>To contact our customer service department via...</td>\n",
       "    </tr>\n",
       "    <tr>\n",
       "      <th>2</th>\n",
       "      <td>can ya help me send an email to fucking custom...</td>\n",
       "      <td>customer_service</td>\n",
       "      <td>CONTACT</td>\n",
       "      <td>BILQWZ</td>\n",
       "      <td>To initiate communication with our customer se...</td>\n",
       "    </tr>\n",
       "    <tr>\n",
       "      <th>3</th>\n",
       "      <td>I want to call fucking client service, will yo...</td>\n",
       "      <td>customer_service</td>\n",
       "      <td>CONTACT</td>\n",
       "      <td>BCILPWZ</td>\n",
       "      <td>To reach out to our customer service departmen...</td>\n",
       "    </tr>\n",
       "    <tr>\n",
       "      <th>4</th>\n",
       "      <td>I want to talk to customer service, how oculd ...</td>\n",
       "      <td>customer_service</td>\n",
       "      <td>CONTACT</td>\n",
       "      <td>BCILPZ</td>\n",
       "      <td>To reach our customer service department via e...</td>\n",
       "    </tr>\n",
       "    <tr>\n",
       "      <th>...</th>\n",
       "      <td>...</td>\n",
       "      <td>...</td>\n",
       "      <td>...</td>\n",
       "      <td>...</td>\n",
       "      <td>...</td>\n",
       "    </tr>\n",
       "    <tr>\n",
       "      <th>24622</th>\n",
       "      <td>I need to see the fucking subscription fees, h...</td>\n",
       "      <td>subscription_prices</td>\n",
       "      <td>SUBSCRIPTION</td>\n",
       "      <td>BCILW</td>\n",
       "      <td>To verify your subscription details, please ad...</td>\n",
       "    </tr>\n",
       "    <tr>\n",
       "      <th>24623</th>\n",
       "      <td>I'd like to see the prices of the subscription...</td>\n",
       "      <td>subscription_prices</td>\n",
       "      <td>SUBSCRIPTION</td>\n",
       "      <td>BCIPQZ</td>\n",
       "      <td>To verify your subscription details, please ad...</td>\n",
       "    </tr>\n",
       "    <tr>\n",
       "      <th>24624</th>\n",
       "      <td>I would like to know more about the subscripti...</td>\n",
       "      <td>subscription_prices</td>\n",
       "      <td>SUBSCRIPTION</td>\n",
       "      <td>BCPZ</td>\n",
       "      <td>To review your subscription details, please ad...</td>\n",
       "    </tr>\n",
       "    <tr>\n",
       "      <th>24625</th>\n",
       "      <td>I would like to know about the fees fo the pla...</td>\n",
       "      <td>subscription_prices</td>\n",
       "      <td>SUBSCRIPTION</td>\n",
       "      <td>BCILPZ</td>\n",
       "      <td>To review your subscription details, please ad...</td>\n",
       "    </tr>\n",
       "    <tr>\n",
       "      <th>24626</th>\n",
       "      <td>I'd like to know more about the prices of the ...</td>\n",
       "      <td>subscription_prices</td>\n",
       "      <td>SUBSCRIPTION</td>\n",
       "      <td>BCILPQZ</td>\n",
       "      <td>To verify your subscription details, please ad...</td>\n",
       "    </tr>\n",
       "  </tbody>\n",
       "</table>\n",
       "<p>24627 rows × 5 columns</p>\n",
       "</div>"
      ],
      "text/plain": [
       "                                             instruction               intent  \\\n",
       "0      wanna pseak with fucking customer support wher...     customer_service   \n",
       "1      I want to send an email to fucking client serv...     customer_service   \n",
       "2      can ya help me send an email to fucking custom...     customer_service   \n",
       "3      I want to call fucking client service, will yo...     customer_service   \n",
       "4      I want to talk to customer service, how oculd ...     customer_service   \n",
       "...                                                  ...                  ...   \n",
       "24622  I need to see the fucking subscription fees, h...  subscription_prices   \n",
       "24623  I'd like to see the prices of the subscription...  subscription_prices   \n",
       "24624  I would like to know more about the subscripti...  subscription_prices   \n",
       "24625  I would like to know about the fees fo the pla...  subscription_prices   \n",
       "24626  I'd like to know more about the prices of the ...  subscription_prices   \n",
       "\n",
       "           category     tags  \\\n",
       "0           CONTACT  BCILQWZ   \n",
       "1           CONTACT  BCILPWZ   \n",
       "2           CONTACT   BILQWZ   \n",
       "3           CONTACT  BCILPWZ   \n",
       "4           CONTACT   BCILPZ   \n",
       "...             ...      ...   \n",
       "24622  SUBSCRIPTION    BCILW   \n",
       "24623  SUBSCRIPTION   BCIPQZ   \n",
       "24624  SUBSCRIPTION     BCPZ   \n",
       "24625  SUBSCRIPTION   BCILPZ   \n",
       "24626  SUBSCRIPTION  BCILPQZ   \n",
       "\n",
       "                                                response  \n",
       "0      To reach out to our customer service departmen...  \n",
       "1      To contact our customer service department via...  \n",
       "2      To initiate communication with our customer se...  \n",
       "3      To reach out to our customer service departmen...  \n",
       "4      To reach our customer service department via e...  \n",
       "...                                                  ...  \n",
       "24622  To verify your subscription details, please ad...  \n",
       "24623  To verify your subscription details, please ad...  \n",
       "24624  To review your subscription details, please ad...  \n",
       "24625  To review your subscription details, please ad...  \n",
       "24626  To verify your subscription details, please ad...  \n",
       "\n",
       "[24627 rows x 5 columns]"
      ]
     },
     "execution_count": 37,
     "metadata": {},
     "output_type": "execute_result"
    }
   ],
   "source": [
    "import pandas as pd\n",
    "\n",
    "df = pd.read_csv(\"hf://datasets/bitext/Bitext-media-llm-chatbot-training-dataset/bitext-media-llm-chatbot-training-dataset.csv\")\n",
    "df"
   ]
  },
  {
   "cell_type": "code",
   "execution_count": 38,
   "metadata": {},
   "outputs": [
    {
     "data": {
      "text/plain": [
       "category\n",
       "SUBSCRIPTION        8000\n",
       "SETTINGS            4000\n",
       "PAYMENT             3000\n",
       "FUNCTIONING         2627\n",
       "CONTACT             2000\n",
       "CONTENT             2000\n",
       "PROGRAM_SCHEDULE    2000\n",
       "PLATFORM            1000\n",
       "Name: count, dtype: int64"
      ]
     },
     "execution_count": 38,
     "metadata": {},
     "output_type": "execute_result"
    }
   ],
   "source": [
    "df['category'].value_counts()"
   ]
  },
  {
   "cell_type": "code",
   "execution_count": 39,
   "metadata": {},
   "outputs": [
    {
     "data": {
      "text/plain": [
       "[{'instruction': 'need to notify of fuckiung inappropiate content where can i do it',\n",
       "  'intent': 'report_inappropiate_content',\n",
       "  'category': 'CONTENT',\n",
       "  'tags': 'BCILQWZ',\n",
       "  'response': 'To address inappropriate content observed on our platform, please adhere to the following instructions:\\n\\n1. Visit {{WEBSITE_URL}}.\\n2. Identify the relevant content that you intend to report.\\n3. Click on the {{REPORT_SECTION}}, typically found in proximity to the content (look for the {{FLAG_ICON}}).\\n4. Choose the {{REPORT_INAPPROPRIATE_CONTENT_OPTION}} from the available options in the menu.\\n5. Select the reason that best corresponds to your report from the choices provided.\\n6. If needed, offer any supplementary information to aid in your report and then submit.\\n\\nAfter your report has been submitted, our team will assess the situation and take appropriate measures in alignment with our community standards.'},\n",
       " {'instruction': 'i have to report inappropiate content could uhelp me',\n",
       "  'intent': 'report_inappropiate_content',\n",
       "  'category': 'CONTENT',\n",
       "  'tags': 'BCIPQ',\n",
       "  'response': 'To report inappropriate content on our platform, please adhere to the following protocol:\\n\\n1. Visit {{WEBSITE_URL}} to begin.\\n2. Identify the specific content that you wish to report.\\n3. Access the {{REPORT_SECTION}} area typically located adjacent to the content (indicated by a {{FLAG_ICON}}).\\n4. Choose the {{REPORT_INAPPROPRIATE_CONTENT_OPTION}} option available in the drop-down menu.\\n5. Select the reason that best fits your report from the list provided.\\n6. If necessary, include any supplementary details required and proceed to submit your report.\\n\\nOur dedicated team will evaluate your submission and take appropriate measures as outlined in our community standards.'},\n",
       " {'instruction': 'could I submit a notificatoon of inappropiate content?',\n",
       "  'intent': 'report_inappropiate_content',\n",
       "  'category': 'CONTENT',\n",
       "  'tags': 'BILPZ',\n",
       "  'response': 'To address concerns related to inappropriate content on our platform, please adhere to the following process:\\n\\n1. Visit {{WEBSITE_URL}}.\\n2. Identify the specific content that you wish to report.\\n3. Access the {{REPORT_SECTION}} area typically located adjacent to the content (indicated by a {{FLAG_ICON}}).\\n4. Choose the {{REPORT_INAPPROPRIATE_CONTENT_OPTION}} option available in the drop-down menu.\\n5. Select the reason that best fits your report from the list provided.\\n6. If necessary, include any supplementary details required and proceed to submit your report.\\n\\nOur dedicated team will evaluate your submission and take appropriate measures as outlined in our community standards.'}]"
      ]
     },
     "execution_count": 39,
     "metadata": {},
     "output_type": "execute_result"
    }
   ],
   "source": [
    "df[df['category'] == 'CONTENT'].sample(3).to_dict(orient='records')"
   ]
  },
  {
   "cell_type": "code",
   "execution_count": 40,
   "metadata": {},
   "outputs": [],
   "source": [
    "# Select rows where the category is \"CONTENT\"\n",
    "\n",
    "# Select a random 10% of the filtered data\n",
    "df = df.sample(frac=0.21, random_state=1)  # 10% sample\n",
    "df = df[df['category'] == 'CONTENT']\n",
    "\n"
   ]
  },
  {
   "cell_type": "code",
   "execution_count": 41,
   "metadata": {},
   "outputs": [
    {
     "data": {
      "text/html": [
       "<div>\n",
       "<style scoped>\n",
       "    .dataframe tbody tr th:only-of-type {\n",
       "        vertical-align: middle;\n",
       "    }\n",
       "\n",
       "    .dataframe tbody tr th {\n",
       "        vertical-align: top;\n",
       "    }\n",
       "\n",
       "    .dataframe thead th {\n",
       "        text-align: right;\n",
       "    }\n",
       "</style>\n",
       "<table border=\"1\" class=\"dataframe\">\n",
       "  <thead>\n",
       "    <tr style=\"text-align: right;\">\n",
       "      <th></th>\n",
       "      <th>instruction</th>\n",
       "      <th>intent</th>\n",
       "      <th>category</th>\n",
       "      <th>tags</th>\n",
       "      <th>response</th>\n",
       "    </tr>\n",
       "  </thead>\n",
       "  <tbody>\n",
       "    <tr>\n",
       "      <th>2442</th>\n",
       "      <td>how can i report copyright violation</td>\n",
       "      <td>report_copyright_infringement</td>\n",
       "      <td>CONTENT</td>\n",
       "      <td>BILQ</td>\n",
       "      <td>To report copyright infringement, please adher...</td>\n",
       "    </tr>\n",
       "    <tr>\n",
       "      <th>2032</th>\n",
       "      <td>need to report fucking copyright violation how...</td>\n",
       "      <td>report_copyright_infringement</td>\n",
       "      <td>CONTENT</td>\n",
       "      <td>BCILQW</td>\n",
       "      <td>To facilitate a conversation with a customer s...</td>\n",
       "    </tr>\n",
       "    <tr>\n",
       "      <th>2868</th>\n",
       "      <td>need to report copyright infringement how do i...</td>\n",
       "      <td>report_copyright_infringement</td>\n",
       "      <td>CONTENT</td>\n",
       "      <td>BCIQ</td>\n",
       "      <td>To initiate a report for copyright infringemen...</td>\n",
       "    </tr>\n",
       "    <tr>\n",
       "      <th>2999</th>\n",
       "      <td>can uhelp me submitting a notification of copy...</td>\n",
       "      <td>report_copyright_infringement</td>\n",
       "      <td>CONTENT</td>\n",
       "      <td>BILQZ</td>\n",
       "      <td>To address copyright infringement concerns, pl...</td>\n",
       "    </tr>\n",
       "    <tr>\n",
       "      <th>3310</th>\n",
       "      <td>I would like to notify of fucking explicit con...</td>\n",
       "      <td>report_inappropiate_content</td>\n",
       "      <td>CONTENT</td>\n",
       "      <td>BCLPW</td>\n",
       "      <td>To address concerns related to inappropriate c...</td>\n",
       "    </tr>\n",
       "  </tbody>\n",
       "</table>\n",
       "</div>"
      ],
      "text/plain": [
       "                                            instruction  \\\n",
       "2442               how can i report copyright violation   \n",
       "2032  need to report fucking copyright violation how...   \n",
       "2868  need to report copyright infringement how do i...   \n",
       "2999  can uhelp me submitting a notification of copy...   \n",
       "3310  I would like to notify of fucking explicit con...   \n",
       "\n",
       "                             intent category    tags  \\\n",
       "2442  report_copyright_infringement  CONTENT    BILQ   \n",
       "2032  report_copyright_infringement  CONTENT  BCILQW   \n",
       "2868  report_copyright_infringement  CONTENT    BCIQ   \n",
       "2999  report_copyright_infringement  CONTENT   BILQZ   \n",
       "3310    report_inappropiate_content  CONTENT   BCLPW   \n",
       "\n",
       "                                               response  \n",
       "2442  To report copyright infringement, please adher...  \n",
       "2032  To facilitate a conversation with a customer s...  \n",
       "2868  To initiate a report for copyright infringemen...  \n",
       "2999  To address copyright infringement concerns, pl...  \n",
       "3310  To address concerns related to inappropriate c...  "
      ]
     },
     "execution_count": 41,
     "metadata": {},
     "output_type": "execute_result"
    }
   ],
   "source": [
    "df.head()"
   ]
  },
  {
   "cell_type": "code",
   "execution_count": 42,
   "metadata": {},
   "outputs": [
    {
     "data": {
      "text/plain": [
       "(424, 5)"
      ]
     },
     "execution_count": 42,
     "metadata": {},
     "output_type": "execute_result"
    }
   ],
   "source": [
    "df.shape"
   ]
  },
  {
   "cell_type": "code",
   "execution_count": 43,
   "metadata": {},
   "outputs": [],
   "source": [
    "df.to_csv(\"../Data/data.csv\", index=False)"
   ]
  },
  {
   "cell_type": "code",
   "execution_count": 44,
   "metadata": {},
   "outputs": [
    {
     "data": {
      "text/plain": [
       "(424, 5)"
      ]
     },
     "execution_count": 44,
     "metadata": {},
     "output_type": "execute_result"
    }
   ],
   "source": [
    "df.shape"
   ]
  },
  {
   "cell_type": "code",
   "execution_count": null,
   "metadata": {},
   "outputs": [
    {
     "name": "stdout",
     "output_type": "stream",
     "text": [
      "JSON file saved as documents.json\n"
     ]
    }
   ],
   "source": [
    "import json\n",
    "\n",
    "# Initialize an empty dictionary to hold the transformed data\n",
    "data = []\n",
    "\n",
    "# Group by 'category'\n",
    "for category, group_df in df.groupby('category'):\n",
    "    documents = []\n",
    "    for _, row in df.iterrows():\n",
    "        document = {\n",
    "            \"intent\": row['intent'],\n",
    "            \"question\": row['instruction'],\n",
    "            \"response\": row['response']\n",
    "        }\n",
    "        documents.append(document)\n",
    "    data.append(\n",
    "        {\n",
    "        \"category\": category,\n",
    "        \"documents\": documents\n",
    "    })\n",
    "\n",
    "# Convert the dictionary to a list of values and then to a JSON file\n",
    "with open('../Data/documents.json', 'w', encoding='utf-8') as jsonf:\n",
    "    json.dump(data, jsonf, indent=2, ensure_ascii=False)\n",
    "\n",
    "print(\"JSON file saved as documents.json\")"
   ]
  },
  {
   "cell_type": "code",
   "execution_count": 46,
   "metadata": {},
   "outputs": [],
   "source": [
    "import json\n",
    "\n",
    "with open('../Data/documents.json', 'rt') as f_in:\n",
    "    documents_raw = json.load(f_in)"
   ]
  },
  {
   "cell_type": "code",
   "execution_count": 47,
   "metadata": {},
   "outputs": [],
   "source": [
    "documents = []\n",
    "\n",
    "for category in documents_raw:\n",
    "    category_name = category['category']\n",
    "\n",
    "    for doc in category['documents']:\n",
    "        doc['category'] = category_name\n",
    "        documents.append(doc)"
   ]
  },
  {
   "cell_type": "code",
   "execution_count": 48,
   "metadata": {},
   "outputs": [],
   "source": [
    "import hashlib\n",
    "\n",
    "def generate_document_id(doc):\n",
    "    combined = f\"{doc['category']}-{doc['question']}-{doc['response'][:10]}\"\n",
    "    hash_object = hashlib.md5(combined.encode())\n",
    "    hash_hex = hash_object.hexdigest()\n",
    "    document_id = hash_hex[:8]\n",
    "    return document_id"
   ]
  },
  {
   "cell_type": "code",
   "execution_count": 49,
   "metadata": {},
   "outputs": [],
   "source": [
    "for doc in documents:\n",
    "    doc['id'] = generate_document_id(doc)"
   ]
  },
  {
   "cell_type": "code",
   "execution_count": 50,
   "metadata": {},
   "outputs": [
    {
     "data": {
      "text/plain": [
       "{'intent': 'report_copyright_infringement',\n",
       " 'question': 'can uhelp me submitting a notification of copyright  infringement',\n",
       " 'response': 'To address copyright infringement concerns, please adhere to the following guidelines:\\n\\n1. Access our website at {{WEBSITE_URL}}.\\n2. Go to the {{COPYRIGHT_SECTION}} area.\\n3. Find and select the {{REPORT_COPYRIGHT_INFRINGEMENT_OPTION}} choice.\\n4. Complete the necessary fields, providing comprehensive details regarding the infringement.\\n5. Submit the completed form for our assessment.\\n\\nYour submission will be reviewed, and we will take the requisite steps in line with our policies.',\n",
       " 'category': 'CONTENT',\n",
       " 'id': '1e254822'}"
      ]
     },
     "execution_count": 50,
     "metadata": {},
     "output_type": "execute_result"
    }
   ],
   "source": [
    "documents[3]"
   ]
  },
  {
   "cell_type": "code",
   "execution_count": 51,
   "metadata": {},
   "outputs": [
    {
     "data": {
      "text/plain": [
       "424"
      ]
     },
     "execution_count": 51,
     "metadata": {},
     "output_type": "execute_result"
    }
   ],
   "source": [
    "len(documents)"
   ]
  },
  {
   "cell_type": "code",
   "execution_count": 52,
   "metadata": {},
   "outputs": [],
   "source": [
    "with open('../Data/documents-with-ids.json', 'wt') as f_out:\n",
    "    json.dump(documents, f_out, indent=2)"
   ]
  },
  {
   "cell_type": "code",
   "execution_count": null,
   "metadata": {},
   "outputs": [],
   "source": []
  }
 ],
 "metadata": {
  "kernelspec": {
   "display_name": "py312",
   "language": "python",
   "name": "python3"
  },
  "language_info": {
   "codemirror_mode": {
    "name": "ipython",
    "version": 3
   },
   "file_extension": ".py",
   "mimetype": "text/x-python",
   "name": "python",
   "nbconvert_exporter": "python",
   "pygments_lexer": "ipython3",
   "version": "3.12.11"
  }
 },
 "nbformat": 4,
 "nbformat_minor": 2
}
